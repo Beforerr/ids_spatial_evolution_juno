{
 "cells": [
  {
   "cell_type": "markdown",
   "metadata": {},
   "source": [
    "---\n",
    "title: Notes\n",
    "---"
   ]
  },
  {
   "cell_type": "markdown",
   "metadata": {},
   "source": [
    "# Update\n",
    "\n",
    "-   Normalization of the daily rates to 400 km/s ?\n",
    "\n",
    "![](images/paste-2.png)\n",
    "\n",
    "![](images/paste-1.png)\n",
    "\n",
    "![](images/paste-3.png)\n",
    "\n",
    "# Motivations\n",
    "\n",
    "Studying the radial distribution of occurrence rate, as well as the properties of solar wind discontinuities may help answer the following questions:\n",
    "\n",
    "-   How does the discontinuities change with the radial distance from the Sun?\n",
    "-   How is solar wind discontinuities formed? What is the physical mechanisms?\n",
    "    -   Generated at or near the sun?\n",
    "    -   Locally generated in the interplanetary space by turbulence?\n",
    "\n",
    "Joint observations of JUNO & ARTEMIS & Other missions really provides a unique opportunity!!!\n",
    "\n",
    "![](https://www.nasa.gov/wp-content/uploads/2023/03/575573main_Juno20110727-3-43_full.jpg)\n",
    "\n",
    "{{< video https://www.youtube.com/watch?v=sYp5p2oL51g title='Juno spacecraft trajectory animation' >}}\n",
    "\n",
    "-   Five-year cruise to Jupiter from 2011 to 2016\n",
    "-   One earth flyby in 2013\n",
    "-   Nearly the same Heliographic latitude as Earth\n",
    "\n",
    "To eliminate the effect of the solar wind structure, we use data from other missions (mainly at 1AU) to provide a way of normalization."
   ]
  },
  {
   "cell_type": "markdown",
   "metadata": {},
   "source": [
    "## Solar Wind Model\n",
    "\n",
    "Sadly, JUNO does not provide plasma data during the cruise phase, so to estimate the plasma state we will use MHD model.\n",
    "\n",
    "We are using [Michigan Solar WInd Model 2D (MSWIM2D)](http://csem.engin.umich.edu/MSWIM2D/), which models the solar wind propagation in 2D using the BATSRUS MHD solver. @keeblerMSWIM2DTwodimensionalOuter2022\n",
    "\n",
    "Some key points about the model\n",
    "\n",
    "-   Representing the solar wind in the ecliptic plane from 1 to 75 AU\n",
    "-   2D MHD model, using the BATSRUS MHD solver\n",
    "-   Inclusion of neutral hydrogen (important for the outer heliosphere)\n",
    "-   Inner boundary is filled by time-shifting in situ data from multiple spacecraft\n",
    "\n",
    "For model validation part, please see [JUNO Model Report](notebooks/20_model.ipynb)."
   ]
  },
  {
   "cell_type": "markdown",
   "metadata": {},
   "source": [
    "# Properties\n",
    "\n",
    "::: {#fig-ocr layout-ncol=\"2\"}\n",
    "![](figures/ocr/ocr_time_cleaned)\n",
    "\n",
    "![](figures/ocr/ocr_time_N2_cleaned)\n",
    "\n",
    "![](figures/ocr/ocr_r_cleaned)\n",
    "\n",
    "![](figures/ocr/ocr_r_N2_cleaned)\n",
    "\n",
    "Occurrence rates with time and radial distance\n",
    ":::\n",
    "\n",
    "\n",
    "::: {.column-page layout-ncol=\"2\"}\n",
    "![MN thickness](figures/thickness/thickness_mn_dist)\n",
    "\n",
    "![MN current](figures/current/current_mn_dist)\n",
    "\n",
    "![MN normalized thickness](figures/thickness/thickness_mn_N1_dist)\n",
    "\n",
    "![MN normalized current](figures/current/current_mn_N1_dist)\n",
    "\n",
    "Thickness and current density distribution\n",
    ":::"
   ]
  },
  {
   "cell_type": "markdown",
   "metadata": {},
   "source": []
  },
  {
   "cell_type": "markdown",
   "metadata": {},
   "source": [
    "# TODOs\n",
    "\n",
    "Science part\n",
    "\n",
    "-   Analysis\n",
    "    -   [ ] Contribution of discontinuities to the power spectrum\n",
    "    -   [ ] Check Datagap\n",
    "    -   [ ] Check `ARTEMIS-B` data in different states (solar wind, magnetosheath, magnetotail, moon wake)\n",
    "    -   [ ] Distribution of \\|B\\| over radius\n",
    "    -   [ ] JUNO from 2012-09\\~2012-10 lack of IDS and extreme large thickness\n",
    "    -   [ ] Wind data\n",
    "    -   [ ] Add error bar\n",
    "    -   [ ] Validate the effects of calibrate candidate duration\n",
    "    -   [ ] Validate model density with `Voyager`\n",
    "-   Identifaction\n",
    "    -   [ ] Ensemble forest?\n",
    "    -   [ ] Smoothing is important?\n",
    "    -   [ ] Check change point algorithm\n",
    "-   Visualize data gaps\n",
    "-   Features\n",
    "    -   [ ] Thickness in N direction\n",
    "    -   [ ] Use high resolution data for feature extraction\n",
    "-   Compare with other methods of identifying IDs\n",
    "    -   [ ] Verify with other methods of identifying IDs\n",
    "-   [x] Incorporate solar wind propagation model\n",
    "    -   [x] Verify with solar wind propagation model\n",
    "        -   [x] Coordinate transformation"
   ]
  },
  {
   "cell_type": "code",
   "execution_count": 13,
   "metadata": {},
   "outputs": [
    {
     "data": {
      "text/markdown": [
       "| Mission            | $\\delta t_B$   | $\\delta t_{plasma}$   | Radial coverage   | Launch date         | website                                                         |\n",
       "|:-------------------|:---------------|:----------------------|:------------------|:--------------------|:----------------------------------------------------------------|\n",
       "| Juno               | 1 Hz           |                       | 1 - 5.5 AU        | 2011-08-05 00:00:00 | ['[NASA](https://science.nasa.gov/mission/juno)']               |\n",
       "| ARTEMIS            | 5 Hz, ...      |                       |                   | 2007-02-17 00:00:00 |                                                                 |\n",
       "| STEREO-A           | 8 Hz           |                       |                   | 2006-10-26 00:00:00 |                                                                 |\n",
       "| WIND               | 11 Hz          |                       |                   | 1994-11-01 00:00:00 | ['[NASA](https://science.nasa.gov/mission/wind/)']              |\n",
       "| Solar Orbiter      |                |                       | 0.28 - 0.9 AU     | 2020-02-10 00:00:00 | ['[ESA](https://sci.esa.int/web/solar-orbiter)']                |\n",
       "| Parker Solar Probe |                |                       | 0.05 - 1 AU       | 2018-08-12 00:00:00 | ['[NASA](https://science.nasa.gov/mission/parker-solar-probe)'] |"
      ],
      "text/plain": [
       "<IPython.core.display.Markdown object>"
      ]
     },
     "execution_count": 13,
     "metadata": {},
     "output_type": "execute_result"
    }
   ],
   "source": [
    "#| label: tbl-missions\n",
    "#| tbl-cap: Missions info\n",
    "import yaml\n",
    "import polars as pl\n",
    "from functools import reduce\n",
    "from IPython.display import Markdown\n",
    "from tabulate import tabulate\n",
    "\n",
    "with open(\"data/info.yml\", \"r\") as file:\n",
    "    data = yaml.safe_load(file)\n",
    "\n",
    "\n",
    "# Recursive function to find magnetometers\n",
    "def find_instrument(instruments, ins_type):\n",
    "    instrument = {}\n",
    "    for key, value in instruments.items():\n",
    "        if value.get(\"type\") == ins_type:\n",
    "            instrument = value\n",
    "        elif \"instruments\" in value:\n",
    "            instrument = find_instrument(value[\"instruments\"], ins_type)\n",
    "    return instrument\n",
    "\n",
    "\n",
    "def parse_yaml(data, info, ins_type=None):\n",
    "    rows = []\n",
    "\n",
    "    for mission, details in data[\"missions\"].items():\n",
    "        if ins_type is None:\n",
    "            rows.append([mission, details.get(info)])\n",
    "            continue\n",
    "        instruments = details.get(\"instruments\", {})\n",
    "        instrument = find_instrument(instruments, ins_type)\n",
    "        rows.append([mission, instrument.get(info)])\n",
    "\n",
    "    return pl.DataFrame(rows, schema=[\"Mission\", info])\n",
    "\n",
    "\n",
    "# Define the merge function\n",
    "def merge_dfs(left, right, on=\"Mission\", how=\"outer\"):\n",
    "    return left.join(right, on=on, how=how)\n",
    "\n",
    "\n",
    "# Parse and display the table\n",
    "df_mag = parse_yaml(data, \"time_resolutions\", \"magnetometer\").rename(\n",
    "    {\"time_resolutions\": \"$\\delta t_B$\"}\n",
    ")\n",
    "df_plasma = parse_yaml(data, \"time_resolutions\", \"plasma\").rename(\n",
    "    {\"time_resolutions\": \"$\\delta t_{plasma}$\"}\n",
    ")\n",
    "df_r = parse_yaml(data, \"radial_coverage\").rename({\"radial_coverage\": \"Radial coverage\"})\n",
    "df_time = parse_yaml(data, \"launch_date\").rename({\"launch_date\": \"Launch date\"})\n",
    "df_link = parse_yaml(data, \"website\")\n",
    "\n",
    "df_list = [df_mag, df_plasma, df_r, df_time, df_link]  # Replace with your DataFrames\n",
    "\n",
    "df_merged = reduce(merge_dfs, df_list)\n",
    "# df = pd.merge(df1, df2, on='Mission')\n",
    "Markdown(df_merged.to_pandas().to_markdown(index=False))"
   ]
  }
 ],
 "metadata": {
  "kernelspec": {
   "display_name": "cool_planet",
   "language": "python",
   "name": "python3"
  },
  "language_info": {
   "codemirror_mode": {
    "name": "ipython",
    "version": 3
   },
   "file_extension": ".py",
   "mimetype": "text/x-python",
   "name": "python",
   "nbconvert_exporter": "python",
   "pygments_lexer": "ipython3",
   "version": "3.10.12"
  }
 },
 "nbformat": 4,
 "nbformat_minor": 2
}
