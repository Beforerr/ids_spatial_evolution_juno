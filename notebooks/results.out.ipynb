{
 "cells": [
  {
   "cell_type": "markdown",
   "metadata": {},
   "source": [
    "# Results"
   ],
   "id": "e921a60a-66e2-4ab6-824a-e0a3cbb913a4"
  },
  {
   "cell_type": "raw",
   "metadata": {
    "raw_mimetype": "text/html"
   },
   "source": [
    "<!-- ## Orientation\n",
    "\n",
    "![k Orientaion](../figures/orientation/orientation_k_xyz)\n",
    "\n",
    "::: {.column-page layout-ncol=\"2\"}\n",
    "![dB Orientaion](../figures/orientation/orientation_dB_xyz)\n",
    "\n",
    "![Vl Orientaion](../figures/orientation/orientation_Vl_xyz)\n",
    "::: -->"
   ],
   "id": "b8a3ceb1-4e18-4f35-9ff3-2c762d01183f"
  }
 ],
 "nbformat": 4,
 "nbformat_minor": 5,
 "metadata": {}
}
