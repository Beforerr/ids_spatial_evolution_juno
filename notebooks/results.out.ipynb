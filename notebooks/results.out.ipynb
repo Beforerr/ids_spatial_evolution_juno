{
 "cells": [
  {
   "cell_type": "markdown",
   "metadata": {},
   "source": [
    "# Results"
   ],
   "id": "44068f21-fdaf-4608-8ece-777c67b84438"
  },
  {
   "cell_type": "raw",
   "metadata": {
    "raw_mimetype": "text/html"
   },
   "source": [
    "<!-- ## Orientation\n",
    "\n",
    "![k Orientaion](../figures/orientation/orientation_k_xyz)\n",
    "\n",
    "::: {.column-page layout-ncol=\"2\"}\n",
    "![dB Orientaion](../figures/orientation/orientation_dB_xyz)\n",
    "\n",
    "![Vl Orientaion](../figures/orientation/orientation_Vl_xyz)\n",
    "::: -->"
   ],
   "id": "2f7206a4-87fe-42a4-bb2b-81785834e269"
  }
 ],
 "nbformat": 4,
 "nbformat_minor": 5,
 "metadata": {}
}
