{
 "cells": [
  {
   "cell_type": "markdown",
   "metadata": {},
   "source": [
    "# Results"
   ],
   "id": "13b33a2f-00c7-4954-9fed-869ef02bec8e"
  },
  {
   "cell_type": "raw",
   "metadata": {
    "raw_mimetype": "text/html"
   },
   "source": [
    "<!-- ## Orientation\n",
    "\n",
    "![k Orientaion](../figures/orientation/orientation_k_xyz)\n",
    "\n",
    "::: {.column-page layout-ncol=\"2\"}\n",
    "![dB Orientaion](../figures/orientation/orientation_dB_xyz)\n",
    "\n",
    "![Vl Orientaion](../figures/orientation/orientation_Vl_xyz)\n",
    "::: -->"
   ],
   "id": "71f14fcf-ce4b-4306-baa2-f0527956cc9b"
  }
 ],
 "nbformat": 4,
 "nbformat_minor": 5,
 "metadata": {}
}
