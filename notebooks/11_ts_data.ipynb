{
 "cells": [
  {
   "cell_type": "markdown",
   "metadata": {},
   "source": [
    "---\n",
    "title: Time resolution effect\n",
    "abstract: To understand if the difference of Juno distribution at 1AU and beyond is due to time resolution, i.e. it's possile that 1s is sufficient to resolve distribution at r>1.5AU, but insufficient at 1AU. To check this we may compare ARTEMIS data at 1AU for two resolutions - 1s and 1/5s\n",
    "---"
   ]
  },
  {
   "cell_type": "markdown",
   "metadata": {},
   "source": [
    "## Process Wind data"
   ]
  },
  {
   "cell_type": "code",
   "execution_count": 2,
   "metadata": {},
   "outputs": [],
   "source": [
    "%load_ext autoreload\n",
    "%autoreload 2"
   ]
  },
  {
   "cell_type": "code",
   "execution_count": 2,
   "metadata": {},
   "outputs": [],
   "source": [
    "from space_analysis.utils.speasy import Variables\n",
    "from discontinuitypy.datasets import IDsDataset\n",
    "from discontinuitypy.utils.basic import resample\n",
    "from beforerr.polars import pl_norm\n",
    "\n",
    "from datetime import timedelta\n",
    "from space_analysis.plasma.formulary import df_thermal_spd2temp"
   ]
  },
  {
   "cell_type": "code",
   "execution_count": null,
   "metadata": {},
   "outputs": [],
   "source": [
    "ts = timedelta(seconds=1 / 11)\n",
    "tau = timedelta(seconds=60)"
   ]
  },
  {
   "cell_type": "code",
   "execution_count": 4,
   "metadata": {},
   "outputs": [],
   "source": [
    "timerange = ['2016-01-01', '2016-06-29']\n",
    "wind_mag_vars = Variables(\n",
    "    provider = 'archive/local',\n",
    "    dataset=\"WI_H4-RTN_MFI\",\n",
    "    parameters=[\"BRTN\"],\n",
    "    timerange=timerange\n",
    ")\n",
    "\n",
    "wind_plasma_vars = Variables(\n",
    "    dataset=\"WI_K0_SWE\",\n",
    "    parameters=[\"Np\", \"V_GSM\", \"THERMAL_SPD\"],\n",
    "    timerange=timerange,\n",
    ").retrieve_data()"
   ]
  },
  {
   "cell_type": "code",
   "execution_count": null,
   "metadata": {},
   "outputs": [],
   "source": [
    "wind_density_col = wind_plasma_vars.data[0].columns[0]\n",
    "wind_vec_cols = wind_plasma_vars.data[1].columns\n",
    "wind_temperature_col = wind_plasma_vars.data[2].columns[0]"
   ]
  },
  {
   "cell_type": "code",
   "execution_count": 8,
   "metadata": {},
   "outputs": [],
   "source": [
    "wind_mag_data = wind_mag_vars.to_polars()\n",
    "\n",
    "wind_plasma_data = (\n",
    "    wind_plasma_vars.to_polars()\n",
    "    .with_columns(\n",
    "        plasma_speed=pl_norm(wind_vec_cols),\n",
    "    )\n",
    "    .pipe(df_thermal_spd2temp, wind_temperature_col)\n",
    "    .rename(\n",
    "        {\n",
    "            wind_density_col: \"plasma_density\",\n",
    "        }\n",
    "    )\n",
    ")"
   ]
  },
  {
   "cell_type": "code",
   "execution_count": 10,
   "metadata": {},
   "outputs": [
    {
     "name": "stderr",
     "output_type": "stream",
     "text": [
      "08-Feb-24 13:47:14: UserWarning: Distributing <class 'pandas.core.frame.DataFrame'> object. This may take some time.\n",
      "\n"
     ]
    },
    {
     "data": {
      "application/vnd.jupyter.widget-view+json": {
       "model_id": "53e4b99e0a0846ad9bec053a04d4efea",
       "version_major": 2,
       "version_minor": 0
      },
      "text/plain": [
       "Distributing Dataframe:   0%           Elapsed time: 00:00, estimated remaining time: ?"
      ]
     },
     "metadata": {},
     "output_type": "display_data"
    },
    {
     "data": {
      "application/vnd.jupyter.widget-view+json": {
       "model_id": "1714dee96d394ec2ae1f3e9315b7613a",
       "version_major": 2,
       "version_minor": 0
      },
      "text/plain": [
       "Estimated completion of line 15:   0%           Elapsed time: 00:00, estimated remaining time: ?"
      ]
     },
     "metadata": {},
     "output_type": "display_data"
    }
   ],
   "source": [
    "# for freq in [11, 5 , 2, 1, 0.5]:\n",
    "for freq in [5]:\n",
    "    ts = timedelta(seconds=1 / freq)\n",
    "\n",
    "    wind_ids_dataset = (\n",
    "        IDsDataset(\n",
    "            mag_data=wind_mag_data.pipe(resample, every=ts),\n",
    "            plasma_data=wind_plasma_data,\n",
    "            tau=tau,\n",
    "            ts=ts,\n",
    "            vec_cols=wind_vec_cols,\n",
    "            density_col=\"plasma_density\",\n",
    "            temperature_col=\"plasma_temperature\",\n",
    "        )\n",
    "        .find_events(return_best_fit=False)\n",
    "        .update_candidates_with_plasma_data()\n",
    "        .export(f\"../data/05_reporting/events.Wind.ts_{1/freq:.2f}s_tau_60s.arrow\")\n",
    "    )"
   ]
  }
 ],
 "metadata": {
  "kernelspec": {
   "display_name": "cool_planet",
   "language": "python",
   "name": "python3"
  },
  "language_info": {
   "codemirror_mode": {
    "name": "ipython",
    "version": 3
   },
   "file_extension": ".py",
   "mimetype": "text/x-python",
   "name": "python",
   "nbconvert_exporter": "python",
   "pygments_lexer": "ipython3",
   "version": "3.11.7"
  }
 },
 "nbformat": 4,
 "nbformat_minor": 2
}
