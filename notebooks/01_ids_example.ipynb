{
 "cells": [
  {
   "cell_type": "markdown",
   "metadata": {},
   "source": [
    "---\n",
    "title: Examples of discontinuities\n",
    "---\n"
   ]
  },
  {
   "cell_type": "code",
   "execution_count": null,
   "metadata": {},
   "outputs": [],
   "source": [
    "#| hide\n",
    "%load_ext autoreload\n",
    "%autoreload 2"
   ]
  },
  {
   "cell_type": "code",
   "execution_count": null,
   "metadata": {},
   "outputs": [],
   "source": [
    "# /// pyproject\n",
    "# run.requirements = [\n",
    "#   \"pyyaml\",\n",
    "#   \"pydantic\",\n",
    "#   \"pyspedas\",\n",
    "#   \"pytplot\",\n",
    "#   \"matplotlib\",\n",
    "#   \"scienceplots\",\n",
    "# ]\n",
    "# /\n",
    "\n",
    "import sys\n",
    "import yaml\n",
    "\n",
    "from space_analysis.ds.tplot import export, process_panel\n",
    "from utils import Config\n",
    "\n",
    "import matplotlib.pyplot as plt\n",
    "import scienceplots\n",
    "\n",
    "plt.style.use([\"science\", \"nature\", \"notebook\"])\n",
    "plt.rc(\"savefig\", dpi=300)\n",
    "# plt.rc('svg', fonttype='none')"
   ]
  },
  {
   "cell_type": "code",
   "execution_count": null,
   "metadata": {},
   "outputs": [],
   "source": [
    "file_path = sys.argv[1]"
   ]
  },
  {
   "cell_type": "code",
   "execution_count": null,
   "metadata": {},
   "outputs": [],
   "source": [
    "config = yaml.load(open(file_path), Loader=yaml.FullLoader)\n",
    "config = Config(**config)\n",
    "tvars2plot = []"
   ]
  },
  {
   "cell_type": "code",
   "execution_count": null,
   "metadata": {},
   "outputs": [],
   "source": [
    "for p_config in config.panels:\n",
    "    tvar2plot = process_panel(p_config)\n",
    "    tvars2plot.append(tvar2plot)"
   ]
  },
  {
   "cell_type": "code",
   "execution_count": null,
   "metadata": {},
   "outputs": [],
   "source": [
    "# tlimit([ time.isoformat() for time in config.timerange])\n",
    "export(config.output, tvars2plot)"
   ]
  }
 ],
 "metadata": {
  "kernelspec": {
   "display_name": "cool_planet",
   "language": "python",
   "name": "python3"
  },
  "language_info": {
   "codemirror_mode": {
    "name": "ipython",
    "version": 3
   },
   "file_extension": ".py",
   "mimetype": "text/x-python",
   "name": "python",
   "nbconvert_exporter": "python",
   "pygments_lexer": "ipython3",
   "version": "3.12.1"
  }
 },
 "nbformat": 4,
 "nbformat_minor": 2
}
