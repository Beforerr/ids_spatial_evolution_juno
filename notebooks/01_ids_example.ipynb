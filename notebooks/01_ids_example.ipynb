{
 "cells": [
  {
   "cell_type": "markdown",
   "metadata": {},
   "source": [
    "---\n",
    "title: Examples of discontinuities\n",
    "---\n"
   ]
  },
  {
   "cell_type": "code",
   "execution_count": null,
   "metadata": {},
   "outputs": [],
   "source": [
    "#| hide\n",
    "%load_ext autoreload\n",
    "%autoreload 2"
   ]
  },
  {
   "cell_type": "code",
   "execution_count": null,
   "metadata": {},
   "outputs": [],
   "source": [
    "# /// pyproject\n",
    "# run.requirements = [\n",
    "#   \"pyyaml\",\n",
    "#   \"pydantic\",\n",
    "#   \"pyspedas\",\n",
    "#   \"pytplot\",\n",
    "#   \"matplotlib\",\n",
    "#   \"scienceplots\",\n",
    "# ]\n",
    "# /\n",
    "\n",
    "import sys\n",
    "import yaml\n",
    "\n",
    "from pydantic import constr, BaseModel\n",
    "from datetime import datetime, date\n",
    "\n",
    "import pyspedas\n",
    "from pyspedas.cotrans.minvar_matrix_make import minvar_matrix_make\n",
    "from pyspedas import tvector_rotate\n",
    "from pyspedas.analysis.tvectot import tvectot\n",
    "\n",
    "from pytplot import join_vec, split_vec, get_data\n",
    "from pytplot import tplot, options, tlimit\n",
    "\n",
    "from space_analysis.ds.tplot import export\n",
    "from utils import Config, PanelConfig, OutputConfig, ProcessConfig\n",
    "\n",
    "import matplotlib.pyplot as plt\n",
    "import scienceplots\n",
    "\n",
    "plt.style.use([\"science\", \"nature\", \"notebook\"])\n",
    "plt.rc(\"savefig\", dpi=300)\n",
    "# plt.rc('svg', fonttype='none')"
   ]
  },
  {
   "cell_type": "code",
   "execution_count": null,
   "metadata": {},
   "outputs": [],
   "source": [
    "file_path = sys.argv[1]"
   ]
  },
  {
   "cell_type": "code",
   "execution_count": null,
   "metadata": {},
   "outputs": [],
   "source": [
    "config = yaml.load(open(file_path), Loader=yaml.FullLoader)\n",
    "config = Config(**config)\n",
    "tvars2plot = []"
   ]
  },
  {
   "cell_type": "code",
   "execution_count": null,
   "metadata": {},
   "outputs": [],
   "source": [
    "def load_data(config: PanelConfig, load_func=None):\n",
    "    \n",
    "    if load_func is None:\n",
    "        mod = getattr(pyspedas, config.satellite)\n",
    "        load_func = getattr(mod, config.instrument)\n",
    "    \n",
    "    \n",
    "    load_args = {\n",
    "        \"trange\": [ time.isoformat() for time in config.timerange],\n",
    "        \"time_clip\": True,\n",
    "        'varnames': config.id,\n",
    "    }\n",
    "    \n",
    "    # Conditionally add the 'datatype' and 'probe' argument\n",
    "    if config.datatype is not None:\n",
    "        load_args[\"datatype\"] = config.datatype\n",
    "    if config.probe is not None:\n",
    "        load_args[\"probe\"] = config.probe\n",
    "        \n",
    "    return load_func(**load_args)"
   ]
  },
  {
   "cell_type": "code",
   "execution_count": null,
   "metadata": {},
   "outputs": [],
   "source": [
    "def process(tvar, config: ProcessConfig):\n",
    "    \n",
    "    trans = config.trans\n",
    "    if config.trans:\n",
    "        if \"slice-1\" in config.trans:\n",
    "            tvar = split_vec(tvar)[:1]\n",
    "        if \"slice-3\" in config.trans:\n",
    "            tvar = join_vec(split_vec(tvar)[:3])\n",
    "        if \"mva\" in config.trans:\n",
    "            minvar_matrix_make(tvar)\n",
    "            tvar = tvector_rotate(tvar + \"_mva_mat\", tvar)[0]\n",
    "            legend_names = [r\"$B_l$\", r\"$B_m$\", r\"$B_n$\"]\n",
    "\n",
    "        if \"magnitude\" in trans:\n",
    "            tvar2plot = tvectot(tvar, join_component=False)    \n",
    "            options(tvar2plot, \"legend_names\", None)\n",
    "        \n",
    "        if \"magnitude_join\" in trans:\n",
    "            tvar2plot = tvectot(tvar, join_component=True)\n",
    "            legend_names = legend_names + [r\"$B_{total}$\"]\n",
    "            options(tvar2plot, \"legend_names\", legend_names)\n",
    "\n",
    "    else:\n",
    "        tvar2plot = tvar\n",
    "    \n",
    "    return tvar2plot\n"
   ]
  },
  {
   "cell_type": "code",
   "execution_count": null,
   "metadata": {},
   "outputs": [],
   "source": [
    "def update_tvar(tvar, config: PanelConfig):\n",
    "    options(tvar, \"thick\", 2)\n",
    "    # options(tvar, \"char_size\", 16)\n",
    "    if config.name:\n",
    "        options(tvar, \"ytitle\", f\"{config.name}\")\n",
    "    if config.units:\n",
    "        options(tvar, \"ysubtitle\", f\"[{config.units}]\")\n",
    "\n",
    "    return tvar\n",
    "\n",
    "\n",
    "def process_panel(config: PanelConfig):\n",
    "    tvar = load_data(config)\n",
    "\n",
    "    if isinstance(tvar, list):\n",
    "        tvar = tvar[0]\n",
    "\n",
    "    if config.process:\n",
    "        tvar = process(tvar, config=config.process)\n",
    "    tvar_updated = update_tvar(tvar, config=config)\n",
    "\n",
    "    return tvar_updated"
   ]
  },
  {
   "cell_type": "code",
   "execution_count": null,
   "metadata": {},
   "outputs": [],
   "source": [
    "for p_config in config.panels:\n",
    "    tvar2plot = process_panel(p_config)\n",
    "    tvars2plot.append(tvar2plot)"
   ]
  },
  {
   "cell_type": "code",
   "execution_count": null,
   "metadata": {},
   "outputs": [],
   "source": [
    "# tlimit([ time.isoformat() for time in config.timerange])\n",
    "export(config.output, tvars2plot)"
   ]
  }
 ],
 "metadata": {
  "kernelspec": {
   "display_name": "cool_planet",
   "language": "python",
   "name": "python3"
  },
  "language_info": {
   "codemirror_mode": {
    "name": "ipython",
    "version": 3
   },
   "file_extension": ".py",
   "mimetype": "text/x-python",
   "name": "python",
   "nbconvert_exporter": "python",
   "pygments_lexer": "ipython3",
   "version": "3.12.1"
  }
 },
 "nbformat": 4,
 "nbformat_minor": 2
}
