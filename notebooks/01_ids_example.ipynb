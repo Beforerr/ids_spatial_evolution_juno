{
 "cells": [
  {
   "cell_type": "markdown",
   "metadata": {},
   "source": [
    "---\n",
    "title: Examples of discontinuities\n",
    "---\n"
   ]
  },
  {
   "cell_type": "code",
   "execution_count": 2,
   "metadata": {},
   "outputs": [],
   "source": [
    "# /// pyproject\n",
    "# run.requirements = [\n",
    "#   \"pyyaml\",\n",
    "#   \"pydantic\",\n",
    "#   \"pyspedas\",\n",
    "#   \"pytplot\",\n",
    "#   \"matplotlib\",\n",
    "#   \"scienceplots\",\n",
    "# ]\n",
    "# /\n",
    "\n",
    "import sys\n",
    "import yaml\n",
    "\n",
    "from pydantic import constr, BaseModel\n",
    "from datetime import datetime, date\n",
    "\n",
    "from xarray import DataArray\n",
    "import pyspedas\n",
    "from pyspedas.cotrans.minvar_matrix_make import minvar_matrix_make\n",
    "from pyspedas import tvector_rotate\n",
    "from pyspedas.analysis.tvectot import tvectot\n",
    "\n",
    "from pytplot import join_vec, split_vec, get_data\n",
    "from pytplot import tplot, options\n",
    "\n",
    "import matplotlib.pyplot as plt\n",
    "import scienceplots\n",
    "\n",
    "plt.style.use([\"science\", \"nature\", \"notebook\"])\n",
    "plt.rc(\"savefig\", dpi=300)\n",
    "# plt.rc('svg', fonttype='none')"
   ]
  },
  {
   "cell_type": "code",
   "execution_count": 3,
   "metadata": {},
   "outputs": [],
   "source": [
    "class TplotConfig(BaseModel):\n",
    "    tvar: str\n",
    "    trans: list[str] = None\n",
    "\n",
    "\n",
    "class PanelConfig(BaseModel):\n",
    "    satellite: constr(to_lower=True)\n",
    "    instrument: constr(to_lower=True)\n",
    "    start: datetime | date = None\n",
    "    end: datetime | date = None\n",
    "    datatype: str = None\n",
    "    probe: str = None\n",
    "    tplot: TplotConfig\n",
    "\n",
    "\n",
    "class OutputConfig(BaseModel):\n",
    "    filename: str\n",
    "    format: str = \"png\"\n",
    "\n",
    "\n",
    "class Config(BaseModel):\n",
    "    panels: list[PanelConfig]\n",
    "    output: dict = None"
   ]
  },
  {
   "cell_type": "code",
   "execution_count": null,
   "metadata": {},
   "outputs": [],
   "source": [
    "file_path = sys.argv[1]\n",
    "config = yaml.load(open(file_path), Loader=yaml.FullLoader)\n",
    "\n",
    "_p_config = config[\"panels\"][0]\n",
    "\n",
    "panel_config = PanelConfig(**_p_config)\n",
    "tplot_config = panel_config.tplot\n",
    "\n",
    "mod = getattr(pyspedas, panel_config.satellite)\n",
    "func = getattr(mod, panel_config.instrument)\n",
    "\n",
    "tvar = tplot_config.tvar"
   ]
  },
  {
   "cell_type": "code",
   "execution_count": null,
   "metadata": {},
   "outputs": [],
   "source": [
    "args = {\n",
    "    \"trange\": [panel_config.start.isoformat(), panel_config.end.isoformat()],\n",
    "    \"time_clip\": True,\n",
    "}\n",
    "\n",
    "# Conditionally add the 'datatype' and 'probe' argument\n",
    "if panel_config.datatype is not None:\n",
    "    args[\"datatype\"] = panel_config.datatype\n",
    "if panel_config.probe is not None:\n",
    "    args[\"probe\"] = panel_config.probe\n",
    "\n",
    "args['varnames'] = [tvar]\n",
    "\n",
    "loaded_tvars = func(**args)"
   ]
  },
  {
   "cell_type": "code",
   "execution_count": 9,
   "metadata": {},
   "outputs": [
    {
     "data": {
      "text/plain": [
       "['$B_l$', '$B_m$']"
      ]
     },
     "execution_count": 9,
     "metadata": {},
     "output_type": "execute_result"
    }
   ],
   "source": [
    "[r\"$B_l$\", r\"$B_m$\", r\"$B_n$\"][0:2]"
   ]
  },
  {
   "cell_type": "code",
   "execution_count": null,
   "metadata": {},
   "outputs": [],
   "source": [
    "if tplot_config.trans:\n",
    "    if \"slice-3\" in tplot_config.trans:\n",
    "        tvar = join_vec(split_vec(tvar)[:3])\n",
    "    if \"mva\" in tplot_config.trans:\n",
    "        minvar_matrix_make(tvar)\n",
    "        tvar = tvector_rotate(tvar + \"_mva_mat\", tvar)[0]\n",
    "        ysubtitle = \"[nT LMN]\"\n",
    "        legend_names = [r\"$B_l$\", r\"$B_m$\", r\"$B_n$\"]\n",
    "\n",
    "    tvar2plot = tvectot(tvar, join_component=True)\n",
    "    legend_names = legend_names + [r\"$B_{total}$\"]\n",
    "\n",
    "    # tvars_splitted = split_vec(tvar)\n",
    "\n",
    "    # tvar2plot = join_vec(tvars_splitted[0:2] + [tvars_splitted[-1]])\n",
    "    # legend_names = legend_names[0:2] + [legend_names[-1]]\n",
    "\n",
    "    options(tvar2plot, \"ytitle\", \"$B$\")\n",
    "    options(tvar2plot, \"ysubtitle\", ysubtitle)\n",
    "    options(tvar2plot, \"legend_names\", legend_names)\n",
    "\n",
    "    options(tvar2plot, \"thick\", 2)\n",
    "    options(tvar2plot, \"char_size\", 16)\n",
    "else:\n",
    "    tvar2plot = tvar"
   ]
  },
  {
   "cell_type": "code",
   "execution_count": null,
   "metadata": {},
   "outputs": [],
   "source": [
    "if config[\"output\"]:\n",
    "    output = config[\"output\"]\n",
    "    path = output.get(\"path\")\n",
    "    display = output.get(\"display\", False)\n",
    "    if display:\n",
    "        tplot(tvar2plot)\n",
    "    if \"png\" in output[\"formats\"]:\n",
    "        tplot(tvar2plot, save_png=path, display=False)\n",
    "    if \"svg\" in output[\"formats\"]:\n",
    "        tplot(tvar2plot, save_svg=path, display=False)\n",
    "    if \"csv\" in output[\"formats\"]:\n",
    "        da: DataArray = get_data(tvar2plot, xarray=True)\n",
    "        da.to_pandas().to_csv(path + \".csv\")"
   ]
  }
 ],
 "metadata": {
  "kernelspec": {
   "display_name": "cool_planet",
   "language": "python",
   "name": "python3"
  },
  "language_info": {
   "codemirror_mode": {
    "name": "ipython",
    "version": 3
   },
   "file_extension": ".py",
   "mimetype": "text/x-python",
   "name": "python",
   "nbconvert_exporter": "python",
   "pygments_lexer": "ipython3",
   "version": "3.10.12"
  }
 },
 "nbformat": 4,
 "nbformat_minor": 2
}
