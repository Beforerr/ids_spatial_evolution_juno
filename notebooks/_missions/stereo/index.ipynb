{
 "cells": [
  {
   "cell_type": "markdown",
   "metadata": {},
   "source": [
    "---\n",
    "title: IDs from STEREO\n",
    "order: 11\n",
    "---\n",
    "\n",
    "See following notebooks for details:\n",
    "\n",
    "- [Magnetic field data](./mag.ipynb)\n",
    "- [State data](./state.ipynb)"
   ]
  },
  {
   "cell_type": "markdown",
   "metadata": {},
   "source": [
    "## Setup"
   ]
  },
  {
   "cell_type": "markdown",
   "metadata": {},
   "source": [
    "Need to run command in shell first as `pipeline` is project-specific command\n",
    "\n",
    "```{sh}\n",
    "kedro pipeline create stearo\n",
    "```\n",
    "\n",
    "To get STEREO-A state data, run `kedro run --to-outputs=sta.primary_state_rtn_1h`\n",
    "\n",
    "To get candidates data, run `kedro run --from-inputs=sta.feature_1s --to-outputs=candidates.sta_1s`"
   ]
  },
  {
   "cell_type": "code",
   "execution_count": 5,
   "metadata": {},
   "outputs": [],
   "source": [
    "import speasy as spz\n",
    "from space_analysis.utils.speasy import Variables\n",
    "\n",
    "from datetime import timedelta\n"
   ]
  },
  {
   "cell_type": "code",
   "execution_count": 2,
   "metadata": {},
   "outputs": [],
   "source": [
    "spz.update_inventories()\n"
   ]
  },
  {
   "cell_type": "code",
   "execution_count": 6,
   "metadata": {},
   "outputs": [],
   "source": [
    "timerange = [\"2011-08-25\", \"2016-06-30\"]\n",
    "ts = timedelta(seconds=1)\n",
    "tau = timedelta(seconds=60)"
   ]
  },
  {
   "cell_type": "code",
   "execution_count": null,
   "metadata": {},
   "outputs": [],
   "source": [
    "mag_vars = Variables(\n",
    "    provider = 'archive/local',\n",
    "    dataset=\"STA_L1_MAG_RTN\",\n",
    "    parameters=[\"BFIELD\"],\n",
    "    timerange=timerange\n",
    ")\n"
   ]
  },
  {
   "cell_type": "code",
   "execution_count": null,
   "metadata": {},
   "outputs": [],
   "source": [
    "#| code-summary: import all the packages needed for the project\n",
    "#| output: hide\n",
    "#| export\n",
    "from discontinuitypy.pipelines.stereo.mag import create_pipeline as create_mag_data_pipeline\n",
    "from discontinuitypy.pipelines.stereo.state import create_pipeline as create_state_data_pipeline\n",
    "from discontinuitypy.pipelines.default.mission import create_combined_data_pipeline"
   ]
  },
  {
   "cell_type": "markdown",
   "metadata": {},
   "source": [
    "## Pipelines"
   ]
  },
  {
   "cell_type": "code",
   "execution_count": null,
   "metadata": {},
   "outputs": [],
   "source": [
    "def create_pipeline(sat_id=\"STA\"):\n",
    "    return (\n",
    "        create_mag_data_pipeline(sat_id)\n",
    "        + create_state_data_pipeline(sat_id)\n",
    "        + create_combined_data_pipeline(sat_id)\n",
    "    )"
   ]
  }
 ],
 "metadata": {
  "kernelspec": {
   "display_name": "python3",
   "language": "python",
   "name": "python3"
  },
  "language_info": {
   "codemirror_mode": {
    "name": "ipython",
    "version": 3
   },
   "file_extension": ".py",
   "mimetype": "text/x-python",
   "name": "python",
   "nbconvert_exporter": "python",
   "pygments_lexer": "ipython3",
   "version": "3.11.7"
  }
 },
 "nbformat": 4,
 "nbformat_minor": 2
}
