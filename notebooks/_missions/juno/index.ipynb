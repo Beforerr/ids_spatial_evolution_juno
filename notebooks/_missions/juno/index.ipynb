{
 "cells": [
  {
   "cell_type": "markdown",
   "metadata": {},
   "source": [
    "---\n",
    "title: IDs from Juno\n",
    "order: 10\n",
    "---\n",
    "\n",
    "See following notebooks for details:\n",
    "\n",
    "- [Magnetic field data](./mag.ipynb)\n",
    "- [State data](./state.ipynb)"
   ]
  },
  {
   "cell_type": "markdown",
   "metadata": {},
   "source": [
    "## Background"
   ]
  },
  {
   "cell_type": "markdown",
   "metadata": {},
   "source": [
    "Spacecraft-Solar equatorial\n",
    "\n",
    "https://pds-ppi.igpp.ucla.edu/data/JNO-SS-3-FGM-CAL-V1.0/INDEX/INDEX.TAB"
   ]
  },
  {
   "cell_type": "markdown",
   "metadata": {},
   "source": [
    "\n",
    "```txt\n",
    "------------------------------------------------------------------------------\n",
    "Juno Mission Phases                                                           \n",
    "------------------------------------------------------------------------------\n",
    "Start       Mission                                                           \n",
    "Date        Phase                                                             \n",
    "==============================================================================\n",
    "2011-08-05  Launch                                                            \n",
    "2011-08-08  Inner Cruise 1                                                    \n",
    "2011-10-10  Inner Cruise 2                                                    \n",
    "2013-05-28  Inner Cruise 3                                                    \n",
    "2013-11-05  Quiet Cruise                                                      \n",
    "2016-01-05  Jupiter Approach                                                  \n",
    "2016-06-30  Jupiter Orbital Insertion                                         \n",
    "2016-07-05  Capture Orbit                                                     \n",
    "2016-10-19  Period Reduction Maneuver                                         \n",
    "2016-10-20  Orbits 1-2                                                        \n",
    "2016-11-09  Science Orbits                                                    \n",
    "2017-10-11  Deorbit\n",
    "```"
   ]
  },
  {
   "cell_type": "markdown",
   "metadata": {},
   "source": [
    "### Coordinate System of Data"
   ]
  },
  {
   "cell_type": "markdown",
   "metadata": {},
   "source": [
    "1. **SE (Solar Equatorial)**\n",
    "    - Code: `se`\n",
    "    - Resampling options: \n",
    "        - Number of seconds (1 or 60): `se_rN[N]s`\n",
    "        - Resampled 1 hour: `se_r1h`\n",
    "\n",
    "2. **PC (Planetocentric)**\n",
    "    - Code: `pc`\n",
    "    - Resampling options: \n",
    "        - Number of seconds (1 or 60): `pc_rN[N]s`\n",
    "        \n",
    "3. **SS (Sun-State)**\n",
    "    - Code: `ss`\n",
    "    - Resampling options: \n",
    "        - Number of seconds (1 or 60): `ss_rN[N]s`\n",
    "        \n",
    "4. **PL (Payload)**\n",
    "    - Code: `pl`\n",
    "    - Resampling options: \n",
    "        - Number of seconds (1 or 60): `pl_rN[N]s`"
   ]
  },
  {
   "cell_type": "markdown",
   "metadata": {},
   "source": [
    "There are three principal coordinate systems used to represent the data in this archive.\n",
    "\n",
    "- The SE coordinate system is a Spacecraft- Solar equatorial system and it will be used for cruise data only. \n",
    "- The sun-state (ss) and planetocentric (pc) will be used for Earth Fly By (EFB) and Jupiter orbital data. \n",
    "- Cartesian representations are used for all three coordinate systems. These coordinate systems are specified relative to a “target body” which may be any solar system object (but for this orbital operations will Jupiter). In what follows we will reference Jupiter as the target body, but, for example, if observations near a satellite (such as Io) are desired in Io-centric coordinates, the satellite Io may be specified as the target body. \n",
    "\n",
    "The SE coordinate system is defined using the sun-spacecraft vector as the primary reference vector; sun’s rotation axis as the secondary reference vector (z). The x axis lies along the sun-spacecraft vector, the z axis is in the plane defined by the Sun’s rotation axis and the spacecraft-sun vector. The y axis completes the system.\n",
    "\n",
    "The ss coordinate system is defined using the instantaneous Jupiter-Sun vector as the primary reference vector (x direction). The X-axis lies along this vector and is taken to be positive toward the Sun. The Jupiter orbital velocity vector is the second vector used to define the coordinate system; the y axis lies in the plane determined by the Jupiter-Sun vector and the velocity vector and is orthogonal to the x axis (very nearly the negative of the velocity vector). The vector cross product of x and y yields a vector z parallel to the northward (upward) normal of the orbit plane of Jupiter. This system is sometimes called a sun-state (ss) coordinate system since its principal vectors are the Sun vector and the Jupiter state vector."
   ]
  },
  {
   "cell_type": "markdown",
   "metadata": {},
   "source": [
    "## Setup"
   ]
  },
  {
   "cell_type": "markdown",
   "metadata": {},
   "source": [
    "Need to run command in shell first as `pipeline` is project-specific command\n",
    "\n",
    "```{sh}\n",
    "kedro pipeline create juno\n",
    "```"
   ]
  },
  {
   "cell_type": "code",
   "execution_count": 1,
   "metadata": {},
   "outputs": [
    {
     "data": {
      "application/javascript": "(function(root) {\n  function now() {\n    return new Date();\n  }\n\n  var force = true;\n  var py_version = '3.3.4'.replace('rc', '-rc.').replace('.dev', '-dev.');\n  var reloading = false;\n  var Bokeh = root.Bokeh;\n\n  if (typeof (root._bokeh_timeout) === \"undefined\" || force) {\n    root._bokeh_timeout = Date.now() + 5000;\n    root._bokeh_failed_load = false;\n  }\n\n  function run_callbacks() {\n    try {\n      root._bokeh_onload_callbacks.forEach(function(callback) {\n        if (callback != null)\n          callback();\n      });\n    } finally {\n      delete root._bokeh_onload_callbacks;\n    }\n    console.debug(\"Bokeh: all callbacks have finished\");\n  }\n\n  function load_libs(css_urls, js_urls, js_modules, js_exports, callback) {\n    if (css_urls == null) css_urls = [];\n    if (js_urls == null) js_urls = [];\n    if (js_modules == null) js_modules = [];\n    if (js_exports == null) js_exports = {};\n\n    root._bokeh_onload_callbacks.push(callback);\n\n    if (root._bokeh_is_loading > 0) {\n      console.debug(\"Bokeh: BokehJS is being loaded, scheduling callback at\", now());\n      return null;\n    }\n    if (js_urls.length === 0 && js_modules.length === 0 && Object.keys(js_exports).length === 0) {\n      run_callbacks();\n      return null;\n    }\n    if (!reloading) {\n      console.debug(\"Bokeh: BokehJS not loaded, scheduling load and callback at\", now());\n    }\n\n    function on_load() {\n      root._bokeh_is_loading--;\n      if (root._bokeh_is_loading === 0) {\n        console.debug(\"Bokeh: all BokehJS libraries/stylesheets loaded\");\n        run_callbacks()\n      }\n    }\n    window._bokeh_on_load = on_load\n\n    function on_error() {\n      console.error(\"failed to load \" + url);\n    }\n\n    var skip = [];\n    if (window.requirejs) {\n      window.requirejs.config({'packages': {}, 'paths': {'jspanel': 'https://cdn.jsdelivr.net/npm/jspanel4@4.12.0/dist/jspanel', 'jspanel-modal': 'https://cdn.jsdelivr.net/npm/jspanel4@4.12.0/dist/extensions/modal/jspanel.modal', 'jspanel-tooltip': 'https://cdn.jsdelivr.net/npm/jspanel4@4.12.0/dist/extensions/tooltip/jspanel.tooltip', 'jspanel-hint': 'https://cdn.jsdelivr.net/npm/jspanel4@4.12.0/dist/extensions/hint/jspanel.hint', 'jspanel-layout': 'https://cdn.jsdelivr.net/npm/jspanel4@4.12.0/dist/extensions/layout/jspanel.layout', 'jspanel-contextmenu': 'https://cdn.jsdelivr.net/npm/jspanel4@4.12.0/dist/extensions/contextmenu/jspanel.contextmenu', 'jspanel-dock': 'https://cdn.jsdelivr.net/npm/jspanel4@4.12.0/dist/extensions/dock/jspanel.dock', 'gridstack': 'https://cdn.jsdelivr.net/npm/gridstack@7.2.3/dist/gridstack-all', 'notyf': 'https://cdn.jsdelivr.net/npm/notyf@3/notyf.min'}, 'shim': {'jspanel': {'exports': 'jsPanel'}, 'gridstack': {'exports': 'GridStack'}}});\n      require([\"jspanel\"], function(jsPanel) {\n\twindow.jsPanel = jsPanel\n\ton_load()\n      })\n      require([\"jspanel-modal\"], function() {\n\ton_load()\n      })\n      require([\"jspanel-tooltip\"], function() {\n\ton_load()\n      })\n      require([\"jspanel-hint\"], function() {\n\ton_load()\n      })\n      require([\"jspanel-layout\"], function() {\n\ton_load()\n      })\n      require([\"jspanel-contextmenu\"], function() {\n\ton_load()\n      })\n      require([\"jspanel-dock\"], function() {\n\ton_load()\n      })\n      require([\"gridstack\"], function(GridStack) {\n\twindow.GridStack = GridStack\n\ton_load()\n      })\n      require([\"notyf\"], function() {\n\ton_load()\n      })\n      root._bokeh_is_loading = css_urls.length + 9;\n    } else {\n      root._bokeh_is_loading = css_urls.length + js_urls.length + js_modules.length + Object.keys(js_exports).length;\n    }\n\n    var existing_stylesheets = []\n    var links = document.getElementsByTagName('link')\n    for (var i = 0; i < links.length; i++) {\n      var link = links[i]\n      if (link.href != null) {\n\texisting_stylesheets.push(link.href)\n      }\n    }\n    for (var i = 0; i < css_urls.length; i++) {\n      var url = css_urls[i];\n      if (existing_stylesheets.indexOf(url) !== -1) {\n\ton_load()\n\tcontinue;\n      }\n      const element = document.createElement(\"link\");\n      element.onload = on_load;\n      element.onerror = on_error;\n      element.rel = \"stylesheet\";\n      element.type = \"text/css\";\n      element.href = url;\n      console.debug(\"Bokeh: injecting link tag for BokehJS stylesheet: \", url);\n      document.body.appendChild(element);\n    }    if (((window['jsPanel'] !== undefined) && (!(window['jsPanel'] instanceof HTMLElement))) || window.requirejs) {\n      var urls = ['https://cdn.holoviz.org/panel/1.3.8/dist/bundled/floatpanel/jspanel4@4.12.0/dist/jspanel.js', 'https://cdn.holoviz.org/panel/1.3.8/dist/bundled/floatpanel/jspanel4@4.12.0/dist/extensions/modal/jspanel.modal.js', 'https://cdn.holoviz.org/panel/1.3.8/dist/bundled/floatpanel/jspanel4@4.12.0/dist/extensions/tooltip/jspanel.tooltip.js', 'https://cdn.holoviz.org/panel/1.3.8/dist/bundled/floatpanel/jspanel4@4.12.0/dist/extensions/hint/jspanel.hint.js', 'https://cdn.holoviz.org/panel/1.3.8/dist/bundled/floatpanel/jspanel4@4.12.0/dist/extensions/layout/jspanel.layout.js', 'https://cdn.holoviz.org/panel/1.3.8/dist/bundled/floatpanel/jspanel4@4.12.0/dist/extensions/contextmenu/jspanel.contextmenu.js', 'https://cdn.holoviz.org/panel/1.3.8/dist/bundled/floatpanel/jspanel4@4.12.0/dist/extensions/dock/jspanel.dock.js'];\n      for (var i = 0; i < urls.length; i++) {\n        skip.push(urls[i])\n      }\n    }    if (((window['GridStack'] !== undefined) && (!(window['GridStack'] instanceof HTMLElement))) || window.requirejs) {\n      var urls = ['https://cdn.holoviz.org/panel/1.3.8/dist/bundled/gridstack/gridstack@7.2.3/dist/gridstack-all.js'];\n      for (var i = 0; i < urls.length; i++) {\n        skip.push(urls[i])\n      }\n    }    if (((window['Notyf'] !== undefined) && (!(window['Notyf'] instanceof HTMLElement))) || window.requirejs) {\n      var urls = ['https://cdn.holoviz.org/panel/1.3.8/dist/bundled/notificationarea/notyf@3/notyf.min.js'];\n      for (var i = 0; i < urls.length; i++) {\n        skip.push(urls[i])\n      }\n    }    var existing_scripts = []\n    var scripts = document.getElementsByTagName('script')\n    for (var i = 0; i < scripts.length; i++) {\n      var script = scripts[i]\n      if (script.src != null) {\n\texisting_scripts.push(script.src)\n      }\n    }\n    for (var i = 0; i < js_urls.length; i++) {\n      var url = js_urls[i];\n      if (skip.indexOf(url) !== -1 || existing_scripts.indexOf(url) !== -1) {\n\tif (!window.requirejs) {\n\t  on_load();\n\t}\n\tcontinue;\n      }\n      var element = document.createElement('script');\n      element.onload = on_load;\n      element.onerror = on_error;\n      element.async = false;\n      element.src = url;\n      console.debug(\"Bokeh: injecting script tag for BokehJS library: \", url);\n      document.head.appendChild(element);\n    }\n    for (var i = 0; i < js_modules.length; i++) {\n      var url = js_modules[i];\n      if (skip.indexOf(url) !== -1 || existing_scripts.indexOf(url) !== -1) {\n\tif (!window.requirejs) {\n\t  on_load();\n\t}\n\tcontinue;\n      }\n      var element = document.createElement('script');\n      element.onload = on_load;\n      element.onerror = on_error;\n      element.async = false;\n      element.src = url;\n      element.type = \"module\";\n      console.debug(\"Bokeh: injecting script tag for BokehJS library: \", url);\n      document.head.appendChild(element);\n    }\n    for (const name in js_exports) {\n      var url = js_exports[name];\n      if (skip.indexOf(url) >= 0 || root[name] != null) {\n\tif (!window.requirejs) {\n\t  on_load();\n\t}\n\tcontinue;\n      }\n      var element = document.createElement('script');\n      element.onerror = on_error;\n      element.async = false;\n      element.type = \"module\";\n      console.debug(\"Bokeh: injecting script tag for BokehJS library: \", url);\n      element.textContent = `\n      import ${name} from \"${url}\"\n      window.${name} = ${name}\n      window._bokeh_on_load()\n      `\n      document.head.appendChild(element);\n    }\n    if (!js_urls.length && !js_modules.length) {\n      on_load()\n    }\n  };\n\n  function inject_raw_css(css) {\n    const element = document.createElement(\"style\");\n    element.appendChild(document.createTextNode(css));\n    document.body.appendChild(element);\n  }\n\n  var js_urls = [\"https://cdn.bokeh.org/bokeh/release/bokeh-3.3.4.min.js\", \"https://cdn.bokeh.org/bokeh/release/bokeh-gl-3.3.4.min.js\", \"https://cdn.bokeh.org/bokeh/release/bokeh-widgets-3.3.4.min.js\", \"https://cdn.bokeh.org/bokeh/release/bokeh-tables-3.3.4.min.js\", \"https://cdn.holoviz.org/panel/1.3.8/dist/panel.min.js\"];\n  var js_modules = [];\n  var js_exports = {};\n  var css_urls = [];\n  var inline_js = [    function(Bokeh) {\n      Bokeh.set_log_level(\"info\");\n    },\nfunction(Bokeh) {} // ensure no trailing comma for IE\n  ];\n\n  function run_inline_js() {\n    if ((root.Bokeh !== undefined) || (force === true)) {\n      for (var i = 0; i < inline_js.length; i++) {\n\ttry {\n          inline_js[i].call(root, root.Bokeh);\n\t} catch(e) {\n\t  if (!reloading) {\n\t    throw e;\n\t  }\n\t}\n      }\n      // Cache old bokeh versions\n      if (Bokeh != undefined && !reloading) {\n\tvar NewBokeh = root.Bokeh;\n\tif (Bokeh.versions === undefined) {\n\t  Bokeh.versions = new Map();\n\t}\n\tif (NewBokeh.version !== Bokeh.version) {\n\t  Bokeh.versions.set(NewBokeh.version, NewBokeh)\n\t}\n\troot.Bokeh = Bokeh;\n      }} else if (Date.now() < root._bokeh_timeout) {\n      setTimeout(run_inline_js, 100);\n    } else if (!root._bokeh_failed_load) {\n      console.log(\"Bokeh: BokehJS failed to load within specified timeout.\");\n      root._bokeh_failed_load = true;\n    }\n    root._bokeh_is_initializing = false\n  }\n\n  function load_or_wait() {\n    // Implement a backoff loop that tries to ensure we do not load multiple\n    // versions of Bokeh and its dependencies at the same time.\n    // In recent versions we use the root._bokeh_is_initializing flag\n    // to determine whether there is an ongoing attempt to initialize\n    // bokeh, however for backward compatibility we also try to ensure\n    // that we do not start loading a newer (Panel>=1.0 and Bokeh>3) version\n    // before older versions are fully initialized.\n    if (root._bokeh_is_initializing && Date.now() > root._bokeh_timeout) {\n      root._bokeh_is_initializing = false;\n      root._bokeh_onload_callbacks = undefined;\n      console.log(\"Bokeh: BokehJS was loaded multiple times but one version failed to initialize.\");\n      load_or_wait();\n    } else if (root._bokeh_is_initializing || (typeof root._bokeh_is_initializing === \"undefined\" && root._bokeh_onload_callbacks !== undefined)) {\n      setTimeout(load_or_wait, 100);\n    } else {\n      root._bokeh_is_initializing = true\n      root._bokeh_onload_callbacks = []\n      var bokeh_loaded = Bokeh != null && (Bokeh.version === py_version || (Bokeh.versions !== undefined && Bokeh.versions.has(py_version)));\n      if (!reloading && !bokeh_loaded) {\n\troot.Bokeh = undefined;\n      }\n      load_libs(css_urls, js_urls, js_modules, js_exports, function() {\n\tconsole.debug(\"Bokeh: BokehJS plotting callback run at\", now());\n\trun_inline_js();\n      });\n    }\n  }\n  // Give older versions of the autoload script a head-start to ensure\n  // they initialize before we start loading newer version.\n  setTimeout(load_or_wait, 100)\n}(window));",
      "application/vnd.holoviews_load.v0+json": ""
     },
     "metadata": {},
     "output_type": "display_data"
    },
    {
     "data": {
      "application/javascript": "\nif ((window.PyViz === undefined) || (window.PyViz instanceof HTMLElement)) {\n  window.PyViz = {comms: {}, comm_status:{}, kernels:{}, receivers: {}, plot_index: []}\n}\n\n\n    function JupyterCommManager() {\n    }\n\n    JupyterCommManager.prototype.register_target = function(plot_id, comm_id, msg_handler) {\n      if (window.comm_manager || ((window.Jupyter !== undefined) && (Jupyter.notebook.kernel != null))) {\n        var comm_manager = window.comm_manager || Jupyter.notebook.kernel.comm_manager;\n        comm_manager.register_target(comm_id, function(comm) {\n          comm.on_msg(msg_handler);\n        });\n      } else if ((plot_id in window.PyViz.kernels) && (window.PyViz.kernels[plot_id])) {\n        window.PyViz.kernels[plot_id].registerCommTarget(comm_id, function(comm) {\n          comm.onMsg = msg_handler;\n        });\n      } else if (typeof google != 'undefined' && google.colab.kernel != null) {\n        google.colab.kernel.comms.registerTarget(comm_id, (comm) => {\n          var messages = comm.messages[Symbol.asyncIterator]();\n          function processIteratorResult(result) {\n            var message = result.value;\n            console.log(message)\n            var content = {data: message.data, comm_id};\n            var buffers = []\n            for (var buffer of message.buffers || []) {\n              buffers.push(new DataView(buffer))\n            }\n            var metadata = message.metadata || {};\n            var msg = {content, buffers, metadata}\n            msg_handler(msg);\n            return messages.next().then(processIteratorResult);\n          }\n          return messages.next().then(processIteratorResult);\n        })\n      }\n    }\n\n    JupyterCommManager.prototype.get_client_comm = function(plot_id, comm_id, msg_handler) {\n      if (comm_id in window.PyViz.comms) {\n        return window.PyViz.comms[comm_id];\n      } else if (window.comm_manager || ((window.Jupyter !== undefined) && (Jupyter.notebook.kernel != null))) {\n        var comm_manager = window.comm_manager || Jupyter.notebook.kernel.comm_manager;\n        var comm = comm_manager.new_comm(comm_id, {}, {}, {}, comm_id);\n        if (msg_handler) {\n          comm.on_msg(msg_handler);\n        }\n      } else if ((plot_id in window.PyViz.kernels) && (window.PyViz.kernels[plot_id])) {\n        var comm = window.PyViz.kernels[plot_id].connectToComm(comm_id);\n        comm.open();\n        if (msg_handler) {\n          comm.onMsg = msg_handler;\n        }\n      } else if (typeof google != 'undefined' && google.colab.kernel != null) {\n        var comm_promise = google.colab.kernel.comms.open(comm_id)\n        comm_promise.then((comm) => {\n          window.PyViz.comms[comm_id] = comm;\n          if (msg_handler) {\n            var messages = comm.messages[Symbol.asyncIterator]();\n            function processIteratorResult(result) {\n              var message = result.value;\n              var content = {data: message.data};\n              var metadata = message.metadata || {comm_id};\n              var msg = {content, metadata}\n              msg_handler(msg);\n              return messages.next().then(processIteratorResult);\n            }\n            return messages.next().then(processIteratorResult);\n          }\n        }) \n        var sendClosure = (data, metadata, buffers, disposeOnDone) => {\n          return comm_promise.then((comm) => {\n            comm.send(data, metadata, buffers, disposeOnDone);\n          });\n        };\n        var comm = {\n          send: sendClosure\n        };\n      }\n      window.PyViz.comms[comm_id] = comm;\n      return comm;\n    }\n    window.PyViz.comm_manager = new JupyterCommManager();\n    \n\n\nvar JS_MIME_TYPE = 'application/javascript';\nvar HTML_MIME_TYPE = 'text/html';\nvar EXEC_MIME_TYPE = 'application/vnd.holoviews_exec.v0+json';\nvar CLASS_NAME = 'output';\n\n/**\n * Render data to the DOM node\n */\nfunction render(props, node) {\n  var div = document.createElement(\"div\");\n  var script = document.createElement(\"script\");\n  node.appendChild(div);\n  node.appendChild(script);\n}\n\n/**\n * Handle when a new output is added\n */\nfunction handle_add_output(event, handle) {\n  var output_area = handle.output_area;\n  var output = handle.output;\n  if ((output.data == undefined) || (!output.data.hasOwnProperty(EXEC_MIME_TYPE))) {\n    return\n  }\n  var id = output.metadata[EXEC_MIME_TYPE][\"id\"];\n  var toinsert = output_area.element.find(\".\" + CLASS_NAME.split(' ')[0]);\n  if (id !== undefined) {\n    var nchildren = toinsert.length;\n    var html_node = toinsert[nchildren-1].children[0];\n    html_node.innerHTML = output.data[HTML_MIME_TYPE];\n    var scripts = [];\n    var nodelist = html_node.querySelectorAll(\"script\");\n    for (var i in nodelist) {\n      if (nodelist.hasOwnProperty(i)) {\n        scripts.push(nodelist[i])\n      }\n    }\n\n    scripts.forEach( function (oldScript) {\n      var newScript = document.createElement(\"script\");\n      var attrs = [];\n      var nodemap = oldScript.attributes;\n      for (var j in nodemap) {\n        if (nodemap.hasOwnProperty(j)) {\n          attrs.push(nodemap[j])\n        }\n      }\n      attrs.forEach(function(attr) { newScript.setAttribute(attr.name, attr.value) });\n      newScript.appendChild(document.createTextNode(oldScript.innerHTML));\n      oldScript.parentNode.replaceChild(newScript, oldScript);\n    });\n    if (JS_MIME_TYPE in output.data) {\n      toinsert[nchildren-1].children[1].textContent = output.data[JS_MIME_TYPE];\n    }\n    output_area._hv_plot_id = id;\n    if ((window.Bokeh !== undefined) && (id in Bokeh.index)) {\n      window.PyViz.plot_index[id] = Bokeh.index[id];\n    } else {\n      window.PyViz.plot_index[id] = null;\n    }\n  } else if (output.metadata[EXEC_MIME_TYPE][\"server_id\"] !== undefined) {\n    var bk_div = document.createElement(\"div\");\n    bk_div.innerHTML = output.data[HTML_MIME_TYPE];\n    var script_attrs = bk_div.children[0].attributes;\n    for (var i = 0; i < script_attrs.length; i++) {\n      toinsert[toinsert.length - 1].childNodes[1].setAttribute(script_attrs[i].name, script_attrs[i].value);\n    }\n    // store reference to server id on output_area\n    output_area._bokeh_server_id = output.metadata[EXEC_MIME_TYPE][\"server_id\"];\n  }\n}\n\n/**\n * Handle when an output is cleared or removed\n */\nfunction handle_clear_output(event, handle) {\n  var id = handle.cell.output_area._hv_plot_id;\n  var server_id = handle.cell.output_area._bokeh_server_id;\n  if (((id === undefined) || !(id in PyViz.plot_index)) && (server_id !== undefined)) { return; }\n  var comm = window.PyViz.comm_manager.get_client_comm(\"hv-extension-comm\", \"hv-extension-comm\", function () {});\n  if (server_id !== null) {\n    comm.send({event_type: 'server_delete', 'id': server_id});\n    return;\n  } else if (comm !== null) {\n    comm.send({event_type: 'delete', 'id': id});\n  }\n  delete PyViz.plot_index[id];\n  if ((window.Bokeh !== undefined) & (id in window.Bokeh.index)) {\n    var doc = window.Bokeh.index[id].model.document\n    doc.clear();\n    const i = window.Bokeh.documents.indexOf(doc);\n    if (i > -1) {\n      window.Bokeh.documents.splice(i, 1);\n    }\n  }\n}\n\n/**\n * Handle kernel restart event\n */\nfunction handle_kernel_cleanup(event, handle) {\n  delete PyViz.comms[\"hv-extension-comm\"];\n  window.PyViz.plot_index = {}\n}\n\n/**\n * Handle update_display_data messages\n */\nfunction handle_update_output(event, handle) {\n  handle_clear_output(event, {cell: {output_area: handle.output_area}})\n  handle_add_output(event, handle)\n}\n\nfunction register_renderer(events, OutputArea) {\n  function append_mime(data, metadata, element) {\n    // create a DOM node to render to\n    var toinsert = this.create_output_subarea(\n    metadata,\n    CLASS_NAME,\n    EXEC_MIME_TYPE\n    );\n    this.keyboard_manager.register_events(toinsert);\n    // Render to node\n    var props = {data: data, metadata: metadata[EXEC_MIME_TYPE]};\n    render(props, toinsert[0]);\n    element.append(toinsert);\n    return toinsert\n  }\n\n  events.on('output_added.OutputArea', handle_add_output);\n  events.on('output_updated.OutputArea', handle_update_output);\n  events.on('clear_output.CodeCell', handle_clear_output);\n  events.on('delete.Cell', handle_clear_output);\n  events.on('kernel_ready.Kernel', handle_kernel_cleanup);\n\n  OutputArea.prototype.register_mime_type(EXEC_MIME_TYPE, append_mime, {\n    safe: true,\n    index: 0\n  });\n}\n\nif (window.Jupyter !== undefined) {\n  try {\n    var events = require('base/js/events');\n    var OutputArea = require('notebook/js/outputarea').OutputArea;\n    if (OutputArea.prototype.mime_types().indexOf(EXEC_MIME_TYPE) == -1) {\n      register_renderer(events, OutputArea);\n    }\n  } catch(err) {\n  }\n}\n",
      "application/vnd.holoviews_load.v0+json": ""
     },
     "metadata": {},
     "output_type": "display_data"
    },
    {
     "data": {
      "text/html": [
       "<style>*[data-root-id],\n",
       "*[data-root-id] > * {\n",
       "  box-sizing: border-box;\n",
       "  font-family: var(--jp-ui-font-family);\n",
       "  font-size: var(--jp-ui-font-size1);\n",
       "  color: var(--vscode-editor-foreground, var(--jp-ui-font-color1));\n",
       "}\n",
       "\n",
       "/* Override VSCode background color */\n",
       ".cell-output-ipywidget-background:has(\n",
       "    > .cell-output-ipywidget-background > .lm-Widget > *[data-root-id]\n",
       "  ),\n",
       ".cell-output-ipywidget-background:has(> .lm-Widget > *[data-root-id]) {\n",
       "  background-color: transparent !important;\n",
       "}\n",
       "</style>"
      ]
     },
     "metadata": {},
     "output_type": "display_data"
    },
    {
     "data": {
      "application/vnd.holoviews_exec.v0+json": "",
      "text/html": [
       "<div id='p1002'>\n",
       "  <div id=\"dad47509-1e60-4dfd-a271-b4d334277a9c\" data-root-id=\"p1002\" style=\"display: contents;\"></div>\n",
       "</div>\n",
       "<script type=\"application/javascript\">(function(root) {\n",
       "  var docs_json = {\"049e6219-2dca-42e4-99ac-6ba20918a4d7\":{\"version\":\"3.3.4\",\"title\":\"Bokeh Application\",\"roots\":[{\"type\":\"object\",\"name\":\"panel.models.browser.BrowserInfo\",\"id\":\"p1002\"},{\"type\":\"object\",\"name\":\"panel.models.comm_manager.CommManager\",\"id\":\"p1003\",\"attributes\":{\"plot_id\":\"p1002\",\"comm_id\":\"a3157845d361468ba2546b7fbb273122\",\"client_comm_id\":\"ef2d340645534911b4613056ec977d7b\"}}],\"defs\":[{\"type\":\"model\",\"name\":\"ReactiveHTML1\"},{\"type\":\"model\",\"name\":\"FlexBox1\",\"properties\":[{\"name\":\"align_content\",\"kind\":\"Any\",\"default\":\"flex-start\"},{\"name\":\"align_items\",\"kind\":\"Any\",\"default\":\"flex-start\"},{\"name\":\"flex_direction\",\"kind\":\"Any\",\"default\":\"row\"},{\"name\":\"flex_wrap\",\"kind\":\"Any\",\"default\":\"wrap\"},{\"name\":\"justify_content\",\"kind\":\"Any\",\"default\":\"flex-start\"}]},{\"type\":\"model\",\"name\":\"FloatPanel1\",\"properties\":[{\"name\":\"config\",\"kind\":\"Any\",\"default\":{\"type\":\"map\"}},{\"name\":\"contained\",\"kind\":\"Any\",\"default\":true},{\"name\":\"position\",\"kind\":\"Any\",\"default\":\"right-top\"},{\"name\":\"offsetx\",\"kind\":\"Any\",\"default\":null},{\"name\":\"offsety\",\"kind\":\"Any\",\"default\":null},{\"name\":\"theme\",\"kind\":\"Any\",\"default\":\"primary\"},{\"name\":\"status\",\"kind\":\"Any\",\"default\":\"normalized\"}]},{\"type\":\"model\",\"name\":\"GridStack1\",\"properties\":[{\"name\":\"mode\",\"kind\":\"Any\",\"default\":\"warn\"},{\"name\":\"ncols\",\"kind\":\"Any\",\"default\":null},{\"name\":\"nrows\",\"kind\":\"Any\",\"default\":null},{\"name\":\"allow_resize\",\"kind\":\"Any\",\"default\":true},{\"name\":\"allow_drag\",\"kind\":\"Any\",\"default\":true},{\"name\":\"state\",\"kind\":\"Any\",\"default\":[]}]},{\"type\":\"model\",\"name\":\"drag1\",\"properties\":[{\"name\":\"slider_width\",\"kind\":\"Any\",\"default\":5},{\"name\":\"slider_color\",\"kind\":\"Any\",\"default\":\"black\"},{\"name\":\"value\",\"kind\":\"Any\",\"default\":50}]},{\"type\":\"model\",\"name\":\"click1\",\"properties\":[{\"name\":\"terminal_output\",\"kind\":\"Any\",\"default\":\"\"},{\"name\":\"debug_name\",\"kind\":\"Any\",\"default\":\"\"},{\"name\":\"clears\",\"kind\":\"Any\",\"default\":0}]},{\"type\":\"model\",\"name\":\"copy_to_clipboard1\",\"properties\":[{\"name\":\"fill\",\"kind\":\"Any\",\"default\":\"none\"},{\"name\":\"value\",\"kind\":\"Any\",\"default\":null}]},{\"type\":\"model\",\"name\":\"FastWrapper1\",\"properties\":[{\"name\":\"object\",\"kind\":\"Any\",\"default\":null},{\"name\":\"style\",\"kind\":\"Any\",\"default\":null}]},{\"type\":\"model\",\"name\":\"NotificationAreaBase1\",\"properties\":[{\"name\":\"js_events\",\"kind\":\"Any\",\"default\":{\"type\":\"map\"}},{\"name\":\"position\",\"kind\":\"Any\",\"default\":\"bottom-right\"},{\"name\":\"_clear\",\"kind\":\"Any\",\"default\":0}]},{\"type\":\"model\",\"name\":\"NotificationArea1\",\"properties\":[{\"name\":\"js_events\",\"kind\":\"Any\",\"default\":{\"type\":\"map\"}},{\"name\":\"notifications\",\"kind\":\"Any\",\"default\":[]},{\"name\":\"position\",\"kind\":\"Any\",\"default\":\"bottom-right\"},{\"name\":\"_clear\",\"kind\":\"Any\",\"default\":0},{\"name\":\"types\",\"kind\":\"Any\",\"default\":[{\"type\":\"map\",\"entries\":[[\"type\",\"warning\"],[\"background\",\"#ffc107\"],[\"icon\",{\"type\":\"map\",\"entries\":[[\"className\",\"fas fa-exclamation-triangle\"],[\"tagName\",\"i\"],[\"color\",\"white\"]]}]]},{\"type\":\"map\",\"entries\":[[\"type\",\"info\"],[\"background\",\"#007bff\"],[\"icon\",{\"type\":\"map\",\"entries\":[[\"className\",\"fas fa-info-circle\"],[\"tagName\",\"i\"],[\"color\",\"white\"]]}]]}]}]},{\"type\":\"model\",\"name\":\"Notification\",\"properties\":[{\"name\":\"background\",\"kind\":\"Any\",\"default\":null},{\"name\":\"duration\",\"kind\":\"Any\",\"default\":3000},{\"name\":\"icon\",\"kind\":\"Any\",\"default\":null},{\"name\":\"message\",\"kind\":\"Any\",\"default\":\"\"},{\"name\":\"notification_type\",\"kind\":\"Any\",\"default\":null},{\"name\":\"_destroyed\",\"kind\":\"Any\",\"default\":false}]},{\"type\":\"model\",\"name\":\"TemplateActions1\",\"properties\":[{\"name\":\"open_modal\",\"kind\":\"Any\",\"default\":0},{\"name\":\"close_modal\",\"kind\":\"Any\",\"default\":0}]},{\"type\":\"model\",\"name\":\"BootstrapTemplateActions1\",\"properties\":[{\"name\":\"open_modal\",\"kind\":\"Any\",\"default\":0},{\"name\":\"close_modal\",\"kind\":\"Any\",\"default\":0}]},{\"type\":\"model\",\"name\":\"MaterialTemplateActions1\",\"properties\":[{\"name\":\"open_modal\",\"kind\":\"Any\",\"default\":0},{\"name\":\"close_modal\",\"kind\":\"Any\",\"default\":0}]}]}};\n",
       "  var render_items = [{\"docid\":\"049e6219-2dca-42e4-99ac-6ba20918a4d7\",\"roots\":{\"p1002\":\"dad47509-1e60-4dfd-a271-b4d334277a9c\"},\"root_ids\":[\"p1002\"]}];\n",
       "  var docs = Object.values(docs_json)\n",
       "  if (!docs) {\n",
       "    return\n",
       "  }\n",
       "  const py_version = docs[0].version.replace('rc', '-rc.').replace('.dev', '-dev.')\n",
       "  function embed_document(root) {\n",
       "    var Bokeh = get_bokeh(root)\n",
       "    Bokeh.embed.embed_items_notebook(docs_json, render_items);\n",
       "    for (const render_item of render_items) {\n",
       "      for (const root_id of render_item.root_ids) {\n",
       "\tconst id_el = document.getElementById(root_id)\n",
       "\tif (id_el.children.length && (id_el.children[0].className === 'bk-root')) {\n",
       "\t  const root_el = id_el.children[0]\n",
       "\t  root_el.id = root_el.id + '-rendered'\n",
       "\t}\n",
       "      }\n",
       "    }\n",
       "  }\n",
       "  function get_bokeh(root) {\n",
       "    if (root.Bokeh === undefined) {\n",
       "      return null\n",
       "    } else if (root.Bokeh.version !== py_version) {\n",
       "      if (root.Bokeh.versions === undefined || !root.Bokeh.versions.has(py_version)) {\n",
       "\treturn null\n",
       "      }\n",
       "      return root.Bokeh.versions.get(py_version);\n",
       "    } else if (root.Bokeh.version === py_version) {\n",
       "      return root.Bokeh\n",
       "    }\n",
       "    return null\n",
       "  }\n",
       "  function is_loaded(root) {\n",
       "    var Bokeh = get_bokeh(root)\n",
       "    return (Bokeh != null && Bokeh.Panel !== undefined)\n",
       "  }\n",
       "  if (is_loaded(root)) {\n",
       "    embed_document(root);\n",
       "  } else {\n",
       "    var attempts = 0;\n",
       "    var timer = setInterval(function(root) {\n",
       "      if (is_loaded(root)) {\n",
       "        clearInterval(timer);\n",
       "        embed_document(root);\n",
       "      } else if (document.readyState == \"complete\") {\n",
       "        attempts++;\n",
       "        if (attempts > 200) {\n",
       "          clearInterval(timer);\n",
       "\t  var Bokeh = get_bokeh(root)\n",
       "\t  if (Bokeh == null || Bokeh.Panel == null) {\n",
       "            console.warn(\"Panel: ERROR: Unable to run Panel code because Bokeh or Panel library is missing\");\n",
       "\t  } else {\n",
       "\t    console.warn(\"Panel: WARNING: Attempting to render but not all required libraries could be resolved.\")\n",
       "\t    embed_document(root)\n",
       "\t  }\n",
       "        }\n",
       "      }\n",
       "    }, 25, root)\n",
       "  }\n",
       "})(window);</script>"
      ]
     },
     "metadata": {
      "application/vnd.holoviews_exec.v0+json": {
       "id": "p1002"
      }
     },
     "output_type": "display_data"
    },
    {
     "name": "stderr",
     "output_type": "stream",
     "text": [
      "09-Feb-24 18:15:56: UserWarning: Traceback (most recent call last):\n",
      "  File \"/Users/zijin/micromamba/envs/psp_conjunction/lib/python3.11/site-packages/pdpipe/__init__.py\", line 85, in <module>\n",
      "    from . import skintegrate\n",
      "  File \"/Users/zijin/micromamba/envs/psp_conjunction/lib/python3.11/site-packages/pdpipe/skintegrate.py\", line 20, in <module>\n",
      "    from sklearn.base import BaseEstimator\n",
      "ModuleNotFoundError: No module named 'sklearn'\n",
      "\n",
      "\n",
      "09-Feb-24 18:15:56: UserWarning: pdpipe: Scikit-learn or skutil import failed. Scikit-learn-dependent pipeline stages will not be loaded.\n",
      "\n",
      "09-Feb-24 18:15:56: UserWarning: Traceback (most recent call last):\n",
      "  File \"/Users/zijin/micromamba/envs/psp_conjunction/lib/python3.11/site-packages/pdpipe/__init__.py\", line 105, in <module>\n",
      "    from . import nltk_stages\n",
      "  File \"/Users/zijin/micromamba/envs/psp_conjunction/lib/python3.11/site-packages/pdpipe/nltk_stages.py\", line 19, in <module>\n",
      "    import nltk\n",
      "ModuleNotFoundError: No module named 'nltk'\n",
      "\n",
      "\n",
      "09-Feb-24 18:15:56: UserWarning: pdpipe: nltk import failed. nltk-dependent  pipeline stages will not be loaded.\n",
      "\n"
     ]
    }
   ],
   "source": [
    "from discontinuitypy.datasets import IDsDataset\n",
    "import polars as pl\n",
    "from fastcore.utils import walk"
   ]
  },
  {
   "cell_type": "code",
   "execution_count": 2,
   "metadata": {},
   "outputs": [],
   "source": [
    "ts = 1 # unit: seconds\n",
    "tau = 60 # unit: seconds\n",
    "\n",
    "data_dir = '../../../data/'\n",
    "dir_path = f'{data_dir}/03_primary/JNO_MAG_ts_{ts}s'\n",
    "juno_state_path = f'{data_dir}/03_primary/JNO_STATE_ts_3600s.parquet'\n",
    "vec_cols = ['v_x', 'v_y', 'v_z']\n",
    "\n",
    "format = 'arrow'\n",
    "fname = f'events.JNO.ts_{ts}s_tau_{tau}s.{format}'\n",
    "output_path = f'{data_dir}/05_reporting/{fname}'"
   ]
  },
  {
   "cell_type": "code",
   "execution_count": 3,
   "metadata": {},
   "outputs": [
    {
     "data": {
      "text/plain": [
       "['radial_distance',\n",
       " 'plasma_density',\n",
       " 'plasma_temperature',\n",
       " 'time',\n",
       " 'model_b_r',\n",
       " 'model_b_t',\n",
       " 'model_b_n',\n",
       " 'v_x',\n",
       " 'v_y',\n",
       " 'v_z',\n",
       " 'plasma_speed',\n",
       " 'B_background_x',\n",
       " 'B_background_y',\n",
       " 'B_background_z']"
      ]
     },
     "execution_count": 3,
     "metadata": {},
     "output_type": "execute_result"
    }
   ],
   "source": [
    "plasma_data = pl.scan_parquet(juno_state_path).sort('time')\n",
    "\n",
    "plasma_data.columns"
   ]
  },
  {
   "cell_type": "code",
   "execution_count": 4,
   "metadata": {},
   "outputs": [
    {
     "name": "stderr",
     "output_type": "stream",
     "text": [
      "09-Feb-24 18:16:00: UserWarning: Ray execution environment not yet initialized. Initializing...\n",
      "To remove this warning, run the following python code before doing dataframe operations:\n",
      "\n",
      "    import ray\n",
      "    ray.init()\n",
      "\n",
      "\n",
      "2024-02-09 18:16:02,685\tINFO worker.py:1724 -- Started a local Ray instance.\n",
      "09-Feb-24 18:16:04: UserWarning: Distributing <class 'pandas.core.frame.DataFrame'> object. This may take some time.\n",
      "\n"
     ]
    },
    {
     "data": {
      "application/vnd.jupyter.widget-view+json": {
       "model_id": "6039dcb0dd244bfe8e6c8c7f57f41608",
       "version_major": 2,
       "version_minor": 0
      },
      "text/plain": [
       "Distributing Dataframe:   0%           Elapsed time: 00:00, estimated remaining time: ?"
      ]
     },
     "metadata": {},
     "output_type": "display_data"
    },
    {
     "name": "stderr",
     "output_type": "stream",
     "text": [
      "\u001b[36m(_deploy_ray_func pid=64713)\u001b[0m UserWarning: Traceback (most recent call last):\n",
      "\u001b[36m(_deploy_ray_func pid=64713)\u001b[0m   File \"/Users/zijin/micromamba/envs/psp_conjunction/lib/python3.11/site-packages/pdpipe/__init__.py\", line 85, in <module>\n",
      "\u001b[36m(_deploy_ray_func pid=64713)\u001b[0m     from . import skintegrate\n",
      "\u001b[36m(_deploy_ray_func pid=64713)\u001b[0m   File \"/Users/zijin/micromamba/envs/psp_conjunction/lib/python3.11/site-packages/pdpipe/skintegrate.py\", line 20, in <module>\n",
      "\u001b[36m(_deploy_ray_func pid=64713)\u001b[0m     from sklearn.base import BaseEstimator\n",
      "\u001b[36m(_deploy_ray_func pid=64713)\u001b[0m ModuleNotFoundError: No module named 'sklearn'\n",
      "\u001b[36m(_deploy_ray_func pid=64713)\u001b[0m \n",
      "\u001b[36m(_deploy_ray_func pid=64713)\u001b[0m UserWarning: pdpipe: Scikit-learn or skutil import failed. Scikit-learn-dependent pipeline stages will not be loaded.\n",
      "\u001b[36m(_deploy_ray_func pid=64713)\u001b[0m UserWarning: Traceback (most recent call last):\n",
      "\u001b[36m(_deploy_ray_func pid=64713)\u001b[0m   File \"/Users/zijin/micromamba/envs/psp_conjunction/lib/python3.11/site-packages/pdpipe/__init__.py\", line 105, in <module>\n",
      "\u001b[36m(_deploy_ray_func pid=64713)\u001b[0m     from . import nltk_stages\n",
      "\u001b[36m(_deploy_ray_func pid=64713)\u001b[0m   File \"/Users/zijin/micromamba/envs/psp_conjunction/lib/python3.11/site-packages/pdpipe/nltk_stages.py\", line 19, in <module>\n",
      "\u001b[36m(_deploy_ray_func pid=64713)\u001b[0m     import nltk\n",
      "\u001b[36m(_deploy_ray_func pid=64713)\u001b[0m ModuleNotFoundError: No module named 'nltk'\n",
      "\u001b[36m(_deploy_ray_func pid=64713)\u001b[0m \n",
      "\u001b[36m(_deploy_ray_func pid=64713)\u001b[0m UserWarning: pdpipe: nltk import failed. nltk-dependent  pipeline stages will not be loaded.\n",
      "\u001b[36m(_deploy_ray_func pid=64719)\u001b[0m UserWarning: Distributing <class 'dict'> object. This may take some time.\n",
      "Distributing Dataframe:   0%           Elapsed time: 00:00, estimated remaining time: ?\n",
      "Distributing Dataframe: 100%██████████ Elapsed time: 00:00, estimated remaining time: 00:00\n",
      "Distributing Dataframe: 100%██████████ Elapsed time: 00:00, estimated remaining time: 00:00\n",
      "\u001b[36m(_deploy_ray_func pid=64720)\u001b[0m UserWarning: Traceback (most recent call last):\u001b[32m [repeated 22x across cluster] (Ray deduplicates logs by default. Set RAY_DEDUP_LOGS=0 to disable log deduplication, or see https://docs.ray.io/en/master/ray-observability/ray-logging.html#log-deduplication for more options.)\u001b[0m\n",
      "\u001b[36m(_deploy_ray_func pid=64720)\u001b[0m   File \"/Users/zijin/micromamba/envs/psp_conjunction/lib/python3.11/site-packages/pdpipe/nltk_stages.py\", line 19, in <module>\u001b[32m [repeated 44x across cluster]\u001b[0m\n",
      "\u001b[36m(_deploy_ray_func pid=64720)\u001b[0m     from . import skintegrate\u001b[32m [repeated 11x across cluster]\u001b[0m\n",
      "\u001b[36m(_deploy_ray_func pid=64720)\u001b[0m     from sklearn.base import BaseEstimator\u001b[32m [repeated 11x across cluster]\u001b[0m\n",
      "\u001b[36m(_deploy_ray_func pid=64720)\u001b[0m ModuleNotFoundError: No module named 'sklearn'\u001b[32m [repeated 11x across cluster]\u001b[0m\n",
      "\u001b[36m(_deploy_ray_func pid=64720)\u001b[0m \u001b[32m [repeated 22x across cluster]\u001b[0m\n",
      "\u001b[36m(_deploy_ray_func pid=64720)\u001b[0m UserWarning: pdpipe: Scikit-learn or skutil import failed. Scikit-learn-dependent pipeline stages will not be loaded.\u001b[32m [repeated 11x across cluster]\u001b[0m\n",
      "\u001b[36m(_deploy_ray_func pid=64720)\u001b[0m     from . import nltk_stages\u001b[32m [repeated 11x across cluster]\u001b[0m\n",
      "\u001b[36m(_deploy_ray_func pid=64720)\u001b[0m     import nltk\u001b[32m [repeated 11x across cluster]\u001b[0m\n",
      "\u001b[36m(_deploy_ray_func pid=64720)\u001b[0m ModuleNotFoundError: No module named 'nltk'\u001b[32m [repeated 11x across cluster]\u001b[0m\n",
      "\u001b[36m(_deploy_ray_func pid=64720)\u001b[0m UserWarning: pdpipe: nltk import failed. nltk-dependent  pipeline stages will not be loaded.\u001b[32m [repeated 11x across cluster]\u001b[0m\n",
      "\u001b[36m(_deploy_ray_func pid=64713)\u001b[0m UserWarning: Distributing <class 'dict'> object. This may take some time.\u001b[32m [repeated 2650x across cluster]\u001b[0m\n",
      "Distributing Dataframe:   0%           Elapsed time: 00:00, estimated remaining time: ?\u001b[32m [repeated 225x across cluster]\u001b[0m\n",
      "Distributing Dataframe: 100%██████████ Elapsed time: 00:00, estimated remaining time: 00:00\u001b[32m [repeated 2424x across cluster]\u001b[0m\n",
      "Distributing Dataframe: 100%██████████ Elapsed time: 00:00, estimated remaining time: 00:00\u001b[32m [repeated 225x across cluster]\u001b[0m\n"
     ]
    },
    {
     "data": {
      "application/vnd.jupyter.widget-view+json": {
       "model_id": "432c2e7bbe3c4ecab08d27686180f3de",
       "version_major": 2,
       "version_minor": 0
      },
      "text/plain": [
       "Estimated completion of line 16:   0%           Elapsed time: 00:00, estimated remaining time: ?"
      ]
     },
     "metadata": {},
     "output_type": "display_data"
    },
    {
     "name": "stderr",
     "output_type": "stream",
     "text": [
      "\u001b[36m(_deploy_ray_func pid=64713)\u001b[0m RuntimeWarning: overflow encountered in exp\n",
      "\u001b[36m(_deploy_ray_func pid=64724)\u001b[0m \n",
      "\u001b[36m(_deploy_ray_func pid=64715)\u001b[0m UserWarning: Distributing <class 'dict'> object. This may take some time.\u001b[32m [repeated 2771x across cluster]\u001b[0m\n",
      "Distributing Dataframe:   0%           Elapsed time: 00:00, estimated remaining time: ?\u001b[32m [repeated 122x across cluster]\u001b[0m\n",
      "Distributing Dataframe: 100%██████████ Elapsed time: 00:00, estimated remaining time: 00:00\u001b[32m [repeated 2649x across cluster]\u001b[0m\n",
      "Distributing Dataframe: 100%██████████ Elapsed time: 00:00, estimated remaining time: 00:00\u001b[32m [repeated 122x across cluster]\u001b[0m\n",
      "09-Feb-24 18:16:25: UserWarning: Distributing <class 'pandas.core.frame.DataFrame'> object. This may take some time.\n",
      "\n"
     ]
    },
    {
     "data": {
      "application/vnd.jupyter.widget-view+json": {
       "model_id": "4d136fea05214737820596eb5a896ecf",
       "version_major": 2,
       "version_minor": 0
      },
      "text/plain": [
       "Distributing Dataframe:   0%           Elapsed time: 00:00, estimated remaining time: ?"
      ]
     },
     "metadata": {},
     "output_type": "display_data"
    },
    {
     "name": "stderr",
     "output_type": "stream",
     "text": [
      "\u001b[36m(_deploy_ray_func pid=64719)\u001b[0m RuntimeWarning: overflow encountered in exp\u001b[32m [repeated 14x across cluster]\u001b[0m\n",
      "\u001b[36m(_deploy_ray_func pid=64722)\u001b[0m UserWarning: Distributing <class 'dict'> object. This may take some time.\n",
      "Distributing Dataframe: 100%██████████ Elapsed time: 00:00, estimated remaining time: 00:00\n",
      "\u001b[36m(_deploy_ray_func pid=64718)\u001b[0m UserWarning: Distributing <class 'dict'> object. This may take some time.\n",
      "Distributing Dataframe: 100%██████████ Elapsed time: 00:00, estimated remaining time: 00:00\n",
      "Distributing Dataframe:   0%           Elapsed time: 00:00, estimated remaining time: ?\n",
      "Distributing Dataframe: 100%██████████ Elapsed time: 00:00, estimated remaining time: 00:00\n",
      "\u001b[36m(_deploy_ray_func pid=64713)\u001b[0m \n",
      "\u001b[36m(_deploy_ray_func pid=64713)\u001b[0m UserWarning: Distributing <class 'dict'> object. This may take some time.\u001b[32m [repeated 2629x across cluster]\u001b[0m\n",
      "Distributing Dataframe: 100%██████████ Elapsed time: 00:00, estimated remaining time: 00:00\u001b[32m [repeated 2432x across cluster]\u001b[0m\n",
      "Distributing Dataframe:   0%           Elapsed time: 00:00, estimated remaining time: ?\u001b[32m [repeated 246x across cluster]\u001b[0m\n",
      "Distributing Dataframe: 100%██████████ Elapsed time: 00:00, estimated remaining time: 00:00\u001b[32m [repeated 246x across cluster]\u001b[0m\n",
      "Distributing Dataframe: 100%██████████ Elapsed time: 00:00, estimated remaining time: 00:00\n",
      "\u001b[36m(_deploy_ray_func pid=64717)\u001b[0m \n",
      "\u001b[36m(_deploy_ray_func pid=64713)\u001b[0m UserWarning: Distributing <class 'dict'> object. This may take some time.\u001b[32m [repeated 3760x across cluster]\u001b[0m\n",
      "Distributing Dataframe: 100%██████████ Elapsed time: 00:00, estimated remaining time: 00:00\u001b[32m [repeated 3538x across cluster]\u001b[0m\n",
      "\u001b[36m(_deploy_ray_func pid=64721)\u001b[0m \n",
      "Distributing Dataframe:   0%           Elapsed time: 00:00, estimated remaining time: ?\u001b[32m [repeated 220x across cluster]\u001b[0m\n",
      "Distributing Dataframe: 100%██████████ Elapsed time: 00:00, estimated remaining time: 00:00\u001b[32m [repeated 218x across cluster]\u001b[0m\n",
      "Distributing Dataframe: 100%██████████ Elapsed time: 00:00, estimated remaining time: 00:00\n",
      "\u001b[36m(_deploy_ray_func pid=64718)\u001b[0m UserWarning: Distributing <class 'dict'> object. This may take some time.\u001b[32m [repeated 4083x across cluster]\u001b[0m\n",
      "Distributing Dataframe: 100%██████████ Elapsed time: 00:00, estimated remaining time: 00:00\u001b[32m [repeated 3872x across cluster]\u001b[0m\n",
      "\u001b[36m(_deploy_ray_func pid=64717)\u001b[0m \u001b[32m [repeated 2x across cluster]\u001b[0m\n",
      "Distributing Dataframe:   0%           Elapsed time: 00:00, estimated remaining time: ?\u001b[32m [repeated 202x across cluster]\u001b[0m\n",
      "Distributing Dataframe: 100%██████████ Elapsed time: 00:00, estimated remaining time: 00:00\u001b[32m [repeated 202x across cluster]\u001b[0m\n",
      "\u001b[36m(_deploy_ray_func pid=64724)\u001b[0m RuntimeWarning: overflow encountered in exp\n",
      "\u001b[36m(_deploy_ray_func pid=64724)\u001b[0m RuntimeWarning: overflow encountered in exp\n",
      "\u001b[36m(_deploy_ray_func pid=64720)\u001b[0m UserWarning: Distributing <class 'dict'> object. This may take some time.\u001b[32m [repeated 2190x across cluster]\u001b[0m\n",
      "Distributing Dataframe: 100%██████████ Elapsed time: 00:00, estimated remaining time: 00:00\u001b[32m [repeated 2074x across cluster]\u001b[0m\n",
      "\u001b[36m(_deploy_ray_func pid=64715)\u001b[0m \u001b[32m [repeated 3x across cluster]\u001b[0m\n",
      "Distributing Dataframe:   0%           Elapsed time: 00:00, estimated remaining time: ?\u001b[32m [repeated 77x across cluster]\u001b[0m\n",
      "Distributing Dataframe: 100%██████████ Elapsed time: 00:00, estimated remaining time: 00:00\u001b[32m [repeated 77x across cluster]\u001b[0m\n",
      "\u001b[36m(_deploy_ray_func pid=64715)\u001b[0m RuntimeWarning: overflow encountered in exp\u001b[32m [repeated 7x across cluster]\u001b[0m\n",
      "\u001b[36m(_deploy_ray_func pid=64714)\u001b[0m RuntimeWarning: overflow encountered in exp\u001b[32m [repeated 14x across cluster]\u001b[0m\n",
      "09-Feb-24 18:17:04: UserWarning: Distributing <class 'pandas.core.frame.DataFrame'> object. This may take some time.\n",
      "\n"
     ]
    },
    {
     "data": {
      "application/vnd.jupyter.widget-view+json": {
       "model_id": "6f4378d5a6594d6e94b251da570e5fb7",
       "version_major": 2,
       "version_minor": 0
      },
      "text/plain": [
       "Distributing Dataframe:   0%           Elapsed time: 00:00, estimated remaining time: ?"
      ]
     },
     "metadata": {},
     "output_type": "display_data"
    },
    {
     "name": "stderr",
     "output_type": "stream",
     "text": [
      "\u001b[36m(_deploy_ray_func pid=64713)\u001b[0m UserWarning: Distributing <class 'dict'> object. This may take some time.\n",
      "Distributing Dataframe: 100%██████████ Elapsed time: 00:00, estimated remaining time: 00:00\n",
      "\u001b[36m(_deploy_ray_func pid=64721)\u001b[0m RuntimeWarning: overflow encountered in exp\u001b[32m [repeated 4x across cluster]\u001b[0m\n",
      "Distributing Dataframe:   0%           Elapsed time: 00:00, estimated remaining time: ?\n",
      "Distributing Dataframe: 100%██████████ Elapsed time: 00:00, estimated remaining time: 00:00\n",
      "\u001b[36m(_deploy_ray_func pid=64717)\u001b[0m \n",
      "\u001b[36m(_deploy_ray_func pid=64722)\u001b[0m UserWarning: Distributing <class 'dict'> object. This may take some time.\u001b[32m [repeated 2484x across cluster]\u001b[0m\n",
      "Distributing Dataframe: 100%██████████ Elapsed time: 00:00, estimated remaining time: 00:00\u001b[32m [repeated 2356x across cluster]\u001b[0m\n",
      "\u001b[36m(_deploy_ray_func pid=64848)\u001b[0m RuntimeWarning: overflow encountered in exp\u001b[32m [repeated 2x across cluster]\u001b[0m\n",
      "Distributing Dataframe:   0%           Elapsed time: 00:00, estimated remaining time: ?\u001b[32m [repeated 127x across cluster]\u001b[0m\n",
      "Distributing Dataframe: 100%██████████ Elapsed time: 00:00, estimated remaining time: 00:00\u001b[32m [repeated 127x across cluster]\u001b[0m\n",
      "\u001b[36m(_deploy_ray_func pid=64715)\u001b[0m \n",
      "09-Feb-24 18:17:17: UserWarning: Distributing <class 'pandas.core.frame.DataFrame'> object. This may take some time.\n",
      "\n"
     ]
    },
    {
     "data": {
      "application/vnd.jupyter.widget-view+json": {
       "model_id": "da46c35728b14112974d73f12f8d884b",
       "version_major": 2,
       "version_minor": 0
      },
      "text/plain": [
       "Distributing Dataframe:   0%           Elapsed time: 00:00, estimated remaining time: ?"
      ]
     },
     "metadata": {},
     "output_type": "display_data"
    },
    {
     "name": "stderr",
     "output_type": "stream",
     "text": [
      "\u001b[36m(_deploy_ray_func pid=64722)\u001b[0m UserWarning: Distributing <class 'dict'> object. This may take some time.\n",
      "\u001b[36m(_deploy_ray_func pid=64845)\u001b[0m RuntimeWarning: overflow encountered in exp\u001b[32m [repeated 5x across cluster]\u001b[0m\n",
      "\u001b[36m(_deploy_ray_func pid=64714)\u001b[0m UserWarning: Distributing <class 'dict'> object. This may take some time.\n",
      "Distributing Dataframe: 100%██████████ Elapsed time: 00:00, estimated remaining time: 00:00\n",
      "Distributing Dataframe:   0%           Elapsed time: 00:00, estimated remaining time: ?\n",
      "Distributing Dataframe: 100%██████████ Elapsed time: 00:00, estimated remaining time: 00:00\n",
      "\u001b[36m(_deploy_ray_func pid=64715)\u001b[0m \n",
      "\u001b[36m(_deploy_ray_func pid=64713)\u001b[0m UserWarning: Distributing <class 'dict'> object. This may take some time.\u001b[32m [repeated 2480x across cluster]\u001b[0m\n",
      "Distributing Dataframe: 100%██████████ Elapsed time: 00:00, estimated remaining time: 00:00\u001b[32m [repeated 2286x across cluster]\u001b[0m\n",
      "Distributing Dataframe:   0%           Elapsed time: 00:00, estimated remaining time: ?\u001b[32m [repeated 194x across cluster]\u001b[0m\n",
      "Distributing Dataframe: 100%██████████ Elapsed time: 00:00, estimated remaining time: 00:00\u001b[32m [repeated 194x across cluster]\u001b[0m\n",
      "\u001b[36m(_deploy_ray_func pid=64716)\u001b[0m \u001b[32m [repeated 3x across cluster]\u001b[0m\n",
      "\u001b[36m(_deploy_ray_func pid=64715)\u001b[0m UserWarning: Distributing <class 'dict'> object. This may take some time.\u001b[32m [repeated 3907x across cluster]\u001b[0m\n",
      "Distributing Dataframe: 100%██████████ Elapsed time: 00:00, estimated remaining time: 00:00\u001b[32m [repeated 3573x across cluster]\u001b[0m\n",
      "Distributing Dataframe:   0%           Elapsed time: 00:00, estimated remaining time: ?\u001b[32m [repeated 334x across cluster]\u001b[0m\n",
      "Distributing Dataframe: 100%██████████ Elapsed time: 00:00, estimated remaining time: 00:00\u001b[32m [repeated 333x across cluster]\u001b[0m\n",
      "Distributing Dataframe: 100%██████████ Elapsed time: 00:00, estimated remaining time: 00:00\n",
      "\u001b[36m(_deploy_ray_func pid=64724)\u001b[0m \u001b[32m [repeated 2x across cluster]\u001b[0m\n",
      "\u001b[36m(_deploy_ray_func pid=64721)\u001b[0m UserWarning: Distributing <class 'dict'> object. This may take some time.\u001b[32m [repeated 4015x across cluster]\u001b[0m\n",
      "Distributing Dataframe: 100%██████████ Elapsed time: 00:00, estimated remaining time: 00:00\u001b[32m [repeated 3721x across cluster]\u001b[0m\n",
      "Distributing Dataframe:   0%           Elapsed time: 00:00, estimated remaining time: ?\u001b[32m [repeated 294x across cluster]\u001b[0m\n",
      "Distributing Dataframe: 100%██████████ Elapsed time: 00:00, estimated remaining time: 00:00\u001b[32m [repeated 293x across cluster]\u001b[0m\n",
      "\u001b[36m(_deploy_ray_func pid=64714)\u001b[0m \u001b[32m [repeated 10x across cluster]\u001b[0m\n",
      "\u001b[36m(_deploy_ray_func pid=64724)\u001b[0m UserWarning: Distributing <class 'dict'> object. This may take some time.\u001b[32m [repeated 4121x across cluster]\u001b[0m\n",
      "Distributing Dataframe: 100%██████████ Elapsed time: 00:00, estimated remaining time: 00:00\u001b[32m [repeated 3773x across cluster]\u001b[0m\n",
      "Distributing Dataframe:   0%           Elapsed time: 00:00, estimated remaining time: ?\u001b[32m [repeated 348x across cluster]\u001b[0m\n",
      "Distributing Dataframe: 100%██████████ Elapsed time: 00:00, estimated remaining time: 00:00\u001b[32m [repeated 349x across cluster]\u001b[0m\n",
      "\u001b[36m(_deploy_ray_func pid=64713)\u001b[0m \u001b[32m [repeated 2x across cluster]\u001b[0m\n",
      "\u001b[36m(_deploy_ray_func pid=64721)\u001b[0m RuntimeWarning: overflow encountered in exp\n",
      "\u001b[36m(_deploy_ray_func pid=64715)\u001b[0m UserWarning: Distributing <class 'dict'> object. This may take some time.\u001b[32m [repeated 3111x across cluster]\u001b[0m\n",
      "Distributing Dataframe: 100%██████████ Elapsed time: 00:00, estimated remaining time: 00:00\u001b[32m [repeated 2803x across cluster]\u001b[0m\n",
      "Distributing Dataframe:   0%           Elapsed time: 00:00, estimated remaining time: ?\u001b[32m [repeated 308x across cluster]\u001b[0m\n",
      "Distributing Dataframe: 100%██████████ Elapsed time: 00:00, estimated remaining time: 00:00\u001b[32m [repeated 308x across cluster]\u001b[0m\n",
      "\u001b[36m(_deploy_ray_func pid=64721)\u001b[0m RuntimeWarning: overflow encountered in exp\n",
      "\u001b[36m(_deploy_ray_func pid=64723)\u001b[0m RuntimeWarning: overflow encountered in exp\u001b[32m [repeated 5x across cluster]\u001b[0m\n",
      "\u001b[36m(_deploy_ray_func pid=64878)\u001b[0m RuntimeWarning: overflow encountered in exp\u001b[32m [repeated 23x across cluster]\u001b[0m\n",
      "\u001b[36m(_deploy_ray_func pid=64957)\u001b[0m RuntimeWarning: overflow encountered in exp\u001b[32m [repeated 16x across cluster]\u001b[0m\n",
      "09-Feb-24 18:18:09: UserWarning: Distributing <class 'pandas.core.frame.DataFrame'> object. This may take some time.\n",
      "\n"
     ]
    },
    {
     "data": {
      "application/vnd.jupyter.widget-view+json": {
       "model_id": "b0871db5b22044ccb05499786146b96b",
       "version_major": 2,
       "version_minor": 0
      },
      "text/plain": [
       "Distributing Dataframe:   0%           Elapsed time: 00:00, estimated remaining time: ?"
      ]
     },
     "metadata": {},
     "output_type": "display_data"
    },
    {
     "name": "stderr",
     "output_type": "stream",
     "text": [
      "\u001b[36m(_deploy_ray_func pid=64721)\u001b[0m UserWarning: Distributing <class 'dict'> object. This may take some time.\n",
      "\u001b[36m(_deploy_ray_func pid=64957)\u001b[0m RuntimeWarning: overflow encountered in exp\u001b[32m [repeated 2x across cluster]\u001b[0m\n",
      "Distributing Dataframe:   0%           Elapsed time: 00:00, estimated remaining time: ?\n",
      "Distributing Dataframe: 100%██████████ Elapsed time: 00:00, estimated remaining time: 00:00\n",
      "Distributing Dataframe: 100%██████████ Elapsed time: 00:00, estimated remaining time: 00:00\n",
      "\u001b[36m(_deploy_ray_func pid=64718)\u001b[0m \n",
      "\u001b[36m(_deploy_ray_func pid=64720)\u001b[0m UserWarning: Distributing <class 'dict'> object. This may take some time.\u001b[32m [repeated 3070x across cluster]\u001b[0m\n",
      "Distributing Dataframe:   0%           Elapsed time: 00:00, estimated remaining time: ?\u001b[32m [repeated 222x across cluster]\u001b[0m\n",
      "Distributing Dataframe: 100%██████████ Elapsed time: 00:00, estimated remaining time: 00:00\u001b[32m [repeated 2856x across cluster]\u001b[0m\n",
      "Distributing Dataframe: 100%██████████ Elapsed time: 00:00, estimated remaining time: 00:00\u001b[32m [repeated 222x across cluster]\u001b[0m\n",
      "Distributing Dataframe: 100%██████████ Elapsed time: 00:00, estimated remaining time: 00:00\n",
      "\u001b[36m(_deploy_ray_func pid=64724)\u001b[0m \u001b[32m [repeated 2x across cluster]\u001b[0m\n",
      "\u001b[36m(_deploy_ray_func pid=64721)\u001b[0m UserWarning: Distributing <class 'dict'> object. This may take some time.\u001b[32m [repeated 3861x across cluster]\u001b[0m\n",
      "Distributing Dataframe:   0%           Elapsed time: 00:00, estimated remaining time: ?\u001b[32m [repeated 370x across cluster]\u001b[0m\n",
      "Distributing Dataframe: 100%██████████ Elapsed time: 00:00, estimated remaining time: 00:00\u001b[32m [repeated 3490x across cluster]\u001b[0m\n",
      "Distributing Dataframe: 100%██████████ Elapsed time: 00:00, estimated remaining time: 00:00\u001b[32m [repeated 372x across cluster]\u001b[0m\n",
      "Distributing Dataframe: 100%██████████ Elapsed time: 00:00, estimated remaining time: 00:00\n",
      "Distributing Dataframe: 100%██████████ Elapsed time: 00:00, estimated remaining time: 00:00\n",
      "\u001b[36m(_deploy_ray_func pid=64717)\u001b[0m \u001b[32m [repeated 6x across cluster]\u001b[0m\n",
      "\u001b[36m(_deploy_ray_func pid=64719)\u001b[0m UserWarning: Distributing <class 'dict'> object. This may take some time.\u001b[32m [repeated 4059x across cluster]\u001b[0m\n",
      "Distributing Dataframe:   0%           Elapsed time: 00:00, estimated remaining time: ?\u001b[32m [repeated 264x across cluster]\u001b[0m\n",
      "Distributing Dataframe: 100%██████████ Elapsed time: 00:00, estimated remaining time: 00:00\u001b[32m [repeated 3798x across cluster]\u001b[0m\n",
      "Distributing Dataframe: 100%██████████ Elapsed time: 00:00, estimated remaining time: 00:00\u001b[32m [repeated 262x across cluster]\u001b[0m\n",
      "\u001b[36m(_deploy_ray_func pid=64715)\u001b[0m \u001b[32m [repeated 2x across cluster]\u001b[0m\n",
      "Distributing Dataframe: 100%██████████ Elapsed time: 00:00, estimated remaining time: 00:00\n",
      "\u001b[36m(_deploy_ray_func pid=64717)\u001b[0m RuntimeWarning: overflow encountered in exp\n",
      "\u001b[36m(_deploy_ray_func pid=64715)\u001b[0m UserWarning: Distributing <class 'dict'> object. This may take some time.\u001b[32m [repeated 3568x across cluster]\u001b[0m\n",
      "Distributing Dataframe:   0%           Elapsed time: 00:00, estimated remaining time: ?\u001b[32m [repeated 313x across cluster]\u001b[0m\n",
      "Distributing Dataframe: 100%██████████ Elapsed time: 00:00, estimated remaining time: 00:00\u001b[32m [repeated 3244x across cluster]\u001b[0m\n",
      "Distributing Dataframe: 100%██████████ Elapsed time: 00:00, estimated remaining time: 00:00\u001b[32m [repeated 309x across cluster]\u001b[0m\n",
      "\u001b[36m(_deploy_ray_func pid=64717)\u001b[0m RuntimeWarning: overflow encountered in exp\n",
      "\u001b[36m(_deploy_ray_func pid=64713)\u001b[0m \n",
      "\u001b[36m(_deploy_ray_func pid=64717)\u001b[0m RuntimeWarning: overflow encountered in exp\u001b[32m [repeated 19x across cluster]\u001b[0m\n",
      "\u001b[36m(_deploy_ray_func pid=64714)\u001b[0m RuntimeWarning: overflow encountered in exp\u001b[32m [repeated 16x across cluster]\u001b[0m\n",
      "09-Feb-24 18:18:51: UserWarning: Distributing <class 'pandas.core.frame.DataFrame'> object. This may take some time.\n",
      "\n"
     ]
    },
    {
     "data": {
      "application/vnd.jupyter.widget-view+json": {
       "model_id": "9b09a7db609a433a9608cfba10ec609b",
       "version_major": 2,
       "version_minor": 0
      },
      "text/plain": [
       "Distributing Dataframe:   0%           Elapsed time: 00:00, estimated remaining time: ?"
      ]
     },
     "metadata": {},
     "output_type": "display_data"
    },
    {
     "name": "stderr",
     "output_type": "stream",
     "text": [
      "\u001b[36m(_deploy_ray_func pid=64713)\u001b[0m UserWarning: Distributing <class 'dict'> object. This may take some time.\n",
      "Distributing Dataframe: 100%██████████ Elapsed time: 00:00, estimated remaining time: 00:00\n",
      "\u001b[36m(_deploy_ray_func pid=65066)\u001b[0m RuntimeWarning: overflow encountered in exp\u001b[32m [repeated 18x across cluster]\u001b[0m\n",
      "Distributing Dataframe:   0%           Elapsed time: 00:00, estimated remaining time: ?\n",
      "Distributing Dataframe: 100%██████████ Elapsed time: 00:00, estimated remaining time: 00:00\n",
      "\u001b[36m(_deploy_ray_func pid=64716)\u001b[0m \n",
      "Distributing Dataframe:   0%           Elapsed time: 00:00, estimated remaining time: ?\n",
      "\u001b[36m(_deploy_ray_func pid=65072)\u001b[0m UserWarning: Traceback (most recent call last):\n",
      "\u001b[36m(_deploy_ray_func pid=65072)\u001b[0m   File \"/Users/zijin/micromamba/envs/psp_conjunction/lib/python3.11/site-packages/pdpipe/__init__.py\", line 85, in <module>\n",
      "\u001b[36m(_deploy_ray_func pid=65072)\u001b[0m     from . import skintegrate\n",
      "\u001b[36m(_deploy_ray_func pid=65072)\u001b[0m   File \"/Users/zijin/micromamba/envs/psp_conjunction/lib/python3.11/site-packages/pdpipe/skintegrate.py\", line 20, in <module>\n",
      "\u001b[36m(_deploy_ray_func pid=65072)\u001b[0m     from sklearn.base import BaseEstimator\n",
      "\u001b[36m(_deploy_ray_func pid=65072)\u001b[0m ModuleNotFoundError: No module named 'sklearn'\n",
      "\u001b[36m(_deploy_ray_func pid=65072)\u001b[0m UserWarning: pdpipe: Scikit-learn or skutil import failed. Scikit-learn-dependent pipeline stages will not be loaded.\n",
      "\u001b[36m(_deploy_ray_func pid=65072)\u001b[0m UserWarning: Traceback (most recent call last):\n",
      "\u001b[36m(_deploy_ray_func pid=65072)\u001b[0m   File \"/Users/zijin/micromamba/envs/psp_conjunction/lib/python3.11/site-packages/pdpipe/__init__.py\", line 105, in <module>\n",
      "\u001b[36m(_deploy_ray_func pid=65072)\u001b[0m     from . import nltk_stages\n",
      "\u001b[36m(_deploy_ray_func pid=65072)\u001b[0m   File \"/Users/zijin/micromamba/envs/psp_conjunction/lib/python3.11/site-packages/pdpipe/nltk_stages.py\", line 19, in <module>\n",
      "\u001b[36m(_deploy_ray_func pid=65072)\u001b[0m     import nltk\n",
      "\u001b[36m(_deploy_ray_func pid=65072)\u001b[0m ModuleNotFoundError: No module named 'nltk'\n",
      "\u001b[36m(_deploy_ray_func pid=65072)\u001b[0m UserWarning: pdpipe: nltk import failed. nltk-dependent  pipeline stages will not be loaded.\n",
      "Distributing Dataframe: 100%██████████ Elapsed time: 00:00, estimated remaining time: 00:00\n",
      "Distributing Dataframe:   0%           Elapsed time: 00:00, estimated remaining time: ?\n",
      "Distributing Dataframe: 100%██████████ Elapsed time: 00:00, estimated remaining time: 00:00\n",
      "\u001b[36m(_deploy_ray_func pid=64713)\u001b[0m UserWarning: Distributing <class 'dict'> object. This may take some time.\u001b[32m [repeated 3065x across cluster]\u001b[0m\n",
      "Distributing Dataframe: 100%██████████ Elapsed time: 00:00, estimated remaining time: 00:00\u001b[32m [repeated 2899x across cluster]\u001b[0m\n",
      "Distributing Dataframe:   0%           Elapsed time: 00:00, estimated remaining time: ?\u001b[32m [repeated 163x across cluster]\u001b[0m\n",
      "Distributing Dataframe: 100%██████████ Elapsed time: 00:00, estimated remaining time: 00:00\u001b[32m [repeated 163x across cluster]\u001b[0m\n",
      "\u001b[36m(_deploy_ray_func pid=64722)\u001b[0m \u001b[32m [repeated 5x across cluster]\u001b[0m\n",
      "\u001b[36m(_deploy_ray_func pid=64723)\u001b[0m UserWarning: Distributing <class 'dict'> object. This may take some time.\u001b[32m [repeated 4233x across cluster]\u001b[0m\n",
      "Distributing Dataframe: 100%██████████ Elapsed time: 00:00, estimated remaining time: 00:00\u001b[32m [repeated 4034x across cluster]\u001b[0m\n",
      "Distributing Dataframe:   0%           Elapsed time: 00:00, estimated remaining time: ?\u001b[32m [repeated 201x across cluster]\u001b[0m\n",
      "Distributing Dataframe: 100%██████████ Elapsed time: 00:00, estimated remaining time: 00:00\u001b[32m [repeated 201x across cluster]\u001b[0m\n",
      "\u001b[36m(_deploy_ray_func pid=64722)\u001b[0m \u001b[32m [repeated 2x across cluster]\u001b[0m\n",
      "\u001b[36m(_deploy_ray_func pid=64722)\u001b[0m RuntimeWarning: overflow encountered in exp\n",
      "\u001b[36m(_deploy_ray_func pid=65072)\u001b[0m UserWarning: Distributing <class 'dict'> object. This may take some time.\u001b[32m [repeated 3106x across cluster]\u001b[0m\n",
      "Distributing Dataframe: 100%██████████ Elapsed time: 00:00, estimated remaining time: 00:00\u001b[32m [repeated 2899x across cluster]\u001b[0m\n",
      "Distributing Dataframe:   0%           Elapsed time: 00:00, estimated remaining time: ?\u001b[32m [repeated 205x across cluster]\u001b[0m\n",
      "Distributing Dataframe: 100%██████████ Elapsed time: 00:00, estimated remaining time: 00:00\u001b[32m [repeated 205x across cluster]\u001b[0m\n",
      "\u001b[36m(_deploy_ray_func pid=64718)\u001b[0m \u001b[32m [repeated 2x across cluster]\u001b[0m\n",
      "\u001b[36m(_deploy_ray_func pid=65072)\u001b[0m RuntimeWarning: overflow encountered in exp\u001b[32m [repeated 18x across cluster]\u001b[0m\n",
      "\u001b[36m(_deploy_ray_func pid=65072)\u001b[0m RuntimeWarning: overflow encountered in exp\u001b[32m [repeated 12x across cluster]\u001b[0m\n"
     ]
    }
   ],
   "source": [
    "juno_events = []\n",
    "for mag_path in walk(dir_path):\n",
    "    juno_mag_data = pl.scan_parquet(mag_path).drop('X', 'Y', 'Z').sort('time')\n",
    "\n",
    "    _juno_events = (\n",
    "        IDsDataset(\n",
    "            mag_data=juno_mag_data,\n",
    "            plasma_data=plasma_data,\n",
    "            tau=tau,\n",
    "            ts=ts,\n",
    "            vec_cols=vec_cols,\n",
    "            density_col=\"plasma_density\",\n",
    "            speed_col=\"plasma_speed\",\n",
    "            temperature_col=\"plasma_temperature\",\n",
    "        )\n",
    "        .find_events(return_best_fit=False)\n",
    "        .update_candidates_with_plasma_data()\n",
    "        .events\n",
    "    )\n",
    "    \n",
    "    juno_events.append(_juno_events)\n",
    "    \n",
    "juno_ids_dataset = IDsDataset(\n",
    "    events=pl.concat(juno_events),\n",
    "    mag_data= pl.scan_parquet(list(walk(dir_path))).drop('X', 'Y', 'Z').sort('time')\n",
    ").export(output_path)"
   ]
  },
  {
   "cell_type": "markdown",
   "metadata": {},
   "source": [
    "## Processing the whole data"
   ]
  },
  {
   "cell_type": "markdown",
   "metadata": {},
   "source": [
    "## Obsolete"
   ]
  },
  {
   "cell_type": "markdown",
   "metadata": {},
   "source": [
    "### Estimate"
   ]
  },
  {
   "cell_type": "markdown",
   "metadata": {},
   "source": [
    "1 day of data resampled by 1 sec is about 12 MB.\n",
    "\n",
    "So 1 year of data is about 4 GB, and 6 years of JUNO Cruise data is about 24 GB.\n",
    "\n",
    "Downloading rate is about 250 KB/s, so it will take about 3 days to download all the data."
   ]
  },
  {
   "cell_type": "code",
   "execution_count": 5,
   "metadata": {},
   "outputs": [
    {
     "name": "stdout",
     "output_type": "stream",
     "text": [
      "Time to download: 126.53 hours\n",
      "Disk space required: 113.88 GB\n",
      "Time to process: 36.50 hours\n"
     ]
    }
   ],
   "source": [
    "num_of_files = 6*365\n",
    "jno_file_size = 12e3\n",
    "thm_file_size = 40e3\n",
    "files_size = jno_file_size + thm_file_size\n",
    "downloading_rate = 250\n",
    "processing_rate = 1/60\n",
    "\n",
    "time_to_download = num_of_files * files_size / downloading_rate / 60 / 60\n",
    "space_required = num_of_files * files_size / 1e6\n",
    "time_to_process = num_of_files / processing_rate / 60 / 60\n",
    "\n",
    "print(f\"Time to download: {time_to_download:.2f} hours\")\n",
    "print(f\"Disk space required: {space_required:.2f} GB\")\n",
    "print(f\"Time to process: {time_to_process:.2f} hours\")"
   ]
  }
 ],
 "metadata": {
  "kernelspec": {
   "display_name": "python3",
   "language": "python",
   "name": "python3"
  },
  "language_info": {
   "codemirror_mode": {
    "name": "ipython",
    "version": 3
   },
   "file_extension": ".py",
   "mimetype": "text/x-python",
   "name": "python",
   "nbconvert_exporter": "python",
   "pygments_lexer": "ipython3",
   "version": "3.11.7"
  }
 },
 "nbformat": 4,
 "nbformat_minor": 2
}
