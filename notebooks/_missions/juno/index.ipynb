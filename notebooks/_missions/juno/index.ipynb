{
 "cells": [
  {
   "cell_type": "markdown",
   "metadata": {},
   "source": [
    "---\n",
    "title: IDs from Juno\n",
    "order: 10\n",
    "---\n",
    "\n",
    "See following notebooks for details:\n",
    "\n",
    "- [Magnetic field data](./mag.ipynb)\n",
    "- [State data](./state.ipynb)"
   ]
  },
  {
   "cell_type": "markdown",
   "metadata": {},
   "source": [
    "## Background"
   ]
  },
  {
   "cell_type": "markdown",
   "metadata": {},
   "source": [
    "Spacecraft-Solar equatorial\n",
    "\n",
    "https://pds-ppi.igpp.ucla.edu/data/JNO-SS-3-FGM-CAL-V1.0/INDEX/INDEX.TAB"
   ]
  },
  {
   "cell_type": "markdown",
   "metadata": {},
   "source": [
    "\n",
    "```txt\n",
    "------------------------------------------------------------------------------\n",
    "Juno Mission Phases                                                           \n",
    "------------------------------------------------------------------------------\n",
    "Start       Mission                                                           \n",
    "Date        Phase                                                             \n",
    "==============================================================================\n",
    "2011-08-05  Launch                                                            \n",
    "2011-08-08  Inner Cruise 1                                                    \n",
    "2011-10-10  Inner Cruise 2                                                    \n",
    "2013-05-28  Inner Cruise 3                                                    \n",
    "2013-11-05  Quiet Cruise                                                      \n",
    "2016-01-05  Jupiter Approach                                                  \n",
    "2016-06-30  Jupiter Orbital Insertion                                         \n",
    "2016-07-05  Capture Orbit                                                     \n",
    "2016-10-19  Period Reduction Maneuver                                         \n",
    "2016-10-20  Orbits 1-2                                                        \n",
    "2016-11-09  Science Orbits                                                    \n",
    "2017-10-11  Deorbit\n",
    "```"
   ]
  },
  {
   "cell_type": "markdown",
   "metadata": {},
   "source": [
    "### Coordinate System of Data"
   ]
  },
  {
   "cell_type": "markdown",
   "metadata": {},
   "source": [
    "1. **SE (Solar Equatorial)**\n",
    "    - Code: `se`\n",
    "    - Resampling options: \n",
    "        - Number of seconds (1 or 60): `se_rN[N]s`\n",
    "        - Resampled 1 hour: `se_r1h`\n",
    "\n",
    "2. **PC (Planetocentric)**\n",
    "    - Code: `pc`\n",
    "    - Resampling options: \n",
    "        - Number of seconds (1 or 60): `pc_rN[N]s`\n",
    "        \n",
    "3. **SS (Sun-State)**\n",
    "    - Code: `ss`\n",
    "    - Resampling options: \n",
    "        - Number of seconds (1 or 60): `ss_rN[N]s`\n",
    "        \n",
    "4. **PL (Payload)**\n",
    "    - Code: `pl`\n",
    "    - Resampling options: \n",
    "        - Number of seconds (1 or 60): `pl_rN[N]s`"
   ]
  },
  {
   "cell_type": "markdown",
   "metadata": {},
   "source": [
    "There are three principal coordinate systems used to represent the data in this archive.\n",
    "\n",
    "- The SE coordinate system is a Spacecraft- Solar equatorial system and it will be used for cruise data only. \n",
    "- The sun-state (ss) and planetocentric (pc) will be used for Earth Fly By (EFB) and Jupiter orbital data. \n",
    "- Cartesian representations are used for all three coordinate systems. These coordinate systems are specified relative to a “target body” which may be any solar system object (but for this orbital operations will Jupiter). In what follows we will reference Jupiter as the target body, but, for example, if observations near a satellite (such as Io) are desired in Io-centric coordinates, the satellite Io may be specified as the target body. \n",
    "\n",
    "The SE coordinate system is defined using the sun-spacecraft vector as the primary reference vector; sun’s rotation axis as the secondary reference vector (z). The x axis lies along the sun-spacecraft vector, the z axis is in the plane defined by the Sun’s rotation axis and the spacecraft-sun vector. The y axis completes the system.\n",
    "\n",
    "The ss coordinate system is defined using the instantaneous Jupiter-Sun vector as the primary reference vector (x direction). The X-axis lies along this vector and is taken to be positive toward the Sun. The Jupiter orbital velocity vector is the second vector used to define the coordinate system; the y axis lies in the plane determined by the Jupiter-Sun vector and the velocity vector and is orthogonal to the x axis (very nearly the negative of the velocity vector). The vector cross product of x and y yields a vector z parallel to the northward (upward) normal of the orbit plane of Jupiter. This system is sometimes called a sun-state (ss) coordinate system since its principal vectors are the Sun vector and the Jupiter state vector."
   ]
  },
  {
   "cell_type": "markdown",
   "metadata": {},
   "source": [
    "## Setup"
   ]
  },
  {
   "cell_type": "markdown",
   "metadata": {},
   "source": [
    "Need to run command in shell first as `pipeline` is project-specific command\n",
    "\n",
    "```{sh}\n",
    "kedro pipeline create juno\n",
    "```"
   ]
  },
  {
   "cell_type": "code",
   "execution_count": 1,
   "metadata": {},
   "outputs": [
    {
     "name": "stderr",
     "output_type": "stream",
     "text": [
      "07-Feb-24 13:36:36: UserWarning: Traceback (most recent call last):\n",
      "  File \"/Users/zijin/micromamba/envs/juno/lib/python3.10/site-packages/pdpipe/__init__.py\", line 85, in <module>\n",
      "    from . import skintegrate\n",
      "  File \"/Users/zijin/micromamba/envs/juno/lib/python3.10/site-packages/pdpipe/skintegrate.py\", line 20, in <module>\n",
      "    from sklearn.base import BaseEstimator\n",
      "ModuleNotFoundError: No module named 'sklearn'\n",
      "\n",
      "\n",
      "07-Feb-24 13:36:36: UserWarning: pdpipe: Scikit-learn or skutil import failed. Scikit-learn-dependent pipeline stages will not be loaded.\n",
      "\n",
      "07-Feb-24 13:36:36: UserWarning: Traceback (most recent call last):\n",
      "  File \"/Users/zijin/micromamba/envs/juno/lib/python3.10/site-packages/pdpipe/__init__.py\", line 105, in <module>\n",
      "    from . import nltk_stages\n",
      "  File \"/Users/zijin/micromamba/envs/juno/lib/python3.10/site-packages/pdpipe/nltk_stages.py\", line 19, in <module>\n",
      "    import nltk\n",
      "ModuleNotFoundError: No module named 'nltk'\n",
      "\n",
      "\n",
      "07-Feb-24 13:36:36: UserWarning: pdpipe: nltk import failed. nltk-dependent  pipeline stages will not be loaded.\n",
      "\n"
     ]
    }
   ],
   "source": [
    "from discontinuitypy.datasets import IDsDataset\n",
    "import polars as pl\n",
    "from fastcore.utils import walk"
   ]
  },
  {
   "cell_type": "code",
   "execution_count": 8,
   "metadata": {},
   "outputs": [],
   "source": [
    "ts = 1 # unit: seconds\n",
    "tau = 60 # unit: seconds\n",
    "\n",
    "data_dir = '../../../data/'\n",
    "dir_path = f'{data_dir}/03_primary/JNO_MAG_ts_{ts}s'\n",
    "juno_state_path = f'{data_dir}/03_primary/JNO_STATE_ts_3600s.parquet'\n",
    "vec_cols = ['v_x', 'v_y', 'v_z']\n",
    "\n",
    "format = 'arrow'\n",
    "fname = f'events.JNO.ts_{ts}s_tau_{tau}s.{format}'\n",
    "output_path = f'{data_dir}/05_reporting/{fname}'"
   ]
  },
  {
   "cell_type": "code",
   "execution_count": 3,
   "metadata": {},
   "outputs": [
    {
     "name": "stderr",
     "output_type": "stream",
     "text": [
      "07-Feb-24 13:36:41: UserWarning: Converting non-nanosecond precision datetime values to nanosecond precision. This behavior can eventually be relaxed in xarray, as it is an artifact from pandas which is now beginning to support non-nanosecond precision values. This warning is caused by passing non-nanosecond np.datetime64 or np.timedelta64 values to the DataArray or Variable constructor; it can be silenced by converting the values to nanosecond precision ahead of time.\n",
      "\n",
      "07-Feb-24 13:36:42: UserWarning: Ray execution environment not yet initialized. Initializing...\n",
      "To remove this warning, run the following python code before doing dataframe operations:\n",
      "\n",
      "    import ray\n",
      "    ray.init()\n",
      "\n",
      "\n",
      "2024-02-07 13:36:44,211\tINFO worker.py:1724 -- Started a local Ray instance.\n",
      "07-Feb-24 13:36:45: UserWarning: Distributing <class 'pandas.core.frame.DataFrame'> object. This may take some time.\n",
      "\n"
     ]
    },
    {
     "data": {
      "application/vnd.jupyter.widget-view+json": {
       "model_id": "a707a150ba374c92b4753123be1faccd",
       "version_major": 2,
       "version_minor": 0
      },
      "text/plain": [
       "Distributing Dataframe:   0%           Elapsed time: 00:00, estimated remaining time: ?"
      ]
     },
     "metadata": {},
     "output_type": "display_data"
    },
    {
     "name": "stderr",
     "output_type": "stream",
     "text": [
      "07-Feb-24 13:36:45: Using sequential splitting in '.from_pandas()' because of some of the conditions are False: enough_elements=False; all_numeric_types=False; async_mode_on=False\n",
      "\u001b[36m(_deploy_ray_func pid=65621)\u001b[0m UserWarning: Traceback (most recent call last):\n",
      "\u001b[36m(_deploy_ray_func pid=65621)\u001b[0m   File \"/Users/zijin/micromamba/envs/juno/lib/python3.10/site-packages/pdpipe/__init__.py\", line 85, in <module>\n",
      "\u001b[36m(_deploy_ray_func pid=65621)\u001b[0m     from . import skintegrate\n",
      "\u001b[36m(_deploy_ray_func pid=65621)\u001b[0m   File \"/Users/zijin/micromamba/envs/juno/lib/python3.10/site-packages/pdpipe/skintegrate.py\", line 20, in <module>\n",
      "\u001b[36m(_deploy_ray_func pid=65621)\u001b[0m     from sklearn.base import BaseEstimator\n",
      "\u001b[36m(_deploy_ray_func pid=65621)\u001b[0m ModuleNotFoundError: No module named 'sklearn'\n",
      "\u001b[36m(_deploy_ray_func pid=65621)\u001b[0m \n",
      "\u001b[36m(_deploy_ray_func pid=65621)\u001b[0m UserWarning: pdpipe: Scikit-learn or skutil import failed. Scikit-learn-dependent pipeline stages will not be loaded.\n",
      "\u001b[36m(_deploy_ray_func pid=65621)\u001b[0m UserWarning: Traceback (most recent call last):\n",
      "\u001b[36m(_deploy_ray_func pid=65621)\u001b[0m   File \"/Users/zijin/micromamba/envs/juno/lib/python3.10/site-packages/pdpipe/__init__.py\", line 105, in <module>\n",
      "\u001b[36m(_deploy_ray_func pid=65621)\u001b[0m     from . import nltk_stages\n",
      "\u001b[36m(_deploy_ray_func pid=65621)\u001b[0m   File \"/Users/zijin/micromamba/envs/juno/lib/python3.10/site-packages/pdpipe/nltk_stages.py\", line 19, in <module>\n",
      "\u001b[36m(_deploy_ray_func pid=65621)\u001b[0m     import nltk\n",
      "\u001b[36m(_deploy_ray_func pid=65621)\u001b[0m ModuleNotFoundError: No module named 'nltk'\n",
      "\u001b[36m(_deploy_ray_func pid=65621)\u001b[0m \n",
      "\u001b[36m(_deploy_ray_func pid=65621)\u001b[0m UserWarning: pdpipe: nltk import failed. nltk-dependent  pipeline stages will not be loaded.\n",
      "\u001b[36m(_deploy_ray_func pid=65612)\u001b[0m UserWarning: Distributing <class 'dict'> object. This may take some time.\n",
      "Distributing Dataframe: 100%██████████ Elapsed time: 00:00, estimated remaining time: 00:00\n",
      "Distributing Dataframe: 100%██████████ Elapsed time: 00:00, estimated remaining time: 00:00\n",
      "Distributing Dataframe:   0%           Elapsed time: 00:00, estimated remaining time: ?\n",
      "Distributing Dataframe: 100%██████████ Elapsed time: 00:00, estimated remaining time: 00:00\n",
      "Distributing Dataframe: 100%██████████ Elapsed time: 00:00, estimated remaining time: 00:00\n"
     ]
    },
    {
     "data": {
      "application/vnd.jupyter.widget-view+json": {
       "model_id": "df2824f1c9ff4db58ceb01cd410cf433",
       "version_major": 2,
       "version_minor": 0
      },
      "text/plain": [
       "Estimated completion of line 8:   0%           Elapsed time: 00:00, estimated remaining time: ?"
      ]
     },
     "metadata": {},
     "output_type": "display_data"
    },
    {
     "name": "stderr",
     "output_type": "stream",
     "text": [
      "\u001b[36m(_deploy_ray_func pid=65621)\u001b[0m RuntimeWarning: overflow encountered in exp\n",
      "\u001b[36m(_deploy_ray_func pid=65622)\u001b[0m UserWarning: Traceback (most recent call last):\u001b[32m [repeated 22x across cluster] (Ray deduplicates logs by default. Set RAY_DEDUP_LOGS=0 to disable log deduplication, or see https://docs.ray.io/en/master/ray-observability/ray-logging.html#log-deduplication for more options.)\u001b[0m\n",
      "\u001b[36m(_deploy_ray_func pid=65622)\u001b[0m   File \"/Users/zijin/micromamba/envs/juno/lib/python3.10/site-packages/pdpipe/nltk_stages.py\", line 19, in <module>\u001b[32m [repeated 44x across cluster]\u001b[0m\n",
      "\u001b[36m(_deploy_ray_func pid=65622)\u001b[0m     from . import skintegrate\u001b[32m [repeated 11x across cluster]\u001b[0m\n",
      "\u001b[36m(_deploy_ray_func pid=65622)\u001b[0m     from sklearn.base import BaseEstimator\u001b[32m [repeated 11x across cluster]\u001b[0m\n",
      "\u001b[36m(_deploy_ray_func pid=65622)\u001b[0m ModuleNotFoundError: No module named 'sklearn'\u001b[32m [repeated 11x across cluster]\u001b[0m\n",
      "\u001b[36m(_deploy_ray_func pid=65620)\u001b[0m \u001b[32m [repeated 29x across cluster]\u001b[0m\n",
      "\u001b[36m(_deploy_ray_func pid=65622)\u001b[0m UserWarning: pdpipe: Scikit-learn or skutil import failed. Scikit-learn-dependent pipeline stages will not be loaded.\u001b[32m [repeated 11x across cluster]\u001b[0m\n",
      "\u001b[36m(_deploy_ray_func pid=65622)\u001b[0m     from . import nltk_stages\u001b[32m [repeated 11x across cluster]\u001b[0m\n",
      "\u001b[36m(_deploy_ray_func pid=65622)\u001b[0m     import nltk\u001b[32m [repeated 11x across cluster]\u001b[0m\n",
      "\u001b[36m(_deploy_ray_func pid=65622)\u001b[0m ModuleNotFoundError: No module named 'nltk'\u001b[32m [repeated 11x across cluster]\u001b[0m\n",
      "\u001b[36m(_deploy_ray_func pid=65622)\u001b[0m UserWarning: pdpipe: nltk import failed. nltk-dependent  pipeline stages will not be loaded.\u001b[32m [repeated 11x across cluster]\u001b[0m\n",
      "\u001b[36m(_deploy_ray_func pid=65619)\u001b[0m UserWarning: Distributing <class 'dict'> object. This may take some time.\u001b[32m [repeated 5421x across cluster]\u001b[0m\n",
      "Distributing Dataframe: 100%██████████ Elapsed time: 00:00, estimated remaining time: 00:00\u001b[32m [repeated 4374x across cluster]\u001b[0m\n",
      "Distributing Dataframe:   0%           Elapsed time: 00:00, estimated remaining time: ?\u001b[32m [repeated 1045x across cluster]\u001b[0m\n",
      "Distributing Dataframe: 100%██████████ Elapsed time: 00:00, estimated remaining time: 00:00\u001b[32m [repeated 1038x across cluster]\u001b[0m\n",
      "Distributing Dataframe: 100%██████████ Elapsed time: 00:00, estimated remaining time: 00:00\u001b[32m [repeated 6x across cluster]\u001b[0m\n"
     ]
    },
    {
     "data": {
      "application/vnd.jupyter.widget-view+json": {
       "model_id": "8bbfddbb67d148dc9c37f5f2d6c89e73",
       "version_major": 2,
       "version_minor": 0
      },
      "text/plain": [
       "Distributing Dataframe:   0%           Elapsed time: 00:00, estimated remaining time: ?"
      ]
     },
     "metadata": {},
     "output_type": "display_data"
    },
    {
     "name": "stderr",
     "output_type": "stream",
     "text": [
      "07-Feb-24 13:36:56: Using sequential splitting in '.from_pandas()' because of some of the conditions are False: enough_elements=False; all_numeric_types=False; async_mode_on=False\n"
     ]
    },
    {
     "data": {
      "application/vnd.jupyter.widget-view+json": {
       "model_id": "124141c48838405b842c0279d21f4286",
       "version_major": 2,
       "version_minor": 0
      },
      "text/plain": [
       "Distributing Dataframe:   0%           Elapsed time: 00:00, estimated remaining time: ?"
      ]
     },
     "metadata": {},
     "output_type": "display_data"
    },
    {
     "name": "stderr",
     "output_type": "stream",
     "text": [
      "07-Feb-24 13:36:56: Using sequential splitting in '.from_pandas()' because of some of the conditions are False: enough_elements=False; all_numeric_types=True; async_mode_on=False\n"
     ]
    },
    {
     "data": {
      "application/vnd.jupyter.widget-view+json": {
       "model_id": "3cca663c21bb4ed3b89950fb07dc4f11",
       "version_major": 2,
       "version_minor": 0
      },
      "text/plain": [
       "Distributing Dataframe:   0%           Elapsed time: 00:00, estimated remaining time: ?"
      ]
     },
     "metadata": {},
     "output_type": "display_data"
    },
    {
     "name": "stderr",
     "output_type": "stream",
     "text": [
      "07-Feb-24 13:36:56: Using sequential splitting in '.from_pandas()' because of some of the conditions are False: enough_elements=False; all_numeric_types=False; async_mode_on=False\n",
      "07-Feb-24 13:37:00: UserWarning: Converting non-nanosecond precision datetime values to nanosecond precision. This behavior can eventually be relaxed in xarray, as it is an artifact from pandas which is now beginning to support non-nanosecond precision values. This warning is caused by passing non-nanosecond np.datetime64 or np.timedelta64 values to the DataArray or Variable constructor; it can be silenced by converting the values to nanosecond precision ahead of time.\n",
      "\n",
      "07-Feb-24 13:37:00: UserWarning: Distributing <class 'pandas.core.frame.DataFrame'> object. This may take some time.\n",
      "\n"
     ]
    },
    {
     "data": {
      "application/vnd.jupyter.widget-view+json": {
       "model_id": "e395e75579a3459093443a6a8dcf7acd",
       "version_major": 2,
       "version_minor": 0
      },
      "text/plain": [
       "Distributing Dataframe:   0%           Elapsed time: 00:00, estimated remaining time: ?"
      ]
     },
     "metadata": {},
     "output_type": "display_data"
    },
    {
     "name": "stderr",
     "output_type": "stream",
     "text": [
      "07-Feb-24 13:37:00: Using sequential splitting in '.from_pandas()' because of some of the conditions are False: enough_elements=False; all_numeric_types=False; async_mode_on=False\n",
      "\u001b[36m(_deploy_ray_func pid=65615)\u001b[0m RuntimeWarning: overflow encountered in exp\u001b[32m [repeated 14x across cluster]\u001b[0m\n",
      "\u001b[36m(_deploy_ray_func pid=65620)\u001b[0m UserWarning: Distributing <class 'dict'> object. This may take some time.\u001b[32m [repeated 2x across cluster]\u001b[0m\n",
      "Distributing Dataframe: 100%██████████ Elapsed time: 00:00, estimated remaining time: 00:00\n",
      "Distributing Dataframe: 100%██████████ Elapsed time: 00:00, estimated remaining time: 00:00\n",
      "Distributing Dataframe: 100%██████████ Elapsed time: 00:00, estimated remaining time: 00:00\n",
      "Distributing Dataframe: 100%██████████ Elapsed time: 00:00, estimated remaining time: 00:00\n",
      "Distributing Dataframe:   0%           Elapsed time: 00:00, estimated remaining time: ?\n",
      "Distributing Dataframe: 100%██████████ Elapsed time: 00:00, estimated remaining time: 00:00\n",
      "\u001b[36m(_deploy_ray_func pid=65621)\u001b[0m \n",
      "Distributing Dataframe: 100%██████████ Elapsed time: 00:00, estimated remaining time: 00:00\n",
      "\u001b[36m(_deploy_ray_func pid=65621)\u001b[0m UserWarning: Distributing <class 'dict'> object. This may take some time.\u001b[32m [repeated 8130x across cluster]\u001b[0m\n",
      "Distributing Dataframe: 100%██████████ Elapsed time: 00:00, estimated remaining time: 00:00\u001b[32m [repeated 6835x across cluster]\u001b[0m\n",
      "Distributing Dataframe:   0%           Elapsed time: 00:00, estimated remaining time: ?\u001b[32m [repeated 1296x across cluster]\u001b[0m\n",
      "Distributing Dataframe: 100%██████████ Elapsed time: 00:00, estimated remaining time: 00:00\u001b[32m [repeated 1299x across cluster]\u001b[0m\n",
      "\u001b[36m(_deploy_ray_func pid=65619)\u001b[0m \u001b[32m [repeated 10x across cluster]\u001b[0m\n",
      "Distributing Dataframe: 100%██████████ Elapsed time: 00:00, estimated remaining time: 00:00\n",
      "\u001b[36m(_deploy_ray_func pid=65615)\u001b[0m RuntimeWarning: overflow encountered in exp\n",
      "\u001b[36m(_deploy_ray_func pid=65618)\u001b[0m UserWarning: Distributing <class 'dict'> object. This may take some time.\u001b[32m [repeated 4532x across cluster]\u001b[0m\n",
      "Distributing Dataframe: 100%██████████ Elapsed time: 00:00, estimated remaining time: 00:00\u001b[32m [repeated 3844x across cluster]\u001b[0m\n",
      "Distributing Dataframe:   0%           Elapsed time: 00:00, estimated remaining time: ?\u001b[32m [repeated 684x across cluster]\u001b[0m\n",
      "Distributing Dataframe: 100%██████████ Elapsed time: 00:00, estimated remaining time: 00:00\u001b[32m [repeated 679x across cluster]\u001b[0m\n",
      "\u001b[36m(_deploy_ray_func pid=65613)\u001b[0m \u001b[32m [repeated 4x across cluster]\u001b[0m\n",
      "\u001b[36m(_deploy_ray_func pid=65618)\u001b[0m RuntimeWarning: overflow encountered in exp\u001b[32m [repeated 11x across cluster]\u001b[0m\n",
      "\u001b[36m(_deploy_ray_func pid=65613)\u001b[0m RuntimeWarning: overflow encountered in exp\u001b[32m [repeated 12x across cluster]\u001b[0m\n"
     ]
    },
    {
     "data": {
      "application/vnd.jupyter.widget-view+json": {
       "model_id": "1c2df4d4958a4f48a47e60553da7aa6a",
       "version_major": 2,
       "version_minor": 0
      },
      "text/plain": [
       "Distributing Dataframe:   0%           Elapsed time: 00:00, estimated remaining time: ?"
      ]
     },
     "metadata": {},
     "output_type": "display_data"
    },
    {
     "name": "stderr",
     "output_type": "stream",
     "text": [
      "07-Feb-24 13:37:23: Using sequential splitting in '.from_pandas()' because of some of the conditions are False: enough_elements=False; all_numeric_types=False; async_mode_on=False\n"
     ]
    },
    {
     "data": {
      "application/vnd.jupyter.widget-view+json": {
       "model_id": "878a766ca6d64d63893f3b05ccbf3dcf",
       "version_major": 2,
       "version_minor": 0
      },
      "text/plain": [
       "Distributing Dataframe:   0%           Elapsed time: 00:00, estimated remaining time: ?"
      ]
     },
     "metadata": {},
     "output_type": "display_data"
    },
    {
     "name": "stderr",
     "output_type": "stream",
     "text": [
      "07-Feb-24 13:37:23: Using sequential splitting in '.from_pandas()' because of some of the conditions are False: enough_elements=False; all_numeric_types=True; async_mode_on=False\n"
     ]
    },
    {
     "data": {
      "application/vnd.jupyter.widget-view+json": {
       "model_id": "3d99ee14986643b6b9d736bb84332df0",
       "version_major": 2,
       "version_minor": 0
      },
      "text/plain": [
       "Distributing Dataframe:   0%           Elapsed time: 00:00, estimated remaining time: ?"
      ]
     },
     "metadata": {},
     "output_type": "display_data"
    },
    {
     "name": "stderr",
     "output_type": "stream",
     "text": [
      "07-Feb-24 13:37:23: Using sequential splitting in '.from_pandas()' because of some of the conditions are False: enough_elements=False; all_numeric_types=False; async_mode_on=False\n",
      "07-Feb-24 13:37:25: UserWarning: Converting non-nanosecond precision datetime values to nanosecond precision. This behavior can eventually be relaxed in xarray, as it is an artifact from pandas which is now beginning to support non-nanosecond precision values. This warning is caused by passing non-nanosecond np.datetime64 or np.timedelta64 values to the DataArray or Variable constructor; it can be silenced by converting the values to nanosecond precision ahead of time.\n",
      "\n",
      "07-Feb-24 13:37:25: UserWarning: Distributing <class 'pandas.core.frame.DataFrame'> object. This may take some time.\n",
      "\n"
     ]
    },
    {
     "data": {
      "application/vnd.jupyter.widget-view+json": {
       "model_id": "52e32d5f9d4b4c35bc4dc2f34decf3fb",
       "version_major": 2,
       "version_minor": 0
      },
      "text/plain": [
       "Distributing Dataframe:   0%           Elapsed time: 00:00, estimated remaining time: ?"
      ]
     },
     "metadata": {},
     "output_type": "display_data"
    },
    {
     "name": "stderr",
     "output_type": "stream",
     "text": [
      "07-Feb-24 13:37:25: Using sequential splitting in '.from_pandas()' because of some of the conditions are False: enough_elements=False; all_numeric_types=False; async_mode_on=False\n",
      "\u001b[36m(_deploy_ray_func pid=65620)\u001b[0m UserWarning: Distributing <class 'dict'> object. This may take some time.\n",
      "Distributing Dataframe: 100%██████████ Elapsed time: 00:00, estimated remaining time: 00:00\n",
      "\u001b[36m(_deploy_ray_func pid=65620)\u001b[0m UserWarning: Distributing <class 'dict'> object. This may take some time.\n",
      "Distributing Dataframe: 100%██████████ Elapsed time: 00:00, estimated remaining time: 00:00\n",
      "\u001b[36m(_deploy_ray_func pid=65620)\u001b[0m UserWarning: Distributing <class 'dict'> object. This may take some time.\n",
      "Distributing Dataframe: 100%██████████ Elapsed time: 00:00, estimated remaining time: 00:00\n",
      "\u001b[36m(_deploy_ray_func pid=65620)\u001b[0m UserWarning: Distributing <class 'dict'> object. This may take some time.\n",
      "Distributing Dataframe: 100%██████████ Elapsed time: 00:00, estimated remaining time: 00:00\n",
      "\u001b[36m(_deploy_ray_func pid=65615)\u001b[0m RuntimeWarning: overflow encountered in exp\u001b[32m [repeated 3x across cluster]\u001b[0m\n",
      "Distributing Dataframe:   0%           Elapsed time: 00:00, estimated remaining time: ?\n",
      "Distributing Dataframe: 100%██████████ Elapsed time: 00:00, estimated remaining time: 00:00\n"
     ]
    },
    {
     "data": {
      "application/vnd.jupyter.widget-view+json": {
       "model_id": "930a62baa4404c20a9dc3c4cac92088e",
       "version_major": 2,
       "version_minor": 0
      },
      "text/plain": [
       "Distributing Dataframe:   0%           Elapsed time: 00:00, estimated remaining time: ?"
      ]
     },
     "metadata": {},
     "output_type": "display_data"
    },
    {
     "name": "stderr",
     "output_type": "stream",
     "text": [
      "07-Feb-24 13:37:30: Using sequential splitting in '.from_pandas()' because of some of the conditions are False: enough_elements=False; all_numeric_types=False; async_mode_on=False\n"
     ]
    },
    {
     "data": {
      "application/vnd.jupyter.widget-view+json": {
       "model_id": "d5c5b2b70f53422589d7b2696f853ddf",
       "version_major": 2,
       "version_minor": 0
      },
      "text/plain": [
       "Distributing Dataframe:   0%           Elapsed time: 00:00, estimated remaining time: ?"
      ]
     },
     "metadata": {},
     "output_type": "display_data"
    },
    {
     "name": "stderr",
     "output_type": "stream",
     "text": [
      "07-Feb-24 13:37:30: Using sequential splitting in '.from_pandas()' because of some of the conditions are False: enough_elements=False; all_numeric_types=True; async_mode_on=False\n"
     ]
    },
    {
     "data": {
      "application/vnd.jupyter.widget-view+json": {
       "model_id": "4cf7a5af68b94b94bb5955126bc08d8a",
       "version_major": 2,
       "version_minor": 0
      },
      "text/plain": [
       "Distributing Dataframe:   0%           Elapsed time: 00:00, estimated remaining time: ?"
      ]
     },
     "metadata": {},
     "output_type": "display_data"
    },
    {
     "name": "stderr",
     "output_type": "stream",
     "text": [
      "07-Feb-24 13:37:30: Using sequential splitting in '.from_pandas()' because of some of the conditions are False: enough_elements=False; all_numeric_types=False; async_mode_on=False\n",
      "07-Feb-24 13:37:33: UserWarning: Converting non-nanosecond precision datetime values to nanosecond precision. This behavior can eventually be relaxed in xarray, as it is an artifact from pandas which is now beginning to support non-nanosecond precision values. This warning is caused by passing non-nanosecond np.datetime64 or np.timedelta64 values to the DataArray or Variable constructor; it can be silenced by converting the values to nanosecond precision ahead of time.\n",
      "\n",
      "07-Feb-24 13:37:33: UserWarning: Distributing <class 'pandas.core.frame.DataFrame'> object. This may take some time.\n",
      "\n"
     ]
    },
    {
     "data": {
      "application/vnd.jupyter.widget-view+json": {
       "model_id": "2fcd05b42d614fca9634cf80ba52073c",
       "version_major": 2,
       "version_minor": 0
      },
      "text/plain": [
       "Distributing Dataframe:   0%           Elapsed time: 00:00, estimated remaining time: ?"
      ]
     },
     "metadata": {},
     "output_type": "display_data"
    },
    {
     "name": "stderr",
     "output_type": "stream",
     "text": [
      "07-Feb-24 13:37:33: Using sequential splitting in '.from_pandas()' because of some of the conditions are False: enough_elements=False; all_numeric_types=False; async_mode_on=False\n",
      "\u001b[36m(_deploy_ray_func pid=65620)\u001b[0m UserWarning: Distributing <class 'dict'> object. This may take some time.\u001b[32m [repeated 2491x across cluster]\u001b[0m\n",
      "Distributing Dataframe: 100%██████████ Elapsed time: 00:00, estimated remaining time: 00:00\u001b[32m [repeated 2358x across cluster]\u001b[0m\n",
      "\u001b[36m(_deploy_ray_func pid=65614)\u001b[0m RuntimeWarning: overflow encountered in exp\u001b[32m [repeated 7x across cluster]\u001b[0m\n",
      "Distributing Dataframe:   0%           Elapsed time: 00:00, estimated remaining time: ?\u001b[32m [repeated 132x across cluster]\u001b[0m\n",
      "Distributing Dataframe: 100%██████████ Elapsed time: 00:00, estimated remaining time: 00:00\u001b[32m [repeated 131x across cluster]\u001b[0m\n",
      "\u001b[36m(_deploy_ray_func pid=65623)\u001b[0m \n",
      "\u001b[36m(_deploy_ray_func pid=65620)\u001b[0m UserWarning: Distributing <class 'dict'> object. This may take some time.\u001b[32m [repeated 8095x across cluster]\u001b[0m\n",
      "Distributing Dataframe: 100%██████████ Elapsed time: 00:00, estimated remaining time: 00:00\u001b[32m [repeated 6941x across cluster]\u001b[0m\n",
      "Distributing Dataframe:   0%           Elapsed time: 00:00, estimated remaining time: ?\u001b[32m [repeated 1154x across cluster]\u001b[0m\n",
      "Distributing Dataframe: 100%██████████ Elapsed time: 00:00, estimated remaining time: 00:00\u001b[32m [repeated 1156x across cluster]\u001b[0m\n",
      "\u001b[36m(_deploy_ray_func pid=65618)\u001b[0m \u001b[32m [repeated 13x across cluster]\u001b[0m\n",
      "\u001b[36m(_deploy_ray_func pid=65620)\u001b[0m UserWarning: Distributing <class 'dict'> object. This may take some time.\u001b[32m [repeated 8263x across cluster]\u001b[0m\n",
      "Distributing Dataframe: 100%██████████ Elapsed time: 00:00, estimated remaining time: 00:00\u001b[32m [repeated 7165x across cluster]\u001b[0m\n",
      "Distributing Dataframe:   0%           Elapsed time: 00:00, estimated remaining time: ?\u001b[32m [repeated 1097x across cluster]\u001b[0m\n",
      "Distributing Dataframe: 100%██████████ Elapsed time: 00:00, estimated remaining time: 00:00\u001b[32m [repeated 1093x across cluster]\u001b[0m\n",
      "\u001b[36m(_deploy_ray_func pid=65618)\u001b[0m \u001b[32m [repeated 11x across cluster]\u001b[0m\n",
      "\u001b[36m(_deploy_ray_func pid=65616)\u001b[0m RuntimeWarning: overflow encountered in exp\n",
      "\u001b[36m(_deploy_ray_func pid=65616)\u001b[0m RuntimeWarning: overflow encountered in exp\n",
      "\u001b[36m(_deploy_ray_func pid=65618)\u001b[0m UserWarning: Distributing <class 'dict'> object. This may take some time.\u001b[32m [repeated 1268x across cluster]\u001b[0m\n",
      "Distributing Dataframe: 100%██████████ Elapsed time: 00:00, estimated remaining time: 00:00\u001b[32m [repeated 1085x across cluster]\u001b[0m\n",
      "Distributing Dataframe:   0%           Elapsed time: 00:00, estimated remaining time: ?\u001b[32m [repeated 184x across cluster]\u001b[0m\n",
      "Distributing Dataframe: 100%██████████ Elapsed time: 00:00, estimated remaining time: 00:00\u001b[32m [repeated 188x across cluster]\u001b[0m\n",
      "\u001b[36m(_deploy_ray_func pid=65616)\u001b[0m \u001b[32m [repeated 2x across cluster]\u001b[0m\n",
      "\u001b[36m(_deploy_ray_func pid=65617)\u001b[0m RuntimeWarning: overflow encountered in exp\u001b[32m [repeated 8x across cluster]\u001b[0m\n",
      "\u001b[36m(_deploy_ray_func pid=65617)\u001b[0m RuntimeWarning: overflow encountered in exp\u001b[32m [repeated 23x across cluster]\u001b[0m\n",
      "\u001b[36m(_deploy_ray_func pid=65614)\u001b[0m RuntimeWarning: overflow encountered in exp\u001b[32m [repeated 14x across cluster]\u001b[0m\n"
     ]
    },
    {
     "data": {
      "application/vnd.jupyter.widget-view+json": {
       "model_id": "d38b93e8afef45028a49022fabfdcbf6",
       "version_major": 2,
       "version_minor": 0
      },
      "text/plain": [
       "Distributing Dataframe:   0%           Elapsed time: 00:00, estimated remaining time: ?"
      ]
     },
     "metadata": {},
     "output_type": "display_data"
    },
    {
     "name": "stderr",
     "output_type": "stream",
     "text": [
      "07-Feb-24 13:38:03: Using sequential splitting in '.from_pandas()' because of some of the conditions are False: enough_elements=False; all_numeric_types=False; async_mode_on=False\n"
     ]
    },
    {
     "data": {
      "application/vnd.jupyter.widget-view+json": {
       "model_id": "37a6ceb8f87d4c1d81dbd739b619c3cd",
       "version_major": 2,
       "version_minor": 0
      },
      "text/plain": [
       "Distributing Dataframe:   0%           Elapsed time: 00:00, estimated remaining time: ?"
      ]
     },
     "metadata": {},
     "output_type": "display_data"
    },
    {
     "name": "stderr",
     "output_type": "stream",
     "text": [
      "07-Feb-24 13:38:03: Using sequential splitting in '.from_pandas()' because of some of the conditions are False: enough_elements=False; all_numeric_types=True; async_mode_on=False\n"
     ]
    },
    {
     "data": {
      "application/vnd.jupyter.widget-view+json": {
       "model_id": "84a753d3954349a38f0af042d8ebfa45",
       "version_major": 2,
       "version_minor": 0
      },
      "text/plain": [
       "Distributing Dataframe:   0%           Elapsed time: 00:00, estimated remaining time: ?"
      ]
     },
     "metadata": {},
     "output_type": "display_data"
    },
    {
     "name": "stderr",
     "output_type": "stream",
     "text": [
      "07-Feb-24 13:38:03: Using sequential splitting in '.from_pandas()' because of some of the conditions are False: enough_elements=False; all_numeric_types=False; async_mode_on=False\n",
      "07-Feb-24 13:38:06: UserWarning: Converting non-nanosecond precision datetime values to nanosecond precision. This behavior can eventually be relaxed in xarray, as it is an artifact from pandas which is now beginning to support non-nanosecond precision values. This warning is caused by passing non-nanosecond np.datetime64 or np.timedelta64 values to the DataArray or Variable constructor; it can be silenced by converting the values to nanosecond precision ahead of time.\n",
      "\n",
      "07-Feb-24 13:38:06: UserWarning: Distributing <class 'pandas.core.frame.DataFrame'> object. This may take some time.\n",
      "\n"
     ]
    },
    {
     "data": {
      "application/vnd.jupyter.widget-view+json": {
       "model_id": "166aa768db474b00ae2153f74da57264",
       "version_major": 2,
       "version_minor": 0
      },
      "text/plain": [
       "Distributing Dataframe:   0%           Elapsed time: 00:00, estimated remaining time: ?"
      ]
     },
     "metadata": {},
     "output_type": "display_data"
    },
    {
     "name": "stderr",
     "output_type": "stream",
     "text": [
      "07-Feb-24 13:38:06: Using sequential splitting in '.from_pandas()' because of some of the conditions are False: enough_elements=False; all_numeric_types=False; async_mode_on=False\n",
      "\u001b[36m(_deploy_ray_func pid=65619)\u001b[0m UserWarning: Distributing <class 'dict'> object. This may take some time.\n",
      "Distributing Dataframe: 100%██████████ Elapsed time: 00:00, estimated remaining time: 00:00\n",
      "\u001b[36m(_deploy_ray_func pid=65619)\u001b[0m UserWarning: Distributing <class 'dict'> object. This may take some time.\n",
      "Distributing Dataframe: 100%██████████ Elapsed time: 00:00, estimated remaining time: 00:00\n",
      "\u001b[36m(_deploy_ray_func pid=65619)\u001b[0m UserWarning: Distributing <class 'dict'> object. This may take some time.\n",
      "Distributing Dataframe: 100%██████████ Elapsed time: 00:00, estimated remaining time: 00:00\n",
      "\u001b[36m(_deploy_ray_func pid=65619)\u001b[0m UserWarning: Distributing <class 'dict'> object. This may take some time.\n",
      "Distributing Dataframe: 100%██████████ Elapsed time: 00:00, estimated remaining time: 00:00\n",
      "\u001b[36m(_deploy_ray_func pid=65619)\u001b[0m UserWarning: Distributing <class 'dict'> object. This may take some time.\n",
      "Distributing Dataframe: 100%██████████ Elapsed time: 00:00, estimated remaining time: 00:00\n",
      "\u001b[36m(_deploy_ray_func pid=65619)\u001b[0m UserWarning: Distributing <class 'dict'> object. This may take some time.\n",
      "Distributing Dataframe: 100%██████████ Elapsed time: 00:00, estimated remaining time: 00:00\n",
      "\u001b[36m(_deploy_ray_func pid=65619)\u001b[0m UserWarning: Distributing <class 'dict'> object. This may take some time.\n",
      "\u001b[36m(_deploy_ray_func pid=65615)\u001b[0m RuntimeWarning: overflow encountered in exp\n",
      "Distributing Dataframe:   0%           Elapsed time: 00:00, estimated remaining time: ?\n",
      "Distributing Dataframe: 100%██████████ Elapsed time: 00:00, estimated remaining time: 00:00\n",
      "\u001b[36m(_deploy_ray_func pid=65613)\u001b[0m \n",
      "\u001b[36m(_deploy_ray_func pid=65612)\u001b[0m UserWarning: Distributing <class 'dict'> object. This may take some time.\u001b[32m [repeated 8425x across cluster]\u001b[0m\n",
      "Distributing Dataframe: 100%██████████ Elapsed time: 00:00, estimated remaining time: 00:00\u001b[32m [repeated 7880x across cluster]\u001b[0m\n",
      "Distributing Dataframe:   0%           Elapsed time: 00:00, estimated remaining time: ?\u001b[32m [repeated 545x across cluster]\u001b[0m\n",
      "Distributing Dataframe: 100%██████████ Elapsed time: 00:00, estimated remaining time: 00:00\u001b[32m [repeated 545x across cluster]\u001b[0m\n",
      "\u001b[36m(_deploy_ray_func pid=65620)\u001b[0m \u001b[32m [repeated 2x across cluster]\u001b[0m\n",
      "\u001b[36m(_deploy_ray_func pid=65613)\u001b[0m RuntimeWarning: overflow encountered in exp\n",
      "\u001b[36m(_deploy_ray_func pid=65613)\u001b[0m RuntimeWarning: overflow encountered in exp\n",
      "\u001b[36m(_deploy_ray_func pid=65618)\u001b[0m UserWarning: Distributing <class 'dict'> object. This may take some time.\u001b[32m [repeated 6127x across cluster]\u001b[0m\n",
      "Distributing Dataframe: 100%██████████ Elapsed time: 00:00, estimated remaining time: 00:00\u001b[32m [repeated 5707x across cluster]\u001b[0m\n",
      "Distributing Dataframe:   0%           Elapsed time: 00:00, estimated remaining time: ?\u001b[32m [repeated 420x across cluster]\u001b[0m\n",
      "Distributing Dataframe: 100%██████████ Elapsed time: 00:00, estimated remaining time: 00:00\u001b[32m [repeated 420x across cluster]\u001b[0m\n",
      "\u001b[36m(_deploy_ray_func pid=65615)\u001b[0m \n",
      "\u001b[36m(_deploy_ray_func pid=65619)\u001b[0m RuntimeWarning: overflow encountered in exp\u001b[32m [repeated 19x across cluster]\u001b[0m\n",
      "\u001b[36m(_deploy_ray_func pid=65614)\u001b[0m RuntimeWarning: overflow encountered in exp\u001b[32m [repeated 15x across cluster]\u001b[0m\n"
     ]
    },
    {
     "data": {
      "application/vnd.jupyter.widget-view+json": {
       "model_id": "4bc9978c1dc9495ca69db1ee2c7c53f4",
       "version_major": 2,
       "version_minor": 0
      },
      "text/plain": [
       "Distributing Dataframe:   0%           Elapsed time: 00:00, estimated remaining time: ?"
      ]
     },
     "metadata": {},
     "output_type": "display_data"
    },
    {
     "name": "stderr",
     "output_type": "stream",
     "text": [
      "07-Feb-24 13:38:32: Using sequential splitting in '.from_pandas()' because of some of the conditions are False: enough_elements=False; all_numeric_types=False; async_mode_on=False\n"
     ]
    },
    {
     "data": {
      "application/vnd.jupyter.widget-view+json": {
       "model_id": "9242aec33b5045a08e27abba33b3cb9f",
       "version_major": 2,
       "version_minor": 0
      },
      "text/plain": [
       "Distributing Dataframe:   0%           Elapsed time: 00:00, estimated remaining time: ?"
      ]
     },
     "metadata": {},
     "output_type": "display_data"
    },
    {
     "name": "stderr",
     "output_type": "stream",
     "text": [
      "07-Feb-24 13:38:32: Using sequential splitting in '.from_pandas()' because of some of the conditions are False: enough_elements=False; all_numeric_types=True; async_mode_on=False\n"
     ]
    },
    {
     "data": {
      "application/vnd.jupyter.widget-view+json": {
       "model_id": "076a41e97c9540a29e5f61139858a284",
       "version_major": 2,
       "version_minor": 0
      },
      "text/plain": [
       "Distributing Dataframe:   0%           Elapsed time: 00:00, estimated remaining time: ?"
      ]
     },
     "metadata": {},
     "output_type": "display_data"
    },
    {
     "name": "stderr",
     "output_type": "stream",
     "text": [
      "07-Feb-24 13:38:32: Using sequential splitting in '.from_pandas()' because of some of the conditions are False: enough_elements=False; all_numeric_types=False; async_mode_on=False\n",
      "07-Feb-24 13:38:34: UserWarning: Converting non-nanosecond precision datetime values to nanosecond precision. This behavior can eventually be relaxed in xarray, as it is an artifact from pandas which is now beginning to support non-nanosecond precision values. This warning is caused by passing non-nanosecond np.datetime64 or np.timedelta64 values to the DataArray or Variable constructor; it can be silenced by converting the values to nanosecond precision ahead of time.\n",
      "\n",
      "07-Feb-24 13:38:34: UserWarning: Distributing <class 'pandas.core.frame.DataFrame'> object. This may take some time.\n",
      "\n"
     ]
    },
    {
     "data": {
      "application/vnd.jupyter.widget-view+json": {
       "model_id": "deb1febabc5e4fb5be96d0f69256bc35",
       "version_major": 2,
       "version_minor": 0
      },
      "text/plain": [
       "Distributing Dataframe:   0%           Elapsed time: 00:00, estimated remaining time: ?"
      ]
     },
     "metadata": {},
     "output_type": "display_data"
    },
    {
     "name": "stderr",
     "output_type": "stream",
     "text": [
      "07-Feb-24 13:38:34: Using sequential splitting in '.from_pandas()' because of some of the conditions are False: enough_elements=False; all_numeric_types=False; async_mode_on=False\n",
      "\u001b[36m(_deploy_ray_func pid=65620)\u001b[0m UserWarning: Distributing <class 'dict'> object. This may take some time.\n",
      "Distributing Dataframe: 100%██████████ Elapsed time: 00:00, estimated remaining time: 00:00\n",
      "\u001b[36m(_deploy_ray_func pid=65620)\u001b[0m UserWarning: Distributing <class 'dict'> object. This may take some time.\n",
      "Distributing Dataframe: 100%██████████ Elapsed time: 00:00, estimated remaining time: 00:00\n",
      "\u001b[36m(_deploy_ray_func pid=65620)\u001b[0m UserWarning: Distributing <class 'dict'> object. This may take some time.\n",
      "Distributing Dataframe: 100%██████████ Elapsed time: 00:00, estimated remaining time: 00:00\n",
      "\u001b[36m(_deploy_ray_func pid=65620)\u001b[0m UserWarning: Distributing <class 'dict'> object. This may take some time.\n",
      "Distributing Dataframe: 100%██████████ Elapsed time: 00:00, estimated remaining time: 00:00\n",
      "\u001b[36m(_deploy_ray_func pid=65620)\u001b[0m UserWarning: Distributing <class 'dict'> object. This may take some time.\n",
      "Distributing Dataframe: 100%██████████ Elapsed time: 00:00, estimated remaining time: 00:00\n",
      "\u001b[36m(_deploy_ray_func pid=65620)\u001b[0m UserWarning: Distributing <class 'dict'> object. This may take some time.\n",
      "Distributing Dataframe: 100%██████████ Elapsed time: 00:00, estimated remaining time: 00:00\n",
      "\u001b[36m(_deploy_ray_func pid=65620)\u001b[0m UserWarning: Distributing <class 'dict'> object. This may take some time.\n",
      "Distributing Dataframe: 100%██████████ Elapsed time: 00:00, estimated remaining time: 00:00\n",
      "\u001b[36m(_deploy_ray_func pid=65620)\u001b[0m UserWarning: Distributing <class 'dict'> object. This may take some time.\n",
      "Distributing Dataframe: 100%██████████ Elapsed time: 00:00, estimated remaining time: 00:00\n",
      "\u001b[36m(_deploy_ray_func pid=65620)\u001b[0m UserWarning: Distributing <class 'dict'> object. This may take some time.\n",
      "Distributing Dataframe: 100%██████████ Elapsed time: 00:00, estimated remaining time: 00:00\n",
      "\u001b[36m(_deploy_ray_func pid=65620)\u001b[0m UserWarning: Distributing <class 'dict'> object. This may take some time.\n",
      "Distributing Dataframe: 100%██████████ Elapsed time: 00:00, estimated remaining time: 00:00\n",
      "\u001b[36m(_deploy_ray_func pid=65620)\u001b[0m UserWarning: Distributing <class 'dict'> object. This may take some time.\n",
      "Distributing Dataframe: 100%██████████ Elapsed time: 00:00, estimated remaining time: 00:00\n",
      "\u001b[36m(_deploy_ray_func pid=65620)\u001b[0m UserWarning: Distributing <class 'dict'> object. This may take some time.\n",
      "Distributing Dataframe: 100%██████████ Elapsed time: 00:00, estimated remaining time: 00:00\n",
      "\u001b[36m(_deploy_ray_func pid=65620)\u001b[0m UserWarning: Distributing <class 'dict'> object. This may take some time.\n",
      "Distributing Dataframe: 100%██████████ Elapsed time: 00:00, estimated remaining time: 00:00\n",
      "\u001b[36m(_deploy_ray_func pid=65620)\u001b[0m UserWarning: Distributing <class 'dict'> object. This may take some time.\n",
      "Distributing Dataframe: 100%██████████ Elapsed time: 00:00, estimated remaining time: 00:00\n",
      "\u001b[36m(_deploy_ray_func pid=65620)\u001b[0m UserWarning: Distributing <class 'dict'> object. This may take some time.\n",
      "Distributing Dataframe: 100%██████████ Elapsed time: 00:00, estimated remaining time: 00:00\n",
      "\u001b[36m(_deploy_ray_func pid=65620)\u001b[0m UserWarning: Distributing <class 'dict'> object. This may take some time.\n",
      "Distributing Dataframe: 100%██████████ Elapsed time: 00:00, estimated remaining time: 00:00\n",
      "\u001b[36m(_deploy_ray_func pid=65620)\u001b[0m UserWarning: Distributing <class 'dict'> object. This may take some time.\n",
      "Distributing Dataframe: 100%██████████ Elapsed time: 00:00, estimated remaining time: 00:00\n",
      "\u001b[36m(_deploy_ray_func pid=65620)\u001b[0m UserWarning: Distributing <class 'dict'> object. This may take some time.\n",
      "Distributing Dataframe: 100%██████████ Elapsed time: 00:00, estimated remaining time: 00:00\n",
      "\u001b[36m(_deploy_ray_func pid=65620)\u001b[0m UserWarning: Distributing <class 'dict'> object. This may take some time.\n",
      "Distributing Dataframe: 100%██████████ Elapsed time: 00:00, estimated remaining time: 00:00\n",
      "\u001b[36m(_deploy_ray_func pid=65620)\u001b[0m UserWarning: Distributing <class 'dict'> object. This may take some time.\n",
      "Distributing Dataframe: 100%██████████ Elapsed time: 00:00, estimated remaining time: 00:00\n",
      "\u001b[36m(_deploy_ray_func pid=65620)\u001b[0m UserWarning: Distributing <class 'dict'> object. This may take some time.\n",
      "Distributing Dataframe: 100%██████████ Elapsed time: 00:00, estimated remaining time: 00:00\n",
      "\u001b[36m(_deploy_ray_func pid=65620)\u001b[0m UserWarning: Distributing <class 'dict'> object. This may take some time.\n",
      "Distributing Dataframe: 100%██████████ Elapsed time: 00:00, estimated remaining time: 00:00\n",
      "\u001b[36m(_deploy_ray_func pid=65620)\u001b[0m UserWarning: Distributing <class 'dict'> object. This may take some time.\n",
      "Distributing Dataframe:   0%           Elapsed time: 00:00, estimated remaining time: ?\n",
      "\u001b[36m(_deploy_ray_func pid=65614)\u001b[0m RuntimeWarning: overflow encountered in exp\u001b[32m [repeated 19x across cluster]\u001b[0m\n",
      "Distributing Dataframe: 100%██████████ Elapsed time: 00:00, estimated remaining time: 00:00\n",
      "\u001b[36m(_deploy_ray_func pid=65692)\u001b[0m UserWarning: Traceback (most recent call last):\n",
      "\u001b[36m(_deploy_ray_func pid=65692)\u001b[0m   File \"/Users/zijin/micromamba/envs/juno/lib/python3.10/site-packages/pdpipe/__init__.py\", line 85, in <module>\n",
      "\u001b[36m(_deploy_ray_func pid=65692)\u001b[0m     from . import skintegrate\n",
      "\u001b[36m(_deploy_ray_func pid=65692)\u001b[0m   File \"/Users/zijin/micromamba/envs/juno/lib/python3.10/site-packages/pdpipe/skintegrate.py\", line 20, in <module>\n",
      "\u001b[36m(_deploy_ray_func pid=65692)\u001b[0m     from sklearn.base import BaseEstimator\n",
      "\u001b[36m(_deploy_ray_func pid=65692)\u001b[0m ModuleNotFoundError: No module named 'sklearn'\n",
      "\u001b[36m(_deploy_ray_func pid=65692)\u001b[0m \n",
      "\u001b[36m(_deploy_ray_func pid=65692)\u001b[0m UserWarning: pdpipe: Scikit-learn or skutil import failed. Scikit-learn-dependent pipeline stages will not be loaded.\n",
      "\u001b[36m(_deploy_ray_func pid=65692)\u001b[0m UserWarning: Traceback (most recent call last):\n",
      "\u001b[36m(_deploy_ray_func pid=65692)\u001b[0m   File \"/Users/zijin/micromamba/envs/juno/lib/python3.10/site-packages/pdpipe/__init__.py\", line 105, in <module>\n",
      "\u001b[36m(_deploy_ray_func pid=65692)\u001b[0m     from . import nltk_stages\n",
      "\u001b[36m(_deploy_ray_func pid=65692)\u001b[0m   File \"/Users/zijin/micromamba/envs/juno/lib/python3.10/site-packages/pdpipe/nltk_stages.py\", line 19, in <module>\n",
      "\u001b[36m(_deploy_ray_func pid=65692)\u001b[0m     import nltk\n",
      "\u001b[36m(_deploy_ray_func pid=65692)\u001b[0m ModuleNotFoundError: No module named 'nltk'\n",
      "\u001b[36m(_deploy_ray_func pid=65692)\u001b[0m \n",
      "\u001b[36m(_deploy_ray_func pid=65692)\u001b[0m UserWarning: pdpipe: nltk import failed. nltk-dependent  pipeline stages will not be loaded.\n",
      "\u001b[36m(_deploy_ray_func pid=65620)\u001b[0m UserWarning: Distributing <class 'dict'> object. This may take some time.\u001b[32m [repeated 8252x across cluster]\u001b[0m\n",
      "Distributing Dataframe: 100%██████████ Elapsed time: 00:00, estimated remaining time: 00:00\u001b[32m [repeated 6935x across cluster]\u001b[0m\n",
      "Distributing Dataframe:   0%           Elapsed time: 00:00, estimated remaining time: ?\u001b[32m [repeated 1317x across cluster]\u001b[0m\n",
      "Distributing Dataframe: 100%██████████ Elapsed time: 00:00, estimated remaining time: 00:00\u001b[32m [repeated 1317x across cluster]\u001b[0m\n",
      "\u001b[36m(_deploy_ray_func pid=65620)\u001b[0m \u001b[32m [repeated 8x across cluster]\u001b[0m\n",
      "\u001b[36m(_deploy_ray_func pid=65622)\u001b[0m RuntimeWarning: overflow encountered in exp\n",
      "\u001b[36m(_deploy_ray_func pid=65692)\u001b[0m UserWarning: Distributing <class 'dict'> object. This may take some time.\u001b[32m [repeated 2130x across cluster]\u001b[0m\n",
      "Distributing Dataframe: 100%██████████ Elapsed time: 00:00, estimated remaining time: 00:00\u001b[32m [repeated 1847x across cluster]\u001b[0m\n",
      "Distributing Dataframe:   0%           Elapsed time: 00:00, estimated remaining time: ?\u001b[32m [repeated 283x across cluster]\u001b[0m\n",
      "Distributing Dataframe: 100%██████████ Elapsed time: 00:00, estimated remaining time: 00:00\u001b[32m [repeated 283x across cluster]\u001b[0m\n",
      "\u001b[36m(_deploy_ray_func pid=65618)\u001b[0m \n",
      "\u001b[36m(_deploy_ray_func pid=65621)\u001b[0m RuntimeWarning: overflow encountered in exp\u001b[32m [repeated 19x across cluster]\u001b[0m\n"
     ]
    },
    {
     "data": {
      "application/vnd.jupyter.widget-view+json": {
       "model_id": "ea486a22bc4d4a099e52aec9fabbaa86",
       "version_major": 2,
       "version_minor": 0
      },
      "text/plain": [
       "Distributing Dataframe:   0%           Elapsed time: 00:00, estimated remaining time: ?"
      ]
     },
     "metadata": {},
     "output_type": "display_data"
    },
    {
     "name": "stderr",
     "output_type": "stream",
     "text": [
      "07-Feb-24 13:38:52: Using sequential splitting in '.from_pandas()' because of some of the conditions are False: enough_elements=False; all_numeric_types=False; async_mode_on=False\n"
     ]
    },
    {
     "data": {
      "application/vnd.jupyter.widget-view+json": {
       "model_id": "bf821e6bc1444794b8d334ca60074f46",
       "version_major": 2,
       "version_minor": 0
      },
      "text/plain": [
       "Distributing Dataframe:   0%           Elapsed time: 00:00, estimated remaining time: ?"
      ]
     },
     "metadata": {},
     "output_type": "display_data"
    },
    {
     "name": "stderr",
     "output_type": "stream",
     "text": [
      "07-Feb-24 13:38:52: Using sequential splitting in '.from_pandas()' because of some of the conditions are False: enough_elements=False; all_numeric_types=True; async_mode_on=False\n"
     ]
    },
    {
     "data": {
      "application/vnd.jupyter.widget-view+json": {
       "model_id": "c78fffe2cd774c1bbeb152c67140879b",
       "version_major": 2,
       "version_minor": 0
      },
      "text/plain": [
       "Distributing Dataframe:   0%           Elapsed time: 00:00, estimated remaining time: ?"
      ]
     },
     "metadata": {},
     "output_type": "display_data"
    },
    {
     "name": "stderr",
     "output_type": "stream",
     "text": [
      "07-Feb-24 13:38:52: Using sequential splitting in '.from_pandas()' because of some of the conditions are False: enough_elements=False; all_numeric_types=False; async_mode_on=False\n"
     ]
    }
   ],
   "source": [
    "juno_events = []\n",
    "for mag_path in walk(dir_path):\n",
    "\n",
    "    juno_mag_data = pl.scan_parquet(mag_path).drop('X', 'Y', 'Z').sort('time')\n",
    "    juno_plasma_data = pl.scan_parquet(juno_state_path).sort('time')\n",
    "\n",
    "    _juno_events = (\n",
    "        IDsDataset(\n",
    "            mag_data=juno_mag_data,\n",
    "            plasma_data=juno_plasma_data,\n",
    "            tau=tau,\n",
    "            ts=ts,\n",
    "            vec_cols=vec_cols,\n",
    "        )\n",
    "        .find_events(return_best_fit=False)\n",
    "        .update_candidates_with_plasma_data()\n",
    "        .events\n",
    "    )\n",
    "    \n",
    "    juno_events.append(_juno_events)\n",
    "    \n",
    "juno_ids_dataset = IDsDataset(\n",
    "    events=pl.concat(juno_events),\n",
    "    mag_data= pl.scan_parquet(list(walk(dir_path))).drop('X', 'Y', 'Z').sort('time')\n",
    ").export(output_path)"
   ]
  },
  {
   "cell_type": "markdown",
   "metadata": {},
   "source": [
    "## Processing the whole data"
   ]
  },
  {
   "cell_type": "markdown",
   "metadata": {},
   "source": [
    "## Obsolete"
   ]
  },
  {
   "cell_type": "markdown",
   "metadata": {},
   "source": [
    "### Estimate"
   ]
  },
  {
   "cell_type": "markdown",
   "metadata": {},
   "source": [
    "1 day of data resampled by 1 sec is about 12 MB.\n",
    "\n",
    "So 1 year of data is about 4 GB, and 6 years of JUNO Cruise data is about 24 GB.\n",
    "\n",
    "Downloading rate is about 250 KB/s, so it will take about 3 days to download all the data."
   ]
  },
  {
   "cell_type": "code",
   "execution_count": null,
   "metadata": {},
   "outputs": [
    {
     "name": "stdout",
     "output_type": "stream",
     "text": [
      "Time to download: 126.53 hours\n",
      "Disk space required: 113.88 GB\n",
      "Time to process: 36.50 hours\n"
     ]
    }
   ],
   "source": [
    "num_of_files = 6*365\n",
    "jno_file_size = 12e3\n",
    "thm_file_size = 40e3\n",
    "files_size = jno_file_size + thm_file_size\n",
    "downloading_rate = 250\n",
    "processing_rate = 1/60\n",
    "\n",
    "time_to_download = num_of_files * files_size / downloading_rate / 60 / 60\n",
    "space_required = num_of_files * files_size / 1e6\n",
    "time_to_process = num_of_files / processing_rate / 60 / 60\n",
    "\n",
    "print(f\"Time to download: {time_to_download:.2f} hours\")\n",
    "print(f\"Disk space required: {space_required:.2f} GB\")\n",
    "print(f\"Time to process: {time_to_process:.2f} hours\")"
   ]
  }
 ],
 "metadata": {
  "kernelspec": {
   "display_name": "python3",
   "language": "python",
   "name": "python3"
  },
  "language_info": {
   "codemirror_mode": {
    "name": "ipython",
    "version": 3
   },
   "file_extension": ".py",
   "mimetype": "text/x-python",
   "name": "python",
   "nbconvert_exporter": "python",
   "pygments_lexer": "ipython3",
   "version": "3.10.13"
  }
 },
 "nbformat": 4,
 "nbformat_minor": 2
}
