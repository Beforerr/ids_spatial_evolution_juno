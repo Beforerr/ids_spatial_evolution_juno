{
 "cells": [
  {
   "cell_type": "code",
   "execution_count": 1,
   "metadata": {},
   "outputs": [],
   "source": [
    "%load_ext autoreload\n",
    "%autoreload 2"
   ]
  },
  {
   "cell_type": "code",
   "execution_count": 3,
   "metadata": {},
   "outputs": [],
   "source": [
    "#| hide\n",
    "from utils.config import JunoConfig, WindConfig"
   ]
  },
  {
   "cell_type": "code",
   "execution_count": 4,
   "metadata": {},
   "outputs": [
    {
     "data": {
      "text/plain": [
       "8"
      ]
     },
     "execution_count": 4,
     "metadata": {},
     "output_type": "execute_result"
    }
   ],
   "source": [
    "WindConfig().split"
   ]
  },
  {
   "cell_type": "code",
   "execution_count": 5,
   "metadata": {},
   "outputs": [
    {
     "name": "stderr",
     "output_type": "stream",
     "text": [
      "04-Mar-24 15:39:42: UserWarning: Ray execution environment not yet initialized. Initializing...\n",
      "To remove this warning, run the following python code before doing dataframe operations:\n",
      "\n",
      "    import ray\n",
      "    ray.init()\n",
      "\n",
      "\n",
      "2024-03-04 15:39:44,466\tINFO worker.py:1724 -- Started a local Ray instance.\n",
      "04-Mar-24 15:39:45: UserWarning: Distributing <class 'pandas.core.frame.DataFrame'> object. This may take some time.\n",
      "\n"
     ]
    },
    {
     "data": {
      "application/vnd.jupyter.widget-view+json": {
       "model_id": "a5a6c989303c4e838f6d4b6dc49671ca",
       "version_major": 2,
       "version_minor": 0
      },
      "text/plain": [
       "Distributing Dataframe:   0%           Elapsed time: 00:00, estimated remaining time: ?"
      ]
     },
     "metadata": {},
     "output_type": "display_data"
    },
    {
     "data": {
      "application/vnd.jupyter.widget-view+json": {
       "model_id": "8e545b89832c4383b7f88c39f1b4e692",
       "version_major": 2,
       "version_minor": 0
      },
      "text/plain": [
       "Estimated completion of line 1:   0%           Elapsed time: 00:00, estimated remaining time: ?"
      ]
     },
     "metadata": {},
     "output_type": "display_data"
    },
    {
     "name": "stderr",
     "output_type": "stream",
     "text": [
      "04-Mar-24 15:40:00: UserWarning: Distributing <class 'pandas.core.frame.DataFrame'> object. This may take some time.\n",
      "\n"
     ]
    },
    {
     "data": {
      "application/vnd.jupyter.widget-view+json": {
       "model_id": "8963d6bf0fce498cbe11bfac4f302820",
       "version_major": 2,
       "version_minor": 0
      },
      "text/plain": [
       "Distributing Dataframe:   0%           Elapsed time: 00:00, estimated remaining time: ?"
      ]
     },
     "metadata": {},
     "output_type": "display_data"
    },
    {
     "name": "stderr",
     "output_type": "stream",
     "text": [
      "04-Mar-24 15:41:02: UserWarning: Distributing <class 'pandas.core.frame.DataFrame'> object. This may take some time.\n",
      "\n"
     ]
    },
    {
     "data": {
      "application/vnd.jupyter.widget-view+json": {
       "model_id": "fc1f6983693e4eeaa38740ebe7d72db7",
       "version_major": 2,
       "version_minor": 0
      },
      "text/plain": [
       "Distributing Dataframe:   0%           Elapsed time: 00:00, estimated remaining time: ?"
      ]
     },
     "metadata": {},
     "output_type": "display_data"
    },
    {
     "name": "stderr",
     "output_type": "stream",
     "text": [
      "04-Mar-24 15:41:07: RuntimeWarning: invalid value encountered in divide\n",
      "\n",
      "04-Mar-24 15:41:47: UserWarning: Distributing <class 'pandas.core.frame.DataFrame'> object. This may take some time.\n",
      "\n"
     ]
    },
    {
     "data": {
      "application/vnd.jupyter.widget-view+json": {
       "model_id": "ffbe850d4af241dca00819b6be052d7b",
       "version_major": 2,
       "version_minor": 0
      },
      "text/plain": [
       "Distributing Dataframe:   0%           Elapsed time: 00:00, estimated remaining time: ?"
      ]
     },
     "metadata": {},
     "output_type": "display_data"
    },
    {
     "name": "stderr",
     "output_type": "stream",
     "text": [
      "04-Mar-24 15:42:09: UserWarning: Distributing <class 'pandas.core.frame.DataFrame'> object. This may take some time.\n",
      "\n"
     ]
    },
    {
     "data": {
      "application/vnd.jupyter.widget-view+json": {
       "model_id": "8174cea6cb9a44e5bc65811dc75f2a2e",
       "version_major": 2,
       "version_minor": 0
      },
      "text/plain": [
       "Distributing Dataframe:   0%           Elapsed time: 00:00, estimated remaining time: ?"
      ]
     },
     "metadata": {},
     "output_type": "display_data"
    },
    {
     "name": "stderr",
     "output_type": "stream",
     "text": [
      "04-Mar-24 15:42:12: RuntimeWarning: invalid value encountered in divide\n",
      "\n",
      "04-Mar-24 15:42:48: UserWarning: Distributing <class 'pandas.core.frame.DataFrame'> object. This may take some time.\n",
      "\n"
     ]
    },
    {
     "data": {
      "application/vnd.jupyter.widget-view+json": {
       "model_id": "448d995dcb254741869ce59788f4ee2f",
       "version_major": 2,
       "version_minor": 0
      },
      "text/plain": [
       "Distributing Dataframe:   0%           Elapsed time: 00:00, estimated remaining time: ?"
      ]
     },
     "metadata": {},
     "output_type": "display_data"
    },
    {
     "name": "stderr",
     "output_type": "stream",
     "text": [
      "04-Mar-24 15:42:49: RuntimeWarning: invalid value encountered in divide\n",
      "\n",
      "04-Mar-24 15:43:05: UserWarning: Distributing <class 'pandas.core.frame.DataFrame'> object. This may take some time.\n",
      "\n"
     ]
    },
    {
     "data": {
      "application/vnd.jupyter.widget-view+json": {
       "model_id": "48aa6ece2cb5435082e405efd4a0f8aa",
       "version_major": 2,
       "version_minor": 0
      },
      "text/plain": [
       "Distributing Dataframe:   0%           Elapsed time: 00:00, estimated remaining time: ?"
      ]
     },
     "metadata": {},
     "output_type": "display_data"
    },
    {
     "name": "stderr",
     "output_type": "stream",
     "text": [
      "04-Mar-24 15:43:43: UserWarning: Distributing <class 'pandas.core.frame.DataFrame'> object. This may take some time.\n",
      "\n"
     ]
    },
    {
     "data": {
      "application/vnd.jupyter.widget-view+json": {
       "model_id": "b5a55441bc484536ba70befbe7c61c7b",
       "version_major": 2,
       "version_minor": 0
      },
      "text/plain": [
       "Distributing Dataframe:   0%           Elapsed time: 00:00, estimated remaining time: ?"
      ]
     },
     "metadata": {},
     "output_type": "display_data"
    },
    {
     "name": "stderr",
     "output_type": "stream",
     "text": [
      "\u001b[32m2024-03-04 15:43:44.779\u001b[0m | \u001b[1mINFO    \u001b[0m | \u001b[36mdiscontinuitypy.datasets\u001b[0m:\u001b[36mwrite\u001b[0m:\u001b[36m40\u001b[0m - \u001b[1mDataframe written to ../data/05_reporting/events.JNO.derivative.ts_0.12s_tau_60s.arrow\u001b[0m\n"
     ]
    },
    {
     "data": {
      "text/plain": [
       "JunoConfig(name='JNO', data=<LazyFrame [4 cols, {\"time\": Datetime(time_unit='us', time_zone=None) … \"BZ SE\": Float64}] at 0x29AD20050>, ts=datetime.timedelta(microseconds=125000), tau=datetime.timedelta(seconds=60), events=shape: (94_095, 90)\n",
       "┌─────────────┬────────────┬─────┬──────────┬───┬────────────┬───────────┬────────────┬────────────┐\n",
       "│ time        ┆ index_diff ┆ len ┆ std      ┆ … ┆ v.ion.chan ┆ B.change  ┆ v.Alfven.c ┆ v.Alfven.c │\n",
       "│ ---         ┆ ---        ┆ --- ┆ ---      ┆   ┆ ge.l       ┆ ---       ┆ hange      ┆ hange.l    │\n",
       "│ datetime[ns ┆ f64        ┆ u32 ┆ f64      ┆   ┆ ---        ┆ f64       ┆ ---        ┆ ---        │\n",
       "│ ]           ┆            ┆     ┆          ┆   ┆ f64        ┆           ┆ f64        ┆ f64        │\n",
       "╞═════════════╪════════════╪═════╪══════════╪═══╪════════════╪═══════════╪════════════╪════════════╡\n",
       "│ 2011-08-25  ┆ 1.285665   ┆ 480 ┆ 2.59288  ┆ … ┆ NaN        ┆ -0.027436 ┆ NaN        ┆ NaN        │\n",
       "│ 15:25:30    ┆            ┆     ┆          ┆   ┆            ┆           ┆            ┆            │\n",
       "│ 2011-08-25  ┆ 1.367783   ┆ 480 ┆ 2.393473 ┆ … ┆ NaN        ┆ 0.063919  ┆ NaN        ┆ NaN        │\n",
       "│ 15:33:00    ┆            ┆     ┆          ┆   ┆            ┆           ┆            ┆            │\n",
       "│ 2011-08-25  ┆ 1.732598   ┆ 480 ┆ 2.20969  ┆ … ┆ NaN        ┆ 0.063919  ┆ NaN        ┆ NaN        │\n",
       "│ 15:33:30    ┆            ┆     ┆          ┆   ┆            ┆           ┆            ┆            │\n",
       "│ 2011-08-25  ┆ 1.367783   ┆ 480 ┆ 2.393473 ┆ … ┆ NaN        ┆ 0.063919  ┆ NaN        ┆ NaN        │\n",
       "│ 15:33:00    ┆            ┆     ┆          ┆   ┆            ┆           ┆            ┆            │\n",
       "│ 2011-08-25  ┆ 1.732598   ┆ 480 ┆ 2.20969  ┆ … ┆ NaN        ┆ 0.063919  ┆ NaN        ┆ NaN        │\n",
       "│ 15:33:30    ┆            ┆     ┆          ┆   ┆            ┆           ┆            ┆            │\n",
       "│ …           ┆ …          ┆ …   ┆ …        ┆ … ┆ …          ┆ …         ┆ …          ┆ …          │\n",
       "│ 2016-06-29  ┆ 1.157213   ┆ 480 ┆ 2.515025 ┆ … ┆ -0.000003  ┆ 0.876779  ┆ 110.19698  ┆ 96.402675  │\n",
       "│ 21:32:00    ┆            ┆     ┆          ┆   ┆            ┆           ┆            ┆            │\n",
       "│ 2016-06-29  ┆ 0.503273   ┆ 480 ┆ 2.069719 ┆ … ┆ 0.000279   ┆ 0.23649   ┆ 29.420787  ┆ -44.259203 │\n",
       "│ 23:32:30    ┆            ┆     ┆          ┆   ┆            ┆           ┆            ┆            │\n",
       "│ 2016-06-29  ┆ 0.419015   ┆ 480 ┆ 1.268489 ┆ … ┆ NaN        ┆ 0.332181  ┆ NaN        ┆ NaN        │\n",
       "│ 23:34:30    ┆            ┆     ┆          ┆   ┆            ┆           ┆            ┆            │\n",
       "│ 2016-06-29  ┆ 1.162055   ┆ 480 ┆ 2.828158 ┆ … ┆ NaN        ┆ 0.494918  ┆ NaN        ┆ NaN        │\n",
       "│ 23:38:00    ┆            ┆     ┆          ┆   ┆            ┆           ┆            ┆            │\n",
       "│ 2016-06-29  ┆ 0.419085   ┆ 480 ┆ 1.253931 ┆ … ┆ -0.000551  ┆ 0.097244  ┆ 12.077924  ┆ 110.593502 │\n",
       "│ 23:50:30    ┆            ┆     ┆          ┆   ┆            ┆           ┆            ┆            │\n",
       "└─────────────┴────────────┴─────┴──────────┴───┴────────────┴───────────┴────────────┴────────────┘, method='derivative', mag_meta=Meta(dataset=None, parameters=None), bcols=None, plasma_data=<LazyFrame [14 cols, {\"radial_distance\": Float64 … \"B_background_z\": Float64}] at 0x2C17DCE50>, plasma_meta=PlasmaMeta(dataset=None, parameters=None, density_col='plasma_density', velocity_cols=['v_x', 'v_y', 'v_z'], speed_col=None, temperature_col=None), ion_temp_data=None, ion_temp_meta=TempMeta(dataset=None, parameters=None, para_col=None, perp_cols=None), e_temp_data=None, e_temp_meta=TempMeta(dataset=None, parameters=None, para_col=None, perp_cols=None), timerange=[datetime.datetime(2011, 8, 25, 0, 0, tzinfo=TzInfo(UTC)), datetime.datetime(2016, 6, 30, 0, 0, tzinfo=TzInfo(UTC))], split=8, fmt='arrow')"
      ]
     },
     "execution_count": 5,
     "metadata": {},
     "output_type": "execute_result"
    }
   ],
   "source": [
    "JunoConfig(ts=0.125, method='derivative').get_and_process_data().export()"
   ]
  },
  {
   "cell_type": "code",
   "execution_count": 6,
   "metadata": {},
   "outputs": [
    {
     "data": {
      "text/plain": [
       "Path('../data/05_reporting/events.JNO.derivative.ts_0.12s_tau_60s.arrow')"
      ]
     },
     "execution_count": 6,
     "metadata": {},
     "output_type": "execute_result"
    }
   ],
   "source": [
    "JunoConfig(ts=0.125, method='derivative').path"
   ]
  },
  {
   "cell_type": "code",
   "execution_count": null,
   "metadata": {},
   "outputs": [],
   "source": [
    "JunoConfig(ts=0.125).get_and_process_data().export()\n",
    "JunoConfig(method='derivative').get_and_process_data().export()\n",
    "JunoConfig(ts=0.125, method='derivative').get_and_process_data().export()"
   ]
  },
  {
   "cell_type": "code",
   "execution_count": null,
   "metadata": {},
   "outputs": [],
   "source": [
    "WindConfig().get_and_process_data()"
   ]
  }
 ],
 "metadata": {
  "kernelspec": {
   "display_name": "Python 3",
   "language": "python",
   "name": "python3"
  },
  "language_info": {
   "codemirror_mode": {
    "name": "ipython",
    "version": 3
   },
   "file_extension": ".py",
   "mimetype": "text/x-python",
   "name": "python",
   "nbconvert_exporter": "python",
   "pygments_lexer": "ipython3",
   "version": "3.11.7"
  }
 },
 "nbformat": 4,
 "nbformat_minor": 2
}
