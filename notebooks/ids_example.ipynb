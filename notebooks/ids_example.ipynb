{
  "cells": [
    {
      "cell_type": "raw",
      "metadata": {},
      "source": [
        "---\n",
        "title: Examples of discontinuities (publication plot)\n",
        "---"
      ],
      "id": "51595463"
    },
    {
      "cell_type": "code",
      "metadata": {},
      "source": [
        "import sys\n",
        "import yaml\n",
        "\n",
        "from space_analysis.ds.tplot import Config, export, process_panel\n",
        "\n",
        "import matplotlib.pyplot as plt\n",
        "import scienceplots\n",
        "\n",
        "plt.style.use([\"science\", \"nature\", \"notebook\"])\n",
        "plt.rc(\"savefig\", dpi=300)\n",
        "plt.rc('figure.subplot', wspace = 0, hspace = 0)"
      ],
      "id": "e1151383",
      "execution_count": null,
      "outputs": []
    },
    {
      "cell_type": "code",
      "metadata": {},
      "source": [
        "file_path = sys.argv[1]"
      ],
      "id": "9cf9bb31",
      "execution_count": null,
      "outputs": []
    },
    {
      "cell_type": "code",
      "metadata": {},
      "source": [
        "config = yaml.load(open(file_path), Loader=yaml.FullLoader)\n",
        "config = Config(**config)\n",
        "tvars2plot = []"
      ],
      "id": "373d5120",
      "execution_count": null,
      "outputs": []
    },
    {
      "cell_type": "code",
      "metadata": {},
      "source": [
        "for p_config in config.panels:\n",
        "    tvar2plot = process_panel(p_config)\n",
        "    tvars2plot.append(tvar2plot)"
      ],
      "id": "f364bdd5",
      "execution_count": null,
      "outputs": []
    },
    {
      "cell_type": "code",
      "metadata": {},
      "source": [
        "export(tvars2plot, config)"
      ],
      "id": "144adf3c",
      "execution_count": null,
      "outputs": []
    }
  ],
  "metadata": {
    "kernelspec": {
      "name": "python3",
      "language": "python",
      "display_name": "Python 3 (ipykernel)"
    }
  },
  "nbformat": 4,
  "nbformat_minor": 5
}