{
 "cells": [
  {
   "cell_type": "markdown",
   "metadata": {},
   "source": [
    "---\n",
    "title: Mission Pipeline\n",
    "subtitle: Mission impossible\n",
    "description: Mission pipeline process data from a specific mission.\n",
    "---\n",
    "\n",
    "Generally, it includes the following steps:\n",
    "\n",
    "- combine features from different sources/instruments (magnetic field, state data, etc.)\n",
    "- generate new features\n",
    "\n",
    "Additional components:\n",
    "\n",
    "- `create_events_pipeline` | `create_candidate_pipeline` \n",
    "    - `create_sw_events_pipeline` : (Optional) pipeline for solar wind candidates (used in mission `JUNO` and `ARTEMIS`) to exclude events that may be influenced by planetary magnetosphere.\n",
    "\n"
   ]
  },
  {
   "cell_type": "code",
   "execution_count": 1,
   "metadata": {},
   "outputs": [],
   "source": [
    "#| default_exp pipelines/default/mission"
   ]
  },
  {
   "cell_type": "code",
   "execution_count": 2,
   "metadata": {},
   "outputs": [],
   "source": [
    "#| export\n",
    "from discontinuitypy import PARAMS\n",
    "import polars as pl\n",
    "import polars.selectors as cs\n",
    "\n",
    "from typing import Optional"
   ]
  },
  {
   "cell_type": "markdown",
   "metadata": {},
   "source": [
    "## Pipelines"
   ]
  },
  {
   "cell_type": "code",
   "execution_count": null,
   "metadata": {},
   "outputs": [],
   "source": [
    "from discontinuitypy.integration import combine_features, calc_combined_features"
   ]
  },
  {
   "cell_type": "code",
   "execution_count": 1,
   "metadata": {},
   "outputs": [],
   "source": [
    "#| export\n",
    "from kedro.pipeline import Pipeline, node\n",
    "from kedro.pipeline.modular_pipeline import pipeline\n",
    "from discontinuitypy.utils.basic import load_params"
   ]
  },
  {
   "cell_type": "code",
   "execution_count": null,
   "metadata": {},
   "outputs": [],
   "source": [
    "# | export\n",
    "def create_combined_data_pipeline(\n",
    "    sat_id, # satellite id, used for namespace\n",
    "    params : Optional[dict] = None,\n",
    "    **kwargs\n",
    ") -> Pipeline:\n",
    "    \n",
    "    if params is None:\n",
    "        params = PARAMS\n",
    "    \n",
    "    tau = params[\"tau\"]\n",
    "    ts_mag = params[sat_id][\"MAG\"].get(\"time_resolution\", 0)\n",
    "    ts_state = params[sat_id][\"STATE\"].get(\"time_resolution\", 0)\n",
    "    \n",
    "    ts_mag_str = f\"ts_{ts_mag}s\"\n",
    "    ts_state_str = f\"ts_{ts_state}s\"\n",
    "    tau_str = f\"tau_{tau}s\"\n",
    "\n",
    "    node_combine_features = node(\n",
    "        combine_features,\n",
    "        inputs=[\n",
    "            f\"MAG.feature_{ts_mag_str}_{tau_str}\",\n",
    "            f\"STATE.primary_data_{ts_state_str}\",\n",
    "        ],\n",
    "        outputs=\"combined_data\",\n",
    "    )\n",
    "\n",
    "    node_calc_new_features = node(\n",
    "        calc_combined_features,\n",
    "        inputs=\"combined_data\",\n",
    "        outputs=f\"events_{ts_mag_str}_{tau_str}\",\n",
    "    )\n",
    "\n",
    "    nodes = [node_combine_features, node_calc_new_features]\n",
    "    return pipeline(\n",
    "        nodes,\n",
    "        namespace=sat_id,\n",
    "        outputs={\n",
    "            f\"events_{ts_mag_str}_{tau_str}\": f\"events.{sat_id}_{ts_mag_str}_{tau_str}\",\n",
    "        }\n",
    "    )"
   ]
  }
 ],
 "metadata": {
  "kernelspec": {
   "display_name": "cool_planet",
   "language": "python",
   "name": "python3"
  },
  "language_info": {
   "codemirror_mode": {
    "name": "ipython",
    "version": 3
   },
   "file_extension": ".py",
   "mimetype": "text/x-python",
   "name": "python",
   "nbconvert_exporter": "python",
   "pygments_lexer": "ipython3",
   "version": "3.10.12"
  }
 },
 "nbformat": 4,
 "nbformat_minor": 2
}
