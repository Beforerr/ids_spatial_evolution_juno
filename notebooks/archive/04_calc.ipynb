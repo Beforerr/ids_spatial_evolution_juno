{
 "cells": [
  {
   "cell_type": "code",
   "execution_count": 3,
   "metadata": {},
   "outputs": [
    {
     "name": "stdout",
     "output_type": "stream",
     "text": [
      "0.09578833155943636 rad / s\n",
      "721.1037659776023 rad / s\n",
      "415741.0793626498 m\n"
     ]
    },
    {
     "data": {
      "text/latex": [
       "$39812.305 \\; \\mathrm{\\frac{m}{s}}$"
      ],
      "text/plain": [
       "<Quantity 39812.30459917 m / s>"
      ]
     },
     "execution_count": 3,
     "metadata": {},
     "output_type": "execute_result"
    }
   ],
   "source": [
    "from plasmapy.formulary import gyrofrequency, plasma_frequency, Alfven_speed\n",
    "from plasmapy.formulary.lengths import inertial_length\n",
    "from astropy import units as u\n",
    "\n",
    "B = 1 * u.nT\n",
    "n = 0.3 * u.cm**-3\n",
    "\n",
    "print(gyrofrequency(B, particle='p+'))\n",
    "print(plasma_frequency(n, particle='p+'))\n",
    "print(inertial_length(n, particle='p+'))\n",
    "\n",
    "Alfven_speed(B, n, ion='p+')"
   ]
  },
  {
   "cell_type": "code",
   "execution_count": null,
   "metadata": {},
   "outputs": [],
   "source": []
  }
 ],
 "metadata": {
  "kernelspec": {
   "display_name": "Python 3",
   "language": "python",
   "name": "python3"
  },
  "language_info": {
   "codemirror_mode": {
    "name": "ipython",
    "version": 3
   },
   "file_extension": ".py",
   "mimetype": "text/x-python",
   "name": "python",
   "nbconvert_exporter": "python",
   "pygments_lexer": "ipython3",
   "version": "3.11.7"
  }
 },
 "nbformat": 4,
 "nbformat_minor": 2
}
