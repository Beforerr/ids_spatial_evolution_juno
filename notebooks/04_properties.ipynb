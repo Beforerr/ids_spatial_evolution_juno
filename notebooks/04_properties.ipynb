{
 "cells": [
  {
   "cell_type": "markdown",
   "metadata": {},
   "source": [
    "---\n",
    "title: \"SWD Properties\"\n",
    "---"
   ]
  },
  {
   "cell_type": "markdown",
   "metadata": {},
   "source": [
    "## Setup"
   ]
  },
  {
   "cell_type": "code",
   "execution_count": 2,
   "metadata": {},
   "outputs": [],
   "source": [
    "#| hide\n",
    "import polars as pl\n",
    "import polars.selectors as cs\n",
    "from loguru import logger"
   ]
  },
  {
   "cell_type": "code",
   "execution_count": 3,
   "metadata": {},
   "outputs": [],
   "source": [
    "#| hide\n",
    "%load_ext autoreload\n",
    "%autoreload 2"
   ]
  },
  {
   "cell_type": "markdown",
   "metadata": {},
   "source": [
    "Connect `python` with `R` kernel"
   ]
  },
  {
   "cell_type": "code",
   "execution_count": 4,
   "metadata": {},
   "outputs": [
    {
     "name": "stderr",
     "output_type": "stream",
     "text": [
      "R[write to console]: \n",
      "Attaching package: ‘dplyr’\n",
      "\n",
      "\n",
      "R[write to console]: The following objects are masked from ‘package:stats’:\n",
      "\n",
      "    filter, lag\n",
      "\n",
      "\n",
      "R[write to console]: The following objects are masked from ‘package:base’:\n",
      "\n",
      "    intersect, setdiff, setequal, union\n",
      "\n",
      "\n",
      "R[write to console]: Learn more about the underlying theory at https://ggplot2-book.org/\n",
      "\n"
     ]
    }
   ],
   "source": [
    "from beforerr.r import py2rpy_polars\n",
    "import rpy2.robjects as robjects\n",
    "\n",
    "%load_ext rpy2.ipython\n",
    "\n",
    "r = robjects.r\n",
    "r.source('utils.R')\n",
    "\n",
    "conv_pl = py2rpy_polars()"
   ]
  },
  {
   "cell_type": "markdown",
   "metadata": {},
   "source": [
    "## Processing datasets"
   ]
  },
  {
   "cell_type": "code",
   "execution_count": 5,
   "metadata": {},
   "outputs": [],
   "source": [
    "ts = 1 # unit: seconds\n",
    "tau = 60 # unit: seconds\n",
    "data_dir = \"../data\"\n",
    "format = \"arrow\""
   ]
  },
  {
   "cell_type": "code",
   "execution_count": 6,
   "metadata": {},
   "outputs": [],
   "source": [
    "parameters = ['j0_k', 'j0_k_norm',  'L_k_fit', 'L_k', 'L_k_fit_norm', 'L_k_norm']"
   ]
  },
  {
   "cell_type": "code",
   "execution_count": 7,
   "metadata": {},
   "outputs": [
    {
     "name": "stderr",
     "output_type": "stream",
     "text": [
      "\u001b[32m2024-02-16 17:23:54.747\u001b[0m | \u001b[1mINFO    \u001b[0m | \u001b[36m__main__\u001b[0m:\u001b[36m<module>\u001b[0m:\u001b[36m26\u001b[0m - \u001b[1mColumns: ['time', 'tstart', 'tstop', 'd_tstart', 'd_tstop', 'd_time', 'time_before', 'time_after', 'duration', 'count', 'B_std', 'B_mean', 'dB_vec', 'index_diff', 'index_std', 'index_fluctuation', 'B.after', 'B.before', 'b_mag', 'b_n', 'bn_over_b', 'd_star', 'db_mag', 'db_over_b', 'db_over_b_max', 'fit.stat.chisqr', 'fit.stat.rsquared', 'fit.vars.amplitude', 'fit.vars.c', 'fit.vars.sigma', 'rotation_angle', 'dB_x', 'dB_y', 'dB_z', 'dB_lmn_x', 'dB_lmn_y', 'dB_lmn_z', 'k_x', 'k_y', 'k_z', 'Vl_x', 'Vl_y', 'Vl_z', 'Vn_x', 'Vn_y', 'Vn_z', 'plasma_density', 'VX (GSM)', 'VY (GSM)', 'VZ (GSM)', 'SW Vth', 'plasma_speed', 'plasma_temperature', 'VX (GSM)_before', 'VY (GSM)_before', 'VZ (GSM)_before', 'n.before', 'v.ion.before', 'T.before', 'VX (GSM)_after', 'VY (GSM)_after', 'VZ (GSM)_after', 'n.after', 'v.ion.after', 'T.after', 'v_l', 'v_n', 'v_k', 'v_mn', 'L_k_fit', 'L_n', 'L_mn', 'L_k', 'j0_mn', 'j0_k', 'ion_inertial_length', 'Alfven_speed', 'j_Alfven', 'L_k_norm', 'L_k_fit_norm', 'L_n_norm', 'L_mn_norm', 'j0_mn_norm', 'j0_k_norm', 'v.ion.before.l', 'v.ion.after.l', 'B.vec.before.l', 'B.vec.before.m', 'B.vec.before.n', 'B.vec.after.l', 'B.vec.after.m', 'B.vec.after.n', 'v.Alfven.before', 'v.Alfven.after', 'v.Alfven.before.l', 'v.Alfven.after.l', 'n.change', 'v.ion.change', 'v.ion.change.l', 'T.change', 'B.change', 'v.Alfven.change', 'v.Alfven.change.l', 'sat', 'ts', 'method', 'ts_method', 'label', 'proton_number_density', 'proton_Vr_RTN', 'proton_Vt_RTN', 'proton_Vn_RTN', 'proton_Vr_RTN_before', 'proton_Vt_RTN_before', 'proton_Vn_RTN_before', 'proton_Vr_RTN_after', 'proton_Vt_RTN_after', 'proton_Vn_RTN_after']\u001b[0m\n"
     ]
    }
   ],
   "source": [
    "def load_events(name: str, ts: float, tau: float, method ='derivative') -> pl.DataFrame:\n",
    "    if method == 'derivative':\n",
    "        format = 'parquet'\n",
    "        filepath = f\"{data_dir}/08_reporting/events/l1/{name}_ts_{ts}s_tau_{tau}s.{format}\"\n",
    "        df = pl.scan_parquet(filepath)\n",
    "    elif method == 'fit':\n",
    "        format = 'arrow'\n",
    "        filepath = f\"{data_dir}/05_reporting/events.{name}.ts_{ts:.2f}s_tau_{tau}s.{format}\"\n",
    "        df = pl.read_ipc(filepath).lazy()\n",
    "    return df.drop_nulls().with_columns(\n",
    "        pl.col(parameters).abs(),\n",
    "        sat = pl.lit(name),\n",
    "        ts = pl.lit(f'{ts}s'),\n",
    "        method = pl.lit(method),\n",
    "        ts_method = pl.lit(f'{ts}s {method}'),\n",
    "        label = pl.lit(f'{name} {ts}s {method}')\n",
    "    ).collect()\n",
    "    # .with_columns(cs.numeric().cast(pl.Float64))\n",
    "    \n",
    "wind_df = load_events('Wind', 1, 60, 'fit')\n",
    "sta_df = load_events('STA', 1, 60, 'fit')\n",
    "jno_df = load_events('JNO', 1, 60, 'fit')\n",
    "\n",
    "other_events = pl.concat([wind_df, sta_df], how='diagonal')\n",
    "\n",
    "logger.info(f\"Columns: {other_events.columns}\")"
   ]
  },
  {
   "cell_type": "markdown",
   "metadata": {},
   "source": [
    "Some extreme values are present in the data. We will remove them."
   ]
  },
  {
   "cell_type": "code",
   "execution_count": 8,
   "metadata": {},
   "outputs": [
    {
     "name": "stderr",
     "output_type": "stream",
     "text": [
      "\u001b[32m2024-02-16 17:23:54.760\u001b[0m | \u001b[1mINFO    \u001b[0m | \u001b[36m__main__\u001b[0m:\u001b[36mcheck_candidates\u001b[0m:\u001b[36m6\u001b[0m - \u001b[1m['time', 'tstart', 'tstop', 'd_tstart', 'd_tstop', 'd_time', 'time_before', 'time_after', 'duration', 'count', 'B_std', 'B_mean', 'dB_vec', 'index_diff', 'index_std', 'index_fluctuation', 'B.after', 'B.before', 'b_mag', 'b_n', 'bn_over_b', 'd_star', 'db_mag', 'db_over_b', 'db_over_b_max', 'fit.stat.chisqr', 'fit.stat.rsquared', 'fit.vars.amplitude', 'fit.vars.c', 'fit.vars.sigma', 'rotation_angle', 'dB_x', 'dB_y', 'dB_z', 'dB_lmn_x', 'dB_lmn_y', 'dB_lmn_z', 'k_x', 'k_y', 'k_z', 'Vl_x', 'Vl_y', 'Vl_z', 'Vn_x', 'Vn_y', 'Vn_z', 'radial_distance', 'plasma_density', 'plasma_temperature', 'model_b_r', 'model_b_t', 'model_b_n', 'v_x', 'v_y', 'v_z', 'plasma_speed', 'B_background_x', 'B_background_y', 'B_background_z', 'v_x_before', 'v_y_before', 'v_z_before', 'n.before', 'v.ion.before', 'T.before', 'v_x_after', 'v_y_after', 'v_z_after', 'n.after', 'v.ion.after', 'T.after', 'v_l', 'v_n', 'v_k', 'v_mn', 'L_k_fit', 'L_n', 'L_mn', 'L_k', 'j0_mn', 'j0_k', 'ion_inertial_length', 'Alfven_speed', 'j_Alfven', 'L_k_norm', 'L_k_fit_norm', 'L_n_norm', 'L_mn_norm', 'j0_mn_norm', 'j0_k_norm', 'v.ion.before.l', 'v.ion.after.l', 'B.vec.before.l', 'B.vec.before.m', 'B.vec.before.n', 'B.vec.after.l', 'B.vec.after.m', 'B.vec.after.n', 'v.Alfven.before', 'v.Alfven.after', 'v.Alfven.before.l', 'v.Alfven.after.l', 'n.change', 'v.ion.change', 'v.ion.change.l', 'T.change', 'B.change', 'v.Alfven.change', 'v.Alfven.change.l', 'sat', 'ts', 'method', 'ts_method', 'label']\u001b[0m\n"
     ]
    },
    {
     "data": {
      "text/html": [
       "<div><style>\n",
       ".dataframe > thead > tr,\n",
       ".dataframe > tbody > tr {\n",
       "  text-align: right;\n",
       "  white-space: pre-wrap;\n",
       "}\n",
       "</style>\n",
       "<small>shape: (9, 9)</small><table border=\"1\" class=\"dataframe\"><thead><tr><th>statistic</th><th>time</th><th>sat</th><th>j0_k</th><th>j0_k_norm</th><th>L_k_fit</th><th>L_k</th><th>L_k_fit_norm</th><th>L_k_norm</th></tr><tr><td>str</td><td>str</td><td>str</td><td>f64</td><td>f64</td><td>f64</td><td>f64</td><td>f64</td><td>f64</td></tr></thead><tbody><tr><td>&quot;count&quot;</td><td>&quot;63143&quot;</td><td>&quot;63143&quot;</td><td>63143.0</td><td>63143.0</td><td>63143.0</td><td>63143.0</td><td>63143.0</td><td>63143.0</td></tr><tr><td>&quot;null_count&quot;</td><td>&quot;0&quot;</td><td>&quot;0&quot;</td><td>0.0</td><td>0.0</td><td>0.0</td><td>0.0</td><td>0.0</td><td>0.0</td></tr><tr><td>&quot;mean&quot;</td><td>&quot;2013-05-14 11:…</td><td>null</td><td>82.27062</td><td>4.421198</td><td>13584.588436</td><td>9410.339035</td><td>66.485861</td><td>45.121054</td></tr><tr><td>&quot;std&quot;</td><td>null</td><td>null</td><td>14379.63164</td><td>502.18201</td><td>71124.942703</td><td>5438.269571</td><td>378.126838</td><td>34.72957</td></tr><tr><td>&quot;min&quot;</td><td>&quot;2011-08-25 16:…</td><td>&quot;JNO&quot;</td><td>0.000044</td><td>0.000002</td><td>0.000145</td><td>1.187819</td><td>0.000001</td><td>0.001187</td></tr><tr><td>&quot;25%&quot;</td><td>&quot;2012-03-08 20:…</td><td>null</td><td>0.141089</td><td>0.021349</td><td>684.287668</td><td>5123.132655</td><td>2.892811</td><td>20.526554</td></tr><tr><td>&quot;50%&quot;</td><td>&quot;2013-03-05 15:…</td><td>null</td><td>0.326004</td><td>0.051113</td><td>1486.867028</td><td>8643.437318</td><td>6.428969</td><td>36.506577</td></tr><tr><td>&quot;75%&quot;</td><td>&quot;2014-03-11 18:…</td><td>null</td><td>0.810645</td><td>0.11534</td><td>3614.292659</td><td>12991.083881</td><td>16.255481</td><td>59.95483</td></tr><tr><td>&quot;max&quot;</td><td>&quot;2016-06-29 23:…</td><td>&quot;JNO&quot;</td><td>3.5708e6</td><td>93596.16631</td><td>2.5404e6</td><td>42775.89897</td><td>10409.01271</td><td>382.018872</td></tr></tbody></table></div>"
      ],
      "text/plain": [
       "shape: (9, 9)\n",
       "┌────────────┬────────────┬───────┬────────────┬───┬───────────┬───────────┬───────────┬───────────┐\n",
       "│ statistic  ┆ time       ┆ sat   ┆ j0_k       ┆ … ┆ L_k_fit   ┆ L_k       ┆ L_k_fit_n ┆ L_k_norm  │\n",
       "│ ---        ┆ ---        ┆ ---   ┆ ---        ┆   ┆ ---       ┆ ---       ┆ orm       ┆ ---       │\n",
       "│ str        ┆ str        ┆ str   ┆ f64        ┆   ┆ f64       ┆ f64       ┆ ---       ┆ f64       │\n",
       "│            ┆            ┆       ┆            ┆   ┆           ┆           ┆ f64       ┆           │\n",
       "╞════════════╪════════════╪═══════╪════════════╪═══╪═══════════╪═══════════╪═══════════╪═══════════╡\n",
       "│ count      ┆ 63143      ┆ 63143 ┆ 63143.0    ┆ … ┆ 63143.0   ┆ 63143.0   ┆ 63143.0   ┆ 63143.0   │\n",
       "│ null_count ┆ 0          ┆ 0     ┆ 0.0        ┆ … ┆ 0.0       ┆ 0.0       ┆ 0.0       ┆ 0.0       │\n",
       "│ mean       ┆ 2013-05-14 ┆ null  ┆ 82.27062   ┆ … ┆ 13584.588 ┆ 9410.3390 ┆ 66.485861 ┆ 45.121054 │\n",
       "│            ┆ 11:34:14.1 ┆       ┆            ┆   ┆ 436       ┆ 35        ┆           ┆           │\n",
       "│            ┆ 49786      ┆       ┆            ┆   ┆           ┆           ┆           ┆           │\n",
       "│ std        ┆ null       ┆ null  ┆ 14379.6316 ┆ … ┆ 71124.942 ┆ 5438.2695 ┆ 378.12683 ┆ 34.72957  │\n",
       "│            ┆            ┆       ┆ 4          ┆   ┆ 703       ┆ 71        ┆ 8         ┆           │\n",
       "│ min        ┆ 2011-08-25 ┆ JNO   ┆ 0.000044   ┆ … ┆ 0.000145  ┆ 1.187819  ┆ 0.000001  ┆ 0.001187  │\n",
       "│            ┆ 16:12:00   ┆       ┆            ┆   ┆           ┆           ┆           ┆           │\n",
       "│ 25%        ┆ 2012-03-08 ┆ null  ┆ 0.141089   ┆ … ┆ 684.28766 ┆ 5123.1326 ┆ 2.892811  ┆ 20.526554 │\n",
       "│            ┆ 20:15:00   ┆       ┆            ┆   ┆ 8         ┆ 55        ┆           ┆           │\n",
       "│ 50%        ┆ 2013-03-05 ┆ null  ┆ 0.326004   ┆ … ┆ 1486.8670 ┆ 8643.4373 ┆ 6.428969  ┆ 36.506577 │\n",
       "│            ┆ 15:06:00   ┆       ┆            ┆   ┆ 28        ┆ 18        ┆           ┆           │\n",
       "│ 75%        ┆ 2014-03-11 ┆ null  ┆ 0.810645   ┆ … ┆ 3614.2926 ┆ 12991.083 ┆ 16.255481 ┆ 59.95483  │\n",
       "│            ┆ 18:24:00   ┆       ┆            ┆   ┆ 59        ┆ 881       ┆           ┆           │\n",
       "│ max        ┆ 2016-06-29 ┆ JNO   ┆ 3.5708e6   ┆ … ┆ 2.5404e6  ┆ 42775.898 ┆ 10409.012 ┆ 382.01887 │\n",
       "│            ┆ 23:50:30   ┆       ┆            ┆   ┆           ┆ 97        ┆ 71        ┆ 2         │\n",
       "└────────────┴────────────┴───────┴────────────┴───┴───────────┴───────────┴───────────┴───────────┘"
      ]
     },
     "execution_count": 8,
     "metadata": {},
     "output_type": "execute_result"
    }
   ],
   "source": [
    "DISPLAY_VARS = ['time', 'sat'] + parameters\n",
    "\n",
    "def check_candidates(df):\n",
    "    if isinstance(df, pl.LazyFrame):\n",
    "        df = df.collect()\n",
    "    logger.info(df.columns)\n",
    "    return df.select(DISPLAY_VARS).describe()\n",
    "\n",
    "check_candidates(jno_df)"
   ]
  },
  {
   "cell_type": "code",
   "execution_count": 9,
   "metadata": {},
   "outputs": [],
   "source": [
    "def remove_extreme(df, cols = ['j0_k', 'L_k_fit'], q = 0.96):\n",
    "    filter_conditions = [\n",
    "        pl.col(col) < pl.col(col).quantile(q) for col in cols\n",
    "    ] + [\n",
    "        pl.col(col) > pl.col(col).quantile(1-q) for col in cols\n",
    "    ]\n",
    "    \n",
    "    return df.filter(filter_conditions)\n",
    "\n",
    "jno_df = remove_extreme(jno_df)\n",
    "other_events = remove_extreme(other_events)"
   ]
  },
  {
   "cell_type": "code",
   "execution_count": 10,
   "metadata": {},
   "outputs": [],
   "source": [
    "%R -i jno_df -c conv_pl\n",
    "%R -i other_events -c conv_pl"
   ]
  },
  {
   "cell_type": "code",
   "execution_count": 11,
   "metadata": {},
   "outputs": [],
   "source": [
    "%%R\n",
    "p1title <- \"a) Juno\"\n",
    "p2title <- \"b) ARTEMIS, STEREO and Wind\"\n",
    "x_lab_r <- \"Radial Distance (AU)\"\n",
    "x_lab_t <- \"Time\"\n",
    "y_lab_L <- \"Log Thickness (km)\"\n",
    "y_lab_L_norm <- expression(Log~Thickness~(d[i]))"
   ]
  },
  {
   "cell_type": "code",
   "execution_count": 12,
   "metadata": {},
   "outputs": [
    {
     "name": "stdout",
     "output_type": "stream",
     "text": [
      "Scale for fill is already present.\n",
      "Adding another scale for fill, which will replace the existing scale.\n",
      "Scale for fill is already present.\n",
      "Adding another scale for fill, which will replace the existing scale.\n",
      "Saving 13.8 x 13.8 in image\n",
      "Saving 13.8 x 13.8 in image\n"
     ]
    }
   ],
   "source": [
    "%%R -w 350 -h 350 -u mm\n",
    "add_mode <- FALSE\n",
    "y_bins <- 16\n",
    "log_y <- TRUE\n",
    "y_lim_duration <- c(0.1, 30)\n",
    "\n",
    "y_col <- \"fit.vars.sigma\"\n",
    "ylab <- \"Time Duration (s)\"\n",
    "\n",
    "x_col <- \"radial_distance\"\n",
    "\n",
    "p <- plot_binned_data(jno_df, x_col = x_col, y_col = y_col, x_bins = 8, y_bins = y_bins, y_lim = y_lim_duration, log_y = log_y, add_mode=add_mode)\n",
    "p1 <- p + labs(x = NULL, y= ylab) + ggtitle(p1title)\n",
    "\n",
    "\n",
    "x_col <- \"time\"\n",
    "p <- plot_binned_data(other_events, x_col = x_col, y_col = y_col, x_bins = 8, y_bins = y_bins, y_lim = y_lim_duration, log_y = log_y, add_mode=add_mode)\n",
    "p2 <- p + labs(x = NULL, y= NULL) + ggtitle(p2title)\n",
    "\n",
    "(p1 + p2) + plot_layout(ncol = 1, guides = \"collect\") & scale_fill_viridis_c(limits = c(0.01, 0.14), name=\"pdf\")\n",
    "save_plot(\"new/duration/duration_dist\")"
   ]
  },
  {
   "cell_type": "code",
   "execution_count": 13,
   "metadata": {},
   "outputs": [
    {
     "name": "stdout",
     "output_type": "stream",
     "text": [
      "Scale for fill is already present.\n",
      "Adding another scale for fill, which will replace the existing scale.\n",
      "Scale for fill is already present.\n",
      "Adding another scale for fill, which will replace the existing scale.\n",
      "Scale for fill is already present.\n",
      "Adding another scale for fill, which will replace the existing scale.\n",
      "Scale for fill is already present.\n",
      "Adding another scale for fill, which will replace the existing scale.\n",
      "Saving 13.8 x 13.8 in image\n",
      "Saving 13.8 x 13.8 in image\n"
     ]
    }
   ],
   "source": [
    "%%R -w 350 -h 350 -u mm\n",
    "layout <- plot_layout(ncol = 2, byrow = FALSE, guides = \"collect\")\n",
    "\n",
    "add_mode <- FALSE\n",
    "y_bins <- 24\n",
    "y_lim_j0 <- c(0.03, 20)\n",
    "\n",
    "x_col <- \"radial_distance\"\n",
    "\n",
    "y_col <- \"j0_k\"\n",
    "ylab <- expression(Log~J~(nA~m^-2))\n",
    "\n",
    "# y_lim_j0 <- NULL\n",
    "p <- plot_binned_data(jno_df, x_col = x_col, y_col = y_col, x_bins = 8, y_bins = y_bins, y_lim = y_lim_j0, log_y = TRUE, add_mode=add_mode)\n",
    "p1 <- p + labs(x = NULL, y= ylab) + ggtitle(p1title)\n",
    "# save_plot(\"new/current/current_k_r_dist\")\n",
    "\n",
    "\n",
    "y_col <- \"j0_k_norm\"\n",
    "y_lim_j0_norm <- c(0.002, 1)\n",
    "ylab <- expression(Log~Normalized~J~(J[A]))\n",
    "p <- plot_binned_data(jno_df, x_col = x_col, y_col = y_col, x_bins = 8, y_bins = y_bins, y_lim = y_lim_j0_norm, log_y = TRUE, add_mode=add_mode)\n",
    "p2 <- p + labs(x = x_lab_r, y= ylab)\n",
    "\n",
    "\n",
    "x_col <- \"time\"\n",
    "\n",
    "y_col <- \"j0_k\"\n",
    "p <- plot_binned_data(other_events, x_col = x_col, y_col = y_col, x_bins = 8, y_bins = y_bins, y_lim = y_lim_j0, log_y = TRUE, add_mode=add_mode)\n",
    "p3 <- p + labs(x = NULL, y= NULL) + ggtitle(p2title)\n",
    "\n",
    "\n",
    "y_col <- \"j0_k_norm\"\n",
    "p <- plot_binned_data(other_events, x_col = x_col, y_col = y_col, x_bins = 8, y_bins = y_bins, y_lim = y_lim_j0_norm, log_y = TRUE, add_mode=add_mode)\n",
    "p4 <- p + labs(x = x_lab_t, y= NULL)\n",
    "\n",
    "(p1 + p2 + p3 + p4) + layout & scale_fill_viridis_c(limits = c(0.01, 0.13), trans = \"log10\", name=\"pdf\")\n",
    "save_plot(\"new/current/current_k_dist\")"
   ]
  },
  {
   "cell_type": "code",
   "execution_count": 14,
   "metadata": {},
   "outputs": [
    {
     "name": "stdout",
     "output_type": "stream",
     "text": [
      "Scale for fill is already present.\n",
      "Adding another scale for fill, which will replace the existing scale.\n",
      "Scale for fill is already present.\n",
      "Adding another scale for fill, which will replace the existing scale.\n",
      "Scale for fill is already present.\n",
      "Adding another scale for fill, which will replace the existing scale.\n",
      "Scale for fill is already present.\n",
      "Adding another scale for fill, which will replace the existing scale.\n",
      "Saving 13.8 x 13.8 in image\n",
      "Saving 13.8 x 13.8 in image\n"
     ]
    }
   ],
   "source": [
    "%%R -w 350 -h 350 -u mm\n",
    "x_col <- \"radial_distance\"\n",
    "y_bins <- 16\n",
    "add_mode <- FALSE\n",
    "\n",
    "y_lim_L <- c(100, 40000)\n",
    "y_lim_L_norm <- c(0.2, 200)\n",
    "# y_lim_L <- NULL\n",
    "\n",
    "## Panel 01\n",
    "y_col <- \"L_k_fit\"\n",
    "\n",
    "y_lim <- y_lim_L\n",
    "ylab <- y_lab_L\n",
    "p <- plot_binned_data(jno_df, x_col = x_col, y_col = y_col, x_bins = 8, y_bins = y_bins, y_lim = y_lim, log_y = TRUE, add_mode=add_mode)\n",
    "p1 <- p + labs(x = NULL, y= ylab) + ggtitle(p1title)\n",
    "\n",
    "## Panel 02\n",
    "y_col <- \"L_k_fit_norm\"\n",
    "\n",
    "\n",
    "y_lim <- y_lim_L_norm\n",
    "ylab <- y_lab_L_norm\n",
    "p <- plot_binned_data(jno_df, x_col = x_col, y_col = y_col, x_bins = 8, y_bins = y_bins, y_lim = y_lim, log_y = TRUE, add_mode=add_mode)\n",
    "p2 <- p + labs(x = x_lab_r, y= ylab)\n",
    "\n",
    "## Panel 03\n",
    "x_col <- \"time\"\n",
    "y_col <- \"L_k_fit\"\n",
    "y_lim <- y_lim_L\n",
    "p <- plot_binned_data(other_events, x_col = x_col, y_col = y_col, x_bins = 8, y_bins = y_bins, y_lim = y_lim, log_y = TRUE, add_mode=add_mode)\n",
    "p3 <- p + labs(x = NULL, y= NULL) + ggtitle(p2title)\n",
    "\n",
    "## Panel 04\n",
    "y_col <- \"L_k_fit_norm\"\n",
    "y_lim <- y_lim_L_norm\n",
    "p <- plot_binned_data(other_events, x_col = x_col, y_col = y_col, x_bins = 8, y_bins = y_bins, y_lim = y_lim, log_y = TRUE, add_mode=add_mode)\n",
    "p4 <- p + labs(x = x_lab_t, y= NULL)\n",
    "\n",
    "(p1 + p2 + p3 + p4) + layout & scale_fill_viridis_c(limits = c(0.01, 0.18), trans = \"log10\", name=\"pdf\")\n",
    "save_plot(\"new/thickness/thickness_k_fit_dist\")\n"
   ]
  },
  {
   "cell_type": "code",
   "execution_count": 40,
   "metadata": {},
   "outputs": [
    {
     "name": "stdout",
     "output_type": "stream",
     "text": [
      "Saving 6.67 x 6.67 in image\n",
      "Saving 6.67 x 6.67 in image\n"
     ]
    },
    {
     "data": {
      "image/png": "[encoded data removed]",
      "text/plain": [
       "<IPython.core.display.Image object>"
      ]
     },
     "metadata": {},
     "output_type": "display_data"
    }
   ],
   "source": [
    "%%R\n",
    "x_col <- \"radial_distance\"\n",
    "xlab <- \"Radial Distance (AU)\"\n",
    "\n",
    "y_col <- \"L_k_fit\"\n",
    "ylab <- \"Log Thickness (km)\"\n",
    "y_lim <- c(100, 40000)\n",
    "# y_lim <- NULL\n",
    "p <- plot_binned_data(jno_df, x_col = x_col, y_col = y_col, x_bins = 8, y_bins = 32, y_lim = y_lim, log_y = TRUE)\n",
    "p <- p + labs(x = xlab, y= ylab)\n",
    "# save_plot(\"new/thickness/thickness_k_fit_r_dist\")\n",
    "\n",
    "y_col <- \"L_k_fit_norm\"\n",
    "y_lim <- c(0.2, 100)\n",
    "# y_lim <- NULL\n",
    "ylab <- expression(Log~Thickness~(d[i]))\n",
    "p <- plot_binned_data(jno_df, x_col = x_col, y_col = y_col, x_bins = 8, y_bins = 32, y_lim = y_lim, log_y = TRUE)\n",
    "p <- p + labs(x = xlab, y= ylab)\n",
    "save_plot(\"new/thickness/thickness_k_fit_N1_r_dist\")\n",
    "p"
   ]
  }
 ],
 "metadata": {
  "kernelspec": {
   "display_name": "python3",
   "language": "python",
   "name": "python3"
  },
  "language_info": {
   "codemirror_mode": {
    "name": "ipython",
    "version": 3
   },
   "file_extension": ".py",
   "mimetype": "text/x-python",
   "name": "python",
   "nbconvert_exporter": "python",
   "pygments_lexer": "ipython3",
   "version": "3.10.13"
  }
 },
 "nbformat": 4,
 "nbformat_minor": 2
}
