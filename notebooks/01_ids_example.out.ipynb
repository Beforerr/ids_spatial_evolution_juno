{
  "cells": [
    {
      "cell_type": "markdown",
      "metadata": {},
      "source": [
        "# Examples of discontinuities\n",
        "\n",
        "::: {#cell-1 .cell 0=‘h’ 1=‘i’ 2=‘d’ 3=‘e’}\n",
        "\n",
        "``` python\n",
        "%load_ext autoreload\n",
        "%autoreload 2\n",
        "```\n",
        "\n",
        ":::"
      ],
      "id": "aecde03f-157a-4bbd-92f4-1e5d62a8e03d"
    },
    {
      "cell_type": "code",
      "execution_count": null,
      "metadata": {},
      "outputs": [],
      "source": [
        "# /// pyproject\n",
        "# run.requirements = [\n",
        "#   \"pyyaml\",\n",
        "#   \"pydantic\",\n",
        "#   \"pyspedas\",\n",
        "#   \"pytplot\",\n",
        "#   \"matplotlib\",\n",
        "#   \"scienceplots\",\n",
        "# ]\n",
        "# /\n",
        "\n",
        "import sys\n",
        "import yaml\n",
        "\n",
        "from space_analysis.ds.tplot import export, process_panel\n",
        "from utils import Config\n",
        "\n",
        "import matplotlib.pyplot as plt\n",
        "import scienceplots\n",
        "\n",
        "plt.style.use([\"science\", \"nature\", \"notebook\"])\n",
        "plt.rc(\"savefig\", dpi=300)\n",
        "# plt.rc('svg', fonttype='none')"
      ],
      "id": "cell-2"
    },
    {
      "cell_type": "code",
      "execution_count": null,
      "metadata": {},
      "outputs": [],
      "source": [
        "file_path = sys.argv[1]"
      ],
      "id": "cell-3"
    },
    {
      "cell_type": "code",
      "execution_count": null,
      "metadata": {},
      "outputs": [],
      "source": [
        "config = yaml.load(open(file_path), Loader=yaml.FullLoader)\n",
        "config = Config(**config)\n",
        "tvars2plot = []"
      ],
      "id": "cell-4"
    },
    {
      "cell_type": "code",
      "execution_count": null,
      "metadata": {},
      "outputs": [],
      "source": [
        "for p_config in config.panels:\n",
        "    tvar2plot = process_panel(p_config)\n",
        "    tvars2plot.append(tvar2plot)"
      ],
      "id": "cell-5"
    },
    {
      "cell_type": "code",
      "execution_count": null,
      "metadata": {},
      "outputs": [],
      "source": [
        "# tlimit([ time.isoformat() for time in config.timerange])\n",
        "export(config.output, tvars2plot)"
      ],
      "id": "cell-6"
    }
  ],
  "nbformat": 4,
  "nbformat_minor": 5,
  "metadata": {
    "kernelspec": {
      "name": "python3",
      "display_name": "cool_planet",
      "language": "python"
    },
    "language_info": {
      "name": "python",
      "codemirror_mode": {
        "name": "ipython",
        "version": "3"
      },
      "file_extension": ".py",
      "mimetype": "text/x-python",
      "nbconvert_exporter": "python",
      "pygments_lexer": "ipython3",
      "version": "3.12.1"
    }
  }
}