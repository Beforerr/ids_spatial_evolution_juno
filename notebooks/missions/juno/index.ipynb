{
 "cells": [
  {
   "cell_type": "markdown",
   "metadata": {},
   "source": [
    "---\n",
    "title: IDs from Juno\n",
    "---\n",
    "\n",
    "See following notebooks for details:\n",
    "\n",
    "- [State data](./state.ipynb)"
   ]
  },
  {
   "cell_type": "markdown",
   "metadata": {},
   "source": [
    "## Setup"
   ]
  },
  {
   "cell_type": "code",
   "execution_count": 21,
   "metadata": {},
   "outputs": [
    {
     "name": "stdout",
     "output_type": "stream",
     "text": [
      "The autoreload extension is already loaded. To reload it, use:\n",
      "  %reload_ext autoreload\n"
     ]
    }
   ],
   "source": [
    "#| hide\n",
    "%load_ext autoreload\n",
    "%autoreload 2"
   ]
  },
  {
   "cell_type": "code",
   "execution_count": 22,
   "metadata": {},
   "outputs": [],
   "source": [
    "from discontinuitypy.datasets import IDsDataset\n",
    "import polars as pl\n",
    "from fastcore.utils import walk\n",
    "\n",
    "from loguru import logger\n",
    "from tqdm.auto import tqdm\n",
    "\n",
    "from datetime import timedelta"
   ]
  },
  {
   "cell_type": "code",
   "execution_count": 3,
   "metadata": {},
   "outputs": [],
   "source": [
    "mission = \"JNO\"\n",
    "ts = timedelta(seconds=1)\n",
    "tau = timedelta(seconds=60)\n",
    "\n",
    "\n",
    "data_dir = '../../../data'\n",
    "dir_path = f'{data_dir}/03_primary/JNO_MAG_ts_{ts.seconds}s'\n",
    "juno_state_path = f'{data_dir}/03_primary/JNO_STATE_ts_3600s.parquet'\n",
    "vec_cols = ['v_x', 'v_y', 'v_z']\n",
    "\n",
    "format = 'arrow'\n",
    "fname = f'events.{mission}.ts_{ts.total_seconds():.2f}s_tau_{tau.seconds}s.{format}'\n",
    "output_path = f'{data_dir}/05_reporting/{fname}'"
   ]
  },
  {
   "cell_type": "code",
   "execution_count": 4,
   "metadata": {},
   "outputs": [
    {
     "name": "stderr",
     "output_type": "stream",
     "text": [
      "\u001b[32m2024-02-18 19:32:07.752\u001b[0m | \u001b[1mINFO    \u001b[0m | \u001b[36m__main__\u001b[0m:\u001b[36m<module>\u001b[0m:\u001b[36m2\u001b[0m - \u001b[1m['radial_distance', 'plasma_density', 'plasma_temperature', 'time', 'model_b_r', 'model_b_t', 'model_b_n', 'v_x', 'v_y', 'v_z', 'plasma_speed', 'B_background_x', 'B_background_y', 'B_background_z']\u001b[0m\n"
     ]
    }
   ],
   "source": [
    "plasma_data = pl.scan_parquet(juno_state_path).sort('time')\n",
    "logger.info(plasma_data.columns)"
   ]
  },
  {
   "cell_type": "markdown",
   "metadata": {},
   "source": [
    "## Standard Process"
   ]
  },
  {
   "cell_type": "code",
   "execution_count": null,
   "metadata": {},
   "outputs": [],
   "source": [
    "juno_events = []\n",
    "for mag_path in walk(dir_path):\n",
    "    mag_data = pl.scan_parquet(mag_path).drop('X', 'Y', 'Z').sort('time')\n",
    "\n",
    "    _juno_events = (\n",
    "        IDsDataset(\n",
    "            mag_data=mag_data,\n",
    "            plasma_data=plasma_data,\n",
    "            tau=tau,\n",
    "            ts=ts,\n",
    "            vec_cols=vec_cols,\n",
    "            density_col=\"plasma_density\",\n",
    "            speed_col=\"plasma_speed\",\n",
    "            temperature_col=\"plasma_temperature\",\n",
    "        )\n",
    "        .find_events(return_best_fit=False)\n",
    "        .update_candidates_with_plasma_data()\n",
    "        .events\n",
    "    )\n",
    "    \n",
    "    juno_events.append(_juno_events)\n",
    "    \n",
    "juno_ids_dataset = IDsDataset(\n",
    "    events=pl.concat(juno_events),\n",
    "    mag_data= pl.scan_parquet(list(walk(dir_path))).drop('X', 'Y', 'Z').sort('time')\n",
    ").export(output_path)"
   ]
  },
  {
   "cell_type": "markdown",
   "metadata": {},
   "source": [
    "## Check the discontinuity in Juno cruise phase"
   ]
  },
  {
   "cell_type": "markdown",
   "metadata": {},
   "source": [
    "### Full time resolution data\n",
    "\n",
    "0.03 s - 0.125 s time resolution"
   ]
  },
  {
   "cell_type": "code",
   "execution_count": 5,
   "metadata": {},
   "outputs": [],
   "source": [
    "from space_analysis.missions.juno.fgm import download_data\n",
    "from discontinuitypy.utils.basic import resample\n",
    "from toolz import curry, compose\n",
    "from pipe import select\n",
    "from fastcore.utils import mkdir\n",
    "import os"
   ]
  },
  {
   "cell_type": "code",
   "execution_count": 6,
   "metadata": {},
   "outputs": [],
   "source": [
    "def preprocess(\n",
    "    fp,\n",
    "    every = timedelta(seconds = 0.125),\n",
    "    dir_path = \"../../../data/02_intermediate/JNO_MAG_8hz\",\n",
    "    update = False\n",
    "):\n",
    "    fname = fp.split('/')[-1]\n",
    "    \n",
    "    output_path = f\"{dir_path}/{fname}\"\n",
    "    \n",
    "    if not os.path.exists(output_path) or update:\n",
    "        mkdir(dir_path, parents=True, exist_ok = True)\n",
    "        df = pl.scan_ipc(fp).sort('time').pipe(resample, every = every)\n",
    "        df.collect().write_ipc(output_path)\n",
    "    return output_path\n",
    "\n",
    "@curry\n",
    "def process(fp, ids_dataset: IDsDataset, sparse_num = 10, **kwargs):\n",
    "    df = pl.scan_ipc(fp).sort('time').unique('time')\n",
    "\n",
    "    ids_dataset.data = df\n",
    "    \n",
    "    return ids_dataset.find_events(return_best_fit=False, sparse_num = sparse_num, **kwargs).update_candidates_with_plasma_data().events"
   ]
  },
  {
   "cell_type": "code",
   "execution_count": 7,
   "metadata": {},
   "outputs": [],
   "source": [
    "def split_list(l, n):\n",
    "    if isinstance(l, map):\n",
    "        l = list(l)\n",
    "    \n",
    "    for i in range(0, len(l), n):\n",
    "        yield l[i:i+n]"
   ]
  },
  {
   "cell_type": "code",
   "execution_count": 8,
   "metadata": {},
   "outputs": [],
   "source": [
    "mag_paths = list(download_data(datatype=\"FULL\") | select(preprocess))"
   ]
  },
  {
   "cell_type": "code",
   "execution_count": 9,
   "metadata": {},
   "outputs": [
    {
     "name": "stderr",
     "output_type": "stream",
     "text": [
      "\u001b[32m2024-02-18 19:32:19.893\u001b[0m | \u001b[1mINFO    \u001b[0m | \u001b[36m__main__\u001b[0m:\u001b[36m<module>\u001b[0m:\u001b[36m8\u001b[0m - \u001b[1m../../../data/05_reporting/events.JNO.derivative.ts_0.12s_tau_20s.arrow\u001b[0m\n"
     ]
    }
   ],
   "source": [
    "ts = timedelta(seconds=0.125)\n",
    "tau = timedelta(seconds=20)\n",
    "method = \"derivative\"\n",
    "# method = \"fit\"\n",
    "\n",
    "fname = f'events.{mission}.{method}.ts_{ts.total_seconds():.2f}s_tau_{tau.seconds}s.{format}'\n",
    "output_path = f'{data_dir}/05_reporting/{fname}'\n",
    "logger.info(output_path)"
   ]
  },
  {
   "cell_type": "code",
   "execution_count": 10,
   "metadata": {},
   "outputs": [],
   "source": [
    "ids_ds = IDsDataset(\n",
    "    plasma_data=plasma_data,\n",
    "    tau=tau,\n",
    "    ts=ts,\n",
    "    vec_cols=vec_cols,\n",
    "    density_col=\"plasma_density\",\n",
    "    speed_col=\"plasma_speed\",\n",
    "    temperature_col=\"plasma_temperature\",\n",
    ")"
   ]
  },
  {
   "cell_type": "markdown",
   "metadata": {},
   "source": [
    "Reasonably splitting the data files may accelerate the processing."
   ]
  },
  {
   "cell_type": "code",
   "execution_count": 12,
   "metadata": {},
   "outputs": [
    {
     "name": "stderr",
     "output_type": "stream",
     "text": [
      "18-Feb-24 19:34:15: UserWarning: Distributing <class 'pandas.core.frame.DataFrame'> object. This may take some time.\n",
      "\n"
     ]
    },
    {
     "data": {
      "application/vnd.jupyter.widget-view+json": {
       "model_id": "9d43312f1d1f45d1a6137ab7fe5676d9",
       "version_major": 2,
       "version_minor": 0
      },
      "text/plain": [
       "Distributing Dataframe:   0%           Elapsed time: 00:00, estimated remaining time: ?"
      ]
     },
     "metadata": {},
     "output_type": "display_data"
    },
    {
     "name": "stderr",
     "output_type": "stream",
     "text": [
      "18-Feb-24 19:34:35: UserWarning: Distributing <class 'pandas.core.frame.DataFrame'> object. This may take some time.\n",
      "\n"
     ]
    },
    {
     "data": {
      "application/vnd.jupyter.widget-view+json": {
       "model_id": "652f19ba98aa435b8badb746d0561b05",
       "version_major": 2,
       "version_minor": 0
      },
      "text/plain": [
       "Distributing Dataframe:   0%           Elapsed time: 00:00, estimated remaining time: ?"
      ]
     },
     "metadata": {},
     "output_type": "display_data"
    },
    {
     "name": "stderr",
     "output_type": "stream",
     "text": [
      "18-Feb-24 19:34:40: RuntimeWarning: invalid value encountered in divide\n",
      "\n",
      "18-Feb-24 19:34:58: UserWarning: Distributing <class 'pandas.core.frame.DataFrame'> object. This may take some time.\n",
      "\n"
     ]
    },
    {
     "data": {
      "application/vnd.jupyter.widget-view+json": {
       "model_id": "181a26f922184c59a7b4b7f502a7093d",
       "version_major": 2,
       "version_minor": 0
      },
      "text/plain": [
       "Distributing Dataframe:   0%           Elapsed time: 00:00, estimated remaining time: ?"
      ]
     },
     "metadata": {},
     "output_type": "display_data"
    },
    {
     "name": "stderr",
     "output_type": "stream",
     "text": [
      "18-Feb-24 19:35:15: UserWarning: Distributing <class 'pandas.core.frame.DataFrame'> object. This may take some time.\n",
      "\n"
     ]
    },
    {
     "data": {
      "application/vnd.jupyter.widget-view+json": {
       "model_id": "843bd5e1a8824110a6435c4f1cdbb8f5",
       "version_major": 2,
       "version_minor": 0
      },
      "text/plain": [
       "Distributing Dataframe:   0%           Elapsed time: 00:00, estimated remaining time: ?"
      ]
     },
     "metadata": {},
     "output_type": "display_data"
    },
    {
     "name": "stderr",
     "output_type": "stream",
     "text": [
      "18-Feb-24 19:35:28: UserWarning: Distributing <class 'pandas.core.frame.DataFrame'> object. This may take some time.\n",
      "\n"
     ]
    },
    {
     "data": {
      "application/vnd.jupyter.widget-view+json": {
       "model_id": "8a3cbb7ff7f74ceb87c29a5597b5e42a",
       "version_major": 2,
       "version_minor": 0
      },
      "text/plain": [
       "Distributing Dataframe:   0%           Elapsed time: 00:00, estimated remaining time: ?"
      ]
     },
     "metadata": {},
     "output_type": "display_data"
    },
    {
     "name": "stderr",
     "output_type": "stream",
     "text": [
      "18-Feb-24 19:35:40: UserWarning: Distributing <class 'pandas.core.frame.DataFrame'> object. This may take some time.\n",
      "\n"
     ]
    },
    {
     "data": {
      "application/vnd.jupyter.widget-view+json": {
       "model_id": "59476d0c344043d794232c392e12666b",
       "version_major": 2,
       "version_minor": 0
      },
      "text/plain": [
       "Distributing Dataframe:   0%           Elapsed time: 00:00, estimated remaining time: ?"
      ]
     },
     "metadata": {},
     "output_type": "display_data"
    },
    {
     "name": "stderr",
     "output_type": "stream",
     "text": [
      "18-Feb-24 19:35:42: RuntimeWarning: invalid value encountered in divide\n",
      "\n",
      "18-Feb-24 19:35:58: UserWarning: Distributing <class 'pandas.core.frame.DataFrame'> object. This may take some time.\n",
      "\n"
     ]
    },
    {
     "data": {
      "application/vnd.jupyter.widget-view+json": {
       "model_id": "27b2730d3b17466bbfffc6e76ca1fc15",
       "version_major": 2,
       "version_minor": 0
      },
      "text/plain": [
       "Distributing Dataframe:   0%           Elapsed time: 00:00, estimated remaining time: ?"
      ]
     },
     "metadata": {},
     "output_type": "display_data"
    },
    {
     "name": "stderr",
     "output_type": "stream",
     "text": [
      "18-Feb-24 19:36:10: UserWarning: Distributing <class 'pandas.core.frame.DataFrame'> object. This may take some time.\n",
      "\n"
     ]
    },
    {
     "data": {
      "application/vnd.jupyter.widget-view+json": {
       "model_id": "bfc5bdffef2048f499cba1ac9e960747",
       "version_major": 2,
       "version_minor": 0
      },
      "text/plain": [
       "Distributing Dataframe:   0%           Elapsed time: 00:00, estimated remaining time: ?"
      ]
     },
     "metadata": {},
     "output_type": "display_data"
    },
    {
     "name": "stderr",
     "output_type": "stream",
     "text": [
      "18-Feb-24 19:36:20: UserWarning: Distributing <class 'pandas.core.frame.DataFrame'> object. This may take some time.\n",
      "\n"
     ]
    },
    {
     "data": {
      "application/vnd.jupyter.widget-view+json": {
       "model_id": "f9aeec2d42c3468da8e77bd16aebc4e7",
       "version_major": 2,
       "version_minor": 0
      },
      "text/plain": [
       "Distributing Dataframe:   0%           Elapsed time: 00:00, estimated remaining time: ?"
      ]
     },
     "metadata": {},
     "output_type": "display_data"
    },
    {
     "name": "stderr",
     "output_type": "stream",
     "text": [
      "18-Feb-24 19:36:36: UserWarning: Distributing <class 'pandas.core.frame.DataFrame'> object. This may take some time.\n",
      "\n"
     ]
    },
    {
     "data": {
      "application/vnd.jupyter.widget-view+json": {
       "model_id": "97245e59d1ef4eb299626fce1479547a",
       "version_major": 2,
       "version_minor": 0
      },
      "text/plain": [
       "Distributing Dataframe:   0%           Elapsed time: 00:00, estimated remaining time: ?"
      ]
     },
     "metadata": {},
     "output_type": "display_data"
    },
    {
     "name": "stderr",
     "output_type": "stream",
     "text": [
      "18-Feb-24 19:36:54: UserWarning: Distributing <class 'pandas.core.frame.DataFrame'> object. This may take some time.\n",
      "\n"
     ]
    },
    {
     "data": {
      "application/vnd.jupyter.widget-view+json": {
       "model_id": "60b524def1c24b1298accb41bca8397b",
       "version_major": 2,
       "version_minor": 0
      },
      "text/plain": [
       "Distributing Dataframe:   0%           Elapsed time: 00:00, estimated remaining time: ?"
      ]
     },
     "metadata": {},
     "output_type": "display_data"
    },
    {
     "name": "stderr",
     "output_type": "stream",
     "text": [
      "18-Feb-24 19:36:57: UserWarning: Distributing <class 'pandas.core.frame.DataFrame'> object. This may take some time.\n",
      "\n"
     ]
    },
    {
     "data": {
      "application/vnd.jupyter.widget-view+json": {
       "model_id": "359403ac6944457dbda99b53b38aea35",
       "version_major": 2,
       "version_minor": 0
      },
      "text/plain": [
       "Distributing Dataframe:   0%           Elapsed time: 00:00, estimated remaining time: ?"
      ]
     },
     "metadata": {},
     "output_type": "display_data"
    },
    {
     "data": {
      "text/plain": [
       "IDsDataset(name=None, events=shape: (149_383, 96)\n",
       "┌─────────────┬────────────┬─────┬──────────┬───┬────────────┬───────────┬────────────┬────────────┐\n",
       "│ time        ┆ index_diff ┆ len ┆ std      ┆ … ┆ v.ion.chan ┆ B.change  ┆ v.Alfven.c ┆ v.Alfven.c │\n",
       "│ ---         ┆ ---        ┆ --- ┆ ---      ┆   ┆ ge.l       ┆ ---       ┆ hange      ┆ hange.l    │\n",
       "│ datetime[ns ┆ f64        ┆ u32 ┆ f64      ┆   ┆ ---        ┆ f64       ┆ ---        ┆ ---        │\n",
       "│ ]           ┆            ┆     ┆          ┆   ┆ f64        ┆           ┆ f64        ┆ f64        │\n",
       "╞═════════════╪════════════╪═════╪══════════╪═══╪════════════╪═══════════╪════════════╪════════════╡\n",
       "│ 2011-08-25  ┆ 1.705243   ┆ 160 ┆ 2.443084 ┆ … ┆ NaN        ┆ 0.001359  ┆ NaN        ┆ NaN        │\n",
       "│ 15:25:30    ┆            ┆     ┆          ┆   ┆            ┆           ┆            ┆            │\n",
       "│ 2011-08-25  ┆ 0.725398   ┆ 160 ┆ 1.261811 ┆ … ┆ NaN        ┆ -0.013523 ┆ NaN        ┆ NaN        │\n",
       "│ 15:27:20    ┆            ┆     ┆          ┆   ┆            ┆           ┆            ┆            │\n",
       "│ 2011-08-25  ┆ 0.442226   ┆ 160 ┆ 0.692877 ┆ … ┆ NaN        ┆ -0.070024 ┆ NaN        ┆ NaN        │\n",
       "│ 15:31:10    ┆            ┆     ┆          ┆   ┆            ┆           ┆            ┆            │\n",
       "│ 2011-08-25  ┆ 1.725814   ┆ 160 ┆ 2.370406 ┆ … ┆ NaN        ┆ 0.063919  ┆ NaN        ┆ NaN        │\n",
       "│ 15:33:10    ┆            ┆     ┆          ┆   ┆            ┆           ┆            ┆            │\n",
       "│ 2011-08-25  ┆ 0.304239   ┆ 160 ┆ 0.679432 ┆ … ┆ NaN        ┆ 0.011442  ┆ NaN        ┆ NaN        │\n",
       "│ 15:39:50    ┆            ┆     ┆          ┆   ┆            ┆           ┆            ┆            │\n",
       "│ …           ┆ …          ┆ …   ┆ …        ┆ … ┆ …          ┆ …         ┆ …          ┆ …          │\n",
       "│ 2016-06-29  ┆ 0.346341   ┆ 160 ┆ 1.005677 ┆ … ┆ 0.000108   ┆ 0.332181  ┆ 41.319043  ┆ -74.228781 │\n",
       "│ 23:34:30    ┆            ┆     ┆          ┆   ┆            ┆           ┆            ┆            │\n",
       "│ 2016-06-29  ┆ 0.334196   ┆ 160 ┆ 0.979446 ┆ … ┆ -0.000169  ┆ -0.033883 ┆ -4.215047  ┆ 118.699746 │\n",
       "│ 23:36:40    ┆            ┆     ┆          ┆   ┆            ┆           ┆            ┆            │\n",
       "│ 2016-06-29  ┆ 0.806608   ┆ 160 ┆ 1.920059 ┆ … ┆ -0.00037   ┆ 0.303961  ┆ 37.798125  ┆ -172.87587 │\n",
       "│ 23:38:00    ┆            ┆     ┆          ┆   ┆            ┆           ┆            ┆ 4          │\n",
       "│ 2016-06-29  ┆ 0.131516   ┆ 160 ┆ 0.551165 ┆ … ┆ 0.000104   ┆ -0.150944 ┆ -18.762298 ┆ 83.701737  │\n",
       "│ 23:46:00    ┆            ┆     ┆          ┆   ┆            ┆           ┆            ┆            │\n",
       "│ 2016-06-29  ┆ 0.257936   ┆ 160 ┆ 0.724413 ┆ … ┆ -0.000186  ┆ -0.05297  ┆ -6.582093  ┆ -49.021634 │\n",
       "│ 23:52:40    ┆            ┆     ┆          ┆   ┆            ┆           ┆            ┆            │\n",
       "└─────────────┴────────────┴─────┴──────────┴───┴────────────┴───────────┴────────────┴────────────┘, data=<LazyFrame [4 cols, {\"time\": Datetime(time_unit='us', time_zone=None) … \"BZ SE\": Float64}] at 0x29BD1F2D0>, ts=datetime.timedelta(microseconds=125000), tau=datetime.timedelta(seconds=20), plasma_data=<LazyFrame [14 cols, {\"radial_distance\": Float64 … \"B_background_z\": Float64}] at 0x29ADC1D10>, bcols=None, vec_cols=['v_x', 'v_y', 'v_z'], density_col='plasma_density', speed_col='plasma_speed', temperature_col='plasma_temperature', plasma_meta=None)"
      ]
     },
     "execution_count": 12,
     "metadata": {},
     "output_type": "execute_result"
    }
   ],
   "source": [
    "fps = split_list(mag_paths, n=100)\n",
    "\n",
    "func = process(ids_dataset = ids_ds, sparse_num = 10, method = method)\n",
    "\n",
    "ids_ds.data = pl.scan_ipc(mag_paths)\n",
    "ids_ds.events = pl.concat(fps | select(func)) \n",
    "ids_ds.export(output_path)"
   ]
  },
  {
   "cell_type": "markdown",
   "metadata": {},
   "source": [
    "### First year"
   ]
  },
  {
   "cell_type": "code",
   "execution_count": null,
   "metadata": {},
   "outputs": [],
   "source": [
    "mag_path = sorted(list(walk(dir_path)))[0]\n",
    "tau = timedelta(seconds=60)\n",
    "mag_data = pl.scan_parquet(mag_path).drop('X', 'Y', 'Z').sort('time')\n",
    "\n",
    "ids_ds = (\n",
    "    IDsDataset(\n",
    "        mag_data=mag_data,\n",
    "        plasma_data=plasma_data,\n",
    "        tau=tau,\n",
    "        ts=ts,\n",
    "        vec_cols=vec_cols,\n",
    "        density_col=\"plasma_density\",\n",
    "        speed_col=\"plasma_speed\",\n",
    "        temperature_col=\"plasma_temperature\",\n",
    "    )\n",
    "    .find_events(return_best_fit=True)\n",
    "    .update_candidates_with_plasma_data()\n",
    ")"
   ]
  },
  {
   "cell_type": "code",
   "execution_count": null,
   "metadata": {},
   "outputs": [],
   "source": [
    "#| layout-ncol: 3\n",
    "#| column: page\n",
    "ids_ds.plot_candidates(num=20, plot_fit_data=True, predicates=(pl.col('fit.stat.rsquared') > 0.95))"
   ]
  },
  {
   "cell_type": "markdown",
   "metadata": {},
   "source": [
    "### Last year"
   ]
  },
  {
   "cell_type": "code",
   "execution_count": null,
   "metadata": {},
   "outputs": [],
   "source": [
    "# mag_path = sorted(list(walk(dir_path)))[-1]\n",
    "tau = timedelta(seconds=300)\n",
    "mag_path = sorted(list(walk(dir_path)))[-1]\n",
    "mag_data = pl.scan_parquet(mag_path).drop('X', 'Y', 'Z').sort('time')\n",
    "\n",
    "ids_ds = (\n",
    "    IDsDataset(\n",
    "        mag_data=mag_data,\n",
    "        plasma_data=plasma_data,\n",
    "        tau=tau,\n",
    "        ts=ts,\n",
    "        vec_cols=vec_cols,\n",
    "        density_col=\"plasma_density\",\n",
    "        speed_col=\"plasma_speed\",\n",
    "        temperature_col=\"plasma_temperature\",\n",
    "    )\n",
    "    .find_events(return_best_fit=True)\n",
    "    .update_candidates_with_plasma_data()\n",
    ")"
   ]
  },
  {
   "cell_type": "code",
   "execution_count": null,
   "metadata": {},
   "outputs": [],
   "source": [
    "#| layout-ncol: 3\n",
    "#| column: page\n",
    "ids_ds.plot_candidates(num=20, plot_fit_data=True, predicates=(pl.col('fit.stat.rsquared') > 0.95))\n"
   ]
  },
  {
   "cell_type": "markdown",
   "metadata": {},
   "source": [
    "## Processing the whole data"
   ]
  },
  {
   "cell_type": "markdown",
   "metadata": {},
   "source": [
    "## Obsolete"
   ]
  },
  {
   "cell_type": "markdown",
   "metadata": {},
   "source": [
    "### Estimate"
   ]
  },
  {
   "cell_type": "markdown",
   "metadata": {},
   "source": [
    "1 day of data resampled by 1 sec is about 12 MB.\n",
    "\n",
    "So 1 year of data is about 4 GB, and 6 years of JUNO Cruise data is about 24 GB.\n",
    "\n",
    "Downloading rate is about 250 KB/s, so it will take about 3 days to download all the data."
   ]
  },
  {
   "cell_type": "code",
   "execution_count": null,
   "metadata": {},
   "outputs": [],
   "source": [
    "num_of_files = 6*365\n",
    "jno_file_size = 12e3\n",
    "thm_file_size = 40e3\n",
    "files_size = jno_file_size + thm_file_size\n",
    "downloading_rate = 250\n",
    "processing_rate = 1/60\n",
    "\n",
    "time_to_download = num_of_files * files_size / downloading_rate / 60 / 60\n",
    "space_required = num_of_files * files_size / 1e6\n",
    "time_to_process = num_of_files / processing_rate / 60 / 60\n",
    "\n",
    "print(f\"Time to download: {time_to_download:.2f} hours\")\n",
    "print(f\"Disk space required: {space_required:.2f} GB\")\n",
    "print(f\"Time to process: {time_to_process:.2f} hours\")"
   ]
  }
 ],
 "metadata": {
  "kernelspec": {
   "display_name": "python3",
   "language": "python",
   "name": "python3"
  },
  "language_info": {
   "codemirror_mode": {
    "name": "ipython",
    "version": 3
   },
   "file_extension": ".py",
   "mimetype": "text/x-python",
   "name": "python",
   "nbconvert_exporter": "python",
   "pygments_lexer": "ipython3",
   "version": "3.11.7"
  }
 },
 "nbformat": 4,
 "nbformat_minor": 2
}
