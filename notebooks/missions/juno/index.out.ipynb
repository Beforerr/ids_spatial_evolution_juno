{
  "cells": [
    {
      "cell_type": "markdown",
      "metadata": {},
      "source": [
        "# IDs from Juno\n",
        "\n",
        "See following notebooks for details:\n",
        "\n",
        "-   [State data](./state.ipynb)\n",
        "\n",
        "## Setup\n",
        "\n",
        "::: {#cell-2 .cell 0=‘h’ 1=‘i’ 2=‘d’ 3=‘e’ execution_count=1}\n",
        "\n",
        "``` python\n",
        "%load_ext autoreload\n",
        "%autoreload 2\n",
        "```\n",
        "\n",
        ":::"
      ],
      "id": "2c8ff2ac-095b-4e23-961b-9b7148336181"
    },
    {
      "cell_type": "code",
      "execution_count": 2,
      "metadata": {},
      "outputs": [
        {
          "output_type": "display_data",
          "metadata": {},
          "data": {
            "text/html": [
              "<script type=\"application/javascript\">\n",
              "(function(root) {\n",
              "  function now() {\n",
              "    return new Date();\n",
              "  }\n",
              "\n",
              "  var force = true;\n",
              "  var py_version = '3.3.4'.replace('rc', '-rc.').replace('.dev', '-dev.');\n",
              "  var reloading = false;\n",
              "  var Bokeh = root.Bokeh;\n",
              "\n",
              "  if (typeof (root._bokeh_timeout) === \"undefined\" || force) {\n",
              "    root._bokeh_timeout = Date.now() + 5000;\n",
              "    root._bokeh_failed_load = false;\n",
              "  }\n",
              "\n",
              "  function run_callbacks() {\n",
              "    try {\n",
              "      root._bokeh_onload_callbacks.forEach(function(callback) {\n",
              "        if (callback != null)\n",
              "          callback();\n",
              "      });\n",
              "    } finally {\n",
              "      delete root._bokeh_onload_callbacks;\n",
              "    }\n",
              "    console.debug(\"Bokeh: all callbacks have finished\");\n",
              "  }\n",
              "\n",
              "  function load_libs(css_urls, js_urls, js_modules, js_exports, callback) {\n",
              "    if (css_urls == null) css_urls = [];\n",
              "    if (js_urls == null) js_urls = [];\n",
              "    if (js_modules == null) js_modules = [];\n",
              "    if (js_exports == null) js_exports = {};\n",
              "\n",
              "    root._bokeh_onload_callbacks.push(callback);\n",
              "\n",
              "    if (root._bokeh_is_loading > 0) {\n",
              "      console.debug(\"Bokeh: BokehJS is being loaded, scheduling callback at\", now());\n",
              "      return null;\n",
              "    }\n",
              "    if (js_urls.length === 0 && js_modules.length === 0 && Object.keys(js_exports).length === 0) {\n",
              "      run_callbacks();\n",
              "      return null;\n",
              "    }\n",
              "    if (!reloading) {\n",
              "      console.debug(\"Bokeh: BokehJS not loaded, scheduling load and callback at\", now());\n",
              "    }\n",
              "\n",
              "    function on_load() {\n",
              "      root._bokeh_is_loading--;\n",
              "      if (root._bokeh_is_loading === 0) {\n",
              "        console.debug(\"Bokeh: all BokehJS libraries/stylesheets loaded\");\n",
              "        run_callbacks()\n",
              "      }\n",
              "    }\n",
              "    window._bokeh_on_load = on_load\n",
              "\n",
              "    function on_error() {\n",
              "      console.error(\"failed to load \" + url);\n",
              "    }\n",
              "\n",
              "    var skip = [];\n",
              "    if (window.requirejs) {\n",
              "      window.requirejs.config({'packages': {}, 'paths': {'jspanel': 'https://cdn.jsdelivr.net/npm/jspanel4@4.12.0/dist/jspanel', 'jspanel-modal': 'https://cdn.jsdelivr.net/npm/jspanel4@4.12.0/dist/extensions/modal/jspanel.modal', 'jspanel-tooltip': 'https://cdn.jsdelivr.net/npm/jspanel4@4.12.0/dist/extensions/tooltip/jspanel.tooltip', 'jspanel-hint': 'https://cdn.jsdelivr.net/npm/jspanel4@4.12.0/dist/extensions/hint/jspanel.hint', 'jspanel-layout': 'https://cdn.jsdelivr.net/npm/jspanel4@4.12.0/dist/extensions/layout/jspanel.layout', 'jspanel-contextmenu': 'https://cdn.jsdelivr.net/npm/jspanel4@4.12.0/dist/extensions/contextmenu/jspanel.contextmenu', 'jspanel-dock': 'https://cdn.jsdelivr.net/npm/jspanel4@4.12.0/dist/extensions/dock/jspanel.dock', 'gridstack': 'https://cdn.jsdelivr.net/npm/gridstack@7.2.3/dist/gridstack-all', 'notyf': 'https://cdn.jsdelivr.net/npm/notyf@3/notyf.min'}, 'shim': {'jspanel': {'exports': 'jsPanel'}, 'gridstack': {'exports': 'GridStack'}}});\n",
              "      require([\"jspanel\"], function(jsPanel) {\n",
              "    window.jsPanel = jsPanel\n",
              "    on_load()\n",
              "      })\n",
              "      require([\"jspanel-modal\"], function() {\n",
              "    on_load()\n",
              "      })\n",
              "      require([\"jspanel-tooltip\"], function() {\n",
              "    on_load()\n",
              "      })\n",
              "      require([\"jspanel-hint\"], function() {\n",
              "    on_load()\n",
              "      })\n",
              "      require([\"jspanel-layout\"], function() {\n",
              "    on_load()\n",
              "      })\n",
              "      require([\"jspanel-contextmenu\"], function() {\n",
              "    on_load()\n",
              "      })\n",
              "      require([\"jspanel-dock\"], function() {\n",
              "    on_load()\n",
              "      })\n",
              "      require([\"gridstack\"], function(GridStack) {\n",
              "    window.GridStack = GridStack\n",
              "    on_load()\n",
              "      })\n",
              "      require([\"notyf\"], function() {\n",
              "    on_load()\n",
              "      })\n",
              "      root._bokeh_is_loading = css_urls.length + 9;\n",
              "    } else {\n",
              "      root._bokeh_is_loading = css_urls.length + js_urls.length + js_modules.length + Object.keys(js_exports).length;\n",
              "    }\n",
              "\n",
              "    var existing_stylesheets = []\n",
              "    var links = document.getElementsByTagName('link')\n",
              "    for (var i = 0; i < links.length; i++) {\n",
              "      var link = links[i]\n",
              "      if (link.href != null) {\n",
              "    existing_stylesheets.push(link.href)\n",
              "      }\n",
              "    }\n",
              "    for (var i = 0; i < css_urls.length; i++) {\n",
              "      var url = css_urls[i];\n",
              "      if (existing_stylesheets.indexOf(url) !== -1) {\n",
              "    on_load()\n",
              "    continue;\n",
              "      }\n",
              "      const element = document.createElement(\"link\");\n",
              "      element.onload = on_load;\n",
              "      element.onerror = on_error;\n",
              "      element.rel = \"stylesheet\";\n",
              "      element.type = \"text/css\";\n",
              "      element.href = url;\n",
              "      console.debug(\"Bokeh: injecting link tag for BokehJS stylesheet: \", url);\n",
              "      document.body.appendChild(element);\n",
              "    }    if (((window['jsPanel'] !== undefined) && (!(window['jsPanel'] instanceof HTMLElement))) || window.requirejs) {\n",
              "      var urls = ['https://cdn.holoviz.org/panel/1.3.8/dist/bundled/floatpanel/jspanel4@4.12.0/dist/jspanel.js', 'https://cdn.holoviz.org/panel/1.3.8/dist/bundled/floatpanel/jspanel4@4.12.0/dist/extensions/modal/jspanel.modal.js', 'https://cdn.holoviz.org/panel/1.3.8/dist/bundled/floatpanel/jspanel4@4.12.0/dist/extensions/tooltip/jspanel.tooltip.js', 'https://cdn.holoviz.org/panel/1.3.8/dist/bundled/floatpanel/jspanel4@4.12.0/dist/extensions/hint/jspanel.hint.js', 'https://cdn.holoviz.org/panel/1.3.8/dist/bundled/floatpanel/jspanel4@4.12.0/dist/extensions/layout/jspanel.layout.js', 'https://cdn.holoviz.org/panel/1.3.8/dist/bundled/floatpanel/jspanel4@4.12.0/dist/extensions/contextmenu/jspanel.contextmenu.js', 'https://cdn.holoviz.org/panel/1.3.8/dist/bundled/floatpanel/jspanel4@4.12.0/dist/extensions/dock/jspanel.dock.js'];\n",
              "      for (var i = 0; i < urls.length; i++) {\n",
              "        skip.push(urls[i])\n",
              "      }\n",
              "    }    if (((window['GridStack'] !== undefined) && (!(window['GridStack'] instanceof HTMLElement))) || window.requirejs) {\n",
              "      var urls = ['https://cdn.holoviz.org/panel/1.3.8/dist/bundled/gridstack/gridstack@7.2.3/dist/gridstack-all.js'];\n",
              "      for (var i = 0; i < urls.length; i++) {\n",
              "        skip.push(urls[i])\n",
              "      }\n",
              "    }    if (((window['Notyf'] !== undefined) && (!(window['Notyf'] instanceof HTMLElement))) || window.requirejs) {\n",
              "      var urls = ['https://cdn.holoviz.org/panel/1.3.8/dist/bundled/notificationarea/notyf@3/notyf.min.js'];\n",
              "      for (var i = 0; i < urls.length; i++) {\n",
              "        skip.push(urls[i])\n",
              "      }\n",
              "    }    var existing_scripts = []\n",
              "    var scripts = document.getElementsByTagName('script')\n",
              "    for (var i = 0; i < scripts.length; i++) {\n",
              "      var script = scripts[i]\n",
              "      if (script.src != null) {\n",
              "    existing_scripts.push(script.src)\n",
              "      }\n",
              "    }\n",
              "    for (var i = 0; i < js_urls.length; i++) {\n",
              "      var url = js_urls[i];\n",
              "      if (skip.indexOf(url) !== -1 || existing_scripts.indexOf(url) !== -1) {\n",
              "    if (!window.requirejs) {\n",
              "      on_load();\n",
              "    }\n",
              "    continue;\n",
              "      }\n",
              "      var element = document.createElement('script');\n",
              "      element.onload = on_load;\n",
              "      element.onerror = on_error;\n",
              "      element.async = false;\n",
              "      element.src = url;\n",
              "      console.debug(\"Bokeh: injecting script tag for BokehJS library: \", url);\n",
              "      document.head.appendChild(element);\n",
              "    }\n",
              "    for (var i = 0; i < js_modules.length; i++) {\n",
              "      var url = js_modules[i];\n",
              "      if (skip.indexOf(url) !== -1 || existing_scripts.indexOf(url) !== -1) {\n",
              "    if (!window.requirejs) {\n",
              "      on_load();\n",
              "    }\n",
              "    continue;\n",
              "      }\n",
              "      var element = document.createElement('script');\n",
              "      element.onload = on_load;\n",
              "      element.onerror = on_error;\n",
              "      element.async = false;\n",
              "      element.src = url;\n",
              "      element.type = \"module\";\n",
              "      console.debug(\"Bokeh: injecting script tag for BokehJS library: \", url);\n",
              "      document.head.appendChild(element);\n",
              "    }\n",
              "    for (const name in js_exports) {\n",
              "      var url = js_exports[name];\n",
              "      if (skip.indexOf(url) >= 0 || root[name] != null) {\n",
              "    if (!window.requirejs) {\n",
              "      on_load();\n",
              "    }\n",
              "    continue;\n",
              "      }\n",
              "      var element = document.createElement('script');\n",
              "      element.onerror = on_error;\n",
              "      element.async = false;\n",
              "      element.type = \"module\";\n",
              "      console.debug(\"Bokeh: injecting script tag for BokehJS library: \", url);\n",
              "      element.textContent = `\n",
              "      import ${name} from \"${url}\"\n",
              "      window.${name} = ${name}\n",
              "      window._bokeh_on_load()\n",
              "      `\n",
              "      document.head.appendChild(element);\n",
              "    }\n",
              "    if (!js_urls.length && !js_modules.length) {\n",
              "      on_load()\n",
              "    }\n",
              "  };\n",
              "\n",
              "  function inject_raw_css(css) {\n",
              "    const element = document.createElement(\"style\");\n",
              "    element.appendChild(document.createTextNode(css));\n",
              "    document.body.appendChild(element);\n",
              "  }\n",
              "\n",
              "  var js_urls = [\"https://cdn.bokeh.org/bokeh/release/bokeh-3.3.4.min.js\", \"https://cdn.bokeh.org/bokeh/release/bokeh-gl-3.3.4.min.js\", \"https://cdn.bokeh.org/bokeh/release/bokeh-widgets-3.3.4.min.js\", \"https://cdn.bokeh.org/bokeh/release/bokeh-tables-3.3.4.min.js\", \"https://cdn.holoviz.org/panel/1.3.8/dist/panel.min.js\"];\n",
              "  var js_modules = [];\n",
              "  var js_exports = {};\n",
              "  var css_urls = [];\n",
              "  var inline_js = [    function(Bokeh) {\n",
              "      Bokeh.set_log_level(\"info\");\n",
              "    },\n",
              "function(Bokeh) {} // ensure no trailing comma for IE\n",
              "  ];\n",
              "\n",
              "  function run_inline_js() {\n",
              "    if ((root.Bokeh !== undefined) || (force === true)) {\n",
              "      for (var i = 0; i < inline_js.length; i++) {\n",
              "    try {\n",
              "          inline_js[i].call(root, root.Bokeh);\n",
              "    } catch(e) {\n",
              "      if (!reloading) {\n",
              "        throw e;\n",
              "      }\n",
              "    }\n",
              "      }\n",
              "      // Cache old bokeh versions\n",
              "      if (Bokeh != undefined && !reloading) {\n",
              "    var NewBokeh = root.Bokeh;\n",
              "    if (Bokeh.versions === undefined) {\n",
              "      Bokeh.versions = new Map();\n",
              "    }\n",
              "    if (NewBokeh.version !== Bokeh.version) {\n",
              "      Bokeh.versions.set(NewBokeh.version, NewBokeh)\n",
              "    }\n",
              "    root.Bokeh = Bokeh;\n",
              "      }} else if (Date.now() < root._bokeh_timeout) {\n",
              "      setTimeout(run_inline_js, 100);\n",
              "    } else if (!root._bokeh_failed_load) {\n",
              "      console.log(\"Bokeh: BokehJS failed to load within specified timeout.\");\n",
              "      root._bokeh_failed_load = true;\n",
              "    }\n",
              "    root._bokeh_is_initializing = false\n",
              "  }\n",
              "\n",
              "  function load_or_wait() {\n",
              "    // Implement a backoff loop that tries to ensure we do not load multiple\n",
              "    // versions of Bokeh and its dependencies at the same time.\n",
              "    // In recent versions we use the root._bokeh_is_initializing flag\n",
              "    // to determine whether there is an ongoing attempt to initialize\n",
              "    // bokeh, however for backward compatibility we also try to ensure\n",
              "    // that we do not start loading a newer (Panel>=1.0 and Bokeh>3) version\n",
              "    // before older versions are fully initialized.\n",
              "    if (root._bokeh_is_initializing && Date.now() > root._bokeh_timeout) {\n",
              "      root._bokeh_is_initializing = false;\n",
              "      root._bokeh_onload_callbacks = undefined;\n",
              "      console.log(\"Bokeh: BokehJS was loaded multiple times but one version failed to initialize.\");\n",
              "      load_or_wait();\n",
              "    } else if (root._bokeh_is_initializing || (typeof root._bokeh_is_initializing === \"undefined\" && root._bokeh_onload_callbacks !== undefined)) {\n",
              "      setTimeout(load_or_wait, 100);\n",
              "    } else {\n",
              "      root._bokeh_is_initializing = true\n",
              "      root._bokeh_onload_callbacks = []\n",
              "      var bokeh_loaded = Bokeh != null && (Bokeh.version === py_version || (Bokeh.versions !== undefined && Bokeh.versions.has(py_version)));\n",
              "      if (!reloading && !bokeh_loaded) {\n",
              "    root.Bokeh = undefined;\n",
              "      }\n",
              "      load_libs(css_urls, js_urls, js_modules, js_exports, function() {\n",
              "    console.debug(\"Bokeh: BokehJS plotting callback run at\", now());\n",
              "    run_inline_js();\n",
              "      });\n",
              "    }\n",
              "  }\n",
              "  // Give older versions of the autoload script a head-start to ensure\n",
              "  // they initialize before we start loading newer version.\n",
              "  setTimeout(load_or_wait, 100)\n",
              "}(window));\n",
              "</script>"
            ]
          }
        },
        {
          "output_type": "display_data",
          "metadata": {},
          "data": {
            "text/html": [
              "<script type=\"application/javascript\">\n",
              "\n",
              "if ((window.PyViz === undefined) || (window.PyViz instanceof HTMLElement)) {\n",
              "  window.PyViz = {comms: {}, comm_status:{}, kernels:{}, receivers: {}, plot_index: []}\n",
              "}\n",
              "\n",
              "\n",
              "    function JupyterCommManager() {\n",
              "    }\n",
              "\n",
              "    JupyterCommManager.prototype.register_target = function(plot_id, comm_id, msg_handler) {\n",
              "      if (window.comm_manager || ((window.Jupyter !== undefined) && (Jupyter.notebook.kernel != null))) {\n",
              "        var comm_manager = window.comm_manager || Jupyter.notebook.kernel.comm_manager;\n",
              "        comm_manager.register_target(comm_id, function(comm) {\n",
              "          comm.on_msg(msg_handler);\n",
              "        });\n",
              "      } else if ((plot_id in window.PyViz.kernels) && (window.PyViz.kernels[plot_id])) {\n",
              "        window.PyViz.kernels[plot_id].registerCommTarget(comm_id, function(comm) {\n",
              "          comm.onMsg = msg_handler;\n",
              "        });\n",
              "      } else if (typeof google != 'undefined' && google.colab.kernel != null) {\n",
              "        google.colab.kernel.comms.registerTarget(comm_id, (comm) => {\n",
              "          var messages = comm.messages[Symbol.asyncIterator]();\n",
              "          function processIteratorResult(result) {\n",
              "            var message = result.value;\n",
              "            console.log(message)\n",
              "            var content = {data: message.data, comm_id};\n",
              "            var buffers = []\n",
              "            for (var buffer of message.buffers || []) {\n",
              "              buffers.push(new DataView(buffer))\n",
              "            }\n",
              "            var metadata = message.metadata || {};\n",
              "            var msg = {content, buffers, metadata}\n",
              "            msg_handler(msg);\n",
              "            return messages.next().then(processIteratorResult);\n",
              "          }\n",
              "          return messages.next().then(processIteratorResult);\n",
              "        })\n",
              "      }\n",
              "    }\n",
              "\n",
              "    JupyterCommManager.prototype.get_client_comm = function(plot_id, comm_id, msg_handler) {\n",
              "      if (comm_id in window.PyViz.comms) {\n",
              "        return window.PyViz.comms[comm_id];\n",
              "      } else if (window.comm_manager || ((window.Jupyter !== undefined) && (Jupyter.notebook.kernel != null))) {\n",
              "        var comm_manager = window.comm_manager || Jupyter.notebook.kernel.comm_manager;\n",
              "        var comm = comm_manager.new_comm(comm_id, {}, {}, {}, comm_id);\n",
              "        if (msg_handler) {\n",
              "          comm.on_msg(msg_handler);\n",
              "        }\n",
              "      } else if ((plot_id in window.PyViz.kernels) && (window.PyViz.kernels[plot_id])) {\n",
              "        var comm = window.PyViz.kernels[plot_id].connectToComm(comm_id);\n",
              "        comm.open();\n",
              "        if (msg_handler) {\n",
              "          comm.onMsg = msg_handler;\n",
              "        }\n",
              "      } else if (typeof google != 'undefined' && google.colab.kernel != null) {\n",
              "        var comm_promise = google.colab.kernel.comms.open(comm_id)\n",
              "        comm_promise.then((comm) => {\n",
              "          window.PyViz.comms[comm_id] = comm;\n",
              "          if (msg_handler) {\n",
              "            var messages = comm.messages[Symbol.asyncIterator]();\n",
              "            function processIteratorResult(result) {\n",
              "              var message = result.value;\n",
              "              var content = {data: message.data};\n",
              "              var metadata = message.metadata || {comm_id};\n",
              "              var msg = {content, metadata}\n",
              "              msg_handler(msg);\n",
              "              return messages.next().then(processIteratorResult);\n",
              "            }\n",
              "            return messages.next().then(processIteratorResult);\n",
              "          }\n",
              "        }) \n",
              "        var sendClosure = (data, metadata, buffers, disposeOnDone) => {\n",
              "          return comm_promise.then((comm) => {\n",
              "            comm.send(data, metadata, buffers, disposeOnDone);\n",
              "          });\n",
              "        };\n",
              "        var comm = {\n",
              "          send: sendClosure\n",
              "        };\n",
              "      }\n",
              "      window.PyViz.comms[comm_id] = comm;\n",
              "      return comm;\n",
              "    }\n",
              "    window.PyViz.comm_manager = new JupyterCommManager();\n",
              "    \n",
              "\n",
              "\n",
              "var JS_MIME_TYPE = 'application/javascript';\n",
              "var HTML_MIME_TYPE = 'text/html';\n",
              "var EXEC_MIME_TYPE = 'application/vnd.holoviews_exec.v0+json';\n",
              "var CLASS_NAME = 'output';\n",
              "\n",
              "/**\n",
              " * Render data to the DOM node\n",
              " */\n",
              "function render(props, node) {\n",
              "  var div = document.createElement(\"div\");\n",
              "  var script = document.createElement(\"script\");\n",
              "  node.appendChild(div);\n",
              "  node.appendChild(script);\n",
              "}\n",
              "\n",
              "/**\n",
              " * Handle when a new output is added\n",
              " */\n",
              "function handle_add_output(event, handle) {\n",
              "  var output_area = handle.output_area;\n",
              "  var output = handle.output;\n",
              "  if ((output.data == undefined) || (!output.data.hasOwnProperty(EXEC_MIME_TYPE))) {\n",
              "    return\n",
              "  }\n",
              "  var id = output.metadata[EXEC_MIME_TYPE][\"id\"];\n",
              "  var toinsert = output_area.element.find(\".\" + CLASS_NAME.split(' ')[0]);\n",
              "  if (id !== undefined) {\n",
              "    var nchildren = toinsert.length;\n",
              "    var html_node = toinsert[nchildren-1].children[0];\n",
              "    html_node.innerHTML = output.data[HTML_MIME_TYPE];\n",
              "    var scripts = [];\n",
              "    var nodelist = html_node.querySelectorAll(\"script\");\n",
              "    for (var i in nodelist) {\n",
              "      if (nodelist.hasOwnProperty(i)) {\n",
              "        scripts.push(nodelist[i])\n",
              "      }\n",
              "    }\n",
              "\n",
              "    scripts.forEach( function (oldScript) {\n",
              "      var newScript = document.createElement(\"script\");\n",
              "      var attrs = [];\n",
              "      var nodemap = oldScript.attributes;\n",
              "      for (var j in nodemap) {\n",
              "        if (nodemap.hasOwnProperty(j)) {\n",
              "          attrs.push(nodemap[j])\n",
              "        }\n",
              "      }\n",
              "      attrs.forEach(function(attr) { newScript.setAttribute(attr.name, attr.value) });\n",
              "      newScript.appendChild(document.createTextNode(oldScript.innerHTML));\n",
              "      oldScript.parentNode.replaceChild(newScript, oldScript);\n",
              "    });\n",
              "    if (JS_MIME_TYPE in output.data) {\n",
              "      toinsert[nchildren-1].children[1].textContent = output.data[JS_MIME_TYPE];\n",
              "    }\n",
              "    output_area._hv_plot_id = id;\n",
              "    if ((window.Bokeh !== undefined) && (id in Bokeh.index)) {\n",
              "      window.PyViz.plot_index[id] = Bokeh.index[id];\n",
              "    } else {\n",
              "      window.PyViz.plot_index[id] = null;\n",
              "    }\n",
              "  } else if (output.metadata[EXEC_MIME_TYPE][\"server_id\"] !== undefined) {\n",
              "    var bk_div = document.createElement(\"div\");\n",
              "    bk_div.innerHTML = output.data[HTML_MIME_TYPE];\n",
              "    var script_attrs = bk_div.children[0].attributes;\n",
              "    for (var i = 0; i < script_attrs.length; i++) {\n",
              "      toinsert[toinsert.length - 1].childNodes[1].setAttribute(script_attrs[i].name, script_attrs[i].value);\n",
              "    }\n",
              "    // store reference to server id on output_area\n",
              "    output_area._bokeh_server_id = output.metadata[EXEC_MIME_TYPE][\"server_id\"];\n",
              "  }\n",
              "}\n",
              "\n",
              "/**\n",
              " * Handle when an output is cleared or removed\n",
              " */\n",
              "function handle_clear_output(event, handle) {\n",
              "  var id = handle.cell.output_area._hv_plot_id;\n",
              "  var server_id = handle.cell.output_area._bokeh_server_id;\n",
              "  if (((id === undefined) || !(id in PyViz.plot_index)) && (server_id !== undefined)) { return; }\n",
              "  var comm = window.PyViz.comm_manager.get_client_comm(\"hv-extension-comm\", \"hv-extension-comm\", function () {});\n",
              "  if (server_id !== null) {\n",
              "    comm.send({event_type: 'server_delete', 'id': server_id});\n",
              "    return;\n",
              "  } else if (comm !== null) {\n",
              "    comm.send({event_type: 'delete', 'id': id});\n",
              "  }\n",
              "  delete PyViz.plot_index[id];\n",
              "  if ((window.Bokeh !== undefined) & (id in window.Bokeh.index)) {\n",
              "    var doc = window.Bokeh.index[id].model.document\n",
              "    doc.clear();\n",
              "    const i = window.Bokeh.documents.indexOf(doc);\n",
              "    if (i > -1) {\n",
              "      window.Bokeh.documents.splice(i, 1);\n",
              "    }\n",
              "  }\n",
              "}\n",
              "\n",
              "/**\n",
              " * Handle kernel restart event\n",
              " */\n",
              "function handle_kernel_cleanup(event, handle) {\n",
              "  delete PyViz.comms[\"hv-extension-comm\"];\n",
              "  window.PyViz.plot_index = {}\n",
              "}\n",
              "\n",
              "/**\n",
              " * Handle update_display_data messages\n",
              " */\n",
              "function handle_update_output(event, handle) {\n",
              "  handle_clear_output(event, {cell: {output_area: handle.output_area}})\n",
              "  handle_add_output(event, handle)\n",
              "}\n",
              "\n",
              "function register_renderer(events, OutputArea) {\n",
              "  function append_mime(data, metadata, element) {\n",
              "    // create a DOM node to render to\n",
              "    var toinsert = this.create_output_subarea(\n",
              "    metadata,\n",
              "    CLASS_NAME,\n",
              "    EXEC_MIME_TYPE\n",
              "    );\n",
              "    this.keyboard_manager.register_events(toinsert);\n",
              "    // Render to node\n",
              "    var props = {data: data, metadata: metadata[EXEC_MIME_TYPE]};\n",
              "    render(props, toinsert[0]);\n",
              "    element.append(toinsert);\n",
              "    return toinsert\n",
              "  }\n",
              "\n",
              "  events.on('output_added.OutputArea', handle_add_output);\n",
              "  events.on('output_updated.OutputArea', handle_update_output);\n",
              "  events.on('clear_output.CodeCell', handle_clear_output);\n",
              "  events.on('delete.Cell', handle_clear_output);\n",
              "  events.on('kernel_ready.Kernel', handle_kernel_cleanup);\n",
              "\n",
              "  OutputArea.prototype.register_mime_type(EXEC_MIME_TYPE, append_mime, {\n",
              "    safe: true,\n",
              "    index: 0\n",
              "  });\n",
              "}\n",
              "\n",
              "if (window.Jupyter !== undefined) {\n",
              "  try {\n",
              "    var events = require('base/js/events');\n",
              "    var OutputArea = require('notebook/js/outputarea').OutputArea;\n",
              "    if (OutputArea.prototype.mime_types().indexOf(EXEC_MIME_TYPE) == -1) {\n",
              "      register_renderer(events, OutputArea);\n",
              "    }\n",
              "  } catch(err) {\n",
              "  }\n",
              "}\n",
              "\n",
              "</script>"
            ]
          }
        },
        {
          "output_type": "display_data",
          "metadata": {},
          "data": {
            "text/html": [
              "<style>*[data-root-id],\n",
              "*[data-root-id] > * {\n",
              "  box-sizing: border-box;\n",
              "  font-family: var(--jp-ui-font-family);\n",
              "  font-size: var(--jp-ui-font-size1);\n",
              "  color: var(--vscode-editor-foreground, var(--jp-ui-font-color1));\n",
              "}\n",
              "\n",
              "/* Override VSCode background color */\n",
              ".cell-output-ipywidget-background:has(\n",
              "    > .cell-output-ipywidget-background > .lm-Widget > *[data-root-id]\n",
              "  ),\n",
              ".cell-output-ipywidget-background:has(> .lm-Widget > *[data-root-id]) {\n",
              "  background-color: transparent !important;\n",
              "}\n",
              "</style>"
            ]
          }
        },
        {
          "output_type": "display_data",
          "metadata": {},
          "data": {
            "text/html": [
              "<div id='p1002'>\n",
              "  <div id=\"a123297b-b08a-47ca-b936-ec254a03344d\" data-root-id=\"p1002\" style=\"display: contents;\"></div>\n",
              "</div>\n",
              "<script type=\"application/javascript\">(function(root) {\n",
              "  var docs_json = {\"879c24d1-a33a-437c-a85b-76d8780a941d\":{\"version\":\"3.3.4\",\"title\":\"Bokeh Application\",\"roots\":[{\"type\":\"object\",\"name\":\"panel.models.browser.BrowserInfo\",\"id\":\"p1002\"},{\"type\":\"object\",\"name\":\"panel.models.comm_manager.CommManager\",\"id\":\"p1003\",\"attributes\":{\"plot_id\":\"p1002\",\"comm_id\":\"b92e12be34954349960995b8d7974999\",\"client_comm_id\":\"14da3af22bf34b32aea61262f1d7e0cd\"}}],\"defs\":[{\"type\":\"model\",\"name\":\"ReactiveHTML1\"},{\"type\":\"model\",\"name\":\"FlexBox1\",\"properties\":[{\"name\":\"align_content\",\"kind\":\"Any\",\"default\":\"flex-start\"},{\"name\":\"align_items\",\"kind\":\"Any\",\"default\":\"flex-start\"},{\"name\":\"flex_direction\",\"kind\":\"Any\",\"default\":\"row\"},{\"name\":\"flex_wrap\",\"kind\":\"Any\",\"default\":\"wrap\"},{\"name\":\"justify_content\",\"kind\":\"Any\",\"default\":\"flex-start\"}]},{\"type\":\"model\",\"name\":\"FloatPanel1\",\"properties\":[{\"name\":\"config\",\"kind\":\"Any\",\"default\":{\"type\":\"map\"}},{\"name\":\"contained\",\"kind\":\"Any\",\"default\":true},{\"name\":\"position\",\"kind\":\"Any\",\"default\":\"right-top\"},{\"name\":\"offsetx\",\"kind\":\"Any\",\"default\":null},{\"name\":\"offsety\",\"kind\":\"Any\",\"default\":null},{\"name\":\"theme\",\"kind\":\"Any\",\"default\":\"primary\"},{\"name\":\"status\",\"kind\":\"Any\",\"default\":\"normalized\"}]},{\"type\":\"model\",\"name\":\"GridStack1\",\"properties\":[{\"name\":\"mode\",\"kind\":\"Any\",\"default\":\"warn\"},{\"name\":\"ncols\",\"kind\":\"Any\",\"default\":null},{\"name\":\"nrows\",\"kind\":\"Any\",\"default\":null},{\"name\":\"allow_resize\",\"kind\":\"Any\",\"default\":true},{\"name\":\"allow_drag\",\"kind\":\"Any\",\"default\":true},{\"name\":\"state\",\"kind\":\"Any\",\"default\":[]}]},{\"type\":\"model\",\"name\":\"drag1\",\"properties\":[{\"name\":\"slider_width\",\"kind\":\"Any\",\"default\":5},{\"name\":\"slider_color\",\"kind\":\"Any\",\"default\":\"black\"},{\"name\":\"value\",\"kind\":\"Any\",\"default\":50}]},{\"type\":\"model\",\"name\":\"click1\",\"properties\":[{\"name\":\"terminal_output\",\"kind\":\"Any\",\"default\":\"\"},{\"name\":\"debug_name\",\"kind\":\"Any\",\"default\":\"\"},{\"name\":\"clears\",\"kind\":\"Any\",\"default\":0}]},{\"type\":\"model\",\"name\":\"copy_to_clipboard1\",\"properties\":[{\"name\":\"fill\",\"kind\":\"Any\",\"default\":\"none\"},{\"name\":\"value\",\"kind\":\"Any\",\"default\":null}]},{\"type\":\"model\",\"name\":\"FastWrapper1\",\"properties\":[{\"name\":\"object\",\"kind\":\"Any\",\"default\":null},{\"name\":\"style\",\"kind\":\"Any\",\"default\":null}]},{\"type\":\"model\",\"name\":\"NotificationAreaBase1\",\"properties\":[{\"name\":\"js_events\",\"kind\":\"Any\",\"default\":{\"type\":\"map\"}},{\"name\":\"position\",\"kind\":\"Any\",\"default\":\"bottom-right\"},{\"name\":\"_clear\",\"kind\":\"Any\",\"default\":0}]},{\"type\":\"model\",\"name\":\"NotificationArea1\",\"properties\":[{\"name\":\"js_events\",\"kind\":\"Any\",\"default\":{\"type\":\"map\"}},{\"name\":\"notifications\",\"kind\":\"Any\",\"default\":[]},{\"name\":\"position\",\"kind\":\"Any\",\"default\":\"bottom-right\"},{\"name\":\"_clear\",\"kind\":\"Any\",\"default\":0},{\"name\":\"types\",\"kind\":\"Any\",\"default\":[{\"type\":\"map\",\"entries\":[[\"type\",\"warning\"],[\"background\",\"#ffc107\"],[\"icon\",{\"type\":\"map\",\"entries\":[[\"className\",\"fas fa-exclamation-triangle\"],[\"tagName\",\"i\"],[\"color\",\"white\"]]}]]},{\"type\":\"map\",\"entries\":[[\"type\",\"info\"],[\"background\",\"#007bff\"],[\"icon\",{\"type\":\"map\",\"entries\":[[\"className\",\"fas fa-info-circle\"],[\"tagName\",\"i\"],[\"color\",\"white\"]]}]]}]}]},{\"type\":\"model\",\"name\":\"Notification\",\"properties\":[{\"name\":\"background\",\"kind\":\"Any\",\"default\":null},{\"name\":\"duration\",\"kind\":\"Any\",\"default\":3000},{\"name\":\"icon\",\"kind\":\"Any\",\"default\":null},{\"name\":\"message\",\"kind\":\"Any\",\"default\":\"\"},{\"name\":\"notification_type\",\"kind\":\"Any\",\"default\":null},{\"name\":\"_destroyed\",\"kind\":\"Any\",\"default\":false}]},{\"type\":\"model\",\"name\":\"TemplateActions1\",\"properties\":[{\"name\":\"open_modal\",\"kind\":\"Any\",\"default\":0},{\"name\":\"close_modal\",\"kind\":\"Any\",\"default\":0}]},{\"type\":\"model\",\"name\":\"BootstrapTemplateActions1\",\"properties\":[{\"name\":\"open_modal\",\"kind\":\"Any\",\"default\":0},{\"name\":\"close_modal\",\"kind\":\"Any\",\"default\":0}]},{\"type\":\"model\",\"name\":\"MaterialTemplateActions1\",\"properties\":[{\"name\":\"open_modal\",\"kind\":\"Any\",\"default\":0},{\"name\":\"close_modal\",\"kind\":\"Any\",\"default\":0}]}]}};\n",
              "  var render_items = [{\"docid\":\"879c24d1-a33a-437c-a85b-76d8780a941d\",\"roots\":{\"p1002\":\"a123297b-b08a-47ca-b936-ec254a03344d\"},\"root_ids\":[\"p1002\"]}];\n",
              "  var docs = Object.values(docs_json)\n",
              "  if (!docs) {\n",
              "    return\n",
              "  }\n",
              "  const py_version = docs[0].version.replace('rc', '-rc.').replace('.dev', '-dev.')\n",
              "  function embed_document(root) {\n",
              "    var Bokeh = get_bokeh(root)\n",
              "    Bokeh.embed.embed_items_notebook(docs_json, render_items);\n",
              "    for (const render_item of render_items) {\n",
              "      for (const root_id of render_item.root_ids) {\n",
              "    const id_el = document.getElementById(root_id)\n",
              "    if (id_el.children.length && (id_el.children[0].className === 'bk-root')) {\n",
              "      const root_el = id_el.children[0]\n",
              "      root_el.id = root_el.id + '-rendered'\n",
              "    }\n",
              "      }\n",
              "    }\n",
              "  }\n",
              "  function get_bokeh(root) {\n",
              "    if (root.Bokeh === undefined) {\n",
              "      return null\n",
              "    } else if (root.Bokeh.version !== py_version) {\n",
              "      if (root.Bokeh.versions === undefined || !root.Bokeh.versions.has(py_version)) {\n",
              "    return null\n",
              "      }\n",
              "      return root.Bokeh.versions.get(py_version);\n",
              "    } else if (root.Bokeh.version === py_version) {\n",
              "      return root.Bokeh\n",
              "    }\n",
              "    return null\n",
              "  }\n",
              "  function is_loaded(root) {\n",
              "    var Bokeh = get_bokeh(root)\n",
              "    return (Bokeh != null && Bokeh.Panel !== undefined)\n",
              "  }\n",
              "  if (is_loaded(root)) {\n",
              "    embed_document(root);\n",
              "  } else {\n",
              "    var attempts = 0;\n",
              "    var timer = setInterval(function(root) {\n",
              "      if (is_loaded(root)) {\n",
              "        clearInterval(timer);\n",
              "        embed_document(root);\n",
              "      } else if (document.readyState == \"complete\") {\n",
              "        attempts++;\n",
              "        if (attempts > 200) {\n",
              "          clearInterval(timer);\n",
              "      var Bokeh = get_bokeh(root)\n",
              "      if (Bokeh == null || Bokeh.Panel == null) {\n",
              "            console.warn(\"Panel: ERROR: Unable to run Panel code because Bokeh or Panel library is missing\");\n",
              "      } else {\n",
              "        console.warn(\"Panel: WARNING: Attempting to render but not all required libraries could be resolved.\")\n",
              "        embed_document(root)\n",
              "      }\n",
              "        }\n",
              "      }\n",
              "    }, 25, root)\n",
              "  }\n",
              "})(window);</script>"
            ]
          }
        },
        {
          "output_type": "stream",
          "name": "stderr",
          "text": [
            "20-Feb-24 11:33:08: UserWarning: Traceback (most recent call last):\n",
            "  File \"/Users/zijin/micromamba/envs/psp_conjunction/lib/python3.11/site-packages/pdpipe/__init__.py\", line 85, in <module>\n",
            "    from . import skintegrate\n",
            "  File \"/Users/zijin/micromamba/envs/psp_conjunction/lib/python3.11/site-packages/pdpipe/skintegrate.py\", line 20, in <module>\n",
            "    from sklearn.base import BaseEstimator\n",
            "ModuleNotFoundError: No module named 'sklearn'\n",
            "\n",
            "\n",
            "20-Feb-24 11:33:08: UserWarning: pdpipe: Scikit-learn or skutil import failed. Scikit-learn-dependent pipeline stages will not be loaded.\n",
            "\n",
            "20-Feb-24 11:33:08: UserWarning: Traceback (most recent call last):\n",
            "  File \"/Users/zijin/micromamba/envs/psp_conjunction/lib/python3.11/site-packages/pdpipe/__init__.py\", line 105, in <module>\n",
            "    from . import nltk_stages\n",
            "  File \"/Users/zijin/micromamba/envs/psp_conjunction/lib/python3.11/site-packages/pdpipe/nltk_stages.py\", line 19, in <module>\n",
            "    import nltk\n",
            "ModuleNotFoundError: No module named 'nltk'\n",
            "\n",
            "\n",
            "20-Feb-24 11:33:08: UserWarning: pdpipe: nltk import failed. nltk-dependent  pipeline stages will not be loaded.\n"
          ]
        }
      ],
      "source": [
        "from discontinuitypy.datasets import IDsDataset\n",
        "import polars as pl\n",
        "from fastcore.utils import walk\n",
        "\n",
        "from loguru import logger\n",
        "\n",
        "from datetime import timedelta"
      ],
      "id": "cell-3"
    },
    {
      "cell_type": "code",
      "execution_count": 3,
      "metadata": {},
      "outputs": [],
      "source": [
        "mission = \"JNO\"\n",
        "ts = timedelta(seconds=1)\n",
        "tau = timedelta(seconds=60)\n",
        "\n",
        "\n",
        "data_dir = '../../../data'\n",
        "dir_path = f'{data_dir}/03_primary/JNO_MAG_ts_{ts.seconds}s'\n",
        "juno_state_path = f'{data_dir}/03_primary/JNO_STATE_ts_3600s.parquet'\n",
        "vec_cols = ['v_x', 'v_y', 'v_z']\n",
        "\n",
        "format = 'arrow'\n",
        "fname = f'events.{mission}.ts_{ts.total_seconds():.2f}s_tau_{tau.seconds}s.{format}'\n",
        "output_path = f'{data_dir}/05_reporting/{fname}'"
      ],
      "id": "cell-4"
    },
    {
      "cell_type": "code",
      "execution_count": 4,
      "metadata": {},
      "outputs": [
        {
          "output_type": "stream",
          "name": "stderr",
          "text": [
            "2024-02-20 11:33:08.917 | INFO     | __main__:<module>:2 - ['radial_distance', 'plasma_density', 'plasma_temperature', 'time', 'model_b_r', 'model_b_t', 'model_b_n', 'v_x', 'v_y', 'v_z', 'plasma_speed', 'B_background_x', 'B_background_y', 'B_background_z']"
          ]
        }
      ],
      "source": [
        "plasma_data = pl.scan_parquet(juno_state_path).sort('time')\n",
        "logger.info(plasma_data.columns)"
      ],
      "id": "cell-5"
    },
    {
      "cell_type": "markdown",
      "metadata": {},
      "source": [
        "## Standard Process"
      ],
      "id": "db11cdab-c1af-435f-b692-680ba3231b47"
    },
    {
      "cell_type": "code",
      "execution_count": null,
      "metadata": {},
      "outputs": [],
      "source": [
        "juno_events = []\n",
        "for mag_path in walk(dir_path):\n",
        "    mag_data = pl.scan_parquet(mag_path).drop('X', 'Y', 'Z').sort('time')\n",
        "\n",
        "    _juno_events = (\n",
        "        IDsDataset(\n",
        "            mag_data=mag_data,\n",
        "            plasma_data=plasma_data,\n",
        "            tau=tau,\n",
        "            ts=ts,\n",
        "            vec_cols=vec_cols,\n",
        "            density_col=\"plasma_density\",\n",
        "            speed_col=\"plasma_speed\",\n",
        "            temperature_col=\"plasma_temperature\",\n",
        "        )\n",
        "        .find_events(return_best_fit=False)\n",
        "        .update_candidates_with_plasma_data()\n",
        "        .events\n",
        "    )\n",
        "    \n",
        "    juno_events.append(_juno_events)\n",
        "    \n",
        "juno_ids_dataset = IDsDataset(\n",
        "    events=pl.concat(juno_events),\n",
        "    mag_data= pl.scan_parquet(list(walk(dir_path))).drop('X', 'Y', 'Z').sort('time')\n",
        ")\n",
        "\n",
        "juno_ids_dataset.export(output_path)"
      ],
      "id": "cell-7"
    },
    {
      "cell_type": "markdown",
      "metadata": {},
      "source": [
        "## Check the discontinuity in Juno cruise phase\n",
        "\n",
        "### Full time resolution data\n",
        "\n",
        "0.03 s - 0.125 s time resolution"
      ],
      "id": "05c360c6-810e-42d3-9752-c8a918bc2938"
    },
    {
      "cell_type": "code",
      "execution_count": 5,
      "metadata": {},
      "outputs": [],
      "source": [
        "from space_analysis.missions.juno.fgm import download_data\n",
        "from discontinuitypy.utils.basic import resample\n",
        "from toolz import curry\n",
        "from pipe import select\n",
        "from fastcore.utils import mkdir\n",
        "import os"
      ],
      "id": "cell-10"
    },
    {
      "cell_type": "code",
      "execution_count": 6,
      "metadata": {},
      "outputs": [],
      "source": [
        "def preprocess(\n",
        "    fp,\n",
        "    every = timedelta(seconds = 0.125),\n",
        "    dir_path = \"../../../data/02_intermediate/JNO_MAG_8hz\",\n",
        "    update = False\n",
        "):\n",
        "    fname = fp.split('/')[-1]\n",
        "    \n",
        "    output_path = f\"{dir_path}/{fname}\"\n",
        "    \n",
        "    if not os.path.exists(output_path) or update:\n",
        "        mkdir(dir_path, parents=True, exist_ok = True)\n",
        "        df = pl.scan_ipc(fp).sort('time').pipe(resample, every = every)\n",
        "        df.collect().write_ipc(output_path)\n",
        "    return output_path\n",
        "\n",
        "@curry\n",
        "def process(fp, ids_dataset: IDsDataset, sparse_num = 10, **kwargs):\n",
        "    df = pl.scan_ipc(fp).sort('time').unique('time')\n",
        "\n",
        "    ids_dataset.data = df\n",
        "    \n",
        "    return ids_dataset.find_events(return_best_fit=False, sparse_num = sparse_num, **kwargs).update_candidates_with_plasma_data().events"
      ],
      "id": "cell-11"
    },
    {
      "cell_type": "code",
      "execution_count": 7,
      "metadata": {},
      "outputs": [],
      "source": [
        "def split_list(l, n):\n",
        "    if isinstance(l, map):\n",
        "        l = list(l)\n",
        "    \n",
        "    for i in range(0, len(l), n):\n",
        "        yield l[i:i+n]"
      ],
      "id": "cell-12"
    },
    {
      "cell_type": "code",
      "execution_count": 8,
      "metadata": {},
      "outputs": [],
      "source": [
        "mag_paths = list(download_data(datatype=\"FULL\") | select(preprocess))"
      ],
      "id": "cell-13"
    },
    {
      "cell_type": "code",
      "execution_count": 9,
      "metadata": {},
      "outputs": [
        {
          "output_type": "stream",
          "name": "stderr",
          "text": [
            "2024-02-18 19:32:19.893 | INFO     | __main__:<module>:8 - ../../../data/05_reporting/events.JNO.derivative.ts_0.12s_tau_20s.arrow"
          ]
        }
      ],
      "source": [
        "ts = timedelta(seconds=0.125)\n",
        "tau = timedelta(seconds=20)\n",
        "method = \"derivative\"\n",
        "# method = \"fit\"\n",
        "\n",
        "fname = f'events.{mission}.{method}.ts_{ts.total_seconds():.2f}s_tau_{tau.seconds}s.{format}'\n",
        "output_path = f'{data_dir}/05_reporting/{fname}'\n",
        "logger.info(output_path)"
      ],
      "id": "cell-14"
    },
    {
      "cell_type": "code",
      "execution_count": 10,
      "metadata": {},
      "outputs": [],
      "source": [
        "ids_ds = IDsDataset(\n",
        "    plasma_data=plasma_data,\n",
        "    tau=tau,\n",
        "    ts=ts,\n",
        "    vec_cols=vec_cols,\n",
        "    density_col=\"plasma_density\",\n",
        "    speed_col=\"plasma_speed\",\n",
        "    temperature_col=\"plasma_temperature\",\n",
        ")"
      ],
      "id": "cell-15"
    },
    {
      "cell_type": "markdown",
      "metadata": {},
      "source": [
        "Reasonably splitting the data files may accelerate the processing."
      ],
      "id": "39d7d640-7688-4699-977f-9865becae1a2"
    },
    {
      "cell_type": "code",
      "execution_count": 12,
      "metadata": {},
      "outputs": [
        {
          "output_type": "stream",
          "name": "stderr",
          "text": [
            "18-Feb-24 19:34:15: UserWarning: Distributing <class 'pandas.core.frame.DataFrame'> object. This may take some time.\n",
            "\n",
            "18-Feb-24 19:34:35: UserWarning: Distributing <class 'pandas.core.frame.DataFrame'> object. This may take some time.\n",
            "\n",
            "18-Feb-24 19:34:40: RuntimeWarning: invalid value encountered in divide\n",
            "\n",
            "18-Feb-24 19:34:58: UserWarning: Distributing <class 'pandas.core.frame.DataFrame'> object. This may take some time.\n",
            "\n",
            "18-Feb-24 19:35:15: UserWarning: Distributing <class 'pandas.core.frame.DataFrame'> object. This may take some time.\n",
            "\n",
            "18-Feb-24 19:35:28: UserWarning: Distributing <class 'pandas.core.frame.DataFrame'> object. This may take some time.\n",
            "\n",
            "18-Feb-24 19:35:40: UserWarning: Distributing <class 'pandas.core.frame.DataFrame'> object. This may take some time.\n",
            "\n",
            "18-Feb-24 19:35:42: RuntimeWarning: invalid value encountered in divide\n",
            "\n",
            "18-Feb-24 19:35:58: UserWarning: Distributing <class 'pandas.core.frame.DataFrame'> object. This may take some time.\n",
            "\n",
            "18-Feb-24 19:36:10: UserWarning: Distributing <class 'pandas.core.frame.DataFrame'> object. This may take some time.\n",
            "\n",
            "18-Feb-24 19:36:20: UserWarning: Distributing <class 'pandas.core.frame.DataFrame'> object. This may take some time.\n",
            "\n",
            "18-Feb-24 19:36:36: UserWarning: Distributing <class 'pandas.core.frame.DataFrame'> object. This may take some time.\n",
            "\n",
            "18-Feb-24 19:36:54: UserWarning: Distributing <class 'pandas.core.frame.DataFrame'> object. This may take some time.\n",
            "\n",
            "18-Feb-24 19:36:57: UserWarning: Distributing <class 'pandas.core.frame.DataFrame'> object. This may take some time.\n"
          ]
        },
        {
          "output_type": "display_data",
          "metadata": {},
          "data": {
            "application/vnd.jupyter.widget-view+json": {
              "model_id": "9d43312f1d1f45d1a6137ab7fe5676d9",
              "version_major": 2,
              "version_minor": 0
            }
          }
        },
        {
          "output_type": "display_data",
          "metadata": {},
          "data": {
            "application/vnd.jupyter.widget-view+json": {
              "model_id": "652f19ba98aa435b8badb746d0561b05",
              "version_major": 2,
              "version_minor": 0
            }
          }
        },
        {
          "output_type": "display_data",
          "metadata": {},
          "data": {
            "application/vnd.jupyter.widget-view+json": {
              "model_id": "181a26f922184c59a7b4b7f502a7093d",
              "version_major": 2,
              "version_minor": 0
            }
          }
        },
        {
          "output_type": "display_data",
          "metadata": {},
          "data": {
            "application/vnd.jupyter.widget-view+json": {
              "model_id": "843bd5e1a8824110a6435c4f1cdbb8f5",
              "version_major": 2,
              "version_minor": 0
            }
          }
        },
        {
          "output_type": "display_data",
          "metadata": {},
          "data": {
            "application/vnd.jupyter.widget-view+json": {
              "model_id": "8a3cbb7ff7f74ceb87c29a5597b5e42a",
              "version_major": 2,
              "version_minor": 0
            }
          }
        },
        {
          "output_type": "display_data",
          "metadata": {},
          "data": {
            "application/vnd.jupyter.widget-view+json": {
              "model_id": "59476d0c344043d794232c392e12666b",
              "version_major": 2,
              "version_minor": 0
            }
          }
        },
        {
          "output_type": "display_data",
          "metadata": {},
          "data": {
            "application/vnd.jupyter.widget-view+json": {
              "model_id": "27b2730d3b17466bbfffc6e76ca1fc15",
              "version_major": 2,
              "version_minor": 0
            }
          }
        },
        {
          "output_type": "display_data",
          "metadata": {},
          "data": {
            "application/vnd.jupyter.widget-view+json": {
              "model_id": "bfc5bdffef2048f499cba1ac9e960747",
              "version_major": 2,
              "version_minor": 0
            }
          }
        },
        {
          "output_type": "display_data",
          "metadata": {},
          "data": {
            "application/vnd.jupyter.widget-view+json": {
              "model_id": "f9aeec2d42c3468da8e77bd16aebc4e7",
              "version_major": 2,
              "version_minor": 0
            }
          }
        },
        {
          "output_type": "display_data",
          "metadata": {},
          "data": {
            "application/vnd.jupyter.widget-view+json": {
              "model_id": "97245e59d1ef4eb299626fce1479547a",
              "version_major": 2,
              "version_minor": 0
            }
          }
        },
        {
          "output_type": "display_data",
          "metadata": {},
          "data": {
            "application/vnd.jupyter.widget-view+json": {
              "model_id": "60b524def1c24b1298accb41bca8397b",
              "version_major": 2,
              "version_minor": 0
            }
          }
        },
        {
          "output_type": "display_data",
          "metadata": {},
          "data": {
            "application/vnd.jupyter.widget-view+json": {
              "model_id": "359403ac6944457dbda99b53b38aea35",
              "version_major": 2,
              "version_minor": 0
            }
          }
        },
        {
          "output_type": "display_data",
          "metadata": {},
          "data": {
            "text/plain": [
              "IDsDataset(name=None, events=shape: (149_383, 96)\n",
              "┌─────────────┬────────────┬─────┬──────────┬───┬────────────┬───────────┬────────────┬────────────┐\n",
              "│ time        ┆ index_diff ┆ len ┆ std      ┆ … ┆ v.ion.chan ┆ B.change  ┆ v.Alfven.c ┆ v.Alfven.c │\n",
              "│ ---         ┆ ---        ┆ --- ┆ ---      ┆   ┆ ge.l       ┆ ---       ┆ hange      ┆ hange.l    │\n",
              "│ datetime[ns ┆ f64        ┆ u32 ┆ f64      ┆   ┆ ---        ┆ f64       ┆ ---        ┆ ---        │\n",
              "│ ]           ┆            ┆     ┆          ┆   ┆ f64        ┆           ┆ f64        ┆ f64        │\n",
              "╞═════════════╪════════════╪═════╪══════════╪═══╪════════════╪═══════════╪════════════╪════════════╡\n",
              "│ 2011-08-25  ┆ 1.705243   ┆ 160 ┆ 2.443084 ┆ … ┆ NaN        ┆ 0.001359  ┆ NaN        ┆ NaN        │\n",
              "│ 15:25:30    ┆            ┆     ┆          ┆   ┆            ┆           ┆            ┆            │\n",
              "│ 2011-08-25  ┆ 0.725398   ┆ 160 ┆ 1.261811 ┆ … ┆ NaN        ┆ -0.013523 ┆ NaN        ┆ NaN        │\n",
              "│ 15:27:20    ┆            ┆     ┆          ┆   ┆            ┆           ┆            ┆            │\n",
              "│ 2011-08-25  ┆ 0.442226   ┆ 160 ┆ 0.692877 ┆ … ┆ NaN        ┆ -0.070024 ┆ NaN        ┆ NaN        │\n",
              "│ 15:31:10    ┆            ┆     ┆          ┆   ┆            ┆           ┆            ┆            │\n",
              "│ 2011-08-25  ┆ 1.725814   ┆ 160 ┆ 2.370406 ┆ … ┆ NaN        ┆ 0.063919  ┆ NaN        ┆ NaN        │\n",
              "│ 15:33:10    ┆            ┆     ┆          ┆   ┆            ┆           ┆            ┆            │\n",
              "│ 2011-08-25  ┆ 0.304239   ┆ 160 ┆ 0.679432 ┆ … ┆ NaN        ┆ 0.011442  ┆ NaN        ┆ NaN        │\n",
              "│ 15:39:50    ┆            ┆     ┆          ┆   ┆            ┆           ┆            ┆            │\n",
              "│ …           ┆ …          ┆ …   ┆ …        ┆ … ┆ …          ┆ …         ┆ …          ┆ …          │\n",
              "│ 2016-06-29  ┆ 0.346341   ┆ 160 ┆ 1.005677 ┆ … ┆ 0.000108   ┆ 0.332181  ┆ 41.319043  ┆ -74.228781 │\n",
              "│ 23:34:30    ┆            ┆     ┆          ┆   ┆            ┆           ┆            ┆            │\n",
              "│ 2016-06-29  ┆ 0.334196   ┆ 160 ┆ 0.979446 ┆ … ┆ -0.000169  ┆ -0.033883 ┆ -4.215047  ┆ 118.699746 │\n",
              "│ 23:36:40    ┆            ┆     ┆          ┆   ┆            ┆           ┆            ┆            │\n",
              "│ 2016-06-29  ┆ 0.806608   ┆ 160 ┆ 1.920059 ┆ … ┆ -0.00037   ┆ 0.303961  ┆ 37.798125  ┆ -172.87587 │\n",
              "│ 23:38:00    ┆            ┆     ┆          ┆   ┆            ┆           ┆            ┆ 4          │\n",
              "│ 2016-06-29  ┆ 0.131516   ┆ 160 ┆ 0.551165 ┆ … ┆ 0.000104   ┆ -0.150944 ┆ -18.762298 ┆ 83.701737  │\n",
              "│ 23:46:00    ┆            ┆     ┆          ┆   ┆            ┆           ┆            ┆            │\n",
              "│ 2016-06-29  ┆ 0.257936   ┆ 160 ┆ 0.724413 ┆ … ┆ -0.000186  ┆ -0.05297  ┆ -6.582093  ┆ -49.021634 │\n",
              "│ 23:52:40    ┆            ┆     ┆          ┆   ┆            ┆           ┆            ┆            │\n",
              "└─────────────┴────────────┴─────┴──────────┴───┴────────────┴───────────┴────────────┴────────────┘, data=<LazyFrame [4 cols, {\"time\": Datetime(time_unit='us', time_zone=None) … \"BZ SE\": Float64}] at 0x29BD1F2D0>, ts=datetime.timedelta(microseconds=125000), tau=datetime.timedelta(seconds=20), plasma_data=<LazyFrame [14 cols, {\"radial_distance\": Float64 … \"B_background_z\": Float64}] at 0x29ADC1D10>, bcols=None, vec_cols=['v_x', 'v_y', 'v_z'], density_col='plasma_density', speed_col='plasma_speed', temperature_col='plasma_temperature', plasma_meta=None)"
            ]
          }
        }
      ],
      "source": [
        "fps = split_list(mag_paths, n=100)\n",
        "\n",
        "func = process(ids_dataset = ids_ds, sparse_num = 10, method = method)\n",
        "\n",
        "ids_ds.data = pl.scan_ipc(mag_paths)\n",
        "ids_ds.events = pl.concat(fps | select(func)) \n",
        "ids_ds.export(output_path)"
      ],
      "id": "cell-17"
    },
    {
      "cell_type": "markdown",
      "metadata": {},
      "source": [
        "## Superposed epoch analysis"
      ],
      "id": "7e14522a-615c-4e00-875e-a2ada9ef152a"
    },
    {
      "cell_type": "code",
      "execution_count": 57,
      "metadata": {},
      "outputs": [],
      "source": [
        "from discontinuitypy.utils.basic import df2ts\n",
        "from xarray_einstats import linalg\n",
        "\n",
        "from sea_norm import sean\n",
        "import pandas as pd\n",
        "import xarray as xr\n",
        "import matplotlib.pyplot as plt\n",
        "\n",
        "from discontinuitypy.integration import J_FACTOR\n",
        "\n",
        "def keep_good_fit(df: pl.DataFrame, rsquared = 0.95):\n",
        "    return df.filter(pl.col('fit.stat.rsquared') > rsquared)"
      ],
      "id": "cell-19"
    },
    {
      "cell_type": "code",
      "execution_count": 58,
      "metadata": {},
      "outputs": [],
      "source": [
        "def get_dBdt_data(data):\n",
        "    # TODO: compress data first\n",
        "    ts = df2ts(data)\n",
        "\n",
        "    vec_diff = ts.differentiate(\"time\", datetime_unit=\"s\")\n",
        "    vec_diff_mag: xr.DataArray = linalg.norm(vec_diff, dims=\"v_dim\")\n",
        "    return vec_diff_mag.to_dataframe(name=\"dBdt\")\n",
        "\n",
        "def sea_ids(\n",
        "    ds: IDsDataset,\n",
        "    cols = ['t.d_start', 't.d_time', 't.d_end'],\n",
        "    bins = [10 , 10],\n",
        "    return_data = True\n",
        "):\n",
        "    # converting to a list of numpy arrays\n",
        "    \n",
        "    ds.events = keep_good_fit(ds.events)\n",
        "    \n",
        "    sea_events = [col.to_numpy() for col in ds.events[cols]]\n",
        "    \n",
        "    data = get_dBdt_data(ds.data)\n",
        "    \n",
        "    data = pd.merge_asof(\n",
        "        data,\n",
        "        ids_ds.events[[\"time\", \"v_k\", 'j_Alfven']].to_pandas().set_index(\"time\").sort_index(),\n",
        "        left_index=True,\n",
        "        right_index=True,\n",
        "        direction=\"nearest\",\n",
        "    )\n",
        "\n",
        "    data['j_k'] = data['dBdt'] / data['v_k'] * J_FACTOR\n",
        "    data['j_k_norm'] = data['j_k'] / data['j_Alfven']\n",
        "    \n",
        "    return sean(data, sea_events, bins, return_data=return_data)\n",
        "\n",
        "def plot_SEA(SEAarray, meta):\n",
        "    cols = meta['sea_cols']\n",
        "    fig, axes = plt.subplots(nrows=len(cols), sharex=True, squeeze=True, figsize=(5, 8))\n",
        "\n",
        "    if len(cols) == 1:\n",
        "        axes = [axes]\n",
        "\n",
        "    # loop over columns that were analyzed\n",
        "    for c, ax in zip(cols, axes):\n",
        "        # for each column identify the column titles which\n",
        "        # have 'c' in the title and those that don't have\n",
        "        # 'cnt' in the title\n",
        "        # e.g. for AE columns\n",
        "        # AE_mean, AE_median, AE_lowq, AE_upq, AE_cnt\n",
        "        # fine columns AE_mean, AE_median, AE_lowq, AE_upq\n",
        "        # mask = SEAarray.columns.str.startswith(c) & ~SEAarray.columns.str.endswith(\"cnt\")\n",
        "        mask = [c+'_mean', c+'_median', c+'_lowq', c+'_upq']\n",
        "\n",
        "        # plot the SEA data\n",
        "        SEAarray.loc[:, mask].plot(\n",
        "            ax=ax,\n",
        "            style=[\"r-\", \"b-\", \"b--\", \"b--\"],\n",
        "            xlabel=\"Normalized Time\",\n",
        "            ylabel=c.replace(\"_\", \" \"),\n",
        "            legend=False,\n",
        "        )\n",
        "\n",
        "    return fig, axes\n"
      ],
      "id": "cell-20"
    },
    {
      "cell_type": "markdown",
      "metadata": {},
      "source": [
        "### First year"
      ],
      "id": "8c64a7b8-7cb3-4835-809b-4059f0e2a1bf"
    },
    {
      "cell_type": "code",
      "execution_count": 59,
      "metadata": {},
      "outputs": [
        {
          "output_type": "stream",
          "name": "stderr",
          "text": [
            "20-Feb-24 12:27:21: UserWarning: Distributing <class 'pandas.core.frame.DataFrame'> object. This may take some time.\n"
          ]
        },
        {
          "output_type": "display_data",
          "metadata": {},
          "data": {
            "application/vnd.jupyter.widget-view+json": {
              "model_id": "40bb63be205844608262158811e3c77e",
              "version_major": 2,
              "version_minor": 0
            }
          }
        },
        {
          "output_type": "display_data",
          "metadata": {},
          "data": {
            "application/vnd.jupyter.widget-view+json": {
              "model_id": "e13cd834a19640ab9077557014b3c73a",
              "version_major": 2,
              "version_minor": 0
            }
          }
        }
      ],
      "source": [
        "mag_path = sorted(list(walk(dir_path)))[0]\n",
        "tau = timedelta(seconds=60)\n",
        "mag_data = pl.scan_parquet(mag_path).drop('X', 'Y', 'Z').sort('time')\n",
        "\n",
        "ids_ds = (\n",
        "    IDsDataset(\n",
        "        mag_data=mag_data,\n",
        "        plasma_data=plasma_data,\n",
        "        tau=tau,\n",
        "        ts=ts,\n",
        "        vec_cols=vec_cols,\n",
        "        density_col=\"plasma_density\",\n",
        "        speed_col=\"plasma_speed\",\n",
        "        temperature_col=\"plasma_temperature\",\n",
        "    )\n",
        "    .find_events(return_best_fit=True)\n",
        "    .update_candidates_with_plasma_data()\n",
        ")"
      ],
      "id": "cell-22"
    },
    {
      "cell_type": "code",
      "execution_count": 60,
      "metadata": {},
      "outputs": [
        {
          "output_type": "stream",
          "name": "stderr",
          "text": [
            "100%|██████████| 8151/8151 [00:03<00:00, 2371.81it/s]"
          ]
        },
        {
          "output_type": "display_data",
          "metadata": {},
          "data": {}
        }
      ],
      "source": [
        "SEAarray, meta, p1data, p2data = sea_ids(ids_ds)\n",
        "\n",
        "fig, axes = plot_SEA(SEAarray, meta)"
      ],
      "id": "cell-fig-sea-first"
    },
    {
      "cell_type": "markdown",
      "metadata": {},
      "source": [
        "``` python\n",
        "ids_ds.plot_candidates(num=20, plot_fit_data=True, predicates=(pl.col('fit.stat.rsquared') > 0.95))\n",
        "```\n",
        "\n",
        "### Last year"
      ],
      "id": "943df9f6-3bdc-4613-9e83-75d940f1336b"
    },
    {
      "cell_type": "code",
      "execution_count": 54,
      "metadata": {},
      "outputs": [
        {
          "output_type": "stream",
          "name": "stderr",
          "text": [
            "20-Feb-24 12:24:47: UserWarning: Distributing <class 'pandas.core.frame.DataFrame'> object. This may take some time.\n"
          ]
        },
        {
          "output_type": "display_data",
          "metadata": {},
          "data": {
            "application/vnd.jupyter.widget-view+json": {
              "model_id": "e273090e59854948bc255b99d6efd64e",
              "version_major": 2,
              "version_minor": 0
            }
          }
        },
        {
          "output_type": "display_data",
          "metadata": {},
          "data": {
            "application/vnd.jupyter.widget-view+json": {
              "model_id": "fba12211e4894463b5cc663eaca46b12",
              "version_major": 2,
              "version_minor": 0
            }
          }
        }
      ],
      "source": [
        "# mag_path = sorted(list(walk(dir_path)))[-1]\n",
        "tau = timedelta(seconds=300)\n",
        "tau = timedelta(seconds=60)\n",
        "mag_path = sorted(list(walk(dir_path)))[-1]\n",
        "mag_data = pl.scan_parquet(mag_path).drop('X', 'Y', 'Z').sort('time')\n",
        "\n",
        "ids_ds = (\n",
        "    IDsDataset(\n",
        "        mag_data=mag_data,\n",
        "        plasma_data=plasma_data,\n",
        "        tau=tau,\n",
        "        ts=ts,\n",
        "        vec_cols=vec_cols,\n",
        "        density_col=\"plasma_density\",\n",
        "        speed_col=\"plasma_speed\",\n",
        "        temperature_col=\"plasma_temperature\",\n",
        "    )\n",
        "    .find_events(return_best_fit=True)\n",
        "    .update_candidates_with_plasma_data()\n",
        ")"
      ],
      "id": "cell-26"
    },
    {
      "cell_type": "markdown",
      "metadata": {},
      "source": [
        "#### Superposed epoch analysis"
      ],
      "id": "8051b6c7-e0ef-4e47-8ba6-20318ec03435"
    },
    {
      "cell_type": "code",
      "execution_count": 56,
      "metadata": {},
      "outputs": [
        {
          "output_type": "stream",
          "name": "stderr",
          "text": [
            "100%|██████████| 1769/1769 [00:00<00:00, 2332.25it/s]"
          ]
        },
        {
          "output_type": "display_data",
          "metadata": {},
          "data": {}
        }
      ],
      "source": [
        "SEAarray, meta, p1data, p2data = sea_ids(ids_ds)\n",
        "\n",
        "fig, axes = plot_SEA(SEAarray, meta)"
      ],
      "id": "cell-fig-sea-last"
    },
    {
      "cell_type": "code",
      "execution_count": 42,
      "metadata": {},
      "outputs": [
        {
          "output_type": "display_data",
          "metadata": {},
          "data": {
            "image/png": "[encoded data removed]"
          }
        }
      ],
      "source": [
        "groupby = 'index'\n",
        "columns = ['dBdt', 'j_k']\n",
        "\n",
        "# Plot each group\n",
        "fig, axes = plt.subplots(nrows=len(columns))\n",
        "\n",
        "if len(columns) == 1:\n",
        "    axes = [axes]\n",
        "\n",
        "p1groups = p1data.groupby(groupby)\n",
        "p2groups = p2data.groupby(groupby)\n",
        "\n",
        "for ax, column in zip(axes, columns):\n",
        "    for name, group in p1groups:\n",
        "        ax.plot(group['t_norm'] -1 , group[column], color='grey', alpha=0.3)\n",
        "        \n",
        "    for name, group in p2groups:\n",
        "        ax.plot(group['t_norm'], group[column], color='grey', alpha=0.3)\n",
        "\n",
        "# plt.yscale('log')\n",
        "plt.show()\n"
      ],
      "id": "cell-29"
    },
    {
      "cell_type": "markdown",
      "metadata": {},
      "source": [
        "``` python\n",
        "ids_ds.plot_candidates(num=20, plot_fit_data=True, predicates=(pl.col('fit.stat.rsquared') > 0.95))\n",
        "```\n",
        "\n",
        "## Processing the whole data\n",
        "\n",
        "## Obsolete\n",
        "\n",
        "### Estimate\n",
        "\n",
        "1 day of data resampled by 1 sec is about 12 MB.\n",
        "\n",
        "So 1 year of data is about 4 GB, and 6 years of JUNO Cruise data is about 24 GB.\n",
        "\n",
        "Downloading rate is about 250 KB/s, so it will take about 3 days to download all the data."
      ],
      "id": "db55a27c-8fee-4dac-98c8-1011b0ace199"
    },
    {
      "cell_type": "code",
      "execution_count": null,
      "metadata": {},
      "outputs": [],
      "source": [
        "num_of_files = 6*365\n",
        "jno_file_size = 12e3\n",
        "thm_file_size = 40e3\n",
        "files_size = jno_file_size + thm_file_size\n",
        "downloading_rate = 250\n",
        "processing_rate = 1/60\n",
        "\n",
        "time_to_download = num_of_files * files_size / downloading_rate / 60 / 60\n",
        "space_required = num_of_files * files_size / 1e6\n",
        "time_to_process = num_of_files / processing_rate / 60 / 60\n",
        "\n",
        "print(f\"Time to download: {time_to_download:.2f} hours\")\n",
        "print(f\"Disk space required: {space_required:.2f} GB\")\n",
        "print(f\"Time to process: {time_to_process:.2f} hours\")"
      ],
      "id": "cell-35"
    }
  ],
  "nbformat": 4,
  "nbformat_minor": 5,
  "metadata": {
    "kernelspec": {
      "name": "python3",
      "display_name": "python3",
      "language": "python"
    },
    "language_info": {
      "name": "python",
      "codemirror_mode": {
        "name": "ipython",
        "version": "3"
      },
      "file_extension": ".py",
      "mimetype": "text/x-python",
      "nbconvert_exporter": "python",
      "pygments_lexer": "ipython3",
      "version": "3.11.7"
    }
  }
}