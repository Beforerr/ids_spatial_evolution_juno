{
 "cells": [
  {
   "cell_type": "markdown",
   "metadata": {},
   "source": [
    "---\n",
    "title: IDs from Wind\n",
    "order: 10\n",
    "---\n",
    "\n",
    "See following notebooks for details:\n",
    "\n",
    "- [Magnetic field data](wind/mag.ipynb)\n",
    "- [State data](wind/state.ipynb)\n",
    "\n",
    "\n",
    "References:\n",
    "\n",
    "- [HPDE.io/Wind](https://hpde.io/NASA/NumericalData/Wind/index.html)\n",
    "- [Wind Data Sources](https://wind.nasa.gov/data_sources.php)\n",
    "- [WIND MFI high-resolution data file](https://cdaweb.gsfc.nasa.gov/misc/NotesW.html#WI_H4-RTN_MFI)\n",
    "- [PySPEDAS](https://pyspedas.readthedocs.io/en/latest/wind.html)\n",
    "\n",
    "\n",
    "- We use magnetic field data in **RTN** coordinate system\n",
    "\n",
    "Notes:\n",
    "\n",
    "- December 2014: Wind Data Notice - Data between September 24 and November 30, 2014 were not included at this definitive data set because of instrumental problem [*](https://omniweb.gsfc.nasa.gov/ftpbrowser/wind_swe_2m.html)"
   ]
  },
  {
   "cell_type": "code",
   "execution_count": null,
   "metadata": {},
   "outputs": [],
   "source": [
    "import speasy as spz\n",
    "\n",
    "import polars as pl\n",
    "import polars.selectors as cs\n",
    "from space_analysis.utils.speasy import Variables\n",
    "from discontinuitypy.datasets import IDsDataset\n",
    "from discontinuitypy.utils.basic import resample\n",
    "from beforerr.polars import pl_norm\n",
    "\n",
    "from datetime import timedelta\n",
    "from sunpy.time import TimeRange\n",
    "\n",
    "from space_analysis.plasma.formulary import df_thermal_spd2temp\n",
    "\n",
    "from tqdm import tqdm"
   ]
  },
  {
   "cell_type": "code",
   "execution_count": null,
   "metadata": {},
   "outputs": [],
   "source": [
    "spz.update_inventories()"
   ]
  },
  {
   "cell_type": "code",
   "execution_count": null,
   "metadata": {},
   "outputs": [],
   "source": [
    "timerange = [\"2011-08-25\", \"2016-06-30\"]\n",
    "mission = \"Wind\"\n",
    "ts = timedelta(seconds=1)\n",
    "tau = timedelta(seconds=60)\n",
    "\n",
    "provider = 'archive/local'\n",
    "mag_dataset = \"WI_H4-RTN_MFI\"\n",
    "mag_parameters = [\"BRTN\"]\n",
    "plasma_dataset = \"WI_K0_SWE\"\n",
    "plasma_parameters= [\"Np\", \"V_GSM\", \"THERMAL_SPD\"]\n",
    "\n",
    "fmt = 'arrow'\n",
    "fname = f\"../../data/05_reporting/events.{mission}.ts_{ts.total_seconds():.2f}s_tau_60s.{fmt}\""
   ]
  },
  {
   "cell_type": "markdown",
   "metadata": {},
   "source": [
    "## Downloading data file first"
   ]
  },
  {
   "cell_type": "code",
   "execution_count": null,
   "metadata": {},
   "outputs": [],
   "source": [
    "import pyspedas\n",
    "\n",
    "def download(timerange):\n",
    "    pyspedas.wind.swe(timerange, datatype='k0', downloadonly=True)\n",
    "    pyspedas.wind.mfi(timerange, datatype=\"h4-rtn\", downloadonly=True)"
   ]
  },
  {
   "cell_type": "markdown",
   "metadata": {},
   "source": [
    "## Loading"
   ]
  },
  {
   "cell_type": "code",
   "execution_count": null,
   "metadata": {},
   "outputs": [],
   "source": [
    "def get_and_process_data(\n",
    "    mag_dataset, mag_parameters, plasma_dataset, plasma_parameters, timerange, tau, ts,\n",
    "    provider = 'archive/local'\n",
    "):\n",
    "    # define variables\n",
    "    mag_vars = Variables(\n",
    "        provider = provider,\n",
    "        dataset=mag_dataset,\n",
    "        parameters=mag_parameters,\n",
    "        timerange=timerange,\n",
    "    ).retrieve_data()\n",
    "\n",
    "    plasma_vars = Variables(\n",
    "        provider = provider,\n",
    "        dataset=plasma_dataset,\n",
    "        parameters=plasma_parameters,\n",
    "        timerange=timerange,\n",
    "    ).retrieve_data()\n",
    "\n",
    "    # get column names\n",
    "    bcols = mag_vars.data[0].columns\n",
    "    density_col = plasma_vars.data[0].columns[0]\n",
    "    vec_cols = plasma_vars.data[1].columns\n",
    "    temperature_col = plasma_vars.data[2].columns[0]\n",
    "\n",
    "    # get data\n",
    "    mag_data = mag_vars.to_polars()\n",
    "    plasma_data = (\n",
    "        plasma_vars.to_polars()\n",
    "        .with_columns(plasma_speed=pl_norm(vec_cols))\n",
    "        .rename({density_col: \"plasma_density\"})\n",
    "    )\n",
    "    # process temperature data\n",
    "    if plasma_vars.data[2].unit == \"km/s\":\n",
    "        plasma_data = plasma_data.pipe(df_thermal_spd2temp, temperature_col)\n",
    "    else:\n",
    "        plasma_data = plasma_data.rename({temperature_col: \"plasma_temperature\"})\n",
    "\n",
    "    return IDsDataset(\n",
    "        mag_data=mag_data.pipe(resample, every=ts),\n",
    "        plasma_data=plasma_data,\n",
    "        tau=tau,\n",
    "        ts=ts,\n",
    "        bcols=bcols,\n",
    "        vec_cols=vec_cols,\n",
    "        density_col=\"plasma_density\",\n",
    "        speed_col=\"plasma_speed\",\n",
    "        temperature_col=\"plasma_temperature\",\n",
    "    ).find_events(return_best_fit=False).update_candidates_with_plasma_data()"
   ]
  },
  {
   "cell_type": "code",
   "execution_count": null,
   "metadata": {},
   "outputs": [],
   "source": [
    "ids : list[pl.DataFrame] = []\n",
    "for _tr in tqdm(TimeRange(timerange).split(8)):\n",
    "    \n",
    "    _timerange = [_tr.start.value, _tr.end.value]\n",
    "    _id = get_and_process_data(\n",
    "        mag_dataset, mag_parameters, plasma_dataset, plasma_parameters, _timerange, tau, ts\n",
    "    )\n",
    "    ids.append(_id.events)"
   ]
  },
  {
   "cell_type": "code",
   "execution_count": null,
   "metadata": {},
   "outputs": [],
   "source": [
    "pl.concat(ids).select(cs.datetime(), cs.duration(), cs.numeric()).write_ipc(fname)"
   ]
  },
  {
   "cell_type": "code",
   "execution_count": null,
   "metadata": {},
   "outputs": [],
   "source": [
    "# from discontinuitypy.datasets import IDsDataset\n",
    "# import polars as pl\n",
    "# from fastcore.utils import walk"
   ]
  },
  {
   "cell_type": "code",
   "execution_count": null,
   "metadata": {},
   "outputs": [],
   "source": [
    "# ts = 1 # unit: seconds\n",
    "# tau = 60 # unit: seconds\n",
    "\n",
    "# mission = \"Wind\"\n",
    "# data_dir = '../../data'\n",
    "# dir_path = f'{data_dir}/03_primary/{mission}_MAG_ts_{ts}s'\n",
    "# state_data_path = f'{data_dir}/03_primary/OMNI_LowRes_ts_3600s.parquet'\n",
    "# vec_cols = ['v_x', 'v_y', 'v_z']\n",
    "\n",
    "# format = 'arrow'\n",
    "# fname = f'events.{mission}.ts_{ts}s_tau_{tau}s.{format}'\n",
    "# output_path = f'{data_dir}/05_reporting/{fname}'"
   ]
  },
  {
   "cell_type": "code",
   "execution_count": null,
   "metadata": {},
   "outputs": [],
   "source": [
    "# events = []\n",
    "# for mag_path in files[-1:]:\n",
    "\n",
    "#     mag_data = pl.scan_parquet(mag_path).drop('X', 'Y', 'Z').sort('time')\n",
    "#     plasma_data = pl.scan_parquet(state_data_path).sort('time')\n",
    "\n",
    "#     _events = (\n",
    "#         IDsDataset(\n",
    "#             mag_data=mag_data,\n",
    "#             plasma_data=plasma_data,\n",
    "#             tau=tau,\n",
    "#             ts=ts,\n",
    "#             vec_cols=vec_cols,\n",
    "#         )\n",
    "#         .find_events(return_best_fit=False)\n",
    "#         .update_candidates_with_plasma_data()\n",
    "#         .events\n",
    "#     )\n",
    "    \n",
    "#     events.append(_events)\n",
    "    \n",
    "# ids_dataset = IDsDataset(\n",
    "#     events=pl.concat(events),\n",
    "#     mag_data= pl.scan_parquet(list(walk(dir_path))).drop('X', 'Y', 'Z').sort('time')\n",
    "# ).export(output_path)"
   ]
  }
 ],
 "metadata": {
  "kernelspec": {
   "display_name": "python3",
   "language": "python",
   "name": "python3"
  },
  "language_info": {
   "codemirror_mode": {
    "name": "ipython",
    "version": 3
   },
   "file_extension": ".py",
   "mimetype": "text/x-python",
   "name": "python",
   "nbconvert_exporter": "python",
   "pygments_lexer": "ipython3",
   "version": "3.11.7"
  }
 },
 "nbformat": 4,
 "nbformat_minor": 2
}
