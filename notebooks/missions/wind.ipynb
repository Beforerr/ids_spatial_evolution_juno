{
 "cells": [
  {
   "cell_type": "markdown",
   "metadata": {},
   "source": [
    "---\n",
    "title: IDs from Wind\n",
    "order: 10\n",
    "---\n",
    "\n",
    "See following notebooks for details:\n",
    "\n",
    "- [Magnetic field data](wind/mag.ipynb)\n",
    "- [State data](wind/state.ipynb)\n",
    "\n",
    "References:\n",
    "\n",
    "- [HPDE.io/Wind](https://hpde.io/NASA/NumericalData/Wind/index.html)\n",
    "- [Wind Data Sources](https://wind.nasa.gov/data_sources.php)\n",
    "- [WIND MFI high-resolution data file](https://cdaweb.gsfc.nasa.gov/misc/NotesW.html#WI_H4-RTN_MFI)\n",
    "- [PySPEDAS](https://pyspedas.readthedocs.io/en/latest/wind.html)\n",
    "\n",
    "- We use magnetic field data in **RTN** coordinate system\n",
    "\n",
    "Notes:\n",
    "\n",
    "- December 2014: Wind Data Notice - Data between September 24 and November 30, 2014 were not included at this definitive data set because of instrumental problem [\\*](https://omniweb.gsfc.nasa.gov/ftpbrowser/wind_swe_2m.html)\n"
   ]
  },
  {
   "cell_type": "code",
   "execution_count": 1,
   "metadata": {},
   "outputs": [],
   "source": [
    "from space_analysis.utils.speasy import Variables\n",
    "from discontinuitypy.datasets import IDsDataset\n",
    "from discontinuitypy.utils.basic import resample\n",
    "from beforerr.polars import pl_norm\n",
    "\n",
    "from datetime import timedelta\n",
    "\n",
    "from space_analysis.plasma.formulary import df_thermal_spd2temp"
   ]
  },
  {
   "cell_type": "code",
   "execution_count": null,
   "metadata": {},
   "outputs": [],
   "source": [
    "from discontinuitypy.missions import wind_mag_h4_rtn_meta, wind_plasma_k0_swe_meta"
   ]
  },
  {
   "cell_type": "code",
   "execution_count": 7,
   "metadata": {},
   "outputs": [],
   "source": [
    "timerange = [\"2011-08-25\", \"2016-06-30\"]\n",
    "mission = \"Wind\"\n",
    "ts = timedelta(seconds=1)\n",
    "tau = timedelta(seconds=60)\n",
    "\n",
    "provider = \"archive/local\"\n",
    "mag_dataset = \"WI_H4-RTN_MFI\"\n",
    "mag_parameters = [\"BRTN\"]\n",
    "plasma_dataset = \"WI_K0_SWE\"\n",
    "plasma_parameters = [\"Np\", \"V_GSM\", \"THERMAL_SPD\"]"
   ]
  },
  {
   "cell_type": "markdown",
   "metadata": {},
   "source": [
    "## Downloading data file first\n"
   ]
  },
  {
   "cell_type": "code",
   "execution_count": 1,
   "metadata": {},
   "outputs": [],
   "source": [
    "import pyspedas\n",
    "\n",
    "\n",
    "def download(timerange):\n",
    "    pyspedas.wind.threedp(timerange, datatype=\"3dp_pm\", downloadonly=True)\n",
    "    pyspedas.wind.mfi(timerange, datatype=\"h2\", downloadonly=True)\n",
    "    # pyspedas.wind.swe(timerange, datatype='k0', downloadonly=True)"
   ]
  },
  {
   "cell_type": "markdown",
   "metadata": {},
   "source": [
    "## Loading\n"
   ]
  },
  {
   "cell_type": "code",
   "execution_count": null,
   "metadata": {},
   "outputs": [],
   "source": [
    "def get_and_process_data(\n",
    "    mag_dataset,\n",
    "    mag_parameters,\n",
    "    plasma_dataset,\n",
    "    plasma_parameters,\n",
    "    timerange,\n",
    "    tau,\n",
    "    ts,\n",
    "    provider=\"archive/local\",\n",
    "):\n",
    "    # define variables\n",
    "    mag_vars = Variables(\n",
    "        provider=provider,\n",
    "        dataset=mag_dataset,\n",
    "        parameters=mag_parameters,\n",
    "        timerange=timerange,\n",
    "    )\n",
    "\n",
    "    plasma_vars = Variables(\n",
    "        provider=provider,\n",
    "        dataset=plasma_dataset,\n",
    "        parameters=plasma_parameters,\n",
    "        timerange=timerange,\n",
    "    )\n",
    "\n",
    "    # get column names\n",
    "    bcols = mag_vars.data[0].columns\n",
    "    density_col = plasma_vars.data[0].columns[0]\n",
    "    vec_cols = plasma_vars.data[1].columns\n",
    "    temperature_col = plasma_vars.data[2].columns[0]\n",
    "\n",
    "    # get data\n",
    "    mag_data = mag_vars.to_polars()\n",
    "    plasma_data = (\n",
    "        plasma_vars.to_polars()\n",
    "        .with_columns(plasma_speed=pl_norm(vec_cols))\n",
    "        .rename({density_col: \"plasma_density\"})\n",
    "    )\n",
    "    # process temperature data\n",
    "    if plasma_vars.data[2].unit == \"km/s\":\n",
    "        plasma_data = plasma_data.pipe(df_thermal_spd2temp, temperature_col)\n",
    "    else:\n",
    "        plasma_data = plasma_data.rename({temperature_col: \"plasma_temperature\"})\n",
    "\n",
    "    return (\n",
    "        IDsDataset(\n",
    "            mag_data=mag_data.pipe(resample, every=ts),\n",
    "            plasma_data=plasma_data,\n",
    "            tau=tau,\n",
    "            ts=ts,\n",
    "            bcols=bcols,\n",
    "            vec_cols=vec_cols,\n",
    "            density_col=\"plasma_density\",\n",
    "            speed_col=\"plasma_speed\",\n",
    "            temperature_col=\"plasma_temperature\",\n",
    "        )\n",
    "        .find_events(return_best_fit=False)\n",
    "        .update_candidates_with_plasma_data()\n",
    "    )"
   ]
  }
 ],
 "metadata": {
  "kernelspec": {
   "display_name": "python3",
   "language": "python",
   "name": "python3"
  },
  "language_info": {
   "codemirror_mode": {
    "name": "ipython",
    "version": 3
   },
   "file_extension": ".py",
   "mimetype": "text/x-python",
   "name": "python",
   "nbconvert_exporter": "python",
   "pygments_lexer": "ipython3",
   "version": "3.11.7"
  }
 },
 "nbformat": 4,
 "nbformat_minor": 2
}
