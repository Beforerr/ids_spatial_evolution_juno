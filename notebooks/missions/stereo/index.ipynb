{
 "cells": [
  {
   "cell_type": "markdown",
   "metadata": {},
   "source": [
    "---\n",
    "title: IDs from STEREO\n",
    "order: 11\n",
    "---\n",
    "\n",
    "See following notebooks for details:\n",
    "\n",
    "- [Magnetic field data](./mag.ipynb)\n",
    "- [State data](./state.ipynb)\n",
    "\n",
    "STEREO magnetic field is already in RTN coordinates, so no need to transform it.\n",
    "\n",
    "Download data using `pyspedas`, but load it using `pycdfpp` (using `pyspedas` to load the data directly into `xarray` is very slow)"
   ]
  },
  {
   "cell_type": "markdown",
   "metadata": {},
   "source": [
    "Note STEREO-A plastic data file is \"Non compliant ISTP file: No data variable found, this is suspicious\", `-9.999999848243207e+30` instead of `-1e+31` is used as fill value.\n",
    "\n",
    "```\n",
    "wget -r -np -nH -R \"index.html*\" https://spdf.gsfc.nasa.gov/pub/data/stereo/ahead/l2/plastic/1dmax/1min/201{1,2,3,4,5,6}/\n",
    "```"
   ]
  },
  {
   "cell_type": "code",
   "execution_count": null,
   "metadata": {},
   "outputs": [],
   "source": [
    "import speasy as spz\n",
    "from space_analysis.utils.speasy import Variables\n",
    "from space_analysis.io.cdf import cdf2pl\n",
    "from discontinuitypy.datasets import IDsDataset\n",
    "from beforerr.polars import pl_norm\n",
    "from discontinuitypy.utils.basic import resample\n",
    "\n",
    "from datetime import timedelta\n",
    "import polars as pl\n",
    "import polars.selectors as cs\n",
    "\n",
    "from sunpy.time import TimeRange\n",
    "import pyspedas\n",
    "\n",
    "from tqdm import tqdm"
   ]
  },
  {
   "cell_type": "code",
   "execution_count": 113,
   "metadata": {},
   "outputs": [
    {
     "name": "stdout",
     "output_type": "stream",
     "text": [
      "['https://cdaweb.gsfc.nasa.gov/tmp/wstdZ7pT/thb_l2s_fgm_20110516120000_20110521185813.cdf', 'https://cdaweb.gsfc.nasa.gov/tmp/ws7AC2YG/thb_l2s_fgm_20110510160109_20110516115959.cdf', 'https://cdaweb.gsfc.nasa.gov/tmp/wsdWe6Y0/thb_l2s_fgm_20110503154613_20110508141013.cdf', 'https://cdaweb.gsfc.nasa.gov/tmp/wspIHacZ/thb_l2s_fgm_20110427180245_20110428180909.cdf', 'https://cdaweb.gsfc.nasa.gov/tmp/ws8Y7VVX/thb_l2s_fgm_20110418120005_20110425000941.cdf', 'https://cdaweb.gsfc.nasa.gov/tmp/wsVgYXlA/thb_l2s_fgm_20110411180245_20110418115757.cdf', 'https://cdaweb.gsfc.nasa.gov/tmp/wsDf0Pkg/thb_l2s_fgm_20110404120000_20110411000941.cdf', 'https://cdaweb.gsfc.nasa.gov/tmp/wsqeq6Bm/thb_l2s_fgm_20110330222053_20110404115959.cdf', 'https://cdaweb.gsfc.nasa.gov/tmp/wsyP7JUE/thb_l2s_fgm_20110321120000_20110328000941.cdf', 'https://cdaweb.gsfc.nasa.gov/tmp/wslkgA9S/thb_l2s_fgm_20110314180245_20110321115959.cdf', 'https://cdaweb.gsfc.nasa.gov/tmp/wsoPwsBS/thb_l2s_fgm_20110313180245_20110314000941.cdf', 'https://cdaweb.gsfc.nasa.gov/tmp/wsgp6nNs/thb_l2s_fgm_20110301180245_20110307012005.cdf', 'https://cdaweb.gsfc.nasa.gov/tmp/ws9Ehnui/thb_l2s_fgm_20160923100951_20160929215559.cdf', 'https://cdaweb.gsfc.nasa.gov/tmp/wsXtX8gR/thb_l2s_fgm_20160916000000_20160922164607.cdf', 'https://cdaweb.gsfc.nasa.gov/tmp/ws8kCYkJ/thb_l2s_fgm_20160909000000_20160915235959.cdf', 'https://cdaweb.gsfc.nasa.gov/tmp/wsC8yVHh/thb_l2s_fgm_20160902032950_20160908235959.cdf', 'https://cdaweb.gsfc.nasa.gov/tmp/ws9XCQ3S/thb_l2s_fgm_20160826055942_20160901180606.cdf', 'https://cdaweb.gsfc.nasa.gov/tmp/wsBIuQxO/thb_l2s_fgm_20160819012502_20160825115558.cdf', 'https://cdaweb.gsfc.nasa.gov/tmp/ws67dQmN/thb_l2s_fgm_20160812161958_20160818150550.cdf', 'https://cdaweb.gsfc.nasa.gov/tmp/wsKrUbqb/thb_l2s_fgm_20160805095942_20160811224606.cdf', 'https://cdaweb.gsfc.nasa.gov/tmp/wschSaQJ/thb_l2s_fgm_20160729014934_20160804135558.cdf', 'https://cdaweb.gsfc.nasa.gov/tmp/wsb7AbVw/thb_l2s_fgm_20160722000000_20160728070550.cdf', 'https://cdaweb.gsfc.nasa.gov/tmp/wsPtAeB6/thb_l2s_fgm_20160715121958_20160721235959.cdf', 'https://cdaweb.gsfc.nasa.gov/tmp/wsbEh7Ay/thb_l2s_fgm_20160708054934_20160714175558.cdf', 'https://cdaweb.gsfc.nasa.gov/tmp/wsDtMX7E/thb_l2s_fgm_20160701000000_20160707225542.cdf', 'https://cdaweb.gsfc.nasa.gov/tmp/wsvCSKF1/thb_l2s_fgm_20160624043350_20160630235959.cdf', 'https://cdaweb.gsfc.nasa.gov/tmp/wsseWmpG/thb_l2s_fgm_20160617081958_20160623200605.cdf', 'https://cdaweb.gsfc.nasa.gov/tmp/ws0IlUXQ/thb_l2s_fgm_20160610013958_20160616130549.cdf', 'https://cdaweb.gsfc.nasa.gov/tmp/wsXkfK26/thb_l2s_fgm_20160603000000_20160609175557.cdf', 'https://cdaweb.gsfc.nasa.gov/tmp/wssOGCy1/thb_l2s_fgm_20160527000000_20160602235959.cdf', 'https://cdaweb.gsfc.nasa.gov/tmp/ws2fUk91/thb_l2s_fgm_20160520215942_20160526235959.cdf', 'https://cdaweb.gsfc.nasa.gov/tmp/wsNxCu7K/thb_l2s_fgm_20160513000000_20160519085542.cdf', 'https://cdaweb.gsfc.nasa.gov/tmp/wsmtOCOT/thb_l2s_fgm_20160506150934_20160512235959.cdf', 'https://cdaweb.gsfc.nasa.gov/tmp/wsS3LTeJ/thb_l2s_fgm_20160429080502_20160505193542.cdf', 'https://cdaweb.gsfc.nasa.gov/tmp/wsJhmcJn/thb_l2s_fgm_20160422000000_20160428224502.cdf', 'https://cdaweb.gsfc.nasa.gov/tmp/wsa9hKme/thb_l2s_fgm_20160415055943_20160421235959.cdf', 'https://cdaweb.gsfc.nasa.gov/tmp/wso2nxWU/thb_l2s_fgm_20160408111455_20160414225055.cdf', 'https://cdaweb.gsfc.nasa.gov/tmp/wsKpVsgP/thb_l2s_fgm_20160401042552_20160407161056.cdf', 'https://cdaweb.gsfc.nasa.gov/tmp/wsYgVXxw/thb_l2s_fgm_20160325000000_20160331184048.cdf', 'https://cdaweb.gsfc.nasa.gov/tmp/wsZrFfLV/thb_l2s_fgm_20160318000000_20160324235959.cdf', 'https://cdaweb.gsfc.nasa.gov/tmp/wsVuD8HG/thb_l2s_fgm_20160311035457_20160317235959.cdf', 'https://cdaweb.gsfc.nasa.gov/tmp/wswy0MRL/thb_l2s_fgm_20160304001441_20160310162105.cdf', 'https://cdaweb.gsfc.nasa.gov/tmp/wsbJfPB4/thb_l2s_fgm_20160226042449_20160303140049.cdf', 'https://cdaweb.gsfc.nasa.gov/tmp/wsUKwESk/thb_l2s_fgm_20160223130449_20160225205057.cdf', 'https://cdaweb.gsfc.nasa.gov/tmp/wsoBY3qQ/thb_l2s_fgm_20160212070446_20160213111109.cdf', 'https://cdaweb.gsfc.nasa.gov/tmp/wsmXTR48/thb_l2s_fgm_20160205000000_20160211053645.cdf', 'https://cdaweb.gsfc.nasa.gov/tmp/ws7UYyHW/thb_l2s_fgm_20160129000000_20160204235959.cdf', 'https://cdaweb.gsfc.nasa.gov/tmp/wsbZorBP/thb_l2s_fgm_20160122000000_20160128235959.cdf', 'https://cdaweb.gsfc.nasa.gov/tmp/wsBQ4ReP/thb_l2s_fgm_20160115000000_20160121235959.cdf', 'https://cdaweb.gsfc.nasa.gov/tmp/ws4hSvwN/thb_l2s_fgm_20160108062446_20160114235959.cdf', 'https://cdaweb.gsfc.nasa.gov/tmp/ws7T5A5x/thb_l2s_fgm_20160101074102_20160107185054.cdf', 'https://cdaweb.gsfc.nasa.gov/tmp/wse5zwCm/thb_l2s_fgm_20151225000000_20151231173054.cdf', 'https://cdaweb.gsfc.nasa.gov/tmp/wsNDymgc/thb_l2s_fgm_20151218000000_20151224235959.cdf', 'https://cdaweb.gsfc.nasa.gov/tmp/wscxBkxw/thb_l2s_fgm_20151211014446_20151217235959.cdf', 'https://cdaweb.gsfc.nasa.gov/tmp/wsrRjAQj/thb_l2s_fgm_20151204041958_20151210153542.cdf', 'https://cdaweb.gsfc.nasa.gov/tmp/wsutgIay/thb_l2s_fgm_20151127000000_20151203101510.cdf', 'https://cdaweb.gsfc.nasa.gov/tmp/wsA7lMKo/thb_l2s_fgm_20151120143942_20151126235959.cdf', 'https://cdaweb.gsfc.nasa.gov/tmp/wsI734qE/thb_l2s_fgm_20151113000000_20151119211214.cdf', 'https://cdaweb.gsfc.nasa.gov/tmp/wsFfvEJ1/thb_l2s_fgm_20151106001958_20151112235959.cdf', 'https://cdaweb.gsfc.nasa.gov/tmp/wsPNNB9I/thb_l2s_fgm_20151030075006_20151105051558.cdf', 'https://cdaweb.gsfc.nasa.gov/tmp/ws0EfzG0/thb_l2s_fgm_20151023103942_20151029224606.cdf', 'https://cdaweb.gsfc.nasa.gov/tmp/wsRMVkww/thb_l2s_fgm_20151016041958_20151022162550.cdf', 'https://cdaweb.gsfc.nasa.gov/tmp/wsGtbDX6/thb_l2s_fgm_20151009000000_20151015205542.cdf', 'https://cdaweb.gsfc.nasa.gov/tmp/wsDmIDN6/thb_l2s_fgm_20151002025958_20151008235959.cdf', 'https://cdaweb.gsfc.nasa.gov/tmp/wsx6mFvZ/thb_l2s_fgm_20150925064950_20151001190550.cdf', 'https://cdaweb.gsfc.nasa.gov/tmp/wsDixEDB/thb_l2s_fgm_20150918003110_20150924113542.cdf', 'https://cdaweb.gsfc.nasa.gov/tmp/wsg7PgCt/thb_l2s_fgm_20150911174134_20150917160742.cdf', 'https://cdaweb.gsfc.nasa.gov/tmp/wsfFlsQN/thb_l2s_fgm_20150904000000_20150910224846.cdf', 'https://cdaweb.gsfc.nasa.gov/tmp/ws5z1wHK/thb_l2s_fgm_20150828044710_20150903235959.cdf', 'https://cdaweb.gsfc.nasa.gov/tmp/wsdABRR1/thb_l2s_fgm_20150821000000_20150827072918.cdf', 'https://cdaweb.gsfc.nasa.gov/tmp/wsdB2DLd/thb_l2s_fgm_20150814135110_20150820235959.cdf', 'https://cdaweb.gsfc.nasa.gov/tmp/ws43OcpK/thb_l2s_fgm_20150807073126_20150813180918.cdf', 'https://cdaweb.gsfc.nasa.gov/tmp/wslMAkdP/thb_l2s_fgm_20150731000000_20150806223806.cdf', 'https://cdaweb.gsfc.nasa.gov/tmp/wsCbTTeF/thb_l2s_fgm_20150724043214_20150730235959.cdf', 'https://cdaweb.gsfc.nasa.gov/tmp/wsbARJVM/thb_l2s_fgm_20150717102206_20150723215733.cdf', 'https://cdaweb.gsfc.nasa.gov/tmp/wsKx2d71/thb_l2s_fgm_20150710035622_20150716143805.cdf', 'https://cdaweb.gsfc.nasa.gov/tmp/wsafSZiM/thb_l2s_fgm_20150703212142_20150709174821.cdf', 'https://cdaweb.gsfc.nasa.gov/tmp/wsC52akX/thb_l2s_fgm_20150626000000_20150702225325.cdf', 'https://cdaweb.gsfc.nasa.gov/tmp/wseqdhT1/thb_l2s_fgm_20150619062126_20150625235959.cdf', 'https://cdaweb.gsfc.nasa.gov/tmp/wsLAfd41/thb_l2s_fgm_20150612001638_20150618113254.cdf', 'https://cdaweb.gsfc.nasa.gov/tmp/wsRwKIag/thb_l2s_fgm_20150605173118_20150611125814.cdf', 'https://cdaweb.gsfc.nasa.gov/tmp/wslEymPH/thb_l2s_fgm_20150529103726_20150604231238.cdf', 'https://cdaweb.gsfc.nasa.gov/tmp/wstpef5T/thb_l2s_fgm_20150522014158_20150528235726.cdf', 'https://cdaweb.gsfc.nasa.gov/tmp/wsVOHjJ4/thb_l2s_fgm_20150515053638_20150521120246.cdf', 'https://cdaweb.gsfc.nasa.gov/tmp/wslxcvnX/thb_l2s_fgm_20150508003758_20150514213222.cdf', 'https://cdaweb.gsfc.nasa.gov/tmp/wsF2Oqa5/thb_l2s_fgm_20150501000000_20150507150406.cdf', 'https://cdaweb.gsfc.nasa.gov/tmp/wsruSU7N/thb_l2s_fgm_20150424000000_20150430235959.cdf', 'https://cdaweb.gsfc.nasa.gov/tmp/wsdoHHoV/thb_l2s_fgm_20150417012247_20150423235959.cdf', 'https://cdaweb.gsfc.nasa.gov/tmp/ws0WA2BR/thb_l2s_fgm_20150410054720_20150416173327.cdf', 'https://cdaweb.gsfc.nasa.gov/tmp/wsufwcMy/thb_l2s_fgm_20150403000000_20150409105223.cdf', 'https://cdaweb.gsfc.nasa.gov/tmp/wswmA5en/thb_l2s_fgm_20150327175240_20150402235959.cdf', 'https://cdaweb.gsfc.nasa.gov/tmp/wsqlnP0V/thb_l2s_fgm_20150320000000_20150326214512.cdf', 'https://cdaweb.gsfc.nasa.gov/tmp/wseEhuOy/thb_l2s_fgm_20150313031137_20150319235959.cdf', 'https://cdaweb.gsfc.nasa.gov/tmp/wsxNHXWY/thb_l2s_fgm_20150306000000_20150312071656.cdf', 'https://cdaweb.gsfc.nasa.gov/tmp/wstFIENl/thb_l2s_fgm_20150227142129_20150305235959.cdf', 'https://cdaweb.gsfc.nasa.gov/tmp/wsZtdnD2/thb_l2s_fgm_20150220065121_20150226181817.cdf', 'https://cdaweb.gsfc.nasa.gov/tmp/wsNGX3q1/thb_l2s_fgm_20150213000000_20150219204945.cdf', 'https://cdaweb.gsfc.nasa.gov/tmp/wsDOK8O5/thb_l2s_fgm_20150206024147_20150212235959.cdf', 'https://cdaweb.gsfc.nasa.gov/tmp/wsYQNi5n/thb_l2s_fgm_20150130092251_20150205220010.cdf', 'https://cdaweb.gsfc.nasa.gov/tmp/ws32uf2Y/thb_l2s_fgm_20150123033259_20150129144042.cdf', 'https://cdaweb.gsfc.nasa.gov/tmp/wsJIu2l7/thb_l2s_fgm_20150116000000_20150122155107.cdf', 'https://cdaweb.gsfc.nasa.gov/tmp/wsumuPQt/thb_l2s_fgm_20150109000000_20150115235959.cdf', 'https://cdaweb.gsfc.nasa.gov/tmp/ws3j4HrV/thb_l2s_fgm_20150102043244_20150108235959.cdf', 'https://cdaweb.gsfc.nasa.gov/tmp/wsxcBaTS/thb_l2s_fgm_20141226000000_20150101104148.cdf', 'https://cdaweb.gsfc.nasa.gov/tmp/wsavxDeY/thb_l2s_fgm_20141219153821_20141225235959.cdf', 'https://cdaweb.gsfc.nasa.gov/tmp/ws6FjS9o/thb_l2s_fgm_20141212103317_20141218211108.cdf', 'https://cdaweb.gsfc.nasa.gov/tmp/ws1DD48B/thb_l2s_fgm_20141205000000_20141211220636.cdf', 'https://cdaweb.gsfc.nasa.gov/tmp/wsOrFjDx/thb_l2s_fgm_20141128000000_20141204235959.cdf', 'https://cdaweb.gsfc.nasa.gov/tmp/wsN2zwnk/thb_l2s_fgm_20141121103733_20141127235959.cdf', 'https://cdaweb.gsfc.nasa.gov/tmp/wsFvgLCU/thb_l2s_fgm_20141114065333_20141120172044.cdf', 'https://cdaweb.gsfc.nasa.gov/tmp/ws93A39o/thb_l2s_fgm_20141107000000_20141113172708.cdf', 'https://cdaweb.gsfc.nasa.gov/tmp/wsERiBeG/thb_l2s_fgm_20141031030725_20141106235959.cdf', 'https://cdaweb.gsfc.nasa.gov/tmp/wsZ0aKMo/thb_l2s_fgm_20141024000000_20141030231700.cdf', 'https://cdaweb.gsfc.nasa.gov/tmp/wsiGSD3w/thb_l2s_fgm_20141017024149_20141023235959.cdf', 'https://cdaweb.gsfc.nasa.gov/tmp/wsufzJNp/thb_l2s_fgm_20141010070620_20141016125612.cdf', 'https://cdaweb.gsfc.nasa.gov/tmp/ws1s83aB/thb_l2s_fgm_20141003000000_20141009232116.cdf', 'https://cdaweb.gsfc.nasa.gov/tmp/wsArMkur/thb_l2s_fgm_20140926041124_20141002235959.cdf', 'https://cdaweb.gsfc.nasa.gov/tmp/wsXnNVEQ/thb_l2s_fgm_20140919000000_20140925155732.cdf', 'https://cdaweb.gsfc.nasa.gov/tmp/wsYFIt0m/thb_l2s_fgm_20140912140636_20140918235959.cdf', 'https://cdaweb.gsfc.nasa.gov/tmp/wsNhqets/thb_l2s_fgm_20140905011628_20140911234652.cdf', 'https://cdaweb.gsfc.nasa.gov/tmp/wstz9zs0/thb_l2s_fgm_20140829000000_20140904193716.cdf', 'https://cdaweb.gsfc.nasa.gov/tmp/wsLv9eIg/thb_l2s_fgm_20140822050652_20140828235959.cdf', 'https://cdaweb.gsfc.nasa.gov/tmp/wsgqxJAc/thb_l2s_fgm_20140815090756_20140821220636.cdf', 'https://cdaweb.gsfc.nasa.gov/tmp/wstA872Z/thb_l2s_fgm_20140808010756_20140814143628.cdf', 'https://cdaweb.gsfc.nasa.gov/tmp/wsulzeGM/thb_l2s_fgm_20140801000000_20140807192636.cdf', 'https://cdaweb.gsfc.nasa.gov/tmp/wsddkcb8/thb_l2s_fgm_20140725000000_20140731235959.cdf', 'https://cdaweb.gsfc.nasa.gov/tmp/wsyVtT0E/thb_l2s_fgm_20140718032636_20140724235959.cdf', 'https://cdaweb.gsfc.nasa.gov/tmp/wsnhlHLd/thb_l2s_fgm_20140711000000_20140717194548.cdf', 'https://cdaweb.gsfc.nasa.gov/tmp/wsO7jFlQ/thb_l2s_fgm_20140704064708_20140710235959.cdf', 'https://cdaweb.gsfc.nasa.gov/tmp/wsJdoruV/thb_l2s_fgm_20140627000000_20140703193300.cdf', 'https://cdaweb.gsfc.nasa.gov/tmp/wstXpOE0/thb_l2s_fgm_20140620015244_20140626235959.cdf', 'https://cdaweb.gsfc.nasa.gov/tmp/wswuTbCU/thb_l2s_fgm_20140613000000_20140619232532.cdf', 'https://cdaweb.gsfc.nasa.gov/tmp/wsY9hwsk/thb_l2s_fgm_20140606041332_20140612235959.cdf', 'https://cdaweb.gsfc.nasa.gov/tmp/wsCjTHpq/thb_l2s_fgm_20140530000000_20140605144043.cdf', 'https://cdaweb.gsfc.nasa.gov/tmp/wswfDl5e/thb_l2s_fgm_20140523000000_20140529235959.cdf', 'https://cdaweb.gsfc.nasa.gov/tmp/wsRIaRgy/thb_l2s_fgm_20140516021155_20140522235959.cdf', 'https://cdaweb.gsfc.nasa.gov/tmp/wsR0ZZ3W/thb_l2s_fgm_20140509000000_20140515090547.cdf', 'https://cdaweb.gsfc.nasa.gov/tmp/wsE2eSIb/thb_l2s_fgm_20140502130235_20140508235959.cdf', 'https://cdaweb.gsfc.nasa.gov/tmp/wsqvK0HU/thb_l2s_fgm_20140425085259_20140501200043.cdf', 'https://cdaweb.gsfc.nasa.gov/tmp/wsgm7CB3/thb_l2s_fgm_20140418000000_20140424211107.cdf', 'https://cdaweb.gsfc.nasa.gov/tmp/wsCMrkuL/thb_l2s_fgm_20140411030307_20140417235959.cdf', 'https://cdaweb.gsfc.nasa.gov/tmp/ws9IEGmr/thb_l2s_fgm_20140404081227_20140410222131.cdf', 'https://cdaweb.gsfc.nasa.gov/tmp/wsme30dA/thb_l2s_fgm_20140328030308_20140403144043.cdf', 'https://cdaweb.gsfc.nasa.gov/tmp/wstV4i8h/thb_l2s_fgm_20140321000000_20140327161019.cdf', 'https://cdaweb.gsfc.nasa.gov/tmp/wsTzCYVa/thb_l2s_fgm_20140314000000_20140320235959.cdf', 'https://cdaweb.gsfc.nasa.gov/tmp/wsLmnFT9/thb_l2s_fgm_20140307033300_20140313235959.cdf', 'https://cdaweb.gsfc.nasa.gov/tmp/wsK5fxCE/thb_l2s_fgm_20140228000000_20140306095908.cdf', 'https://cdaweb.gsfc.nasa.gov/tmp/wsBz8kwK/thb_l2s_fgm_20140221121749_20140227235959.cdf', 'https://cdaweb.gsfc.nasa.gov/tmp/wsMZJ2Hv/thb_l2s_fgm_20140214000000_20140220203037.cdf', 'https://cdaweb.gsfc.nasa.gov/tmp/wsGbLCHG/thb_l2s_fgm_20140207000000_20140213235959.cdf', 'https://cdaweb.gsfc.nasa.gov/tmp/wsU79mIE/thb_l2s_fgm_20140131045158_20140206235959.cdf', 'https://cdaweb.gsfc.nasa.gov/tmp/wsS4k5rY/thb_l2s_fgm_20140124065751_20140130202622.cdf', 'https://cdaweb.gsfc.nasa.gov/tmp/wsQNQtkz/thb_l2s_fgm_20140117000000_20140123150415.cdf', 'https://cdaweb.gsfc.nasa.gov/tmp/wsKeeeDY/thb_l2s_fgm_20140110000000_20140116235959.cdf', 'https://cdaweb.gsfc.nasa.gov/tmp/ws4GvePh/thb_l2s_fgm_20140103000152_20140109235959.cdf', 'https://cdaweb.gsfc.nasa.gov/tmp/wsYAOSTm/thb_l2s_fgm_20131227003809_20140102122208.cdf', 'https://cdaweb.gsfc.nasa.gov/tmp/wsV9HSNL/thb_l2s_fgm_20131220111145_20131226084016.cdf', 'https://cdaweb.gsfc.nasa.gov/tmp/ws6LNbX3/thb_l2s_fgm_20131213094209_20131219210032.cdf', 'https://cdaweb.gsfc.nasa.gov/tmp/wsC1QTor/thb_l2s_fgm_20131206000000_20131212183113.cdf', 'https://cdaweb.gsfc.nasa.gov/tmp/wsrKIfkR/thb_l2s_fgm_20131129002313_20131205235959.cdf', 'https://cdaweb.gsfc.nasa.gov/tmp/wsVKsjfg/thb_l2s_fgm_20131122052610_20131128221929.cdf', 'https://cdaweb.gsfc.nasa.gov/tmp/wszAOevg/thb_l2s_fgm_20131115024610_20131121133025.cdf', 'https://cdaweb.gsfc.nasa.gov/tmp/wsrnRmc5/thb_l2s_fgm_20131108153410_20131114134105.cdf', 'https://cdaweb.gsfc.nasa.gov/tmp/wsUpuHx7/thb_l2s_fgm_20131101000000_20131107231913.cdf', 'https://cdaweb.gsfc.nasa.gov/tmp/wscnlMct/thb_l2s_fgm_20131025004641_20131031235959.cdf', 'https://cdaweb.gsfc.nasa.gov/tmp/wsJWYVpK/thb_l2s_fgm_20131018000000_20131024080609.cdf', 'https://cdaweb.gsfc.nasa.gov/tmp/wsojs5jX/thb_l2s_fgm_20131011101617_20131017235959.cdf', 'https://cdaweb.gsfc.nasa.gov/tmp/wsIsmcP6/thb_l2s_fgm_20131004002105_20131010210905.cdf', 'https://cdaweb.gsfc.nasa.gov/tmp/wsEXYpDd/thb_l2s_fgm_20131001075113_20131003204329.cdf', 'https://cdaweb.gsfc.nasa.gov/tmp/wswPEXDo/thb_l2s_fgm_20130920000000_20130923203250.cdf', 'https://cdaweb.gsfc.nasa.gov/tmp/ws8NCuKU/thb_l2s_fgm_20130913000000_20130919235959.cdf', 'https://cdaweb.gsfc.nasa.gov/tmp/wsMj1tIP/thb_l2s_fgm_20130906111146_20130912235959.cdf', 'https://cdaweb.gsfc.nasa.gov/tmp/ws08L2Xv/thb_l2s_fgm_20130830070210_20130905184610.cdf', 'https://cdaweb.gsfc.nasa.gov/tmp/wsTUBhkW/thb_l2s_fgm_20130823000000_20130829211114.cdf', 'https://cdaweb.gsfc.nasa.gov/tmp/wsM79iDP/thb_l2s_fgm_20130816030314_20130822235959.cdf', 'https://cdaweb.gsfc.nasa.gov/tmp/wsO2MGWq/thb_l2s_fgm_20130809050450_20130815200714.cdf', 'https://cdaweb.gsfc.nasa.gov/tmp/ws2VXMpD/thb_l2s_fgm_20130802000000_20130808131322.cdf', 'https://cdaweb.gsfc.nasa.gov/tmp/wsnj8aNw/thb_l2s_fgm_20130726144922_20130801235959.cdf', 'https://cdaweb.gsfc.nasa.gov/tmp/ws8iYlQ7/thb_l2s_fgm_20130719000000_20130725213649.cdf', 'https://cdaweb.gsfc.nasa.gov/tmp/wsWEYIgE/thb_l2s_fgm_20130712000000_20130718235959.cdf', 'https://cdaweb.gsfc.nasa.gov/tmp/wsgDVytW/thb_l2s_fgm_20130705073825_20130711235959.cdf', 'https://cdaweb.gsfc.nasa.gov/tmp/wsoYyeS1/thb_l2s_fgm_20130628070209_20130704205201.cdf', 'https://cdaweb.gsfc.nasa.gov/tmp/wsm8XZiK/thb_l2s_fgm_20130621001233_20130627164641.cdf', 'https://cdaweb.gsfc.nasa.gov/tmp/wsOzI9Ig/thb_l2s_fgm_20130614021825_20130620215601.cdf', 'https://cdaweb.gsfc.nasa.gov/tmp/wsbFcXjv/thb_l2s_fgm_20130607000000_20130613222553.cdf', 'https://cdaweb.gsfc.nasa.gov/tmp/wsgKphSm/thb_l2s_fgm_20130531000000_20130606235959.cdf', 'https://cdaweb.gsfc.nasa.gov/tmp/wsMZMacB/thb_l2s_fgm_20130524000000_20130530235959.cdf', 'https://cdaweb.gsfc.nasa.gov/tmp/ws65jaRS/thb_l2s_fgm_20130517064921_20130523235959.cdf', 'https://cdaweb.gsfc.nasa.gov/tmp/wsIpz6mO/thb_l2s_fgm_20130510000000_20130516232536.cdf', 'https://cdaweb.gsfc.nasa.gov/tmp/wshImNOg/thb_l2s_fgm_20130503085721_20130509235959.cdf', 'https://cdaweb.gsfc.nasa.gov/tmp/wsmSjdGo/thb_l2s_fgm_20130426000000_20130502213232.cdf', 'https://cdaweb.gsfc.nasa.gov/tmp/wsJDc8Zk/thb_l2s_fgm_20130419000000_20130425235959.cdf', 'https://cdaweb.gsfc.nasa.gov/tmp/ws0Eu2CS/thb_l2s_fgm_20130412000000_20130418235959.cdf', 'https://cdaweb.gsfc.nasa.gov/tmp/ws2kFMIb/thb_l2s_fgm_20130405042832_20130411235959.cdf', 'https://cdaweb.gsfc.nasa.gov/tmp/wsmNG1zU/thb_l2s_fgm_20130329003144_20130404132152.cdf', 'https://cdaweb.gsfc.nasa.gov/tmp/wsH9s0Qu/thb_l2s_fgm_20130322154657_20130328075112.cdf', 'https://cdaweb.gsfc.nasa.gov/tmp/wsaCDRUx/thb_l2s_fgm_20130315091217_20130321224256.cdf', 'https://cdaweb.gsfc.nasa.gov/tmp/wssfWNre/thb_l2s_fgm_20130308000000_20130314225544.cdf', 'https://cdaweb.gsfc.nasa.gov/tmp/wscfDScS/thb_l2s_fgm_20130301043705_20130307235959.cdf', 'https://cdaweb.gsfc.nasa.gov/tmp/wsDrS2wr/thb_l2s_fgm_20130222075737_20130228213024.cdf', 'https://cdaweb.gsfc.nasa.gov/tmp/wsYXeAiD/thb_l2s_fgm_20130215011425_20130221155321.cdf', 'https://cdaweb.gsfc.nasa.gov/tmp/ws9xYcTw/thb_l2s_fgm_20130208000000_20130214154449.cdf', 'https://cdaweb.gsfc.nasa.gov/tmp/wsr2o4vA/thb_l2s_fgm_20130201000000_20130207235959.cdf', 'https://cdaweb.gsfc.nasa.gov/tmp/wsEPX00Q/thb_l2s_fgm_20130125000000_20130131235959.cdf', 'https://cdaweb.gsfc.nasa.gov/tmp/wsTVIObR/thb_l2s_fgm_20130118064715_20130124235959.cdf', 'https://cdaweb.gsfc.nasa.gov/tmp/ws7K6DJg/thb_l2s_fgm_20130111000000_20130117133235.cdf', 'https://cdaweb.gsfc.nasa.gov/tmp/wsXFX3OM/thb_l2s_fgm_20130104000000_20130110235959.cdf', 'https://cdaweb.gsfc.nasa.gov/tmp/ws9pTuYO/thb_l2s_fgm_20121228000000_20130103235959.cdf', 'https://cdaweb.gsfc.nasa.gov/tmp/wsMVje4B/thb_l2s_fgm_20121221101828_20121227235959.cdf', 'https://cdaweb.gsfc.nasa.gov/tmp/wsje08U2/thb_l2s_fgm_20121214044125_20121220221516.cdf', 'https://cdaweb.gsfc.nasa.gov/tmp/wsoZEw2p/thb_l2s_fgm_20121207000000_20121213183741.cdf', 'https://cdaweb.gsfc.nasa.gov/tmp/wsn7RWwf/thb_l2s_fgm_20121130000000_20121206235959.cdf', 'https://cdaweb.gsfc.nasa.gov/tmp/wsyResno/thb_l2s_fgm_20121123024406_20121129235959.cdf', 'https://cdaweb.gsfc.nasa.gov/tmp/wsxEEys1/thb_l2s_fgm_20121117074702_20121122120054.cdf', 'https://cdaweb.gsfc.nasa.gov/tmp/wsE39Bkp/thb_l2s_fgm_20121109113310_20121115041550.cdf', 'https://cdaweb.gsfc.nasa.gov/tmp/wsJZlbzs/thb_l2s_fgm_20121102130039_20121108234038.cdf', 'https://cdaweb.gsfc.nasa.gov/tmp/wsGQsw7k/thb_l2s_fgm_20121026065135_20121101184822.cdf', 'https://cdaweb.gsfc.nasa.gov/tmp/wsxb9Fas/thb_l2s_fgm_20121019000000_20121025205623.cdf', 'https://cdaweb.gsfc.nasa.gov/tmp/wsKg5YOH/thb_l2s_fgm_20121012000000_20121018235959.cdf', 'https://cdaweb.gsfc.nasa.gov/tmp/ws5hN2Gv/thb_l2s_fgm_20121005014215_20121011235959.cdf', 'https://cdaweb.gsfc.nasa.gov/tmp/wszEYhCT/thb_l2s_fgm_20120928025239_20121004102039.cdf', 'https://cdaweb.gsfc.nasa.gov/tmp/ws8aERp2/thb_l2s_fgm_20120921085311_20120927064054.cdf', 'https://cdaweb.gsfc.nasa.gov/tmp/wsOpfbt0/thb_l2s_fgm_20120914102703_20120920220230.cdf', 'https://cdaweb.gsfc.nasa.gov/tmp/wsRszlJd/thb_l2s_fgm_20120907043255_20120913160158.cdf', 'https://cdaweb.gsfc.nasa.gov/tmp/wsQwBxmh/thb_l2s_fgm_20120831000000_20120906175046.cdf', 'https://cdaweb.gsfc.nasa.gov/tmp/wsX10xGR/thb_l2s_fgm_20120824000000_20120830235959.cdf', 'https://cdaweb.gsfc.nasa.gov/tmp/wswAcp8R/thb_l2s_fgm_20120817000000_20120823235959.cdf', 'https://cdaweb.gsfc.nasa.gov/tmp/wsXUw6lh/thb_l2s_fgm_20120810000000_20120816235959.cdf', 'https://cdaweb.gsfc.nasa.gov/tmp/wskQXt0h/thb_l2s_fgm_20120803091222_20120809235959.cdf', 'https://cdaweb.gsfc.nasa.gov/tmp/wsGfH4h5/thb_l2s_fgm_20120727072334_20120802163150.cdf', 'https://cdaweb.gsfc.nasa.gov/tmp/ws1lOWtX/thb_l2s_fgm_20120720005518_20120726134318.cdf', 'https://cdaweb.gsfc.nasa.gov/tmp/wsTqx1dQ/thb_l2s_fgm_20120713164438_20120719152750.cdf', 'https://cdaweb.gsfc.nasa.gov/tmp/ws5s4axt/thb_l2s_fgm_20120706130454_20120712231254.cdf']\n"
     ]
    }
   ],
   "source": [
    "import speasy as spz\n",
    "entries = spz.core.cache.entries()\n",
    "# drop internal entries\n",
    "entries = list(filter(lambda e: '__internal__' not in e, entries))\n",
    "print(entries[::-1])"
   ]
  },
  {
   "cell_type": "code",
   "execution_count": null,
   "metadata": {},
   "outputs": [],
   "source": [
    "spz.update_inventories()"
   ]
  },
  {
   "cell_type": "code",
   "execution_count": null,
   "metadata": {},
   "outputs": [],
   "source": [
    "timerange = [\"2011-08-25\", \"2016-06-30\"]\n",
    "# timerange = [\"2011-08-25\", \"2011-09-01\"]\n",
    "mission = \"STA\"\n",
    "ts = timedelta(seconds=1)\n",
    "tau = timedelta(seconds=60)\n",
    "\n",
    "provider = 'archive/local'\n",
    "mag_dataset = \"STA_L1_MAG_RTN\"\n",
    "mag_parameters = [\"BFIELD\"]\n",
    "\n",
    "# plasma_dataset = \"STA_L2_MAGPLASMA_1M\"\n",
    "# plasma_parameters= [\"Np\", \"Cone_Angle\", \"Vt_Over_V_RTN\", \"Vp_RTN\", \"Tp\"]\n",
    "\n",
    "plasma_dataset = 'STA_L2_PLA_1DMAX_1MIN'\n",
    "density_col = 'proton_number_density'\n",
    "vec_cols = ['proton_Vr_RTN', 'proton_Vt_RTN', 'proton_Vn_RTN']\n",
    "temperature_col = 'proton_temperature'\n",
    "plasma_parameters = [density_col] + vec_cols + [temperature_col]\n",
    "\n",
    "fmt = 'arrow'\n",
    "fname = f\"../../../data/05_reporting/events.{mission}.ts_{ts.total_seconds():.2f}s_tau_60s.{fmt}\""
   ]
  },
  {
   "cell_type": "markdown",
   "metadata": {},
   "source": [
    "## Downloading files"
   ]
  },
  {
   "cell_type": "code",
   "execution_count": null,
   "metadata": {},
   "outputs": [],
   "source": [
    "def download(timerange):\n",
    "    \n",
    "    files = pyspedas.stereo.plastic(timerange, downloadonly=True)\n",
    "\n",
    "    for file in files:\n",
    "        parquet_file = file.replace('.cdf', f'.{fmt}')\n",
    "        cdf2pl(file, plasma_parameters).collect().write_ipc(parquet_file)\n",
    "        \n",
    "    mag_files = pyspedas.stereo.mag(timerange, downloadonly=True)\n",
    "    \n",
    "    return files\n",
    "    \n",
    "        \n",
    "# download(timerange)"
   ]
  },
  {
   "cell_type": "markdown",
   "metadata": {},
   "source": [
    "## Loading data"
   ]
  },
  {
   "cell_type": "code",
   "execution_count": null,
   "metadata": {},
   "outputs": [],
   "source": [
    "def get_and_process_data(timerange):\n",
    "    mag_vars = Variables(\n",
    "        provider = provider,\n",
    "        dataset=mag_dataset,\n",
    "        parameters=mag_parameters,\n",
    "        timerange=timerange,\n",
    "    ).retrieve_data()\n",
    "\n",
    "    bcols = mag_vars.data[0].columns[:3]\n",
    "\n",
    "    mag_data = mag_vars.to_polars().drop('BTotal')\n",
    "    \n",
    "    files = pyspedas.stereo.plastic(timerange, downloadonly=True, no_update=True)\n",
    "    parquet_files = [file.replace('.cdf', f'.{fmt}') for file in files]\n",
    "\n",
    "    plasma_data = pl.scan_ipc(parquet_files).with_columns(\n",
    "        plasma_density = pl.when(pl.col(density_col) <0 ).then(None).otherwise(pl.col(density_col)),\n",
    "        plasma_speed=pl_norm(vec_cols), ).rename({temperature_col:'plasma_temperature'}\n",
    "    )\n",
    "    \n",
    "    return IDsDataset(\n",
    "        mag_data=mag_data.pipe(resample, every=ts),\n",
    "        plasma_data=plasma_data,\n",
    "        tau=tau,\n",
    "        ts=ts,\n",
    "        bcols=bcols,\n",
    "        vec_cols=vec_cols,\n",
    "        density_col=\"plasma_density\",\n",
    "        speed_col=\"plasma_speed\",\n",
    "        temperature_col='plasma_temperature',\n",
    "    ).find_events(return_best_fit=False).update_candidates_with_plasma_data()"
   ]
  },
  {
   "cell_type": "code",
   "execution_count": null,
   "metadata": {},
   "outputs": [],
   "source": [
    "ids : list[pl.DataFrame] = []\n",
    "for _tr in tqdm(TimeRange(timerange).split(8)):\n",
    "    \n",
    "    _timerange = [_tr.start.value, _tr.end.value]\n",
    "    _id = get_and_process_data(_timerange)\n",
    "    ids.append(_id.events)\n",
    "    \n",
    "id = pl.concat(ids, how='vertical_relaxed').select(cs.datetime(), cs.duration(), cs.numeric())\n",
    "id.write_ipc(fname)"
   ]
  }
 ],
 "metadata": {
  "kernelspec": {
   "display_name": "python3",
   "language": "python",
   "name": "python3"
  },
  "language_info": {
   "codemirror_mode": {
    "name": "ipython",
    "version": 3
   },
   "file_extension": ".py",
   "mimetype": "text/x-python",
   "name": "python",
   "nbconvert_exporter": "python",
   "pygments_lexer": "ipython3",
   "version": "3.11.7"
  }
 },
 "nbformat": 4,
 "nbformat_minor": 2
}
