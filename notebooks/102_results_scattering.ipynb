{
 "cells": [
  {
   "cell_type": "markdown",
   "metadata": {},
   "source": [
    "---\n",
    "title: Ion Scattering by Solar Wind Discontinuities\n",
    "---\n",
    "\n",
    "Check the properties related to ion scattering by solar wind discontinuities.\n",
    "\n",
    "\n",
    "We need to use GLMakie because the volume is not supported by CairoMakie yet."
   ]
  },
  {
   "cell_type": "code",
   "execution_count": 159,
   "metadata": {},
   "outputs": [],
   "source": [
    "using Revise\n",
    "using DrWatson\n",
    "@quickactivate\n",
    "include(srcdir(\"main.jl\"))\n",
    "includet(srcdir(\"scattering.jl\"))\n",
    "using Dates"
   ]
  },
  {
   "cell_type": "code",
   "execution_count": 153,
   "metadata": {},
   "outputs": [],
   "source": [
    "name = :wind\n",
    "df = load(name);\n",
    "v_norm!(df);\n",
    "layer = data(df) * mapping(layout = :accuracy);"
   ]
  },
  {
   "cell_type": "code",
   "execution_count": 158,
   "metadata": {},
   "outputs": [],
   "source": [
    "axis = (;yscale = log10)\n",
    "v = histogram(;normalization=:pdf, bins=20)\n",
    "dfplot(layer * v, v0; axis)"
   ]
  },
  {
   "cell_type": "code",
   "execution_count": 160,
   "metadata": {},
   "outputs": [
    {
     "name": "stderr",
     "output_type": "stream",
     "text": [
      "┌ Warning: Encountered an `AbstractVector` with value [0.75, 1.25, 1.75, 2.25, 2.75, 3.25, 3.75, 4.25] on side x in `convert_arguments` for the `ImageLike` trait.\n",
      "│         Using an `AbstractVector` to specify one dimension of an `ImageLike` is deprecated because `ImageLike` sides always need exactly two values, start and stop.\n",
      "│         Use interval notation `start .. stop` or a two-element tuple `(start, stop)` instead.\n",
      "└ @ Makie /Users/zijin/.julia/packages/Makie/6c4lt/src/conversions.jl:416\n",
      "┌ Warning: Encountered an `AbstractVector` with value [0.0, 10.0, 20.0, 30.0, 40.0, 50.0, 60.0, 70.0, 80.0, 90.0, 100.0, 110.0, 120.0, 130.0, 140.0, 150.0, 160.0, 170.0, 180.0] on side y in `convert_arguments` for the `ImageLike` trait.\n",
      "│         Using an `AbstractVector` to specify one dimension of an `ImageLike` is deprecated because `ImageLike` sides always need exactly two values, start and stop.\n",
      "│         Use interval notation `start .. stop` or a two-element tuple `(start, stop)` instead.\n",
      "└ @ Makie /Users/zijin/.julia/packages/Makie/6c4lt/src/conversions.jl:416\n",
      "┌ Warning: Encountered an `AbstractVector` with value [0.0, 10.0, 20.0, 30.0, 40.0, 50.0, 60.0, 70.0, 80.0, 90.0, 100.0, 110.0, 120.0, 130.0, 140.0, 150.0, 160.0, 170.0, 180.0] on side z in `convert_arguments` for the `ImageLike` trait.\n",
      "│         Using an `AbstractVector` to specify one dimension of an `ImageLike` is deprecated because `ImageLike` sides always need exactly two values, start and stop.\n",
      "│         Use interval notation `start .. stop` or a two-element tuple `(start, stop)` instead.\n",
      "└ @ Makie /Users/zijin/.julia/packages/Makie/6c4lt/src/conversions.jl:416\n"
     ]
    }
   ],
   "source": [
    "using FHist\n",
    "using LinearAlgebra\n",
    "\n",
    "function get_data(df; x=:v0, y=:ω_in, z=:θ)\n",
    "    x = df[!, x] .|> ustrip .|> log10\n",
    "    y = df[!, y]\n",
    "    z = df[!, z]\n",
    "    return x, y, z\n",
    "end\n",
    "\n",
    "function get_hist3d(df)\n",
    "    return Hist3D(\n",
    "        get_data(df);\n",
    "        binedges=(0.75:0.5:4.25, 0:10:180, 0:10:180),\n",
    "    ) |> normalize\n",
    "end\n",
    "\n",
    "function plot_hist3d(df)\n",
    "    h = get_hist3d(df)\n",
    "    fig = Figure()\n",
    "    ax = Axis3(fig[1, 1]; width=400, xlabel=\"log10(v0)\", ylabel=\"ω_in\", zlabel=\"θ\")\n",
    "    plot!(h)\n",
    "    fig\n",
    "end\n",
    "\n",
    "using GLMakie\n",
    "GLMakie.activate!()\n",
    "plot_hist3d(filter_low_accuracy(df))"
   ]
  },
  {
   "cell_type": "code",
   "execution_count": 166,
   "metadata": {},
   "outputs": [],
   "source": [
    "using HDF5\n",
    "\n",
    "filename = datadir(\"$(name)_hist3d.h5\")\n",
    "h = get_hist3d(filter_low_accuracy(df))\n",
    "h5writehist(filename, \"hist\", h)"
   ]
  },
  {
   "cell_type": "code",
   "execution_count": 171,
   "metadata": {},
   "outputs": [
    {
     "name": "stderr",
     "output_type": "stream",
     "text": [
      "┌ Warning: Encountered an `AbstractVector` with value [0.25, 0.75, 1.25, 1.75, 2.25, 2.75, 3.25, 3.75, 4.25, 4.75, 5.25] on side x in `convert_arguments` for the `ImageLike` trait.\n",
      "│         Using an `AbstractVector` to specify one dimension of an `ImageLike` is deprecated because `ImageLike` sides always need exactly two values, start and stop.\n",
      "│         Use interval notation `start .. stop` or a two-element tuple `(start, stop)` instead.\n",
      "└ @ Makie /Users/zijin/.julia/packages/Makie/6c4lt/src/conversions.jl:416\n",
      "┌ Warning: Encountered an `AbstractVector` with value [5.0, 15.0, 25.0, 35.0, 45.0, 55.0, 65.0, 75.0, 85.0, 95.0, 105.0, 115.0, 125.0, 135.0, 145.0, 155.0, 165.0, 175.0, 185.0] on side y in `convert_arguments` for the `ImageLike` trait.\n",
      "│         Using an `AbstractVector` to specify one dimension of an `ImageLike` is deprecated because `ImageLike` sides always need exactly two values, start and stop.\n",
      "│         Use interval notation `start .. stop` or a two-element tuple `(start, stop)` instead.\n",
      "└ @ Makie /Users/zijin/.julia/packages/Makie/6c4lt/src/conversions.jl:416\n",
      "┌ Warning: Encountered an `AbstractVector` with value [5.0, 15.0, 25.0, 35.0, 45.0, 55.0, 65.0, 75.0, 85.0, 95.0, 105.0, 115.0, 125.0, 135.0, 145.0, 155.0, 165.0, 175.0, 185.0] on side z in `convert_arguments` for the `ImageLike` trait.\n",
      "│         Using an `AbstractVector` to specify one dimension of an `ImageLike` is deprecated because `ImageLike` sides always need exactly two values, start and stop.\n",
      "│         Use interval notation `start .. stop` or a two-element tuple `(start, stop)` instead.\n",
      "└ @ Makie /Users/zijin/.julia/packages/Makie/6c4lt/src/conversions.jl:416\n",
      "┌ Warning: Encountered an `AbstractVector` with value [0.25, 0.75, 1.25, 1.75, 2.25, 2.75, 3.25, 3.75, 4.25, 4.75, 5.25] on side x in `convert_arguments` for the `ImageLike` trait.\n",
      "│         Using an `AbstractVector` to specify one dimension of an `ImageLike` is deprecated because `ImageLike` sides always need exactly two values, start and stop.\n",
      "│         Use interval notation `start .. stop` or a two-element tuple `(start, stop)` instead.\n",
      "└ @ Makie /Users/zijin/.julia/packages/Makie/6c4lt/src/conversions.jl:416\n",
      "┌ Warning: Encountered an `AbstractVector` with value [5.0, 15.0, 25.0, 35.0, 45.0, 55.0, 65.0, 75.0, 85.0, 95.0, 105.0, 115.0, 125.0, 135.0, 145.0, 155.0, 165.0, 175.0, 185.0] on side y in `convert_arguments` for the `ImageLike` trait.\n",
      "│         Using an `AbstractVector` to specify one dimension of an `ImageLike` is deprecated because `ImageLike` sides always need exactly two values, start and stop.\n",
      "│         Use interval notation `start .. stop` or a two-element tuple `(start, stop)` instead.\n",
      "└ @ Makie /Users/zijin/.julia/packages/Makie/6c4lt/src/conversions.jl:416\n",
      "┌ Warning: Encountered an `AbstractVector` with value [5.0, 15.0, 25.0, 35.0, 45.0, 55.0, 65.0, 75.0, 85.0, 95.0, 105.0, 115.0, 125.0, 135.0, 145.0, 155.0, 165.0, 175.0, 185.0] on side z in `convert_arguments` for the `ImageLike` trait.\n",
      "│         Using an `AbstractVector` to specify one dimension of an `ImageLike` is deprecated because `ImageLike` sides always need exactly two values, start and stop.\n",
      "│         Use interval notation `start .. stop` or a two-element tuple `(start, stop)` instead.\n",
      "└ @ Makie /Users/zijin/.julia/packages/Makie/6c4lt/src/conversions.jl:416\n",
      "┌ Info: Saved /Users/zijin/projects/ids_spatial_evolution_juno/figures/scatter/wind_hist3d.png\n",
      "└ @ Beforerr /Users/zijin/.julia/packages/Beforerr/V1DIf/src/utils/makie.jl:48\n"
     ]
    }
   ],
   "source": [
    "xyz = (v0, ω_in, θ)\n",
    "datalimits = ((0,5), (0,180), (0,180))\n",
    "axis = (type = Axis3, width = 400)\n",
    "v =  histogram(;datalimits, normalization=:pdf)\n",
    "plt = data(df) * mapping(xyz...; layout = :accuracy) * v\n",
    "fg = draw(plt; axis)\n",
    "colorbar!(fg)\n",
    "easy_save(\"scatter/$(name)_hist3d\"; formats=[:png], dir=figure_dir)"
   ]
  },
  {
   "cell_type": "code",
   "execution_count": null,
   "metadata": {},
   "outputs": [],
   "source": []
  }
 ],
 "metadata": {
  "kernelspec": {
   "display_name": "Julia 1.11.0",
   "language": "julia",
   "name": "julia-1.11"
  },
  "language_info": {
   "file_extension": ".jl",
   "mimetype": "application/julia",
   "name": "julia",
   "version": "1.11.0"
  }
 },
 "nbformat": 4,
 "nbformat_minor": 2
}
