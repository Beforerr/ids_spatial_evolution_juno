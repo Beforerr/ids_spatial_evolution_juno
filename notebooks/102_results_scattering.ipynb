{
 "cells": [
  {
   "cell_type": "markdown",
   "metadata": {},
   "source": [
    "---\n",
    "title: Ion Scattering by Solar Wind Discontinuities\n",
    "---\n",
    "\n",
    "Check the properties related to ion scattering by solar wind discontinuities.\n",
    "\n",
    "\n",
    "We need to use GLMakie because the volume is not supported by CairoMakie yet."
   ]
  },
  {
   "cell_type": "code",
   "execution_count": 1,
   "metadata": {},
   "outputs": [],
   "source": [
    "using Revise\n",
    "using DrWatson\n",
    "@quickactivate\n",
    "include(srcdir(\"main.jl\"))\n",
    "includet(srcdir(\"main.jl\"))\n",
    "using Dates"
   ]
  },
  {
   "cell_type": "code",
   "execution_count": 2,
   "metadata": {},
   "outputs": [
    {
     "name": "stderr",
     "output_type": "stream",
     "text": [
      "┌ Warning: automatically converting Arrow.Timestamp with precision = MICROSECOND to `DateTime` which only supports millisecond precision; conversion may be lossy; to avoid converting, pass `Arrow.Table(source; convert=false)\n",
      "└ @ Arrow /Users/zijin/.julia/packages/Arrow/rIDSw/src/eltypes.jl:273\n",
      "┌ Warning: automatically converting Arrow.Timestamp with precision = NANOSECOND to `DateTime` which only supports millisecond precision; conversion may be lossy; to avoid converting, pass `Arrow.Table(source; convert=false)\n",
      "└ @ Arrow /Users/zijin/.julia/packages/Arrow/rIDSw/src/eltypes.jl:273\n"
     ]
    }
   ],
   "source": [
    "df = load_wind();"
   ]
  },
  {
   "cell_type": "code",
   "execution_count": 3,
   "metadata": {},
   "outputs": [],
   "source": [
    "Bn = :bn_over_b => abs => L\"B_N/B\";\n",
    "v_norm = :v_to_norm => log10 => \"Log v_gyro\";"
   ]
  },
  {
   "cell_type": "code",
   "execution_count": 4,
   "metadata": {},
   "outputs": [],
   "source": [
    "# velocity v is normalized to $l Ω$, where $l$ represents the width of the RD and $Ω = q B/(mpc)$ is the cyclotron frequency.\n",
    "function v_norm!(df::AbstractDataFrame)\n",
    "    df.v_to_norm = df.L_k .* df.\"B.mean\"\n",
    "end\n",
    "v_norm!(df);"
   ]
  },
  {
   "cell_type": "code",
   "execution_count": 5,
   "metadata": {},
   "outputs": [
    {
     "data": {
      "text/plain": [
       "dfplot (generic function with 2 methods)"
      ]
     },
     "metadata": {},
     "output_type": "display_data"
    }
   ],
   "source": [
    "dfplot(layer, args...; axis = (;), kwargs...) = draw(layer * mapping(args...; kwargs...); axis)\n",
    "dfplot(df::AbstractDataFrame, args...; axis = (;), kwargs...) = draw(data(df) * mapping(args...; kwargs...); axis)"
   ]
  },
  {
   "cell_type": "code",
   "execution_count": 6,
   "metadata": {},
   "outputs": [
    {
     "data": {
      "text/plain": [
       "(:v_to_norm => (log10 => \"Log v_gyro\"), :ω_in => \"in-plane rotation angle\", :bn_over_b => (abs => L\"$B_N/B$\"))"
      ]
     },
     "metadata": {},
     "output_type": "display_data"
    }
   ],
   "source": [
    "xyz = (v_norm, Discontinuity.ω_in, Bn)"
   ]
  },
  {
   "cell_type": "code",
   "execution_count": 7,
   "metadata": {},
   "outputs": [],
   "source": [
    "using GLMakie"
   ]
  },
  {
   "cell_type": "code",
   "execution_count": 8,
   "metadata": {},
   "outputs": [
    {
     "name": "stderr",
     "output_type": "stream",
     "text": [
      "┌ Warning: Encountered an `AbstractVector` with value [1.75, 2.25, 2.75, 3.25, 3.75, 4.25, 4.75, 5.25, 5.75] on side x in `convert_arguments` for the `ImageLike` trait.\n",
      "│         Using an `AbstractVector` to specify one dimension of an `ImageLike` is deprecated because `ImageLike` sides always need exactly two values, start and stop.\n",
      "│         Use interval notation `start .. stop` or a two-element tuple `(start, stop)` instead.\n",
      "└ @ Makie /Users/zijin/.julia/packages/Makie/6c4lt/src/conversions.jl:416\n",
      "┌ Warning: Encountered an `AbstractVector` with value [5.0, 15.0, 25.0, 35.0, 45.0, 55.0, 65.0, 75.0, 85.0, 95.0, 105.0, 115.0, 125.0, 135.0, 145.0, 155.0, 165.0, 175.0, 185.0] on side y in `convert_arguments` for the `ImageLike` trait.\n",
      "│         Using an `AbstractVector` to specify one dimension of an `ImageLike` is deprecated because `ImageLike` sides always need exactly two values, start and stop.\n",
      "│         Use interval notation `start .. stop` or a two-element tuple `(start, stop)` instead.\n",
      "└ @ Makie /Users/zijin/.julia/packages/Makie/6c4lt/src/conversions.jl:416\n",
      "┌ Warning: Encountered an `AbstractVector` with value [0.05, 0.15, 0.25, 0.35, 0.45, 0.55, 0.65, 0.75, 0.85, 0.95, 1.05] on side z in `convert_arguments` for the `ImageLike` trait.\n",
      "│         Using an `AbstractVector` to specify one dimension of an `ImageLike` is deprecated because `ImageLike` sides always need exactly two values, start and stop.\n",
      "│         Use interval notation `start .. stop` or a two-element tuple `(start, stop)` instead.\n",
      "└ @ Makie /Users/zijin/.julia/packages/Makie/6c4lt/src/conversions.jl:416\n",
      "┌ Warning: Encountered an `AbstractVector` with value [1.75, 2.25, 2.75, 3.25, 3.75, 4.25, 4.75, 5.25, 5.75] on side x in `convert_arguments` for the `ImageLike` trait.\n",
      "│         Using an `AbstractVector` to specify one dimension of an `ImageLike` is deprecated because `ImageLike` sides always need exactly two values, start and stop.\n",
      "│         Use interval notation `start .. stop` or a two-element tuple `(start, stop)` instead.\n",
      "└ @ Makie /Users/zijin/.julia/packages/Makie/6c4lt/src/conversions.jl:416\n",
      "┌ Warning: Encountered an `AbstractVector` with value [5.0, 15.0, 25.0, 35.0, 45.0, 55.0, 65.0, 75.0, 85.0, 95.0, 105.0, 115.0, 125.0, 135.0, 145.0, 155.0, 165.0, 175.0, 185.0] on side y in `convert_arguments` for the `ImageLike` trait.\n",
      "│         Using an `AbstractVector` to specify one dimension of an `ImageLike` is deprecated because `ImageLike` sides always need exactly two values, start and stop.\n",
      "│         Use interval notation `start .. stop` or a two-element tuple `(start, stop)` instead.\n",
      "└ @ Makie /Users/zijin/.julia/packages/Makie/6c4lt/src/conversions.jl:416\n",
      "┌ Warning: Encountered an `AbstractVector` with value [0.05, 0.15, 0.25, 0.35, 0.45, 0.55, 0.65, 0.75, 0.85, 0.95, 1.05] on side z in `convert_arguments` for the `ImageLike` trait.\n",
      "│         Using an `AbstractVector` to specify one dimension of an `ImageLike` is deprecated because `ImageLike` sides always need exactly two values, start and stop.\n",
      "│         Use interval notation `start .. stop` or a two-element tuple `(start, stop)` instead.\n",
      "└ @ Makie /Users/zijin/.julia/packages/Makie/6c4lt/src/conversions.jl:416\n",
      "┌ Info: Saved /Users/zijin/projects/ids_spatial_evolution_juno/figures/3dhist.png\n",
      "└ @ Beforerr /Users/zijin/.julia/packages/Beforerr/V1DIf/src/utils/makie.jl:48\n"
     ]
    }
   ],
   "source": [
    "datalimits = ((1.5,5.5), (0,180), (0,1))\n",
    "axis = (type = Axis3, width = 400)\n",
    "plt = data(df) * mapping(xyz...; layout = :accuracy) * histogram(;datalimits, normalization=:pdf)\n",
    "draw(plt; axis)\n",
    "easy_save(\"3dhist\"; formats=[:png], dir=figure_dir)"
   ]
  }
 ],
 "metadata": {
  "kernelspec": {
   "display_name": "Julia 1.11.0",
   "language": "julia",
   "name": "julia-1.11"
  },
  "language_info": {
   "file_extension": ".jl",
   "mimetype": "application/julia",
   "name": "julia",
   "version": "1.11.0"
  }
 },
 "nbformat": 4,
 "nbformat_minor": 2
}
