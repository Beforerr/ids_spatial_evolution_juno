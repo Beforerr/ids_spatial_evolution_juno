{
 "cells": [
  {
   "cell_type": "markdown",
   "metadata": {},
   "source": [
    "---\n",
    "title: Ion Scattering by Solar Wind Discontinuities\n",
    "---\n",
    "\n",
    "Check the properties related to ion scattering by solar wind discontinuities.\n",
    "\n",
    "\n",
    "We need to use GLMakie because the volume is not supported by CairoMakie yet."
   ]
  },
  {
   "cell_type": "code",
   "execution_count": 7,
   "metadata": {},
   "outputs": [],
   "source": [
    "using Revise\n",
    "using DrWatson\n",
    "@quickactivate\n",
    "include(srcdir(\"main.jl\"))\n",
    "includet(srcdir(\"scattering.jl\"))\n",
    "using Dates"
   ]
  },
  {
   "cell_type": "code",
   "execution_count": 2,
   "metadata": {},
   "outputs": [],
   "source": [
    "v0 = :v0 => log2 => \"Log2 v0\";"
   ]
  },
  {
   "cell_type": "code",
   "execution_count": 9,
   "metadata": {},
   "outputs": [],
   "source": [
    "name = :wind\n",
    "df = load(name);\n",
    "v_norm!(df);\n",
    "layer = data(df) * mapping(layout = :accuracy);"
   ]
  },
  {
   "cell_type": "code",
   "execution_count": 4,
   "metadata": {},
   "outputs": [],
   "source": [
    "foreach([:log10, :log2]) do f\n",
    "    @eval import Base: $f\n",
    "    @eval $f(x::Unitful.Quantity) = $f(ustrip(x))\n",
    "end"
   ]
  },
  {
   "cell_type": "code",
   "execution_count": 58,
   "metadata": {},
   "outputs": [],
   "source": [
    "datalimits = (2, 14)\n",
    "axis = (;yscale = log10)\n",
    "v = histogram(;normalization=:pdf, bins=20, datalimits)\n",
    "dfplot(layer * v, v0; axis)"
   ]
  },
  {
   "cell_type": "code",
   "execution_count": 11,
   "metadata": {},
   "outputs": [
    {
     "name": "stderr",
     "output_type": "stream",
     "text": [
      "┌ Warning: Encountered an `AbstractVector` with value [1.5, 2.5, 3.5, 4.5, 5.5, 6.5, 7.5, 8.5, 9.5, 10.5, 11.5, 12.5, 13.5, 14.5] on side x in `convert_arguments` for the `ImageLike` trait.\n",
      "│         Using an `AbstractVector` to specify one dimension of an `ImageLike` is deprecated because `ImageLike` sides always need exactly two values, start and stop.\n",
      "│         Use interval notation `start .. stop` or a two-element tuple `(start, stop)` instead.\n",
      "└ @ Makie /Users/zijin/.julia/packages/Makie/6c4lt/src/conversions.jl:416\n",
      "┌ Warning: Encountered an `AbstractVector` with value [20.0, 30.0, 40.0, 50.0, 60.0, 70.0, 80.0, 90.0, 100.0, 110.0, 120.0, 130.0, 140.0, 150.0, 160.0, 170.0, 180.0] on side y in `convert_arguments` for the `ImageLike` trait.\n",
      "│         Using an `AbstractVector` to specify one dimension of an `ImageLike` is deprecated because `ImageLike` sides always need exactly two values, start and stop.\n",
      "│         Use interval notation `start .. stop` or a two-element tuple `(start, stop)` instead.\n",
      "└ @ Makie /Users/zijin/.julia/packages/Makie/6c4lt/src/conversions.jl:416\n",
      "┌ Warning: Encountered an `AbstractVector` with value [0.0, 10.0, 20.0, 30.0, 40.0, 50.0, 60.0, 70.0, 80.0, 90.0] on side z in `convert_arguments` for the `ImageLike` trait.\n",
      "│         Using an `AbstractVector` to specify one dimension of an `ImageLike` is deprecated because `ImageLike` sides always need exactly two values, start and stop.\n",
      "│         Use interval notation `start .. stop` or a two-element tuple `(start, stop)` instead.\n",
      "└ @ Makie /Users/zijin/.julia/packages/Makie/6c4lt/src/conversions.jl:416\n"
     ]
    }
   ],
   "source": [
    "using FHist\n",
    "using LinearAlgebra\n",
    "\n",
    "function get_data(df; x=:v0, y=:ω_in, z=:θ)\n",
    "    x = df[!, x] .|> ustrip .|> log2\n",
    "    y = df[!, y]\n",
    "    z = df[!, z] .|> abs\n",
    "    return x, y, z\n",
    "end\n",
    "\n",
    "function get_hist3d(df)\n",
    "    return Hist3D(\n",
    "        get_data(df);\n",
    "        binedges=(1.5:14.5, 20:10:180, 0:10:90),\n",
    "    ) |> normalize\n",
    "end\n",
    "\n",
    "function plot_hist3d(df)\n",
    "    h = get_hist3d(df)\n",
    "    fig = Figure()\n",
    "    ax = Axis3(fig[1, 1]; width=400, xlabel=\"log2(v0)\", ylabel=\"ω_in\", zlabel=\"θ\")\n",
    "    plot!(h)\n",
    "    fig\n",
    "end\n",
    "\n",
    "using GLMakie\n",
    "GLMakie.activate!()\n",
    "plot_hist3d(filter_low_accuracy(df))"
   ]
  },
  {
   "cell_type": "code",
   "execution_count": 12,
   "metadata": {},
   "outputs": [],
   "source": [
    "using HDF5\n",
    "\n",
    "filename = datadir(\"$(name)_hist3d.h5\")\n",
    "h = get_hist3d(filter_low_accuracy(df))\n",
    "\n",
    "function save(filename, h::Hist3D)\n",
    "    # delete file if it exists\n",
    "    isfile(filename) && rm(filename)\n",
    "    h5writehist(filename, \"hist\", h)\n",
    "end\n",
    "\n",
    "save(filename, h)"
   ]
  },
  {
   "cell_type": "code",
   "execution_count": 15,
   "metadata": {},
   "outputs": [
    {
     "name": "stdout",
     "output_type": "stream",
     "text": [
      "1872\n"
     ]
    },
    {
     "data": {
      "text/plain": [
       "([2.0, 3.0, 4.0, 5.0, 6.0, 7.0, 8.0, 9.0, 10.0, 11.0, 12.0, 13.0, 14.0], [25.0, 35.0, 45.0, 55.0, 65.0, 75.0, 85.0, 95.0, 105.0, 115.0, 125.0, 135.0, 145.0, 155.0, 165.0, 175.0], [5.0, 15.0, 25.0, 35.0, 45.0, 55.0, 65.0, 75.0, 85.0])"
      ]
     },
     "metadata": {},
     "output_type": "display_data"
    }
   ],
   "source": [
    "*(size(bincounts(h))...) |> println\n",
    "bincenters(h)"
   ]
  },
  {
   "cell_type": "code",
   "execution_count": 52,
   "metadata": {},
   "outputs": [
    {
     "name": "stderr",
     "output_type": "stream",
     "text": [
      "┌ Warning: Encountered an `AbstractVector` with value [1.5, 2.5, 3.5, 4.5, 5.5, 6.5, 7.5, 8.5, 9.5, 10.5, 11.5, 12.5, 13.5, 14.5] on side x in `convert_arguments` for the `ImageLike` trait.\n",
      "│         Using an `AbstractVector` to specify one dimension of an `ImageLike` is deprecated because `ImageLike` sides always need exactly two values, start and stop.\n",
      "│         Use interval notation `start .. stop` or a two-element tuple `(start, stop)` instead.\n",
      "└ @ Makie /Users/zijin/.julia/packages/Makie/6c4lt/src/conversions.jl:416\n",
      "┌ Warning: Encountered an `AbstractVector` with value [5.0, 15.0, 25.0, 35.0, 45.0, 55.0, 65.0, 75.0, 85.0, 95.0, 105.0, 115.0, 125.0, 135.0, 145.0, 155.0, 165.0, 175.0, 185.0] on side y in `convert_arguments` for the `ImageLike` trait.\n",
      "│         Using an `AbstractVector` to specify one dimension of an `ImageLike` is deprecated because `ImageLike` sides always need exactly two values, start and stop.\n",
      "│         Use interval notation `start .. stop` or a two-element tuple `(start, stop)` instead.\n",
      "└ @ Makie /Users/zijin/.julia/packages/Makie/6c4lt/src/conversions.jl:416\n",
      "┌ Warning: Encountered an `AbstractVector` with value [5.0, 15.0, 25.0, 35.0, 45.0, 55.0, 65.0, 75.0, 85.0, 95.0, 105.0, 115.0, 125.0, 135.0, 145.0, 155.0, 165.0, 175.0, 185.0] on side z in `convert_arguments` for the `ImageLike` trait.\n",
      "│         Using an `AbstractVector` to specify one dimension of an `ImageLike` is deprecated because `ImageLike` sides always need exactly two values, start and stop.\n",
      "│         Use interval notation `start .. stop` or a two-element tuple `(start, stop)` instead.\n",
      "└ @ Makie /Users/zijin/.julia/packages/Makie/6c4lt/src/conversions.jl:416\n",
      "┌ Warning: Encountered an `AbstractVector` with value [1.5, 2.5, 3.5, 4.5, 5.5, 6.5, 7.5, 8.5, 9.5, 10.5, 11.5, 12.5, 13.5, 14.5] on side x in `convert_arguments` for the `ImageLike` trait.\n",
      "│         Using an `AbstractVector` to specify one dimension of an `ImageLike` is deprecated because `ImageLike` sides always need exactly two values, start and stop.\n",
      "│         Use interval notation `start .. stop` or a two-element tuple `(start, stop)` instead.\n",
      "└ @ Makie /Users/zijin/.julia/packages/Makie/6c4lt/src/conversions.jl:416\n",
      "┌ Warning: Encountered an `AbstractVector` with value [5.0, 15.0, 25.0, 35.0, 45.0, 55.0, 65.0, 75.0, 85.0, 95.0, 105.0, 115.0, 125.0, 135.0, 145.0, 155.0, 165.0, 175.0, 185.0] on side y in `convert_arguments` for the `ImageLike` trait.\n",
      "│         Using an `AbstractVector` to specify one dimension of an `ImageLike` is deprecated because `ImageLike` sides always need exactly two values, start and stop.\n",
      "│         Use interval notation `start .. stop` or a two-element tuple `(start, stop)` instead.\n",
      "└ @ Makie /Users/zijin/.julia/packages/Makie/6c4lt/src/conversions.jl:416\n",
      "┌ Warning: Encountered an `AbstractVector` with value [5.0, 15.0, 25.0, 35.0, 45.0, 55.0, 65.0, 75.0, 85.0, 95.0, 105.0, 115.0, 125.0, 135.0, 145.0, 155.0, 165.0, 175.0, 185.0] on side z in `convert_arguments` for the `ImageLike` trait.\n",
      "│         Using an `AbstractVector` to specify one dimension of an `ImageLike` is deprecated because `ImageLike` sides always need exactly two values, start and stop.\n",
      "│         Use interval notation `start .. stop` or a two-element tuple `(start, stop)` instead.\n",
      "└ @ Makie /Users/zijin/.julia/packages/Makie/6c4lt/src/conversions.jl:416\n",
      "┌ Info: File /Users/zijin/projects/ids_spatial_evolution_juno/figures/scatter/wind_hist3d.png already exists. Skipping...\n",
      "└ @ Beforerr /Users/zijin/.julia/packages/Beforerr/V1DIf/src/utils/makie.jl:45\n"
     ]
    }
   ],
   "source": [
    "xyz = (v0, ω_in, θ)\n",
    "datalimits = ((1,14), (0,180), (0,180))\n",
    "axis = (type = Axis3, width = 400)\n",
    "v =  histogram(;datalimits, normalization=:pdf)\n",
    "plt = data(df) * mapping(xyz...; layout = :accuracy) * v\n",
    "fg = draw(plt; axis)\n",
    "colorbar!(fg)\n",
    "easy_save(\"scatter/$(name)_hist3d\"; formats=[:png], dir=figure_dir)"
   ]
  }
 ],
 "metadata": {
  "kernelspec": {
   "display_name": "Julia 1.11.0",
   "language": "julia",
   "name": "julia-1.11"
  },
  "language_info": {
   "file_extension": ".jl",
   "mimetype": "application/julia",
   "name": "julia",
   "version": "1.11.0"
  }
 },
 "nbformat": 4,
 "nbformat_minor": 2
}
