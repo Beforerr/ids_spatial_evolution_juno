{
 "cells": [
  {
   "cell_type": "markdown",
   "metadata": {},
   "source": [
    "---\n",
    "title: Time resolution effect (data)\n",
    "---"
   ]
  },
  {
   "cell_type": "markdown",
   "metadata": {},
   "source": [
    "## Process Wind data"
   ]
  },
  {
   "cell_type": "code",
   "execution_count": 13,
   "metadata": {},
   "outputs": [],
   "source": [
    "%load_ext autoreload\n",
    "%autoreload 2"
   ]
  },
  {
   "cell_type": "code",
   "execution_count": 14,
   "metadata": {},
   "outputs": [],
   "source": [
    "from space_analysis.utils.speasy import Variables\n",
    "from discontinuitypy.datasets import IDsDataset\n",
    "from discontinuitypy.utils.basic import resample\n",
    "\n",
    "from datetime import timedelta\n",
    "\n",
    "from discontinuitypy.missions import wind_mag_h4_rtn_meta, wind_plasma_k0_swe_meta"
   ]
  },
  {
   "cell_type": "code",
   "execution_count": 15,
   "metadata": {},
   "outputs": [],
   "source": [
    "ts = timedelta(seconds=1 / 11)\n",
    "tau = timedelta(seconds=60)"
   ]
  },
  {
   "cell_type": "code",
   "execution_count": 16,
   "metadata": {},
   "outputs": [],
   "source": [
    "timerange = [\"2016-01-01\", \"2016-06-29\"]\n",
    "provider = \"archive/local\"\n",
    "mag_meta = wind_mag_h4_rtn_meta\n",
    "plasma_meta = wind_plasma_k0_swe_meta\n",
    "\n",
    "wind_mag_vars = Variables(\n",
    "    timerange=timerange,\n",
    "    **mag_meta.model_dump(),\n",
    "    provider=provider,\n",
    ")\n",
    "\n",
    "wind_plasma_vars = Variables(\n",
    "    timerange=timerange,\n",
    "    **plasma_meta.model_dump(),\n",
    "    provider=provider,\n",
    ")"
   ]
  },
  {
   "cell_type": "code",
   "execution_count": 11,
   "metadata": {},
   "outputs": [],
   "source": [
    "wind_mag_data = wind_mag_vars.to_polars()\n",
    "wind_plasma_data = wind_plasma_vars.to_polars()"
   ]
  },
  {
   "cell_type": "code",
   "execution_count": 19,
   "metadata": {},
   "outputs": [
    {
     "name": "stderr",
     "output_type": "stream",
     "text": [
      "15-May-24 18:09:44: UserWarning: Ray execution environment not yet initialized. Initializing...\n",
      "To remove this warning, run the following python code before doing dataframe operations:\n",
      "\n",
      "    import ray\n",
      "    ray.init()\n",
      "\n",
      "\n",
      "2024-05-15 18:09:46,850\tINFO worker.py:1724 -- Started a local Ray instance.\n",
      "15-May-24 18:09:48: UserWarning: Distributing <class 'pandas.core.frame.DataFrame'> object. This may take some time.\n",
      "\n"
     ]
    },
    {
     "data": {
      "application/vnd.jupyter.widget-view+json": {
       "model_id": "7fdb2dbb773f4ba4a4ebab911615c551",
       "version_major": 2,
       "version_minor": 0
      },
      "text/plain": [
       "Distributing Dataframe:   0%           Elapsed time: 00:00, estimated remaining time: ?"
      ]
     },
     "metadata": {},
     "output_type": "display_data"
    },
    {
     "data": {
      "application/vnd.jupyter.widget-view+json": {
       "model_id": "bc96184bfe0a4f25b59b164a3754502a",
       "version_major": 2,
       "version_minor": 0
      },
      "text/plain": [
       "Estimated completion of line 14:   0%           Elapsed time: 00:00, estimated remaining time: ?"
      ]
     },
     "metadata": {},
     "output_type": "display_data"
    },
    {
     "name": "stderr",
     "output_type": "stream",
     "text": [
      "\u001b[36m(_deploy_ray_func pid=78514)\u001b[0m 15-May-24 18:09:56: RuntimeWarning: overflow encountered in exp\n",
      "\u001b[36m(_deploy_ray_func pid=78514)\u001b[0m \n",
      "\u001b[36m(_deploy_ray_func pid=78514)\u001b[0m 15-May-24 18:09:57: RuntimeWarning: overflow encountered in exp\n",
      "\u001b[36m(_deploy_ray_func pid=78514)\u001b[0m \n",
      "\u001b[36m(_deploy_ray_func pid=78514)\u001b[0m 15-May-24 18:10:02: RuntimeWarning: overflow encountered in exp\u001b[32m [repeated 11x across cluster] (Ray deduplicates logs by default. Set RAY_DEDUP_LOGS=0 to disable log deduplication, or see https://docs.ray.io/en/master/ray-observability/ray-logging.html#log-deduplication for more options.)\u001b[0m\n",
      "\u001b[36m(_deploy_ray_func pid=78514)\u001b[0m \u001b[32m [repeated 11x across cluster]\u001b[0m\n",
      "\u001b[36m(_deploy_ray_func pid=78514)\u001b[0m 15-May-24 18:10:07: RuntimeWarning: overflow encountered in exp\u001b[32m [repeated 10x across cluster]\u001b[0m\n",
      "\u001b[36m(_deploy_ray_func pid=78514)\u001b[0m \u001b[32m [repeated 10x across cluster]\u001b[0m\n",
      "\u001b[36m(_deploy_ray_func pid=78517)\u001b[0m 15-May-24 18:10:13: RuntimeWarning: overflow encountered in exp\u001b[32m [repeated 5x across cluster]\u001b[0m\n",
      "\u001b[36m(_deploy_ray_func pid=78517)\u001b[0m \u001b[32m [repeated 5x across cluster]\u001b[0m\n"
     ]
    },
    {
     "ename": "ValueError",
     "evalue": "conflicting sizes for dimension 'v_dim': length 50 on <this-array> and length 3 on {'time': 'time', 'v_dim': 'v_dim'}",
     "output_type": "error",
     "traceback": [
      "\u001b[0;31m---------------------------------------------------------------------------\u001b[0m",
      "\u001b[0;31mValueError\u001b[0m                                Traceback (most recent call last)",
      "Cell \u001b[0;32mIn[19], line 15\u001b[0m\n\u001b[1;32m      2\u001b[0m \u001b[38;5;28;01mfor\u001b[39;00m freq \u001b[38;5;129;01min\u001b[39;00m [\u001b[38;5;241m5\u001b[39m]:\n\u001b[1;32m      3\u001b[0m     ts \u001b[38;5;241m=\u001b[39m timedelta(seconds\u001b[38;5;241m=\u001b[39m\u001b[38;5;241m1\u001b[39m \u001b[38;5;241m/\u001b[39m freq)\n\u001b[1;32m      5\u001b[0m     wind_ids_dataset \u001b[38;5;241m=\u001b[39m (\n\u001b[1;32m      6\u001b[0m         \u001b[43mIDsDataset\u001b[49m\u001b[43m(\u001b[49m\n\u001b[1;32m      7\u001b[0m \u001b[43m            \u001b[49m\u001b[43mmag_data\u001b[49m\u001b[38;5;241;43m=\u001b[39;49m\u001b[43mwind_mag_data\u001b[49m\u001b[38;5;241;43m.\u001b[39;49m\u001b[43mpipe\u001b[49m\u001b[43m(\u001b[49m\u001b[43mresample\u001b[49m\u001b[43m,\u001b[49m\u001b[43m \u001b[49m\u001b[43mevery\u001b[49m\u001b[38;5;241;43m=\u001b[39;49m\u001b[43mts\u001b[49m\u001b[43m)\u001b[49m\u001b[43m,\u001b[49m\n\u001b[1;32m      8\u001b[0m \u001b[43m            \u001b[49m\u001b[43mplasma_data\u001b[49m\u001b[38;5;241;43m=\u001b[39;49m\u001b[43mwind_plasma_data\u001b[49m\u001b[43m,\u001b[49m\n\u001b[1;32m      9\u001b[0m \u001b[43m            \u001b[49m\u001b[43mtau\u001b[49m\u001b[38;5;241;43m=\u001b[39;49m\u001b[43mtau\u001b[49m\u001b[43m,\u001b[49m\n\u001b[1;32m     10\u001b[0m \u001b[43m            \u001b[49m\u001b[43mts\u001b[49m\u001b[38;5;241;43m=\u001b[39;49m\u001b[43mts\u001b[49m\u001b[43m,\u001b[49m\n\u001b[1;32m     11\u001b[0m \u001b[43m            \u001b[49m\u001b[43mmag_meta\u001b[49m\u001b[38;5;241;43m=\u001b[39;49m\u001b[43mmag_meta\u001b[49m\u001b[43m,\u001b[49m\n\u001b[1;32m     12\u001b[0m \u001b[43m            \u001b[49m\u001b[43mplasma_meta\u001b[49m\u001b[38;5;241;43m=\u001b[39;49m\u001b[43mplasma_meta\u001b[49m\u001b[43m,\u001b[49m\n\u001b[1;32m     13\u001b[0m \u001b[43m        \u001b[49m\u001b[43m)\u001b[49m\n\u001b[1;32m     14\u001b[0m \u001b[43m        \u001b[49m\u001b[38;5;241;43m.\u001b[39;49m\u001b[43mfind_events\u001b[49m\u001b[43m(\u001b[49m\u001b[43mreturn_best_fit\u001b[49m\u001b[38;5;241;43m=\u001b[39;49m\u001b[38;5;28;43;01mFalse\u001b[39;49;00m\u001b[43m)\u001b[49m\n\u001b[0;32m---> 15\u001b[0m \u001b[43m        \u001b[49m\u001b[38;5;241;43m.\u001b[39;49m\u001b[43mupdate_events\u001b[49m\u001b[43m(\u001b[49m\u001b[43m)\u001b[49m\n\u001b[1;32m     16\u001b[0m         \u001b[38;5;241m.\u001b[39mexport(\u001b[38;5;124mf\u001b[39m\u001b[38;5;124m\"\u001b[39m\u001b[38;5;124mdata/ts_effect/events.Wind.ts_\u001b[39m\u001b[38;5;132;01m{\u001b[39;00m\u001b[38;5;241m1\u001b[39m\u001b[38;5;241m/\u001b[39mfreq\u001b[38;5;132;01m:\u001b[39;00m\u001b[38;5;124m.2f\u001b[39m\u001b[38;5;132;01m}\u001b[39;00m\u001b[38;5;124ms_tau_60s.arrow\u001b[39m\u001b[38;5;124m\"\u001b[39m)\n\u001b[1;32m     17\u001b[0m     )\n",
      "File \u001b[0;32m~/micromamba/envs/psp_conjunction/lib/python3.11/site-packages/discontinuitypy/datasets.py:134\u001b[0m, in \u001b[0;36mIDsDataset.update_events\u001b[0;34m(self, **kwargs)\u001b[0m\n\u001b[1;32m    133\u001b[0m \u001b[38;5;28;01mdef\u001b[39;00m \u001b[38;5;21mupdate_events\u001b[39m(\u001b[38;5;28mself\u001b[39m, \u001b[38;5;241m*\u001b[39m\u001b[38;5;241m*\u001b[39mkwargs):\n\u001b[0;32m--> 134\u001b[0m     \u001b[38;5;28;01mreturn\u001b[39;00m \u001b[38;5;28;43mself\u001b[39;49m\u001b[38;5;241;43m.\u001b[39;49m\u001b[43mupdate_events_with_plasma_data\u001b[49m\u001b[43m(\u001b[49m\n\u001b[1;32m    135\u001b[0m \u001b[43m        \u001b[49m\u001b[38;5;241;43m*\u001b[39;49m\u001b[38;5;241;43m*\u001b[39;49m\u001b[43mkwargs\u001b[49m\n\u001b[1;32m    136\u001b[0m \u001b[43m    \u001b[49m\u001b[43m)\u001b[49m\u001b[38;5;241m.\u001b[39mupdate_events_with_temp_data(\u001b[38;5;241m*\u001b[39m\u001b[38;5;241m*\u001b[39mkwargs)\n",
      "File \u001b[0;32m~/micromamba/envs/psp_conjunction/lib/python3.11/site-packages/discontinuitypy/datasets.py:148\u001b[0m, in \u001b[0;36mIDsDataset.update_events_with_plasma_data\u001b[0;34m(self, **kwargs)\u001b[0m\n\u001b[1;32m    140\u001b[0m \u001b[38;5;28;01mif\u001b[39;00m \u001b[38;5;28mself\u001b[39m\u001b[38;5;241m.\u001b[39mplasma_data \u001b[38;5;129;01mis\u001b[39;00m \u001b[38;5;129;01mnot\u001b[39;00m \u001b[38;5;28;01mNone\u001b[39;00m:\n\u001b[1;32m    141\u001b[0m     df_combined \u001b[38;5;241m=\u001b[39m combine_features(\n\u001b[1;32m    142\u001b[0m         \u001b[38;5;28mself\u001b[39m\u001b[38;5;241m.\u001b[39mevents,\n\u001b[1;32m    143\u001b[0m         \u001b[38;5;28mself\u001b[39m\u001b[38;5;241m.\u001b[39mplasma_data\u001b[38;5;241m.\u001b[39mcollect(),\n\u001b[1;32m    144\u001b[0m         plasma_meta\u001b[38;5;241m=\u001b[39m\u001b[38;5;28mself\u001b[39m\u001b[38;5;241m.\u001b[39mplasma_meta,\n\u001b[1;32m    145\u001b[0m         \u001b[38;5;241m*\u001b[39m\u001b[38;5;241m*\u001b[39mkwargs,\n\u001b[1;32m    146\u001b[0m     )\n\u001b[0;32m--> 148\u001b[0m     \u001b[38;5;28mself\u001b[39m\u001b[38;5;241m.\u001b[39mevents \u001b[38;5;241m=\u001b[39m \u001b[43mcalc_combined_features\u001b[49m\u001b[43m(\u001b[49m\n\u001b[1;32m    149\u001b[0m \u001b[43m        \u001b[49m\u001b[43mdf_combined\u001b[49m\u001b[43m,\u001b[49m\n\u001b[1;32m    150\u001b[0m \u001b[43m        \u001b[49m\u001b[43mplasma_meta\u001b[49m\u001b[38;5;241;43m=\u001b[39;49m\u001b[38;5;28;43mself\u001b[39;49m\u001b[38;5;241;43m.\u001b[39;49m\u001b[43mplasma_meta\u001b[49m\u001b[43m,\u001b[49m\n\u001b[1;32m    151\u001b[0m \u001b[43m        \u001b[49m\u001b[38;5;241;43m*\u001b[39;49m\u001b[38;5;241;43m*\u001b[39;49m\u001b[43mkwargs\u001b[49m\u001b[43m,\u001b[49m\n\u001b[1;32m    152\u001b[0m \u001b[43m    \u001b[49m\u001b[43m)\u001b[49m\n\u001b[1;32m    153\u001b[0m \u001b[38;5;28;01melse\u001b[39;00m:\n\u001b[1;32m    154\u001b[0m     logger\u001b[38;5;241m.\u001b[39minfo(\u001b[38;5;124m\"\u001b[39m\u001b[38;5;124mPlasma data is not available.\u001b[39m\u001b[38;5;124m\"\u001b[39m)\n",
      "File \u001b[0;32m~/micromamba/envs/psp_conjunction/lib/python3.11/site-packages/discontinuitypy/integration.py:285\u001b[0m, in \u001b[0;36mcalc_combined_features\u001b[0;34m(df, b_cols, detail, normal_cols, Vl_cols, Vn_cols, thickness_cols, current_cols, plasma_meta, **kwargs)\u001b[0m\n\u001b[1;32m    281\u001b[0m vec_cols \u001b[38;5;241m=\u001b[39m plasma_meta\u001b[38;5;241m.\u001b[39mvelocity_cols\n\u001b[1;32m    282\u001b[0m density_col \u001b[38;5;241m=\u001b[39m plasma_meta\u001b[38;5;241m.\u001b[39mdensity_col\n\u001b[1;32m    284\u001b[0m result \u001b[38;5;241m=\u001b[39m (\n\u001b[0;32m--> 285\u001b[0m     \u001b[43mresult\u001b[49m\u001b[38;5;241;43m.\u001b[39;49m\u001b[43mpipe\u001b[49m\u001b[43m(\u001b[49m\u001b[43mvector_project_pl\u001b[49m\u001b[43m,\u001b[49m\u001b[43m \u001b[49m\u001b[43mvec_cols\u001b[49m\u001b[43m,\u001b[49m\u001b[43m \u001b[49m\u001b[43mVl_cols\u001b[49m\u001b[43m,\u001b[49m\u001b[43m \u001b[49m\u001b[43mname\u001b[49m\u001b[38;5;241;43m=\u001b[39;49m\u001b[38;5;124;43m\"\u001b[39;49m\u001b[38;5;124;43mv_l\u001b[39;49m\u001b[38;5;124;43m\"\u001b[39;49m\u001b[43m)\u001b[49m\n\u001b[1;32m    286\u001b[0m     \u001b[38;5;241m.\u001b[39mpipe(vector_project_pl, vec_cols, Vn_cols, name\u001b[38;5;241m=\u001b[39m\u001b[38;5;124m\"\u001b[39m\u001b[38;5;124mv_n\u001b[39m\u001b[38;5;124m\"\u001b[39m)\n\u001b[1;32m    287\u001b[0m     \u001b[38;5;241m.\u001b[39mpipe(vector_project_pl, vec_cols, normal_cols, name\u001b[38;5;241m=\u001b[39m\u001b[38;5;124m\"\u001b[39m\u001b[38;5;124mv_k\u001b[39m\u001b[38;5;124m\"\u001b[39m)\n\u001b[1;32m    288\u001b[0m     \u001b[38;5;241m.\u001b[39mwith_columns(\n\u001b[1;32m    289\u001b[0m         pl\u001b[38;5;241m.\u001b[39mcol(\u001b[38;5;124m\"\u001b[39m\u001b[38;5;124mv_n\u001b[39m\u001b[38;5;124m\"\u001b[39m)\u001b[38;5;241m.\u001b[39mabs(),\n\u001b[1;32m    290\u001b[0m         pl\u001b[38;5;241m.\u001b[39mcol(\u001b[38;5;124m\"\u001b[39m\u001b[38;5;124mv_k\u001b[39m\u001b[38;5;124m\"\u001b[39m)\u001b[38;5;241m.\u001b[39mabs(),\n\u001b[1;32m    291\u001b[0m         \u001b[38;5;66;03m# v_mn=(pl.col(\"plasma_speed\") ** 2 - pl.col(\"v_l\") ** 2).sqrt(),\u001b[39;00m\n\u001b[1;32m    292\u001b[0m     )\n\u001b[1;32m    293\u001b[0m     \u001b[38;5;241m.\u001b[39mwith_columns(\n\u001b[1;32m    294\u001b[0m         L_k\u001b[38;5;241m=\u001b[39mpl\u001b[38;5;241m.\u001b[39mcol(\u001b[38;5;124m\"\u001b[39m\u001b[38;5;124mv_k\u001b[39m\u001b[38;5;124m\"\u001b[39m) \u001b[38;5;241m*\u001b[39m pl\u001b[38;5;241m.\u001b[39mcol(\u001b[38;5;124m\"\u001b[39m\u001b[38;5;124mduration\u001b[39m\u001b[38;5;124m\"\u001b[39m),\n\u001b[1;32m    295\u001b[0m         j0_k\u001b[38;5;241m=\u001b[39mpl\u001b[38;5;241m.\u001b[39mcol(\u001b[38;5;124m\"\u001b[39m\u001b[38;5;124md_star\u001b[39m\u001b[38;5;124m\"\u001b[39m)\n\u001b[1;32m    296\u001b[0m         \u001b[38;5;241m/\u001b[39m pl\u001b[38;5;241m.\u001b[39mcol(\n\u001b[1;32m    297\u001b[0m             \u001b[38;5;124m\"\u001b[39m\u001b[38;5;124mv_k\u001b[39m\u001b[38;5;124m\"\u001b[39m\n\u001b[1;32m    298\u001b[0m         ),  \u001b[38;5;66;03m# TODO: d_star corresponding to dB/dt, which direction is not exactly perpendicular to the k direction\u001b[39;00m\n\u001b[1;32m    299\u001b[0m         \u001b[38;5;66;03m# NOTE: n direction is not properly determined for MVA analysis\u001b[39;00m\n\u001b[1;32m    300\u001b[0m         \u001b[38;5;66;03m# j0_mn=pl.col(\"d_star\") / pl.col(\"v_mn\"),\u001b[39;00m\n\u001b[1;32m    301\u001b[0m         \u001b[38;5;66;03m# L_n=pl.col(\"v_n\") * pl.col(\"duration\"),\u001b[39;00m\n\u001b[1;32m    302\u001b[0m         \u001b[38;5;66;03m# L_mn=pl.col(\"v_mn\") * pl.col(\"duration\"),\u001b[39;00m\n\u001b[1;32m    303\u001b[0m         \u001b[38;5;66;03m# NOTE: the duration is not properly determined for `max distance` method\u001b[39;00m\n\u001b[1;32m    304\u001b[0m         \u001b[38;5;66;03m# L_k=pl.col(\"v_k\") * pl.col(\"duration\"),\u001b[39;00m\n\u001b[1;32m    305\u001b[0m     )\n\u001b[1;32m    306\u001b[0m     \u001b[38;5;241m.\u001b[39mpipe(compute_inertial_length)\n\u001b[1;32m    307\u001b[0m     \u001b[38;5;241m.\u001b[39mpipe(compute_Alfven_speed, n\u001b[38;5;241m=\u001b[39mdensity_col, B\u001b[38;5;241m=\u001b[39m\u001b[38;5;124m\"\u001b[39m\u001b[38;5;124mb_mag\u001b[39m\u001b[38;5;124m\"\u001b[39m)\n\u001b[1;32m    308\u001b[0m     \u001b[38;5;241m.\u001b[39mpipe(compute_Alfven_current)\n\u001b[1;32m    309\u001b[0m     \u001b[38;5;241m.\u001b[39mwith_columns(\n\u001b[1;32m    310\u001b[0m         cs\u001b[38;5;241m.\u001b[39mby_name(current_cols) \u001b[38;5;241m*\u001b[39m J_FACTOR\u001b[38;5;241m.\u001b[39mvalue,\n\u001b[1;32m    311\u001b[0m     )\n\u001b[1;32m    312\u001b[0m     \u001b[38;5;241m.\u001b[39mwith_columns(\n\u001b[1;32m    313\u001b[0m         (cs\u001b[38;5;241m.\u001b[39mby_name(thickness_cols) \u001b[38;5;241m/\u001b[39m length_norm)\u001b[38;5;241m.\u001b[39mname\u001b[38;5;241m.\u001b[39msuffix(\u001b[38;5;124m\"\u001b[39m\u001b[38;5;124m_norm\u001b[39m\u001b[38;5;124m\"\u001b[39m),\n\u001b[1;32m    314\u001b[0m         (cs\u001b[38;5;241m.\u001b[39mby_name(current_cols) \u001b[38;5;241m/\u001b[39m current_norm)\u001b[38;5;241m.\u001b[39mname\u001b[38;5;241m.\u001b[39msuffix(\u001b[38;5;124m\"\u001b[39m\u001b[38;5;124m_norm\u001b[39m\u001b[38;5;124m\"\u001b[39m),\n\u001b[1;32m    315\u001b[0m         (cs\u001b[38;5;241m.\u001b[39mby_name(b_cols) \u001b[38;5;241m/\u001b[39m b_norm)\u001b[38;5;241m.\u001b[39mname\u001b[38;5;241m.\u001b[39msuffix(\u001b[38;5;124m\"\u001b[39m\u001b[38;5;124m_norm\u001b[39m\u001b[38;5;124m\"\u001b[39m),\n\u001b[1;32m    316\u001b[0m     )\n\u001b[1;32m    317\u001b[0m )\n\u001b[1;32m    319\u001b[0m \u001b[38;5;28;01mif\u001b[39;00m detail:\n\u001b[1;32m    320\u001b[0m     result \u001b[38;5;241m=\u001b[39m (\n\u001b[1;32m    321\u001b[0m         result\u001b[38;5;241m.\u001b[39mpipe(\n\u001b[1;32m    322\u001b[0m             vector_project_pl,\n\u001b[0;32m   (...)\u001b[0m\n\u001b[1;32m    335\u001b[0m         \u001b[38;5;241m.\u001b[39mpipe(calc_plasma_parameter_change, plasma_meta\u001b[38;5;241m=\u001b[39mplasma_meta)\n\u001b[1;32m    336\u001b[0m     )\n",
      "File \u001b[0;32m~/micromamba/envs/psp_conjunction/lib/python3.11/site-packages/polars/dataframe/frame.py:5249\u001b[0m, in \u001b[0;36mDataFrame.pipe\u001b[0;34m(self, function, *args, **kwargs)\u001b[0m\n\u001b[1;32m   5184\u001b[0m \u001b[38;5;28;01mdef\u001b[39;00m \u001b[38;5;21mpipe\u001b[39m(\n\u001b[1;32m   5185\u001b[0m     \u001b[38;5;28mself\u001b[39m,\n\u001b[1;32m   5186\u001b[0m     function: Callable[Concatenate[DataFrame, P], T],\n\u001b[1;32m   5187\u001b[0m     \u001b[38;5;241m*\u001b[39margs: P\u001b[38;5;241m.\u001b[39margs,\n\u001b[1;32m   5188\u001b[0m     \u001b[38;5;241m*\u001b[39m\u001b[38;5;241m*\u001b[39mkwargs: P\u001b[38;5;241m.\u001b[39mkwargs,\n\u001b[1;32m   5189\u001b[0m ) \u001b[38;5;241m-\u001b[39m\u001b[38;5;241m>\u001b[39m T:\n\u001b[1;32m   5190\u001b[0m \u001b[38;5;250m    \u001b[39m\u001b[38;5;124;03m\"\"\"\u001b[39;00m\n\u001b[1;32m   5191\u001b[0m \u001b[38;5;124;03m    Offers a structured way to apply a sequence of user-defined functions (UDFs).\u001b[39;00m\n\u001b[1;32m   5192\u001b[0m \n\u001b[0;32m   (...)\u001b[0m\n\u001b[1;32m   5247\u001b[0m \u001b[38;5;124;03m    └─────┴─────┘\u001b[39;00m\n\u001b[1;32m   5248\u001b[0m \u001b[38;5;124;03m    \"\"\"\u001b[39;00m\n\u001b[0;32m-> 5249\u001b[0m     \u001b[38;5;28;01mreturn\u001b[39;00m \u001b[43mfunction\u001b[49m\u001b[43m(\u001b[49m\u001b[38;5;28;43mself\u001b[39;49m\u001b[43m,\u001b[49m\u001b[43m \u001b[49m\u001b[38;5;241;43m*\u001b[39;49m\u001b[43margs\u001b[49m\u001b[43m,\u001b[49m\u001b[43m \u001b[49m\u001b[38;5;241;43m*\u001b[39;49m\u001b[38;5;241;43m*\u001b[39;49m\u001b[43mkwargs\u001b[49m\u001b[43m)\u001b[49m\n",
      "File \u001b[0;32m~/micromamba/envs/psp_conjunction/lib/python3.11/site-packages/discontinuitypy/integration.py:128\u001b[0m, in \u001b[0;36mvector_project_pl\u001b[0;34m(df, v1_cols, v2_cols, name)\u001b[0m\n\u001b[1;32m    127\u001b[0m \u001b[38;5;28;01mdef\u001b[39;00m \u001b[38;5;21mvector_project_pl\u001b[39m(df: pl\u001b[38;5;241m.\u001b[39mDataFrame, v1_cols, v2_cols, name\u001b[38;5;241m=\u001b[39m\u001b[38;5;28;01mNone\u001b[39;00m):\n\u001b[0;32m--> 128\u001b[0m     v1 \u001b[38;5;241m=\u001b[39m \u001b[43mdf2ts\u001b[49m\u001b[43m(\u001b[49m\u001b[43mdf\u001b[49m\u001b[43m,\u001b[49m\u001b[43m \u001b[49m\u001b[43mv1_cols\u001b[49m\u001b[43m)\u001b[49m\u001b[38;5;241;43m.\u001b[39;49m\u001b[43massign_coords\u001b[49m\u001b[43m(\u001b[49m\u001b[43mv_dim\u001b[49m\u001b[38;5;241;43m=\u001b[39;49m\u001b[43m[\u001b[49m\u001b[38;5;124;43m\"\u001b[39;49m\u001b[38;5;124;43mx\u001b[39;49m\u001b[38;5;124;43m\"\u001b[39;49m\u001b[43m,\u001b[49m\u001b[43m \u001b[49m\u001b[38;5;124;43m\"\u001b[39;49m\u001b[38;5;124;43my\u001b[39;49m\u001b[38;5;124;43m\"\u001b[39;49m\u001b[43m,\u001b[49m\u001b[43m \u001b[49m\u001b[38;5;124;43m\"\u001b[39;49m\u001b[38;5;124;43mz\u001b[39;49m\u001b[38;5;124;43m\"\u001b[39;49m\u001b[43m]\u001b[49m\u001b[43m)\u001b[49m\n\u001b[1;32m    129\u001b[0m     v2 \u001b[38;5;241m=\u001b[39m df2ts(df, v2_cols)\u001b[38;5;241m.\u001b[39massign_coords(v_dim\u001b[38;5;241m=\u001b[39m[\u001b[38;5;124m\"\u001b[39m\u001b[38;5;124mx\u001b[39m\u001b[38;5;124m\"\u001b[39m, \u001b[38;5;124m\"\u001b[39m\u001b[38;5;124my\u001b[39m\u001b[38;5;124m\"\u001b[39m, \u001b[38;5;124m\"\u001b[39m\u001b[38;5;124mz\u001b[39m\u001b[38;5;124m\"\u001b[39m])\n\u001b[1;32m    130\u001b[0m     result \u001b[38;5;241m=\u001b[39m vector_project(v1, v2, dim\u001b[38;5;241m=\u001b[39m\u001b[38;5;124m\"\u001b[39m\u001b[38;5;124mv_dim\u001b[39m\u001b[38;5;124m\"\u001b[39m)\n",
      "File \u001b[0;32m~/micromamba/envs/psp_conjunction/lib/python3.11/site-packages/xarray/core/common.py:621\u001b[0m, in \u001b[0;36mDataWithCoords.assign_coords\u001b[0;34m(self, coords, **coords_kwargs)\u001b[0m\n\u001b[1;32m    618\u001b[0m \u001b[38;5;28;01melse\u001b[39;00m:\n\u001b[1;32m    619\u001b[0m     results \u001b[38;5;241m=\u001b[39m \u001b[38;5;28mself\u001b[39m\u001b[38;5;241m.\u001b[39m_calc_assign_results(coords_combined)\n\u001b[0;32m--> 621\u001b[0m \u001b[43mdata\u001b[49m\u001b[38;5;241;43m.\u001b[39;49m\u001b[43mcoords\u001b[49m\u001b[38;5;241;43m.\u001b[39;49m\u001b[43mupdate\u001b[49m\u001b[43m(\u001b[49m\u001b[43mresults\u001b[49m\u001b[43m)\u001b[49m\n\u001b[1;32m    622\u001b[0m \u001b[38;5;28;01mreturn\u001b[39;00m data\n",
      "File \u001b[0;32m~/micromamba/envs/psp_conjunction/lib/python3.11/site-packages/xarray/core/coordinates.py:566\u001b[0m, in \u001b[0;36mCoordinates.update\u001b[0;34m(self, other)\u001b[0m\n\u001b[1;32m    560\u001b[0m \u001b[38;5;66;03m# special case for PandasMultiIndex: updating only its dimension coordinate\u001b[39;00m\n\u001b[1;32m    561\u001b[0m \u001b[38;5;66;03m# is still allowed but depreciated.\u001b[39;00m\n\u001b[1;32m    562\u001b[0m \u001b[38;5;66;03m# It is the only case where we need to actually drop coordinates here (multi-index levels)\u001b[39;00m\n\u001b[1;32m    563\u001b[0m \u001b[38;5;66;03m# TODO: remove when removing PandasMultiIndex's dimension coordinate.\u001b[39;00m\n\u001b[1;32m    564\u001b[0m \u001b[38;5;28mself\u001b[39m\u001b[38;5;241m.\u001b[39m_drop_coords(\u001b[38;5;28mself\u001b[39m\u001b[38;5;241m.\u001b[39m_names \u001b[38;5;241m-\u001b[39m coords_to_align\u001b[38;5;241m.\u001b[39m_names)\n\u001b[0;32m--> 566\u001b[0m \u001b[38;5;28;43mself\u001b[39;49m\u001b[38;5;241;43m.\u001b[39;49m\u001b[43m_update_coords\u001b[49m\u001b[43m(\u001b[49m\u001b[43mcoords\u001b[49m\u001b[43m,\u001b[49m\u001b[43m \u001b[49m\u001b[43mindexes\u001b[49m\u001b[43m)\u001b[49m\n",
      "File \u001b[0;32m~/micromamba/envs/psp_conjunction/lib/python3.11/site-packages/xarray/core/coordinates.py:842\u001b[0m, in \u001b[0;36mDataArrayCoordinates._update_coords\u001b[0;34m(self, coords, indexes)\u001b[0m\n\u001b[1;32m    840\u001b[0m coords_plus_data \u001b[38;5;241m=\u001b[39m coords\u001b[38;5;241m.\u001b[39mcopy()\n\u001b[1;32m    841\u001b[0m coords_plus_data[_THIS_ARRAY] \u001b[38;5;241m=\u001b[39m \u001b[38;5;28mself\u001b[39m\u001b[38;5;241m.\u001b[39m_data\u001b[38;5;241m.\u001b[39mvariable\n\u001b[0;32m--> 842\u001b[0m dims \u001b[38;5;241m=\u001b[39m \u001b[43mcalculate_dimensions\u001b[49m\u001b[43m(\u001b[49m\u001b[43mcoords_plus_data\u001b[49m\u001b[43m)\u001b[49m\n\u001b[1;32m    843\u001b[0m \u001b[38;5;28;01mif\u001b[39;00m \u001b[38;5;129;01mnot\u001b[39;00m \u001b[38;5;28mset\u001b[39m(dims) \u001b[38;5;241m<\u001b[39m\u001b[38;5;241m=\u001b[39m \u001b[38;5;28mset\u001b[39m(\u001b[38;5;28mself\u001b[39m\u001b[38;5;241m.\u001b[39mdims):\n\u001b[1;32m    844\u001b[0m     \u001b[38;5;28;01mraise\u001b[39;00m \u001b[38;5;167;01mValueError\u001b[39;00m(\n\u001b[1;32m    845\u001b[0m         \u001b[38;5;124m\"\u001b[39m\u001b[38;5;124mcannot add coordinates with new dimensions to a DataArray\u001b[39m\u001b[38;5;124m\"\u001b[39m\n\u001b[1;32m    846\u001b[0m     )\n",
      "File \u001b[0;32m~/micromamba/envs/psp_conjunction/lib/python3.11/site-packages/xarray/core/variable.py:3008\u001b[0m, in \u001b[0;36mcalculate_dimensions\u001b[0;34m(variables)\u001b[0m\n\u001b[1;32m   3006\u001b[0m             last_used[dim] \u001b[38;5;241m=\u001b[39m k\n\u001b[1;32m   3007\u001b[0m         \u001b[38;5;28;01melif\u001b[39;00m dims[dim] \u001b[38;5;241m!=\u001b[39m size:\n\u001b[0;32m-> 3008\u001b[0m             \u001b[38;5;28;01mraise\u001b[39;00m \u001b[38;5;167;01mValueError\u001b[39;00m(\n\u001b[1;32m   3009\u001b[0m                 \u001b[38;5;124mf\u001b[39m\u001b[38;5;124m\"\u001b[39m\u001b[38;5;124mconflicting sizes for dimension \u001b[39m\u001b[38;5;132;01m{\u001b[39;00mdim\u001b[38;5;132;01m!r}\u001b[39;00m\u001b[38;5;124m: \u001b[39m\u001b[38;5;124m\"\u001b[39m\n\u001b[1;32m   3010\u001b[0m                 \u001b[38;5;124mf\u001b[39m\u001b[38;5;124m\"\u001b[39m\u001b[38;5;124mlength \u001b[39m\u001b[38;5;132;01m{\u001b[39;00msize\u001b[38;5;132;01m}\u001b[39;00m\u001b[38;5;124m on \u001b[39m\u001b[38;5;132;01m{\u001b[39;00mk\u001b[38;5;132;01m!r}\u001b[39;00m\u001b[38;5;124m and length \u001b[39m\u001b[38;5;132;01m{\u001b[39;00mdims[dim]\u001b[38;5;132;01m}\u001b[39;00m\u001b[38;5;124m on \u001b[39m\u001b[38;5;132;01m{\u001b[39;00mlast_used\u001b[38;5;132;01m!r}\u001b[39;00m\u001b[38;5;124m\"\u001b[39m\n\u001b[1;32m   3011\u001b[0m             )\n\u001b[1;32m   3012\u001b[0m \u001b[38;5;28;01mreturn\u001b[39;00m dims\n",
      "\u001b[0;31mValueError\u001b[0m: conflicting sizes for dimension 'v_dim': length 50 on <this-array> and length 3 on {'time': 'time', 'v_dim': 'v_dim'}"
     ]
    }
   ],
   "source": [
    "# for freq in [11, 5 , 2, 1, 0.5]:\n",
    "for freq in [5]:\n",
    "    ts = timedelta(seconds=1 / freq)\n",
    "\n",
    "    wind_ids_dataset = (\n",
    "        IDsDataset(\n",
    "            mag_data=wind_mag_data.pipe(resample, every=ts),\n",
    "            plasma_data=wind_plasma_data,\n",
    "            tau=tau,\n",
    "            ts=ts,\n",
    "            mag_meta=mag_meta,\n",
    "            plasma_meta=plasma_meta,\n",
    "        )\n",
    "        .find_events(return_best_fit=False)\n",
    "        .update_events()\n",
    "        .export(f\"data/ts_effect/events.Wind.ts_{1/freq:.2f}s_tau_60s.arrow\")\n",
    "    )"
   ]
  }
 ],
 "metadata": {
  "kernelspec": {
   "display_name": "cool_planet",
   "language": "python",
   "name": "python3"
  },
  "language_info": {
   "codemirror_mode": {
    "name": "ipython",
    "version": 3
   },
   "file_extension": ".py",
   "mimetype": "text/x-python",
   "name": "python",
   "nbconvert_exporter": "python",
   "pygments_lexer": "ipython3",
   "version": "3.11.7"
  }
 },
 "nbformat": 4,
 "nbformat_minor": 2
}
