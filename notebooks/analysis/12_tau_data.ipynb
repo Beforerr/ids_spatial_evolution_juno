{
 "cells": [
  {
   "cell_type": "markdown",
   "metadata": {},
   "source": [
    "---\n",
    "title: Justification for the tau (data)\n",
    "---"
   ]
  },
  {
   "cell_type": "code",
   "execution_count": 3,
   "metadata": {},
   "outputs": [],
   "source": [
    "#| hide\n",
    "from utils.config import JunoConfig"
   ]
  },
  {
   "cell_type": "code",
   "execution_count": 6,
   "metadata": {},
   "outputs": [
    {
     "name": "stderr",
     "output_type": "stream",
     "text": [
      "28-Feb-24 19:54:43: UserWarning: Distributing <class 'pandas.core.frame.DataFrame'> object. This may take some time.\n",
      "\n"
     ]
    },
    {
     "data": {
      "application/vnd.jupyter.widget-view+json": {
       "model_id": "1ed1744150fd4e1da768b394ea316353",
       "version_major": 2,
       "version_minor": 0
      },
      "text/plain": [
       "Distributing Dataframe:   0%           Elapsed time: 00:00, estimated remaining time: ?"
      ]
     },
     "metadata": {},
     "output_type": "display_data"
    },
    {
     "data": {
      "application/vnd.jupyter.widget-view+json": {
       "model_id": "76f24182b80f46f58056d71c20950ff1",
       "version_major": 2,
       "version_minor": 0
      },
      "text/plain": [
       "Estimated completion of line 1:   0%           Elapsed time: 00:00, estimated remaining time: ?"
      ]
     },
     "metadata": {},
     "output_type": "display_data"
    },
    {
     "name": "stderr",
     "output_type": "stream",
     "text": [
      "\u001b[36m(_deploy_ray_func pid=36713)\u001b[0m RuntimeWarning: overflow encountered in exp\n",
      "\u001b[36m(_deploy_ray_func pid=36720)\u001b[0m RuntimeWarning: overflow encountered in exp\u001b[32m [repeated 32x across cluster]\u001b[0m\n",
      "\u001b[36m(_deploy_ray_func pid=36718)\u001b[0m RuntimeWarning: overflow encountered in exp\u001b[32m [repeated 21x across cluster]\u001b[0m\n",
      "\u001b[36m(_deploy_ray_func pid=36717)\u001b[0m RuntimeWarning: overflow encountered in exp\u001b[32m [repeated 17x across cluster]\u001b[0m\n",
      "\u001b[36m(_deploy_ray_func pid=36712)\u001b[0m RuntimeWarning: overflow encountered in exp\u001b[32m [repeated 22x across cluster]\u001b[0m\n",
      "\u001b[36m(_deploy_ray_func pid=36712)\u001b[0m RuntimeWarning: overflow encountered in exp\u001b[32m [repeated 5x across cluster]\u001b[0m\n",
      "\u001b[36m(_deploy_ray_func pid=36716)\u001b[0m RuntimeWarning: overflow encountered in exp\u001b[32m [repeated 8x across cluster]\u001b[0m\n",
      "\u001b[36m(_deploy_ray_func pid=36716)\u001b[0m RuntimeWarning: overflow encountered in exp\u001b[32m [repeated 3x across cluster]\u001b[0m\n"
     ]
    },
    {
     "name": "stderr",
     "output_type": "stream",
     "text": [
      "28-Feb-24 19:54:52: UserWarning: Distributing <class 'pandas.core.frame.DataFrame'> object. This may take some time.\n",
      "\n"
     ]
    },
    {
     "data": {
      "application/vnd.jupyter.widget-view+json": {
       "model_id": "2bec94dccace48fbb6994747b8b7d12c",
       "version_major": 2,
       "version_minor": 0
      },
      "text/plain": [
       "Distributing Dataframe:   0%           Elapsed time: 00:00, estimated remaining time: ?"
      ]
     },
     "metadata": {},
     "output_type": "display_data"
    },
    {
     "name": "stderr",
     "output_type": "stream",
     "text": [
      "28-Feb-24 19:55:04: UserWarning: Distributing <class 'pandas.core.frame.DataFrame'> object. This may take some time.\n",
      "\n"
     ]
    },
    {
     "data": {
      "application/vnd.jupyter.widget-view+json": {
       "model_id": "51458c0b46eb466bace880c20c8411dc",
       "version_major": 2,
       "version_minor": 0
      },
      "text/plain": [
       "Distributing Dataframe:   0%           Elapsed time: 00:00, estimated remaining time: ?"
      ]
     },
     "metadata": {},
     "output_type": "display_data"
    },
    {
     "name": "stderr",
     "output_type": "stream",
     "text": [
      "28-Feb-24 19:55:14: UserWarning: Distributing <class 'pandas.core.frame.DataFrame'> object. This may take some time.\n",
      "\n"
     ]
    },
    {
     "data": {
      "application/vnd.jupyter.widget-view+json": {
       "model_id": "b13d32581b0b4ee783b92890634c58f0",
       "version_major": 2,
       "version_minor": 0
      },
      "text/plain": [
       "Distributing Dataframe:   0%           Elapsed time: 00:00, estimated remaining time: ?"
      ]
     },
     "metadata": {},
     "output_type": "display_data"
    },
    {
     "name": "stderr",
     "output_type": "stream",
     "text": [
      "28-Feb-24 19:55:24: UserWarning: Distributing <class 'pandas.core.frame.DataFrame'> object. This may take some time.\n",
      "\n"
     ]
    },
    {
     "data": {
      "application/vnd.jupyter.widget-view+json": {
       "model_id": "ea557a09655f42f4986badf39715fa58",
       "version_major": 2,
       "version_minor": 0
      },
      "text/plain": [
       "Distributing Dataframe:   0%           Elapsed time: 00:00, estimated remaining time: ?"
      ]
     },
     "metadata": {},
     "output_type": "display_data"
    },
    {
     "name": "stderr",
     "output_type": "stream",
     "text": [
      "28-Feb-24 19:55:31: UserWarning: Distributing <class 'pandas.core.frame.DataFrame'> object. This may take some time.\n",
      "\n"
     ]
    },
    {
     "data": {
      "application/vnd.jupyter.widget-view+json": {
       "model_id": "b3066bdb0e1849e09032a4c6d5c9fb59",
       "version_major": 2,
       "version_minor": 0
      },
      "text/plain": [
       "Distributing Dataframe:   0%           Elapsed time: 00:00, estimated remaining time: ?"
      ]
     },
     "metadata": {},
     "output_type": "display_data"
    },
    {
     "name": "stderr",
     "output_type": "stream",
     "text": [
      "28-Feb-24 19:55:37: UserWarning: Distributing <class 'pandas.core.frame.DataFrame'> object. This may take some time.\n",
      "\n"
     ]
    },
    {
     "data": {
      "application/vnd.jupyter.widget-view+json": {
       "model_id": "cf4603a045984352ae4c4ca07f0583fd",
       "version_major": 2,
       "version_minor": 0
      },
      "text/plain": [
       "Distributing Dataframe:   0%           Elapsed time: 00:00, estimated remaining time: ?"
      ]
     },
     "metadata": {},
     "output_type": "display_data"
    },
    {
     "name": "stderr",
     "output_type": "stream",
     "text": [
      "28-Feb-24 19:55:42: UserWarning: Distributing <class 'pandas.core.frame.DataFrame'> object. This may take some time.\n",
      "\n"
     ]
    },
    {
     "data": {
      "application/vnd.jupyter.widget-view+json": {
       "model_id": "77cd30a4a7f14b0dba90b10eab5b7b2c",
       "version_major": 2,
       "version_minor": 0
      },
      "text/plain": [
       "Distributing Dataframe:   0%           Elapsed time: 00:00, estimated remaining time: ?"
      ]
     },
     "metadata": {},
     "output_type": "display_data"
    },
    {
     "name": "stderr",
     "output_type": "stream",
     "text": [
      "\u001b[32m2024-02-28 19:55:44.719\u001b[0m | \u001b[1mINFO    \u001b[0m | \u001b[36mdiscontinuitypy.datasets\u001b[0m:\u001b[36mwrite\u001b[0m:\u001b[36m40\u001b[0m - \u001b[1mDataframe written to ../data/05_reporting/events.JNO.fit.ts_1.00s_tau_180s.arrow\u001b[0m\n"
     ]
    },
    {
     "data": {
      "text/plain": [
       "JunoConfig(name='JNO', data=<LazyFrame [4 cols, {\"BX SE\": Float64 … \"time\": Datetime(time_unit='us', time_zone=None)}] at 0x2A3CBBBD0>, ts=datetime.timedelta(seconds=1), tau=datetime.timedelta(seconds=180), events=shape: (42_984, 94)\n",
       "┌─────────────┬────────────┬─────┬──────────┬───┬────────────┬───────────┬────────────┬────────────┐\n",
       "│ time        ┆ index_diff ┆ len ┆ std      ┆ … ┆ v.ion.chan ┆ B.change  ┆ v.Alfven.c ┆ v.Alfven.c │\n",
       "│ ---         ┆ ---        ┆ --- ┆ ---      ┆   ┆ ge.l       ┆ ---       ┆ hange      ┆ hange.l    │\n",
       "│ datetime[ns ┆ f64        ┆ u32 ┆ f64      ┆   ┆ ---        ┆ f64       ┆ ---        ┆ ---        │\n",
       "│ ]           ┆            ┆     ┆          ┆   ┆ f64        ┆           ┆ f64        ┆ f64        │\n",
       "╞═════════════╪════════════╪═════╪══════════╪═══╪════════════╪═══════════╪════════════╪════════════╡\n",
       "│ 2011-08-25  ┆ 1.457943   ┆ 180 ┆ 2.655685 ┆ … ┆ 0.0        ┆ 0.030584  ┆ 0.394842   ┆ 81.897526  │\n",
       "│ 15:33:00    ┆            ┆     ┆          ┆   ┆            ┆           ┆            ┆            │\n",
       "│ 2011-08-25  ┆ 0.37205    ┆ 180 ┆ 0.937567 ┆ … ┆ -0.032502  ┆ 0.242502  ┆ 3.52999    ┆ -50.821981 │\n",
       "│ 17:49:30    ┆            ┆     ┆          ┆   ┆            ┆           ┆            ┆            │\n",
       "│ 2011-08-25  ┆ 0.802401   ┆ 180 ┆ 1.548479 ┆ … ┆ -0.012796  ┆ 0.024578  ┆ 0.411154   ┆ -69.345459 │\n",
       "│ 17:51:00    ┆            ┆     ┆          ┆   ┆            ┆           ┆            ┆            │\n",
       "│ 2011-08-25  ┆ 1.47258    ┆ 180 ┆ 2.647456 ┆ … ┆ 0.013626   ┆ -0.271046 ┆ -3.9196    ┆ 90.960015  │\n",
       "│ 18:36:00    ┆            ┆     ┆          ┆   ┆            ┆           ┆            ┆            │\n",
       "│ 2011-08-25  ┆ 1.005952   ┆ 180 ┆ 1.614257 ┆ … ┆ -0.009481  ┆ 0.087428  ┆ 1.359867   ┆ 79.308791  │\n",
       "│ 20:39:00    ┆            ┆     ┆          ┆   ┆            ┆           ┆            ┆            │\n",
       "│ …           ┆ …          ┆ …   ┆ …        ┆ … ┆ …          ┆ …         ┆ …          ┆ …          │\n",
       "│ 2016-06-29  ┆ 1.286955   ┆ 180 ┆ 3.264029 ┆ … ┆ NaN        ┆ 0.939178  ┆ NaN        ┆ NaN        │\n",
       "│ 17:37:30    ┆            ┆     ┆          ┆   ┆            ┆           ┆            ┆            │\n",
       "│ 2016-06-29  ┆ 0.858761   ┆ 180 ┆ 2.697777 ┆ … ┆ NaN        ┆ 0.663428  ┆ NaN        ┆ NaN        │\n",
       "│ 17:49:30    ┆            ┆     ┆          ┆   ┆            ┆           ┆            ┆            │\n",
       "│ 2016-06-29  ┆ 0.864486   ┆ 180 ┆ 2.724823 ┆ … ┆ -0.011618  ┆ 0.872487  ┆ 111.977492 ┆ 1179.18351 │\n",
       "│ 17:51:00    ┆            ┆     ┆          ┆   ┆            ┆           ┆            ┆ 2          │\n",
       "│ 2016-06-29  ┆ 0.891457   ┆ 180 ┆ 3.344919 ┆ … ┆ -0.023165  ┆ 0.083389  ┆ 10.257005  ┆ -1231.4827 │\n",
       "│ 23:37:30    ┆            ┆     ┆          ┆   ┆            ┆           ┆            ┆ 57         │\n",
       "│ 2016-06-29  ┆ 0.933747   ┆ 180 ┆ 2.632613 ┆ … ┆ -0.030708  ┆ 2.284448  ┆ 283.917387 ┆ -979.80710 │\n",
       "│ 23:39:00    ┆            ┆     ┆          ┆   ┆            ┆           ┆            ┆ 6          │\n",
       "└─────────────┴────────────┴─────┴──────────┴───┴────────────┴───────────┴────────────┴────────────┘, method='fit', mag_meta=Meta(dataset=None, parameters=None), bcols=None, plasma_data=<LazyFrame [14 cols, {\"radial_distance\": Float64 … \"B_background_z\": Float64}] at 0x174C37B50>, plasma_meta=PlasmaDataset(dataset=None, parameters=None, density_col='plasma_density', velocity_cols=['v_x', 'v_y', 'v_z'], speed_col=None, temperature_col=None), ion_temp_data=None, ion_temp_meta=TempMeta(dataset=None, parameters=None, para_col=None, perp_cols=None), e_temp_data=None, e_temp_meta=TempMeta(dataset=None, parameters=None, para_col=None, perp_cols=None), timerange=[datetime.datetime(2011, 8, 25, 0, 0, tzinfo=TzInfo(UTC)), datetime.datetime(2016, 6, 30, 0, 0, tzinfo=TzInfo(UTC))], split=8, fmt='arrow')"
      ]
     },
     "execution_count": 6,
     "metadata": {},
     "output_type": "execute_result"
    }
   ],
   "source": [
    "JunoConfig(tau=180).get_and_process_data().export()\n",
    "JunoConfig(tau=20).get_and_process_data().export()"
   ]
  }
 ],
 "metadata": {
  "kernelspec": {
   "display_name": "Python 3",
   "language": "python",
   "name": "python3"
  },
  "language_info": {
   "codemirror_mode": {
    "name": "ipython",
    "version": 3
   },
   "file_extension": ".py",
   "mimetype": "text/x-python",
   "name": "python",
   "nbconvert_exporter": "python",
   "pygments_lexer": "ipython3",
   "version": "3.11.7"
  }
 },
 "nbformat": 4,
 "nbformat_minor": 2
}
